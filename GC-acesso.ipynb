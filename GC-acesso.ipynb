{
 "cells": [
  {
   "cell_type": "markdown",
   "metadata": {
    "id": "168c549c-e30b-48fe-863c-749e1d42858f"
   },
   "source": [
    "# Google Colab (GC)\n",
    "\n",
    "* serviço pago, com um plano limitado free:\n",
    "    * [TPU](https://cloud.google.com/tpu/docs/system-architecture-tpu-vm) / [GPU](https://cloud.google.com/compute/docs/gpus#other_available_nvidia_gpu_models) grátis\n",
    "    * VM Linux, 1 *core* / 2 *threads* Intel Xeon AVX2, 12 GB RAM\n",
    "* alguns limites da versão free (os limites podem variar):\n",
    "    * 12 h rodando com o navegador aberto e com atividade\n",
    "    * 3 h rodando com o navegador fechado\n",
    "    * 30 min de inatividade no navegador\n",
    "    * possui limite de uso da GPU\n",
    "    * a VM é temporária, quando encerra apaga tudo\n",
    "* acesso de qualquer lugar via navegador, ex.: celular\n",
    "* permite outros tipos de acesso, ex.: SSH\n",
    "* Vários usuários não podem editar ao mesmo tempo sem sobrescrever as alterações uns dos outros, porém é possível visualizar enquanto uma única pessoa modifica/digita"
   ]
  },
  {
   "cell_type": "markdown",
   "metadata": {
    "id": "d3a5979a-ade4-40c5-8d00-dcada743d375"
   },
   "source": [
    "## Objetivo\n",
    "\n",
    "Acessar a sessão da máquina virtual (VM) do GC usando o JupyterLab (JL), que possui mais recursos do que a interface padrão do GC\n",
    "\n",
    "* o primeiro passo é entrar no GC usando o Google Drive (GD), configurar a GPU/CPU, conferir as sessões, e encerrrar sessões inativas\n",
    "* em seguida executar a célula abaixo que instala utilitários, bibliotecas, e ativa uma instância do servidor JL:"
   ]
  },
  {
   "cell_type": "code",
   "execution_count": null,
   "metadata": {
    "colab": {
     "base_uri": "https://localhost:8080/"
    },
    "executionInfo": {
     "elapsed": 2320,
     "status": "ok",
     "timestamp": 1632689670683,
     "user": {
      "displayName": "E Furlan",
      "photoUrl": "https://lh3.googleusercontent.com/a-/AOh14Ghzd7UO2EoPv4GHJ2AiwebDPC3evXCqxNZAD2FZ=s64",
      "userId": "04933934069991532991"
     },
     "user_tz": 180
    },
    "id": "6dff3a8b-b6f6-4541-b1f5-7d0555f6d9bc",
    "outputId": "ffee7d98-e0a9-4e08-ce04-1313575b9133"
   },
   "outputs": [
    {
     "name": "stdout",
     "output_type": "stream",
     "text": [
      "Reading package lists... Done\n",
      "Building dependency tree       \n",
      "Reading state information... Done\n",
      "htop is already the newest version (2.1.0-3).\n",
      "0 upgraded, 0 newly installed, 0 to remove and 37 not upgraded.\n",
      "/bin/bash: ip: command not found\n",
      "nohup: appending output to 'nohup.out'\n"
     ]
    }
   ],
   "source": [
    "! apt install htop\n",
    "! pip install jupyterlab mpi4py pyngrok -q\n",
    "! nohup jupyter-lab --allow-root --no-browser --NotebookApp.token=\"\" --ip=0.0.0.0 &"
   ]
  },
  {
   "cell_type": "markdown",
   "metadata": {
    "id": "bQIoXdFdYKGM"
   },
   "source": [
    "* a próxima célula configura o proxy reverso. O JL vai ficar acessível na máquina local usando o link \"NgrokTunnel\" que aparece após rodar as células abaixo. O <TOKEN> precisa ser obtido criando uma conta em ngrok.com. Basta clicar no link para entrar no JL em uma nova aba. Nem sempre funciona na primeira vez."
   ]
  },
  {
   "cell_type": "code",
   "execution_count": null,
   "metadata": {
    "colab": {
     "base_uri": "https://localhost:8080/"
    },
    "executionInfo": {
     "elapsed": 1427,
     "status": "ok",
     "timestamp": 1632689705737,
     "user": {
      "displayName": "E Furlan",
      "photoUrl": "https://lh3.googleusercontent.com/a-/AOh14Ghzd7UO2EoPv4GHJ2AiwebDPC3evXCqxNZAD2FZ=s64",
      "userId": "04933934069991532991"
     },
     "user_tz": 180
    },
    "id": "a6BLFh1QXBkm",
    "outputId": "54a46463-4aba-47c4-f0db-61c087ef915d"
   },
   "outputs": [
    {
     "name": "stdout",
     "output_type": "stream",
     "text": [
      "NgrokTunnel: \"http://9f1d-34-121-160-78.ngrok.io\" -> \"http://localhost:8888\"\n"
     ]
    }
   ],
   "source": [
    "from pyngrok import ngrok\n",
    "ngrok.set_auth_token(\"<TOKEN>\")\n",
    "print(ngrok.connect(8888))"
   ]
  },
  {
   "cell_type": "markdown",
   "metadata": {
    "id": "FzzS2yRJTh-i"
   },
   "source": [
    ">  Notas:\n",
    "> * além desta, existem outras formas de configurar um proxy reverso\n",
    "> * neste ponto já é possível acessar o JupyterLab rodando no Google Colab"
   ]
  },
  {
   "cell_type": "markdown",
   "metadata": {
    "id": "oXzAczb7TYNC"
   },
   "source": [
    "## Adicionalmente:"
   ]
  },
  {
   "cell_type": "markdown",
   "metadata": {
    "id": "cb64ba41-0c68-4d41-acef-76cd9b13932f"
   },
   "source": [
    "* tenta evitar que a conexão encerre por inatividade no nagegador:"
   ]
  },
  {
   "cell_type": "code",
   "execution_count": 7,
   "metadata": {
    "colab": {
     "base_uri": "https://localhost:8080/",
     "height": 34
    },
    "executionInfo": {
     "elapsed": 220,
     "status": "ok",
     "timestamp": 1632692876153,
     "user": {
      "displayName": "E Furlan",
      "photoUrl": "https://lh3.googleusercontent.com/a-/AOh14Ghzd7UO2EoPv4GHJ2AiwebDPC3evXCqxNZAD2FZ=s64",
      "userId": "04933934069991532991"
     },
     "user_tz": 180
    },
    "id": "rb9aSyT_NNuU",
    "outputId": "bc21f592-f717-48d3-f7d0-888734335248"
   },
   "outputs": [
    {
     "data": {
      "application/javascript": [
       "\n",
       " function ClickConnect(){\n",
       "   btn = document.querySelector(\"colab-connect-button\")\n",
       "   if (btn != null){\n",
       "     console.log(\"Click colab-connect-button\"); \n",
       "     btn.click() \n",
       "     }\n",
       "   \n",
       "   btn = document.getElementById('ok')\n",
       "   if (btn != null){\n",
       "     console.log(\"Click reconnect\"); \n",
       "     btn.click() \n",
       "     }\n",
       "  }\n",
       "  \n",
       "setInterval(ClickConnect,60000)\n"
      ],
      "text/plain": [
       "<IPython.core.display.Javascript object>"
      ]
     },
     "metadata": {},
     "output_type": "display_data"
    },
    {
     "name": "stdout",
     "output_type": "stream",
     "text": [
      "Done.\n"
     ]
    }
   ],
   "source": [
    "import IPython\n",
    "from google.colab import output\n",
    "\n",
    "display(IPython.display.Javascript('''\n",
    " function ClickConnect(){\n",
    "   btn = document.querySelector(\"colab-connect-button\")\n",
    "   if (btn != null){\n",
    "     console.log(\"Click colab-connect-button\"); \n",
    "     btn.click() \n",
    "     }\n",
    "   \n",
    "   btn = document.getElementById('ok')\n",
    "   if (btn != null){\n",
    "     console.log(\"Click reconnect\"); \n",
    "     btn.click() \n",
    "     }\n",
    "  }\n",
    "  \n",
    "setInterval(ClickConnect,60000)\n",
    "'''))\n",
    "\n",
    "print(\"Done.\")"
   ]
  },
  {
   "cell_type": "markdown",
   "metadata": {
    "id": "RmLw6ODuVbih"
   },
   "source": [
    "* monta o GD na VM: https://stackoverflow.com/questions/52808143/colab-automatic-authentication-of-connection-to-google-drive-persistent-per-n"
   ]
  },
  {
   "cell_type": "markdown",
   "metadata": {
    "id": "fc21ae3b-5f09-489d-983e-3d23cc4e0741"
   },
   "source": [
    "* monta o sistema de arquivos remoto do GD na máquina local:\n",
    "\n",
    "```\n",
    "$ rclone mount <NOME>: /mnt/<NOME> &\n",
    "```"
   ]
  },
  {
   "cell_type": "markdown",
   "metadata": {
    "id": "5twUkRlQGyjH"
   },
   "source": [
    "# Sair\n",
    "\n",
    "* não esquecer de salvar no GD todos os arquivos\n",
    "* \"Shut Down\" o JL usando o menu\n",
    "* no GC, \"Manage sessions\", e \"Terminate\" todas as sessões"
   ]
  }
 ],
 "metadata": {
  "accelerator": "GPU",
  "colab": {
   "authorship_tag": "ABX9TyMr+qpgYB5CsfDLyUS/gQLK",
   "collapsed_sections": [],
   "mount_file_id": "1aiUfjfpoj_6JBzYvz_CYqwMT3NqDr9JU",
   "name": "GC-acesso.ipynb",
   "provenance": []
  },
  "kernelspec": {
   "display_name": "Python 3",
   "language": "python",
   "name": "python3"
  },
  "language_info": {
   "codemirror_mode": {
    "name": "ipython",
    "version": 3
   },
   "file_extension": ".py",
   "mimetype": "text/x-python",
   "name": "python",
   "nbconvert_exporter": "python",
   "pygments_lexer": "ipython3",
   "version": "3.8.8"
  }
 },
 "nbformat": 4,
 "nbformat_minor": 4
}
