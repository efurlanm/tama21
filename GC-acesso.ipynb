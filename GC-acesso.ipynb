{
 "cells": [
  {
   "cell_type": "markdown",
   "metadata": {
    "id": "168c549c-e30b-48fe-863c-749e1d42858f"
   },
   "source": [
    "# Google Colab (GC)\n",
    "\n",
    "* serviço pago, com um plano limitado free que é o que usamos normalmente. Principais atrativos:\n",
    "    * [GPU](https://cloud.google.com/compute/docs/gpus#other_available_nvidia_gpu_models): usado para acelerar aplicações, geralmente uma Nvidia Tesla K80\n",
    "    * [TPU](https://cloud.google.com/tpu/docs/system-architecture-tpu-vm): é um acelerador usado por exemplo em *machine learning*\n",
    "    * VM Linux, 1 *core* / 2 *threads* Intel Xeon AVX2, 12 GB RAM\n",
    "* alguns limites da versão free (os limites podem variar):\n",
    "    * 12 h rodando com o navegador aberto e com atividade\n",
    "    * 3 h rodando com o navegador fechado\n",
    "    * 30 min de inatividade no navegador\n",
    "    * possui limite de uso da GPU\n",
    "    * a VM é temporária, <u>quando encerra apaga tudo</u>\n",
    "* acesso de qualquer lugar via navegador, ex.: celular\n",
    "* permite outros tipos de acesso, ex.: SSH\n",
    "* por padrão usa uma versão customizada do Jupyter Notebook (JN)\n",
    "* a instância JN pode rodar na VM, [ou então na máquina local](http://research.google.com/colaboratory/local-runtimes.html)\n",
    "* colaborativo: vários usuários podem <u>visualizar</u> enquanto uma <u>única</u> pessoa modifica/digita"
   ]
  },
  {
   "cell_type": "markdown",
   "metadata": {
    "id": "d3a5979a-ade4-40c5-8d00-dcada743d375"
   },
   "source": [
    "## Objetivo\n",
    "\n",
    "Acessar a sessão da máquina virtual (VM) do GC usando o JupyterLab (JL), que possui mais recursos do que a interface padrão do GC\n",
    "\n",
    "\n",
    "## Conectando\n",
    "\n",
    "* esses passos precisam ser repetidos toda vez que sobe (*session connect*) uma VM nova\n",
    "* o primeiro passo é entrar no GC usando o Google Drive (GD), configurar a GPU/CPU, conferir as sessões, e encerrrar sessões inativas\n",
    "* manter tudo no GD é importante pois se a VM encerrar por qualquer motivo, os arquivos que estão nela são apagados e perde tudo\n",
    "* em seguida executar a célula abaixo que baixa e instala o que vamos usar, e ativa uma instância do servidor JL\n",
    "\n",
    "> Nota: a célula deve ser alterada para incluir as ferramentas que iremos usar"
   ]
  },
  {
   "cell_type": "code",
   "execution_count": null,
   "metadata": {
    "colab": {
     "base_uri": "https://localhost:8080/"
    },
    "executionInfo": {
     "elapsed": 70970,
     "status": "ok",
     "timestamp": 1632757800714,
     "user": {
      "displayName": "E Furlan",
      "photoUrl": "https://lh3.googleusercontent.com/a-/AOh14Ghzd7UO2EoPv4GHJ2AiwebDPC3evXCqxNZAD2FZ=s64",
      "userId": "04933934069991532991"
     },
     "user_tz": 180
    },
    "id": "6dff3a8b-b6f6-4541-b1f5-7d0555f6d9bc",
    "outputId": "f47e291d-2901-414d-9601-83dcd888e849"
   },
   "outputs": [
    {
     "name": "stdout",
     "output_type": "stream",
     "text": [
      "Reading package lists... Done\n",
      "Building dependency tree       \n",
      "Reading state information... Done\n",
      "Suggested packages:\n",
      "  strace\n",
      "The following NEW packages will be installed:\n",
      "  htop\n",
      "0 upgraded, 1 newly installed, 0 to remove and 37 not upgraded.\n",
      "Need to get 80.0 kB of archives.\n",
      "After this operation, 221 kB of additional disk space will be used.\n",
      "Get:1 http://archive.ubuntu.com/ubuntu bionic/main amd64 htop amd64 2.1.0-3 [80.0 kB]\n",
      "Fetched 80.0 kB in 1s (83.5 kB/s)\n",
      "Selecting previously unselected package htop.\n",
      "(Reading database ... 155013 files and directories currently installed.)\n",
      "Preparing to unpack .../htop_2.1.0-3_amd64.deb ...\n",
      "Unpacking htop (2.1.0-3) ...\n",
      "Setting up htop (2.1.0-3) ...\n",
      "Processing triggers for man-db (2.8.3-2ubuntu0.1) ...\n",
      "Processing triggers for mime-support (3.60ubuntu1) ...\n",
      "\u001b[K     |████████████████████████████████| 8.5 MB 5.4 MB/s \n",
      "\u001b[K     |████████████████████████████████| 2.4 MB 42.8 MB/s \n",
      "\u001b[?25h  Installing build dependencies ... \u001b[?25l\u001b[?25hdone\n",
      "  Getting requirements to build wheel ... \u001b[?25l\u001b[?25hdone\n",
      "    Preparing wheel metadata ... \u001b[?25l\u001b[?25hdone\n",
      "\u001b[K     |████████████████████████████████| 745 kB 39.2 MB/s \n",
      "\u001b[K     |████████████████████████████████| 428 kB 42.6 MB/s \n",
      "\u001b[K     |████████████████████████████████| 393 kB 43.6 MB/s \n",
      "\u001b[K     |████████████████████████████████| 58 kB 5.3 MB/s \n",
      "\u001b[K     |████████████████████████████████| 78 kB 6.4 MB/s \n",
      "\u001b[K     |████████████████████████████████| 122 kB 48.0 MB/s \n",
      "\u001b[K     |████████████████████████████████| 52 kB 1.5 MB/s \n",
      "\u001b[K     |████████████████████████████████| 56 kB 4.1 MB/s \n",
      "\u001b[?25h  Building wheel for mpi4py (PEP 517) ... \u001b[?25l\u001b[?25hdone\n",
      "  Building wheel for pyngrok (setup.py) ... \u001b[?25l\u001b[?25hdone\n",
      "\u001b[31mERROR: pip's dependency resolver does not currently take into account all the packages that are installed. This behaviour is the source of the following dependency conflicts.\n",
      "google-colab 1.0.0 requires tornado~=5.1.0; python_version >= \"3.0\", but you have tornado 6.1 which is incompatible.\u001b[0m\n",
      "nohup: appending output to 'nohup.out'\n"
     ]
    }
   ],
   "source": [
    "! apt install htop\n",
    "! pip install jupyterlab mpi4py pyngrok -q\n",
    "! nohup jupyter-lab --allow-root --no-browser --NotebookApp.token=\"\" --ip=0.0.0.0 &"
   ]
  },
  {
   "cell_type": "markdown",
   "metadata": {
    "id": "bQIoXdFdYKGM"
   },
   "source": [
    "* a próxima célula configura o proxy reverso. Precisa ter uma conta em `ngrok.io` para obter o *token* de autenticação. O JL vai ficar acessível em uma nova aba no navegador web da máquina local clicando no link \"NgrokTunnel\" que aparece após rodar a célula abaixo:"
   ]
  },
  {
   "cell_type": "code",
   "execution_count": null,
   "metadata": {
    "colab": {
     "base_uri": "https://localhost:8080/"
    },
    "executionInfo": {
     "elapsed": 3264,
     "status": "ok",
     "timestamp": 1632757897118,
     "user": {
      "displayName": "E Furlan",
      "photoUrl": "https://lh3.googleusercontent.com/a-/AOh14Ghzd7UO2EoPv4GHJ2AiwebDPC3evXCqxNZAD2FZ=s64",
      "userId": "04933934069991532991"
     },
     "user_tz": 180
    },
    "id": "a6BLFh1QXBkm",
    "outputId": "6577edf0-dcd6-4170-8c6e-90ebbb5c10ff"
   },
   "outputs": [
    {
     "name": "stdout",
     "output_type": "stream",
     "text": [
      "NgrokTunnel: \"http://d5a5-34-72-179-96.ngrok.io\" -> \"http://localhost:8888\"\n"
     ]
    }
   ],
   "source": [
    "from pyngrok import ngrok\n",
    "ngrok.set_auth_token(\"<COLOCAR_O_SEU_TOKEN_DO_NGROK>\")\n",
    "print(ngrok.connect(8888))"
   ]
  },
  {
   "cell_type": "markdown",
   "metadata": {
    "id": "FzzS2yRJTh-i"
   },
   "source": [
    ">  Notas:\n",
    "> * além desta, existem outras formas de configurar um proxy reverso\n",
    "> * neste ponto já é possível acessar o JupyterLab rodando no Google Colab"
   ]
  },
  {
   "cell_type": "markdown",
   "metadata": {
    "id": "cb64ba41-0c68-4d41-acef-76cd9b13932f"
   },
   "source": [
    "* a próxima célula tenta evitar que a conexão encerre por inatividade no nagegador:"
   ]
  },
  {
   "cell_type": "code",
   "execution_count": null,
   "metadata": {
    "colab": {
     "base_uri": "https://localhost:8080/",
     "height": 34
    },
    "executionInfo": {
     "elapsed": 353,
     "status": "ok",
     "timestamp": 1632762411782,
     "user": {
      "displayName": "E Furlan",
      "photoUrl": "https://lh3.googleusercontent.com/a-/AOh14Ghzd7UO2EoPv4GHJ2AiwebDPC3evXCqxNZAD2FZ=s64",
      "userId": "04933934069991532991"
     },
     "user_tz": 180
    },
    "id": "rb9aSyT_NNuU",
    "outputId": "97094302-50ea-4ca5-bcd1-f6702e011e67"
   },
   "outputs": [
    {
     "data": {
      "application/javascript": [
       "\n",
       " function ClickConnect(){\n",
       "   btn = document.querySelector(\"colab-connect-button\")\n",
       "   if (btn != null){\n",
       "     console.log(\"Click colab-connect-button\"); \n",
       "     btn.click() \n",
       "     }\n",
       "   \n",
       "   btn = document.getElementById('ok')\n",
       "   if (btn != null){\n",
       "     console.log(\"Click reconnect\"); \n",
       "     btn.click() \n",
       "     }\n",
       "  }\n",
       "  \n",
       "setInterval(ClickConnect,60000)\n"
      ],
      "text/plain": [
       "<IPython.core.display.Javascript object>"
      ]
     },
     "metadata": {},
     "output_type": "display_data"
    },
    {
     "name": "stdout",
     "output_type": "stream",
     "text": [
      "Done.\n"
     ]
    }
   ],
   "source": [
    "import IPython\n",
    "from google.colab import output\n",
    "\n",
    "display(IPython.display.Javascript('''\n",
    " function ClickConnect(){\n",
    "   btn = document.querySelector(\"colab-connect-button\")\n",
    "   if (btn != null){\n",
    "     console.log(\"Click colab-connect-button\"); \n",
    "     btn.click() \n",
    "     }\n",
    "   \n",
    "   btn = document.getElementById('ok')\n",
    "   if (btn != null){\n",
    "     console.log(\"Click reconnect\"); \n",
    "     btn.click() \n",
    "     }\n",
    "  }\n",
    "  \n",
    "setInterval(ClickConnect,60000)\n",
    "'''))\n",
    "\n",
    "print(\"Done.\")"
   ]
  },
  {
   "cell_type": "markdown",
   "metadata": {
    "id": "oXzAczb7TYNC"
   },
   "source": [
    "## Adicionalmente:"
   ]
  },
  {
   "cell_type": "markdown",
   "metadata": {
    "id": "RmLw6ODuVbih"
   },
   "source": [
    "* como montar automático o GD na VM: https://stackoverflow.com/questions/52808143/colab-automatic-authentication-of-connection-to-google-drive-persistent-per-n"
   ]
  },
  {
   "cell_type": "markdown",
   "metadata": {
    "id": "fc21ae3b-5f09-489d-983e-3d23cc4e0741"
   },
   "source": [
    "* monta o sistema de arquivos remoto do GD na máquina local ([rclone](http://rclone.org/drive/)):\n",
    "\n",
    "```\n",
    "$ rclone mount <REMOTE_NAME>: /mnt/<REMOTE_NAME> &\n",
    "```"
   ]
  },
  {
   "cell_type": "markdown",
   "metadata": {
    "id": "5twUkRlQGyjH"
   },
   "source": [
    "# Sair\n",
    "\n",
    "* <u>não esquecer de salvar no GD todos os arquivos</u>\n",
    "* \"Shut Down\" o JL usando o menu\n",
    "* no menu do GC, \"Manage sessions\", e \"Terminate\" todas as sessões"
   ]
  }
 ],
 "metadata": {
  "accelerator": "GPU",
  "colab": {
   "authorship_tag": "ABX9TyM5FcRnc4kacMvQC8fJaWN7",
   "collapsed_sections": [],
   "mount_file_id": "1aiUfjfpoj_6JBzYvz_CYqwMT3NqDr9JU",
   "name": "GC-acesso.ipynb",
   "provenance": []
  },
  "kernelspec": {
   "display_name": "Python 3 (ipykernel)",
   "language": "python",
   "name": "python3"
  },
  "language_info": {
   "codemirror_mode": {
    "name": "ipython",
    "version": 3
   },
   "file_extension": ".py",
   "mimetype": "text/x-python",
   "name": "python",
   "nbconvert_exporter": "python",
   "pygments_lexer": "ipython3",
   "version": "3.8.8"
  }
 },
 "nbformat": 4,
 "nbformat_minor": 4
}
