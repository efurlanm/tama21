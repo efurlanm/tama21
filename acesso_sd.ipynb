{
 "cells": [
  {
   "cell_type": "markdown",
   "id": "db4a0ad6-352e-4ebb-aeae-7d68e80c8b09",
   "metadata": {},
   "source": [
    "# Acesso ao SD"
   ]
  },
  {
   "cell_type": "markdown",
   "id": "7bb5e643-909b-43a7-bcae-37f6e42d5332",
   "metadata": {},
   "source": [
    "## Configuração do ambiente\n",
    "\n",
    "### Na máquina local\n",
    "\n",
    "Pré-requisito: distribuição Python (Anaconda ou Intel) instalada e funcionando na máquina local\n",
    "\n",
    "* https://www.anaconda.com/products/individual\n",
    "* https://software.intel.com/content/www/us/en/develop/tools/oneapi/components/distribution-for-python.html\n",
    "\n",
    "\n",
    "### Exemplo de instalação do Jupyter-Lab\n",
    "\n",
    "Distribuição Intel (que inclui outros compiladores e ferramentas Intel)\n",
    "\n",
    "* https://software.intel.com/content/www/us/en/develop/documentation/installation-guide-for-intel-oneapi-toolkits-linux/top/installation/install-using-package-managers/apt.html\n",
    "\n",
    "Usando Ubuntu 20.04\n",
    "\n",
    "```\n",
    "...\n",
    "sudo apt install intel-basekit intel-hpckit\n",
    "sudo chmod -R 777 /opt/intel/oneapi/intelpython\n",
    "source /opt/intel/oneapi/setvars.sh\n",
    "conda install jupyterlab\n",
    "jupyter-lab\n",
    "```\n",
    "\n",
    "\n",
    "### Exemplos de configuração do VPN, SSH, e JupyterLab\n",
    "\n",
    "* https://github.com/efurlanm/hpc/blob/master/sd/access_configuring.ipynb\n",
    "* https://www.hostinger.com.br/tutoriais/conexao-ssh-sem-senha\n",
    "* https://github.com/efurlanm/hpc/blob/master/sd/access_using_jupyterlab.ipynb\n",
    "\n",
    "> Nota: o SSH foi configurado para chave ao invés de senha, tanto na máquina local quanto no SD para acessar o sdumont18"
   ]
  },
  {
   "cell_type": "markdown",
   "id": "ce06287a-88dd-45a7-9b88-f8f915e415ea",
   "metadata": {},
   "source": [
    "Configuração deste Notebook:"
   ]
  },
  {
   "cell_type": "code",
   "execution_count": 2,
   "id": "4531aaa8-00d5-46ac-a541-bb4efad2344d",
   "metadata": {},
   "outputs": [
    {
     "name": "stdout",
     "output_type": "stream",
     "text": [
      "\u001b[?2004l\r"
     ]
    }
   ],
   "source": [
    "bind 'set enable-bracketed-paste off'"
   ]
  },
  {
   "cell_type": "markdown",
   "id": "baaf148b-55e1-4c17-8894-1ef99c4e939e",
   "metadata": {},
   "source": [
    "## Acessando o Santos Dumont"
   ]
  },
  {
   "cell_type": "markdown",
   "id": "821ff293-b799-4c3b-b161-9949159916b5",
   "metadata": {},
   "source": [
    "* Primeiro passo: usando o Gerenciador de Rede, fazer a conexão ao VPN Cisco usando vpnc"
   ]
  },
  {
   "cell_type": "markdown",
   "id": "1f18166d-f4fa-451c-adfb-01ce08200c30",
   "metadata": {},
   "source": [
    "Ao fazer login normalmente, uma máquina de login é selecionada aleatoriamente (geralmente sdumont11, sdumont13, ou sdumont14). O comando a seguir abre uma conexão mestre (\"SSH Socket\") em um dos nós, de tal forma que todos os comandos subsequentes sejam realizados neste mesmo nó:"
   ]
  },
  {
   "cell_type": "code",
   "execution_count": 2,
   "id": "261e63c7-5f29-44f5-a719-9ad7e6eef5cb",
   "metadata": {},
   "outputs": [],
   "source": [
    "export SSH_SOCKET=~/.ssh/remote_sd"
   ]
  },
  {
   "cell_type": "code",
   "execution_count": 3,
   "id": "1136fd6a-f8b5-4c13-a548-8d9a26044cab",
   "metadata": {},
   "outputs": [],
   "source": [
    "ssh -MNfo ControlPath=$SSH_SOCKET sd    # não esquecer do VPN"
   ]
  },
  {
   "cell_type": "markdown",
   "id": "623ce436-75d0-4e57-9879-e93267b3b0b4",
   "metadata": {},
   "source": [
    "Mostra em qual nó estamos conectados:"
   ]
  },
  {
   "cell_type": "code",
   "execution_count": 4,
   "id": "6fc5b762-5b3c-473b-a186-7ab6356c590f",
   "metadata": {},
   "outputs": [
    {
     "name": "stdout",
     "output_type": "stream",
     "text": [
      "sdumont14\n"
     ]
    }
   ],
   "source": [
    "ssh -S $SSH_SOCKET sd 'hostname'"
   ]
  },
  {
   "cell_type": "markdown",
   "id": "80fad660-1880-4157-8dd6-b1dc6352a35d",
   "metadata": {},
   "source": [
    "## Primeira sessão, no nó B-710\n",
    "\n",
    "O comando `ssh` a seguir, executa os seguintes comandos no SD:\n",
    "\n",
    "* carrega o módulo anaconda\n",
    "* carraga uma instância do servidor JupyterLab, que fica ativo na porta 20210 (pode escolher outra porta)\n",
    "\n",
    "Uma instância JupyterLab fica rodando na máquina de login onde a conexão mestre está apontando"
   ]
  },
  {
   "cell_type": "code",
   "execution_count": 5,
   "id": "e531c918-1adb-43d3-9163-69539ff0c710",
   "metadata": {},
   "outputs": [],
   "source": [
    "ssh -S $SSH_SOCKET sd 'module load anaconda3; jupyter-lab --no-browser --port=20210 --ip=0.0.0.0 > ~/20210.log 2>&1 & '"
   ]
  },
  {
   "cell_type": "markdown",
   "id": "6ff612c5-293c-498f-a8fa-e97c25039b3a",
   "metadata": {},
   "source": [
    "## Segunda sessão, no nó sequana (sdumont18)\n",
    "\n",
    "* entra no nó Sequana sdumont18 usando o comando ssh que é executado na máquina de login\n",
    "* carrega uma nova instância do servidor JupyterLab, que fica ativo no nó sdumont18 na porta 20211\n",
    "* o ideal é usar portas aleatórias que ninguém mais esteja usando"
   ]
  },
  {
   "cell_type": "code",
   "execution_count": 6,
   "id": "99250d7e-3cc9-40cd-942a-99b230ed14fb",
   "metadata": {},
   "outputs": [],
   "source": [
    "ssh -S $SSH_SOCKET sd 'ssh -i ~/.ssh/id_sd_ed25519 sdumont18 \"module load anaconda3; jupyter-lab --no-browser --port=20211 --ip=0.0.0.0 > ~/20211.log 2>&1 &\" '"
   ]
  },
  {
   "cell_type": "markdown",
   "id": "548afca4-4b54-4e64-9322-ac0a9be14128",
   "metadata": {},
   "source": [
    "## Conexão das instâncias Jupyter à máquina local\n",
    "\n",
    "Usando encaminhamento de portas. Localmente o acesso é feito usando as portas 8889 e 8890 (pode escolher outras portas)"
   ]
  },
  {
   "cell_type": "code",
   "execution_count": 7,
   "id": "a01378f5-dbbc-46ad-9a15-2400e3a98062",
   "metadata": {},
   "outputs": [],
   "source": [
    "ssh -S $SSH_SOCKET sd -NTfL 8889:localhost:20210"
   ]
  },
  {
   "cell_type": "code",
   "execution_count": 8,
   "id": "105a5d35-1516-4378-b5c3-a762118a5122",
   "metadata": {},
   "outputs": [],
   "source": [
    "ssh -S $SSH_SOCKET sd -NTfL 8890:sdumont18:20211"
   ]
  },
  {
   "cell_type": "markdown",
   "id": "b6876668-6e9c-4ad3-be85-25a795f97674",
   "metadata": {},
   "source": [
    "## Acesso aos arquivos usando o Gerenciador de Arquivos\n",
    "\n",
    "* É independente do Jupyter, pode ser usado apenas o Gerenciador\n",
    "* É importante criar os diretórios /pr e /scratch na máquina local, para evitar paths ou links quebrados."
   ]
  },
  {
   "cell_type": "code",
   "execution_count": 1,
   "id": "46d1d189-0845-49aa-9e93-e17096a5a4e2",
   "metadata": {},
   "outputs": [
    {
     "name": "stdout",
     "output_type": "stream",
     "text": [
      "\u001b[?2004h\u001b[?2004l"
     ]
    },
    {
     "ename": "",
     "evalue": "1",
     "output_type": "error",
     "traceback": []
    }
   ],
   "source": [
    "sshfs sd:/prj     /prj     -o workaround=rename,uid=1000,gid=1000\n",
    "sshfs sd:/scratch /scratch -o workaround=rename,uid=1000,gid=1000"
   ]
  },
  {
   "cell_type": "markdown",
   "id": "0d3a4024-fa00-41c4-bda1-5c9f4c255970",
   "metadata": {},
   "source": [
    "## Links para os clientes JupyterLab\n",
    "\n",
    "* se não aparecer nada ou aparecer em branco, tem que esperar um pouco para o servidor subir\n",
    "* se assim mesmo o link não aparecer, ou der erro: mata o processo e sobe de novo"
   ]
  },
  {
   "cell_type": "code",
   "execution_count": 10,
   "id": "c91e9f87-a705-4eeb-bf7e-d77867a206b5",
   "metadata": {},
   "outputs": [
    {
     "name": "stdout",
     "output_type": "stream",
     "text": [
      "http://localhost:8889/?token=7b821a4a74023d35e1f0c49abd50af077b538a888d8e4d61\n"
     ]
    }
   ],
   "source": [
    "ssh -S $SSH_SOCKET sd 'cat ~/20210.log | grep \"     or\" ' > ~/tk1.txt\n",
    "temp=$(cat ~/tk1.txt)\n",
    "echo ${temp/#*'20210'/'http://localhost:8889'}"
   ]
  },
  {
   "cell_type": "code",
   "execution_count": 11,
   "id": "20431732-5af8-4f2a-ba4d-0f92fbc2df63",
   "metadata": {},
   "outputs": [
    {
     "name": "stdout",
     "output_type": "stream",
     "text": [
      "http://localhost:8890/?token=2da8b0e447b136d02fb1bca015b57e3d71fbc09fb260bb68\n"
     ]
    }
   ],
   "source": [
    "ssh -S $SSH_SOCKET sd 'cat ~/20211.log | grep \"     or\" ' > ~/tk2.txt\n",
    "temp=$(cat ~/tk2.txt)\n",
    "echo ${temp/#*'20211'/'http://localhost:8890'}"
   ]
  },
  {
   "cell_type": "markdown",
   "id": "d558cb80-c152-4d9c-8b3e-452bca43e66c",
   "metadata": {},
   "source": [
    "# Sair"
   ]
  },
  {
   "cell_type": "markdown",
   "id": "d78b0734-8de7-4e72-96c5-092acb792035",
   "metadata": {},
   "source": [
    "Uma forma é usando o menu do cliente JupyterLab e selecionando \"File > Shut Down\" para cada instância do servidor, e em seguida encerrar a conexão mestre:"
   ]
  },
  {
   "cell_type": "code",
   "execution_count": 4,
   "id": "72fc82af-2e6e-46f8-828b-352d08d335d3",
   "metadata": {},
   "outputs": [
    {
     "name": "stdout",
     "output_type": "stream",
     "text": [
      "Exit request sent.\n"
     ]
    }
   ],
   "source": [
    "ssh -S $SSH_SOCKET sd -O exit"
   ]
  },
  {
   "cell_type": "markdown",
   "id": "bef08f82-534a-484d-86bd-06492562b9da",
   "metadata": {},
   "source": [
    "Outra forma é matando os processos:"
   ]
  },
  {
   "cell_type": "code",
   "execution_count": 14,
   "id": "ef07fcd5-1157-4d2e-9255-847c06039cef",
   "metadata": {},
   "outputs": [
    {
     "ename": "",
     "evalue": "1",
     "output_type": "error",
     "traceback": []
    }
   ],
   "source": [
    "ssh -S $SSH_SOCKET sd 'pkill -u ${USER} -f jupyter-lab'"
   ]
  },
  {
   "cell_type": "code",
   "execution_count": 15,
   "id": "878e7156-f29e-4e18-bd87-1eb1c6d7e8fb",
   "metadata": {},
   "outputs": [
    {
     "ename": "",
     "evalue": "1",
     "output_type": "error",
     "traceback": []
    }
   ],
   "source": [
    "ssh -S $SSH_SOCKET sd 'ssh -i ~/.ssh/id_sd_ed25519 sdumont18 \"pkill -u ${USER} -f jupyter-lab\" '"
   ]
  },
  {
   "cell_type": "code",
   "execution_count": 16,
   "id": "f3d961c6-7185-4b2b-aa42-7bf7a34b2d68",
   "metadata": {},
   "outputs": [
    {
     "name": "stdout",
     "output_type": "stream",
     "text": [
      "Exit request sent.\n"
     ]
    }
   ],
   "source": [
    "ssh -S $SSH_SOCKET sd -O exit"
   ]
  },
  {
   "cell_type": "markdown",
   "id": "4ef390a8-4a72-44a4-a424-6d3619210bfc",
   "metadata": {},
   "source": [
    "### Desmonta filesystem remoto, e encerra encaminhamento de portas:"
   ]
  },
  {
   "cell_type": "code",
   "execution_count": 17,
   "id": "e91531c9-df2e-4818-878f-f756830daf41",
   "metadata": {},
   "outputs": [],
   "source": [
    "sudo umount -fl /prj /scratch"
   ]
  },
  {
   "cell_type": "code",
   "execution_count": 18,
   "id": "651feb26-c444-4a3e-a06e-fd4a84612772",
   "metadata": {},
   "outputs": [
    {
     "ename": "",
     "evalue": "1",
     "output_type": "error",
     "traceback": []
    }
   ],
   "source": [
    "pkill -f 8889:"
   ]
  },
  {
   "cell_type": "code",
   "execution_count": 19,
   "id": "fe96b0ae-d19f-4927-a524-3d756de0f75e",
   "metadata": {},
   "outputs": [
    {
     "ename": "",
     "evalue": "1",
     "output_type": "error",
     "traceback": []
    }
   ],
   "source": [
    "pkill -f 8890:"
   ]
  },
  {
   "cell_type": "code",
   "execution_count": null,
   "id": "93227c20-3619-4d02-83a0-05677f297d66",
   "metadata": {},
   "outputs": [],
   "source": []
  }
 ],
 "metadata": {
  "kernelspec": {
   "display_name": "Bash",
   "language": "bash",
   "name": "bash"
  },
  "language_info": {
   "codemirror_mode": "shell",
   "file_extension": ".sh",
   "mimetype": "text/x-sh",
   "name": "bash"
  }
 },
 "nbformat": 4,
 "nbformat_minor": 5
}
