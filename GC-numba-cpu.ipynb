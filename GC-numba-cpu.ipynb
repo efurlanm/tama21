{
 "cells": [
  {
   "cell_type": "markdown",
   "id": "3_cZ7lp4XhS2",
   "metadata": {
    "id": "3_cZ7lp4XhS2"
   },
   "source": [
    "# Google Colab - Numba CPU"
   ]
  },
  {
   "cell_type": "markdown",
   "id": "_HRnkxFSAMJ9",
   "metadata": {
    "id": "_HRnkxFSAMJ9",
    "tags": []
   },
   "source": [
    "## Abordagem PAD no ambiente Python para um caso de teste de computação científica\n",
    "\n",
    "Exemplo mostrando abordagen de Processamento de Alto Desempenho (PAD ou HPC) no ambiente Python, para a solução de um caso de teste de computação científica, usando o Google Colab (GC). Para este exemplo foi selecionado o compilador Numba."
   ]
  },
  {
   "cell_type": "markdown",
   "id": "H5d7vR6nAMKC",
   "metadata": {
    "id": "H5d7vR6nAMKC"
   },
   "source": [
    "## Caso de teste: estêncil de cinco pontos\n",
    "\n",
    "(versão sequencial)\n",
    "\n",
    "O caso de teste adotado é um conhecido problema de transferência de calor sobre uma superfície finita, modelado pela equação diferencial parcial de Poisson, que modela a distribuição de temperatura normalizada sobre a superfície ao longo de uma série de iterações que compõem a simulação. A equação de Poisson discretizada 2D com um estêncil de 5 pontos pode ser expressa por:\n",
    "\n",
    "$$\n",
    "\\frac{\\partial^2 U}{\\partial x^2} +\n",
    "\\frac{\\partial^2 U}{\\partial y^2} \\approx\n",
    "\\frac{U_{i+1,j}+U_{i,j+1}-4U_{i,j}+U_{i-1,j}+U_{i,j-1}}{h^2}\n",
    "$$\n",
    "\n",
    "Comumente empregada para soluções numéricas, esta equação é discretizada em uma grade finita e resolvida por um método de diferenças finitas. O algoritmo específico requer o cálculo de um estêncil de 5 pontos sobre a grade de domínio 2D para atualizar as temperaturas a cada etapa de tempo. Para este problema, são assumidos um campo de temperatura uniforme inicial com valor zero sobre a superfície, e condições adiabáticas ou de contorno de Dirichlet. O estêncil de 5 pontos consiste em atualizar um ponto da grade fazendo a média das temperaturas de si mesmo com as temperaturas de seus quatro vizinhos, esquerda-direita e cima-baixo na grade. O campo de temperatura $ U $ é definido sobre uma grade discreta $ (x, y) $ com resoluções espaciais $ \\Delta x = \\Delta y = h $. Assim, a discretização mapeia as coordenadas cartesianas reais $ (x, y) $ para uma grade discreta $ (i, j) $, com $ U_ {x, y} = U_ {i, j} \\,, \\, U_ {x + h, y} = U_ {i + 1, j} \\, $ para a dimensão $ x $, e analogamente para a dimensão $ y $. A grade é representada pela figura:\n",
    "\n",
    "![](http://drive.google.com/uc?id=1MYgCRB1iENh94vhCJpsnCpLg28BT4LKO)\n",
    "\n",
    "Três fontes de calor de taxa constante foram colocadas em pontos de grade localizados, e cada uma introduz uma quantidade de calor unitária a cada passo de tempo. A simulação de transferência de calor é modelada por um número finito de etapas de tempo, sendo todos os pontos da grade atualizados a cada etapa. A distribuição da temperatura será determinada pelas fontes de calor e pelas condições de contorno de Dirichlet, o que implica em temperatura zero nos pontos de fronteira da grade. O resultado final é representado pela figura:\n",
    "\n",
    "![](http://drive.google.com/uc?id=1DppDwgyRZGx7f7xYU_db5CqJiFGudTMk)"
   ]
  },
  {
   "cell_type": "markdown",
   "id": "mZ2DozlzAMKE",
   "metadata": {
    "id": "mZ2DozlzAMKE"
   },
   "source": [
    "---"
   ]
  },
  {
   "cell_type": "markdown",
   "id": "22pCpvfVAMKF",
   "metadata": {
    "id": "22pCpvfVAMKF"
   },
   "source": [
    "# Implementação\n",
    "\n",
    "A parte computacionalmente intensiva é a atualização dos pontos da grade (atualização da matriz) utilizando a equação (cálculo do estêncil), onde dois laços de repetição são utilizados, um para cada dimensão.\n",
    "\n",
    "Em cada iteração, após a atualização da grade uma unidade de calor é inserida em três pontos de inserção de calor.\n",
    "\n",
    "Duas matrizes são utilizadas alternadamente nas iterações pois o cálculo do estêncil depende de pontos de células vizinhas que não podem ser sobrepostos. Desta forma, uma \"nova\" matriz de resultados é utilizada para armazenar os cálculos feitos a partir da matriz \"antiga\" que contém os dados. Quando a matriz \"nova\" está finalizada, a matriz \"antiga\" pode então ser descartada e utilizada para armazenar os resultados da próxima iteração, e desta forma as duas matrizes ficam alternando suas funções durante as iterações.\n",
    "\n",
    "Ao término das iterações, é feita uma soma de todos os pontos da grade, para obter o total de calor."
   ]
  },
  {
   "cell_type": "markdown",
   "id": "dae37289-89f0-4203-a8a9-db3ac0a426fa",
   "metadata": {},
   "source": [
    "---"
   ]
  },
  {
   "cell_type": "markdown",
   "id": "oGwoefkLAMKG",
   "metadata": {
    "id": "oGwoefkLAMKG"
   },
   "source": [
    "## Recursos disponíveis no GC"
   ]
  },
  {
   "cell_type": "markdown",
   "id": "43cb108d-e87b-452a-a87f-f7a630c1ba64",
   "metadata": {},
   "source": [
    "O GC disponibiliza um único núcleo físico de CPU, e um núcleo lógio usando o hyperthreading do processador Intel. Desta forma ao utilizar paralelismo o ganho de desempenho é pequeno. Porém as instruções avx2 (vetorização) estão disponíveis e são a melhor opção para aumento de desempenho na CPU:"
   ]
  },
  {
   "cell_type": "code",
   "execution_count": 1,
   "id": "thRmgBqmAMKH",
   "metadata": {
    "colab": {
     "base_uri": "https://localhost:8080/"
    },
    "executionInfo": {
     "elapsed": 242,
     "status": "ok",
     "timestamp": 1632508127938,
     "user": {
      "displayName": "E Furlan",
      "photoUrl": "https://lh3.googleusercontent.com/a-/AOh14Ghzd7UO2EoPv4GHJ2AiwebDPC3evXCqxNZAD2FZ=s64",
      "userId": "04933934069991532991"
     },
     "user_tz": 180
    },
    "id": "thRmgBqmAMKH",
    "outputId": "6b1276bd-c608-46c4-f61e-0b022ce7b795"
   },
   "outputs": [
    {
     "name": "stdout",
     "output_type": "stream",
     "text": [
      "Architecture:        x86_64\n",
      "CPU op-mode(s):      32-bit, 64-bit\n",
      "Byte Order:          Little Endian\n",
      "CPU(s):              2\n",
      "On-line CPU(s) list: 0,1\n",
      "Thread(s) per core:  2\n",
      "Core(s) per socket:  1\n",
      "Socket(s):           1\n",
      "NUMA node(s):        1\n",
      "Vendor ID:           GenuineIntel\n",
      "CPU family:          6\n",
      "Model:               63\n",
      "Model name:          Intel(R) Xeon(R) CPU @ 2.30GHz\n",
      "Stepping:            0\n",
      "CPU MHz:             2299.998\n",
      "BogoMIPS:            4599.99\n",
      "Hypervisor vendor:   KVM\n",
      "Virtualization type: full\n",
      "L1d cache:           32K\n",
      "L1i cache:           32K\n",
      "L2 cache:            256K\n",
      "L3 cache:            46080K\n",
      "NUMA node0 CPU(s):   0,1\n",
      "Flags:               fpu vme de pse tsc msr pae mce cx8 apic sep mtrr pge mca cmov pat pse36 clflush mmx fxsr sse sse2 ss ht syscall nx pdpe1gb rdtscp lm constant_tsc rep_good nopl xtopology nonstop_tsc cpuid tsc_known_freq pni pclmulqdq ssse3 fma cx16 pcid sse4_1 sse4_2 x2apic movbe popcnt aes xsave avx f16c rdrand hypervisor lahf_lm abm invpcid_single ssbd ibrs ibpb stibp fsgsbase tsc_adjust bmi1 avx2 smep bmi2 erms invpcid xsaveopt arat md_clear arch_capabilities\n"
     ]
    }
   ],
   "source": [
    "! lscpu"
   ]
  },
  {
   "cell_type": "markdown",
   "id": "csbH4JfgAMKJ",
   "metadata": {
    "id": "csbH4JfgAMKJ"
   },
   "source": [
    "Intel Turbo Boost aparentemente não está ativo:"
   ]
  },
  {
   "cell_type": "code",
   "execution_count": 2,
   "id": "agrDb7z4AMKK",
   "metadata": {
    "colab": {
     "base_uri": "https://localhost:8080/"
    },
    "executionInfo": {
     "elapsed": 245,
     "status": "ok",
     "timestamp": 1632508206484,
     "user": {
      "displayName": "E Furlan",
      "photoUrl": "https://lh3.googleusercontent.com/a-/AOh14Ghzd7UO2EoPv4GHJ2AiwebDPC3evXCqxNZAD2FZ=s64",
      "userId": "04933934069991532991"
     },
     "user_tz": 180
    },
    "id": "agrDb7z4AMKK",
    "outputId": "a1654edf-0b1f-41a7-e58c-d0885f2e0a94"
   },
   "outputs": [
    {
     "name": "stdout",
     "output_type": "stream",
     "text": [
      "cat: /sys/devices/system/cpu/intel_pstate/no_turbo: No such file or directory\n"
     ]
    }
   ],
   "source": [
    "! cat /sys/devices/system/cpu/intel_pstate/no_turbo"
   ]
  },
  {
   "cell_type": "markdown",
   "id": "KtrafAG5AMKK",
   "metadata": {
    "id": "KtrafAG5AMKK"
   },
   "source": [
    "Hyperthreading, ativo = 1 :"
   ]
  },
  {
   "cell_type": "code",
   "execution_count": 3,
   "id": "4fSxRRKTAMKL",
   "metadata": {
    "colab": {
     "base_uri": "https://localhost:8080/"
    },
    "executionInfo": {
     "elapsed": 249,
     "status": "ok",
     "timestamp": 1632508214779,
     "user": {
      "displayName": "E Furlan",
      "photoUrl": "https://lh3.googleusercontent.com/a-/AOh14Ghzd7UO2EoPv4GHJ2AiwebDPC3evXCqxNZAD2FZ=s64",
      "userId": "04933934069991532991"
     },
     "user_tz": 180
    },
    "id": "4fSxRRKTAMKL",
    "outputId": "1659c8a8-15cb-4e28-e18e-aff778ae7b59"
   },
   "outputs": [
    {
     "name": "stdout",
     "output_type": "stream",
     "text": [
      "1\n"
     ]
    }
   ],
   "source": [
    "! cat /sys/devices/system/cpu/smt/active"
   ]
  },
  {
   "cell_type": "code",
   "execution_count": 4,
   "id": "hGLkWk8IEqiB",
   "metadata": {
    "colab": {
     "base_uri": "https://localhost:8080/"
    },
    "executionInfo": {
     "elapsed": 258,
     "status": "ok",
     "timestamp": 1632508234080,
     "user": {
      "displayName": "E Furlan",
      "photoUrl": "https://lh3.googleusercontent.com/a-/AOh14Ghzd7UO2EoPv4GHJ2AiwebDPC3evXCqxNZAD2FZ=s64",
      "userId": "04933934069991532991"
     },
     "user_tz": 180
    },
    "id": "hGLkWk8IEqiB",
    "outputId": "aba7fe76-34b7-4083-dc69-67b6c569dd9b"
   },
   "outputs": [
    {
     "name": "stdout",
     "output_type": "stream",
     "text": [
      "Filesystem      Size  Used Avail Use% Mounted on\n",
      "overlay          74G   44G   30G  60% /\n",
      "tmpfs            64M     0   64M   0% /dev\n",
      "tmpfs           6.4G     0  6.4G   0% /sys/fs/cgroup\n",
      "shm             5.8G     0  5.8G   0% /dev/shm\n",
      "tmpfs           6.4G   28K  6.4G   1% /var/colab\n",
      "/dev/sda1        81G   48G   33G  60% /opt/bin/.nvidia\n",
      "tmpfs           6.4G     0  6.4G   0% /proc/acpi\n",
      "tmpfs           6.4G     0  6.4G   0% /proc/scsi\n",
      "tmpfs           6.4G     0  6.4G   0% /sys/firmware\n",
      "drive            15G  1.3G   14G   9% /content/drive\n"
     ]
    }
   ],
   "source": [
    "! df -h"
   ]
  },
  {
   "cell_type": "code",
   "execution_count": 5,
   "id": "hQBfhtlyE8ie",
   "metadata": {
    "colab": {
     "base_uri": "https://localhost:8080/"
    },
    "executionInfo": {
     "elapsed": 258,
     "status": "ok",
     "timestamp": 1632508304922,
     "user": {
      "displayName": "E Furlan",
      "photoUrl": "https://lh3.googleusercontent.com/a-/AOh14Ghzd7UO2EoPv4GHJ2AiwebDPC3evXCqxNZAD2FZ=s64",
      "userId": "04933934069991532991"
     },
     "user_tz": 180
    },
    "id": "hQBfhtlyE8ie",
    "outputId": "5600b4d7-da2b-4d2f-ce8c-7116eb70e8f3"
   },
   "outputs": [
    {
     "name": "stdout",
     "output_type": "stream",
     "text": [
      "              total        used        free      shared  buff/cache   available\n",
      "Mem:            12G        1.0G        8.8G        1.2M        2.8G         11G\n",
      "Swap:            0B          0B          0B\n"
     ]
    }
   ],
   "source": [
    "! free -h"
   ]
  },
  {
   "cell_type": "markdown",
   "id": "S5H6ptnaGT8H",
   "metadata": {
    "id": "S5H6ptnaGT8H"
   },
   "source": [
    "As GPUs disponíveis (aleatoriamente) são: Nvidia K80 (mais comum), T4, P4, e P100. Nem sempre a GPU está disponível, depende dos limites da versão free do GC."
   ]
  },
  {
   "cell_type": "code",
   "execution_count": 6,
   "id": "3Lnz5LJyFLjn",
   "metadata": {
    "colab": {
     "base_uri": "https://localhost:8080/"
    },
    "executionInfo": {
     "elapsed": 211,
     "status": "ok",
     "timestamp": 1632508484899,
     "user": {
      "displayName": "E Furlan",
      "photoUrl": "https://lh3.googleusercontent.com/a-/AOh14Ghzd7UO2EoPv4GHJ2AiwebDPC3evXCqxNZAD2FZ=s64",
      "userId": "04933934069991532991"
     },
     "user_tz": 180
    },
    "id": "3Lnz5LJyFLjn",
    "outputId": "fec5d74e-5483-45ec-d150-76f044fb9254"
   },
   "outputs": [
    {
     "name": "stdout",
     "output_type": "stream",
     "text": [
      "GPU 0: Tesla K80 (UUID: GPU-1046025b-c8e2-ee6e-d208-e6a2568204f6)\n"
     ]
    }
   ],
   "source": [
    "! nvidia-smi -L"
   ]
  },
  {
   "cell_type": "code",
   "execution_count": 7,
   "id": "efb82da0-802b-4c92-a65a-dec69a84afc3",
   "metadata": {},
   "outputs": [
    {
     "name": "stdout",
     "output_type": "stream",
     "text": [
      "No LSB modules are available.\n",
      "Distributor ID:\tUbuntu\n",
      "Description:\tUbuntu 18.04.5 LTS\n",
      "Release:\t18.04\n",
      "Codename:\tbionic\n"
     ]
    }
   ],
   "source": [
    "! lsb_release -a"
   ]
  },
  {
   "cell_type": "markdown",
   "id": "0f7d102d-cc98-4616-83fd-78d5973bfc90",
   "metadata": {},
   "source": [
    "---"
   ]
  },
  {
   "cell_type": "markdown",
   "id": "5AywrDxZAMKM",
   "metadata": {
    "id": "5AywrDxZAMKM"
   },
   "source": [
    "## Fortran 90 sequencial\n",
    "\n",
    "O código F90 pode ser desenvolvindo de várias maneiras, como por exemplo, usando uma [IDE para F90](https://cbfortran.sourceforge.io/), usando um [Kernel para o Jupyter Notebook (JN)](https://gitlab.com/lfortran/fortran_kernel), ou então usando uma célula do JN como um editor de texto comum para criar/gravar um arquivo no disco, como mostrado a seguir:"
   ]
  },
  {
   "cell_type": "code",
   "execution_count": 1,
   "id": "LqEkxXpYAMKM",
   "metadata": {
    "colab": {
     "base_uri": "https://localhost:8080/"
    },
    "executionInfo": {
     "elapsed": 263,
     "status": "ok",
     "timestamp": 1632509280941,
     "user": {
      "displayName": "E Furlan",
      "photoUrl": "https://lh3.googleusercontent.com/a-/AOh14Ghzd7UO2EoPv4GHJ2AiwebDPC3evXCqxNZAD2FZ=s64",
      "userId": "04933934069991532991"
     },
     "user_tz": 180
    },
    "id": "LqEkxXpYAMKM",
    "outputId": "54a3b9a0-bf33-46b3-b9fc-3f5f7bc4a1ed"
   },
   "outputs": [
    {
     "name": "stdout",
     "output_type": "stream",
     "text": [
      "Writing heat_seq.f90\n"
     ]
    }
   ],
   "source": [
    "%%writefile heat_seq.f90\n",
    "\n",
    "! computationally intensive core\n",
    "subroutine kernel(anew, aold, sizeStart, sizeEnd)\n",
    "    double precision, intent(out) :: anew(:,:)\n",
    "    double precision, intent(in)  :: aold(:,:)\n",
    "    integer, intent(in) :: sizeStart, sizeEnd\n",
    "    integer             :: i, j\n",
    "\n",
    "    do j = sizeStart, sizeEnd\n",
    "        do i = sizeStart, sizeEnd\n",
    "            anew(i,j)= aold(i,j)/2.0  &\n",
    "                +(aold(i-1,j)+aold(i+1,j)+aold(i,j-1)+aold(i,j+1))/8.0\n",
    "        enddo\n",
    "    enddo   \n",
    "end subroutine\n",
    "\n",
    "! main routine\n",
    "program stencil\n",
    "    implicit none\n",
    "    interface\n",
    "        subroutine kernel(anew, aold, sizeStart, sizeEnd)\n",
    "            double precision, intent(out) :: anew(:,:)\n",
    "            double precision, intent(in)  :: aold(:,:)\n",
    "            integer, intent(in) :: sizeStart, sizeEnd\n",
    "        end subroutine\n",
    "    end interface\n",
    "    \n",
    "    ! parameters for calculation\n",
    "    integer             :: n=2400     ! n x n grid\n",
    "    integer             :: energy=1   ! energy to be injected per iteration\n",
    "    integer             :: niters=250 ! number of iterations\n",
    "\n",
    "    ! other variables\n",
    "    integer, parameter  :: nsources=3\n",
    "    integer, dimension(3, 2)        :: sources\n",
    "    double precision, allocatable   :: aold(:,:), anew(:,:)\n",
    "    integer             :: iters, i, j, size, sizeStart, sizeEnd\n",
    "    double precision    :: heat=0.0           \n",
    "    \n",
    "    size = n + 2\n",
    "    sizeStart = 2\n",
    "    sizeEnd = n + 1\n",
    "\n",
    "    allocate(aold(size, size))\n",
    "    allocate(anew(size, size))\n",
    "    aold = 0.0\n",
    "    anew = 0.0\n",
    "\n",
    "    sources(1,:) = (/ n/2,   n/2   /)\n",
    "    sources(2,:) = (/ n/3,   n/3   /)\n",
    "    sources(3,:) = (/ n*4/5, n*8/9 /)\n",
    "\n",
    "    do iters = 1, niters, 2\n",
    "        \n",
    "        ! odd iteration: anew <- stencil(aold)\n",
    "            \n",
    "        ! computationally intensive core\n",
    "        call kernel(anew, aold, sizeStart, sizeEnd)\n",
    "        \n",
    "        ! three-point energy insertion\n",
    "        do i = 1, nsources\n",
    "            anew(sources(i,1)+1, sources(i,2)+1) =  &\n",
    "                anew(sources(i,1)+1, sources(i,2)+1) + energy\n",
    "        enddo\n",
    "\n",
    "        ! even iteration: aold <- stencil(anew)\n",
    "           \n",
    "        ! computationally intensive core\n",
    "        call kernel(aold, anew, sizeStart, sizeEnd)\n",
    "\n",
    "        ! three-point energy insertion       \n",
    "        do i = 1, nsources\n",
    "            aold(sources(i,1)+1, sources(i,2)+1) =  &\n",
    "                aold(sources(i,1)+1, sources(i,2)+1) + energy\n",
    "        enddo\n",
    "\n",
    "    enddo\n",
    "\n",
    "    ! sum of grid points to get total heat\n",
    "    heat = 0.0\n",
    "    do j = sizeStart, sizeEnd\n",
    "        do i = sizeStart, sizeEnd\n",
    "            heat = heat + aold(i,j)\n",
    "        end do\n",
    "    end do\n",
    "\n",
    "    ! show de result\n",
    "    write(*, \"('Heat: ' f0.4)\") heat\n",
    "\n",
    "    deallocate(aold)\n",
    "    deallocate(anew)\n",
    "\n",
    "end"
   ]
  },
  {
   "cell_type": "markdown",
   "id": "IzU3is6KAMKO",
   "metadata": {
    "id": "IzU3is6KAMKO"
   },
   "source": [
    "Na célula a seguir, o ponto de exclamação significa que o comando será executado em uma sessão do shell do sitema operacional:"
   ]
  },
  {
   "cell_type": "code",
   "execution_count": 2,
   "id": "UpjKqrY1Hfir",
   "metadata": {
    "colab": {
     "base_uri": "https://localhost:8080/"
    },
    "executionInfo": {
     "elapsed": 291,
     "status": "ok",
     "timestamp": 1632508974894,
     "user": {
      "displayName": "E Furlan",
      "photoUrl": "https://lh3.googleusercontent.com/a-/AOh14Ghzd7UO2EoPv4GHJ2AiwebDPC3evXCqxNZAD2FZ=s64",
      "userId": "04933934069991532991"
     },
     "user_tz": 180
    },
    "id": "UpjKqrY1Hfir",
    "outputId": "47fd8ea5-54c6-42ff-ef1b-4f26455a0f29"
   },
   "outputs": [
    {
     "name": "stdout",
     "output_type": "stream",
     "text": [
      "GNU Fortran (Ubuntu 7.5.0-3ubuntu1~18.04) 7.5.0\n",
      "Copyright (C) 2017 Free Software Foundation, Inc.\n",
      "This is free software; see the source for copying conditions.  There is NO\n",
      "warranty; not even for MERCHANTABILITY or FITNESS FOR A PARTICULAR PURPOSE.\n",
      "\n"
     ]
    }
   ],
   "source": [
    "! gfortran --version"
   ]
  },
  {
   "cell_type": "markdown",
   "id": "H9gtpKj1HoOp",
   "metadata": {
    "id": "H9gtpKj1HoOp"
   },
   "source": [
    "SD:\n",
    "\n",
    "    GNU Fortran (GCC) 4.8.5 20150623 (Red Hat 4.8.5-36)\n",
    "    Copyright (C) 2015 Free Software Foundation, Inc."
   ]
  },
  {
   "cell_type": "markdown",
   "id": "_lRLcSDKAMKP",
   "metadata": {
    "id": "_lRLcSDKAMKP"
   },
   "source": [
    "Compilando usando a flag de otimização `-O3`:"
   ]
  },
  {
   "cell_type": "code",
   "execution_count": 3,
   "id": "F88KAz6rAMKP",
   "metadata": {
    "colab": {
     "base_uri": "https://localhost:8080/"
    },
    "executionInfo": {
     "elapsed": 1304,
     "status": "ok",
     "timestamp": 1632509291074,
     "user": {
      "displayName": "E Furlan",
      "photoUrl": "https://lh3.googleusercontent.com/a-/AOh14Ghzd7UO2EoPv4GHJ2AiwebDPC3evXCqxNZAD2FZ=s64",
      "userId": "04933934069991532991"
     },
     "user_tz": 180
    },
    "id": "F88KAz6rAMKP",
    "outputId": "8878397f-c55a-48fe-ca3d-0280beae2029"
   },
   "outputs": [
    {
     "name": "stdout",
     "output_type": "stream",
     "text": [
      "\n",
      "real\t0m0.624s\n",
      "user\t0m0.093s\n",
      "sys\t0m0.037s\n"
     ]
    }
   ],
   "source": [
    "! time gfortran  -O3  -o heat_seq  heat_seq.f90"
   ]
  },
  {
   "cell_type": "markdown",
   "id": "GJ81bYpSAMKQ",
   "metadata": {
    "id": "GJ81bYpSAMKQ"
   },
   "source": [
    "Execução do programa:"
   ]
  },
  {
   "cell_type": "code",
   "execution_count": 4,
   "id": "oNVw5ZlFAMKQ",
   "metadata": {
    "colab": {
     "base_uri": "https://localhost:8080/"
    },
    "executionInfo": {
     "elapsed": 3291,
     "status": "ok",
     "timestamp": 1632509300258,
     "user": {
      "displayName": "E Furlan",
      "photoUrl": "https://lh3.googleusercontent.com/a-/AOh14Ghzd7UO2EoPv4GHJ2AiwebDPC3evXCqxNZAD2FZ=s64",
      "userId": "04933934069991532991"
     },
     "user_tz": 180
    },
    "id": "oNVw5ZlFAMKQ",
    "outputId": "0670ba83-f879-4b79-a92b-70c62f542ccc",
    "tags": []
   },
   "outputs": [
    {
     "name": "stdout",
     "output_type": "stream",
     "text": [
      "Heat: 750.0000\n",
      "\n",
      "real\t0m3.127s\n",
      "user\t0m3.046s\n",
      "sys\t0m0.053s\n"
     ]
    }
   ],
   "source": [
    "! time ./heat_seq"
   ]
  },
  {
   "cell_type": "markdown",
   "id": "a-Dwn1Q2Iasb",
   "metadata": {
    "id": "a-Dwn1Q2Iasb"
   },
   "source": [
    "SD:\n",
    "\n",
    "    Heat: 750.0000\n",
    "\n",
    "    real\t0m3.121s\n",
    "    user\t0m2.965s\n",
    "    sys\t0m0.082s"
   ]
  },
  {
   "cell_type": "markdown",
   "id": "0UKp_hQpAMKR",
   "metadata": {
    "id": "0UKp_hQpAMKR"
   },
   "source": [
    "# Python sequencial (sem Numba)"
   ]
  },
  {
   "cell_type": "markdown",
   "id": "OMGsBv_gAMKR",
   "metadata": {
    "id": "OMGsBv_gAMKR"
   },
   "source": [
    "Versão do Python utilizado:"
   ]
  },
  {
   "cell_type": "code",
   "execution_count": 5,
   "id": "OxYHjqrxAMKR",
   "metadata": {
    "colab": {
     "base_uri": "https://localhost:8080/"
    },
    "executionInfo": {
     "elapsed": 241,
     "status": "ok",
     "timestamp": 1632509342498,
     "user": {
      "displayName": "E Furlan",
      "photoUrl": "https://lh3.googleusercontent.com/a-/AOh14Ghzd7UO2EoPv4GHJ2AiwebDPC3evXCqxNZAD2FZ=s64",
      "userId": "04933934069991532991"
     },
     "user_tz": 180
    },
    "id": "OxYHjqrxAMKR",
    "outputId": "5e661a70-f42e-44c1-eea8-d9e875303069"
   },
   "outputs": [
    {
     "name": "stdout",
     "output_type": "stream",
     "text": [
      "Python 3.7.12\n"
     ]
    }
   ],
   "source": [
    "! python --version"
   ]
  },
  {
   "cell_type": "markdown",
   "id": "X42fWU85I1ll",
   "metadata": {
    "id": "X42fWU85I1ll"
   },
   "source": [
    "SD:\n",
    "\n",
    "    Python 3.8.5"
   ]
  },
  {
   "cell_type": "markdown",
   "id": "MKbZ1935AMKS",
   "metadata": {
    "id": "MKbZ1935AMKS"
   },
   "source": [
    "`numpy` é a principal biblioteca para computação científica:"
   ]
  },
  {
   "cell_type": "code",
   "execution_count": 6,
   "id": "Y77_jqpAAMKS",
   "metadata": {
    "id": "Y77_jqpAAMKS"
   },
   "outputs": [],
   "source": [
    "import numpy as np"
   ]
  },
  {
   "cell_type": "markdown",
   "id": "6hAUVg_GAMKT",
   "metadata": {
    "id": "6hAUVg_GAMKT"
   },
   "source": [
    "Os principais parâmetros são:\n",
    "\n",
    "* `n`: o tamanho da grade (n x n)\n",
    "* `energy`: a unidade de energia a ser inserida em três pontos em cada iteração\n",
    "* `niters`: a quantidade de iterações"
   ]
  },
  {
   "cell_type": "code",
   "execution_count": 7,
   "id": "PTDOlWmtAMKT",
   "metadata": {
    "id": "PTDOlWmtAMKT"
   },
   "outputs": [],
   "source": [
    "n      = 2400\n",
    "energy = 1.0\n",
    "niters = 250"
   ]
  },
  {
   "cell_type": "markdown",
   "id": "3favjA2FAMKT",
   "metadata": {
    "id": "3favjA2FAMKT"
   },
   "source": [
    "Outras variáveis e arrays utilidados:\n",
    "* `anew` e `aold`: matrizes (arrays) para armazenar a grade, e também a zona de fronteira da grade\n",
    "* `sources`: três pontos de inserção de energia"
   ]
  },
  {
   "cell_type": "code",
   "execution_count": 9,
   "id": "s_6G7ck6AMKU",
   "metadata": {
    "id": "s_6G7ck6AMKU"
   },
   "outputs": [],
   "source": [
    "anew         = np.zeros((n + 2,  n + 2), np.float64)\n",
    "aold         = np.zeros((n + 2,  n + 2), np.float64)\n",
    "sources      = np.empty((3, 2), np.int16)    # sources of energy\n",
    "sources[:,:] = [ [n//2, n//2], [n//3, n//3], [n*4//5, n*8//9] ]"
   ]
  },
  {
   "cell_type": "markdown",
   "id": "TyPvJyqrAMKU",
   "metadata": {
    "id": "TyPvJyqrAMKU"
   },
   "source": [
    "Neste exemplo, para a implementação da equação foram utilizados algoritmos disponíveis na literatura, como os descritos por [Zhu et al.](https://ieeexplore.ieee.org/document/7152597) e [Balaji](https://www.mcs.anl.gov/~thakur/sc17-mpi-tutorial/):\n",
    "\n",
    "$\\mathbf{for} \\ \\ i \\ \\leftarrow \\ 1 \\ \\ \\mathbf{to} \\ \\ (matrix \\ size \\ x) \\ \\ \\mathbf{do}$\n",
    "\n",
    "$\\quad \\mathbf{for} \\ \\ j \\ \\leftarrow \\ 1 \\ \\ \\mathbf{to} \\ \\ (matrix \\ size \\ y) \\ \\ \\mathbf{do}$\n",
    "\n",
    "$\\qquad anew[i,j]= \\frac{aold[i,j]}{2.0}+\\frac{aold[i-1,j]+aold[i+1,j]+aold[i,j-1]+aold[i,j+1]}{8.0}$\n",
    "\n",
    "Na célula a seguir é possível visualizar a equação e os laços de repetição que atualizam a grade. O laços estão embutidos na sintaxe `:` (dois pontos) dos índices da matriz \n",
    "(array numpy). Índices negativos significam o final da matriz. A matriz `aold` contém os dados, e a matriz `anew` armazena os resultados dos cálculos. É o trecho de código de computação intensiva, e o fato de ter sido colocado em uma função será útil nos próximos exemplos:"
   ]
  },
  {
   "cell_type": "code",
   "execution_count": 10,
   "id": "Yg9fOE7wAMKU",
   "metadata": {
    "id": "Yg9fOE7wAMKU"
   },
   "outputs": [],
   "source": [
    "def kernel(anew, aold) :\n",
    "    anew[1:-1,1:-1] = (aold[1:-1,1:-1]/2.0\n",
    "        +(aold[2:,1:-1]+aold[:-2,1:-1]+aold[1:-1,2:]+aold[1:-1,:-2])/8.0)"
   ]
  },
  {
   "cell_type": "markdown",
   "id": "cc7LfQ_4AMKV",
   "metadata": {
    "id": "cc7LfQ_4AMKV"
   },
   "source": [
    "A cada passo do laço de repetição principal, são realizas duas chamadas à função `kernel` para atualizar a grade, desta forma reduzindo pela metade a quantidade de repetições necessárias no laço. A linha de código\n",
    "\n",
    "```python\n",
    "anew[sources[:, 0], sources[:, 1]] += energy\n",
    "```\n",
    "\n",
    "utiliza a sintaxe \"`:` (dois pontos) nos índices dos arrays para indicar laço de repetição embutido, que é usado para inserir (somar) os três pontos de energia na grade. `t2` e `t3` são usados para medir o tempo de execução. `anew` e `aold` são as matrizes que ficam alternando nas funções de armazenar o resultado, e de manter os dados durante o cálculo do estêncil. `%%timeit` é um comando o JN que mede o tempo de execução, neste caso executando uma vez a célula (`-r1`), e a cada vez que a célula é executada realiza um laço de repetição (`-n1`):"
   ]
  },
  {
   "cell_type": "code",
   "execution_count": 11,
   "id": "3nSroZBdAMKV",
   "metadata": {
    "colab": {
     "base_uri": "https://localhost:8080/"
    },
    "executionInfo": {
     "elapsed": 17271,
     "status": "ok",
     "timestamp": 1632509416457,
     "user": {
      "displayName": "E Furlan",
      "photoUrl": "https://lh3.googleusercontent.com/a-/AOh14Ghzd7UO2EoPv4GHJ2AiwebDPC3evXCqxNZAD2FZ=s64",
      "userId": "04933934069991532991"
     },
     "user_tz": 180
    },
    "id": "3nSroZBdAMKV",
    "outputId": "82fb0d7c-acdc-4a7c-b765-c6c81a8011b5"
   },
   "outputs": [
    {
     "name": "stdout",
     "output_type": "stream",
     "text": [
      "1 loop, best of 1: 21.4 s per loop\n"
     ]
    }
   ],
   "source": [
    "%%timeit -r1 -n1\n",
    "for _ in range(0, niters, 2):\n",
    "    kernel(anew, aold)\n",
    "    anew[sources[:, 0], sources[:, 1]] += energy\n",
    "    kernel(aold, anew)\n",
    "    aold[sources[:, 0], sources[:, 1]] += energy"
   ]
  },
  {
   "cell_type": "markdown",
   "id": "y_n6TvK0JGdy",
   "metadata": {
    "id": "y_n6TvK0JGdy"
   },
   "source": [
    "SD:\n",
    "\n",
    "    33.5 s ± 0 ns per loop (mean ± std. dev. of 1 run, 1 loop each)"
   ]
  },
  {
   "cell_type": "markdown",
   "id": "ADmQNvu3AMKW",
   "metadata": {
    "id": "ADmQNvu3AMKW"
   },
   "source": [
    "Após as iterações, é feita a soma das energias em cada ponto da grade (soma de todos os elementos da matriz), para obter o total de calor:"
   ]
  },
  {
   "cell_type": "code",
   "execution_count": 12,
   "id": "lIDIdFYGAMKW",
   "metadata": {
    "colab": {
     "base_uri": "https://localhost:8080/",
     "height": 35
    },
    "executionInfo": {
     "elapsed": 273,
     "status": "ok",
     "timestamp": 1632511595215,
     "user": {
      "displayName": "E Furlan",
      "photoUrl": "https://lh3.googleusercontent.com/a-/AOh14Ghzd7UO2EoPv4GHJ2AiwebDPC3evXCqxNZAD2FZ=s64",
      "userId": "04933934069991532991"
     },
     "user_tz": 180
    },
    "id": "lIDIdFYGAMKW",
    "outputId": "f3c18966-baf1-4666-dfed-aaa07344e282"
   },
   "outputs": [
    {
     "data": {
      "application/vnd.google.colaboratory.intrinsic+json": {
       "type": "string"
      },
      "text/plain": [
       "'Heat: 750.0000'"
      ]
     },
     "execution_count": 12,
     "metadata": {},
     "output_type": "execute_result"
    }
   ],
   "source": [
    "f\"Heat: {np.sum(aold[1:-1, 1:-1]):.4f}\""
   ]
  },
  {
   "cell_type": "markdown",
   "id": "-UNWx-9RAMKX",
   "metadata": {
    "id": "-UNWx-9RAMKX"
   },
   "source": [
    "`%%prun` usa o Python profiler e mostra os tempos com mais detalhes:"
   ]
  },
  {
   "cell_type": "code",
   "execution_count": 12,
   "id": "v_a50pANAMKX",
   "metadata": {
    "colab": {
     "base_uri": "https://localhost:8080/"
    },
    "executionInfo": {
     "elapsed": 18630,
     "status": "ok",
     "timestamp": 1632511784942,
     "user": {
      "displayName": "E Furlan",
      "photoUrl": "https://lh3.googleusercontent.com/a-/AOh14Ghzd7UO2EoPv4GHJ2AiwebDPC3evXCqxNZAD2FZ=s64",
      "userId": "04933934069991532991"
     },
     "user_tz": 180
    },
    "id": "v_a50pANAMKX",
    "outputId": "2da04db0-f3dc-4a60-e375-f1929dcdf581"
   },
   "outputs": [
    {
     "name": "stdout",
     "output_type": "stream",
     "text": [
      " "
     ]
    },
    {
     "data": {
      "text/plain": [
       "         253 function calls in 20.605 seconds\n",
       "\n",
       "   Ordered by: cumulative time\n",
       "\n",
       "   ncalls  tottime  percall  cumtime  percall filename:lineno(function)\n",
       "        1    0.000    0.000   20.605   20.605 {built-in method builtins.exec}\n",
       "        1    0.016    0.016   20.605   20.605 <string>:2(<module>)\n",
       "      250   20.588    0.082   20.588    0.082 <ipython-input-9-c8dd1f9fd6f9>:1(kernel)\n",
       "        1    0.000    0.000    0.000    0.000 {method 'disable' of '_lsprof.Profiler' objects}"
      ]
     },
     "metadata": {},
     "output_type": "display_data"
    }
   ],
   "source": [
    "%%prun -l 5 -s cumulative\n",
    "for _ in range(0, niters, 2):\n",
    "    kernel(anew, aold)\n",
    "    anew[sources[:, 0], sources[:, 1]] += energy\n",
    "    kernel(aold, anew)\n",
    "    aold[sources[:, 0], sources[:, 1]] += energy"
   ]
  },
  {
   "cell_type": "markdown",
   "id": "bcZmEK6-RoHz",
   "metadata": {
    "id": "bcZmEK6-RoHz"
   },
   "source": [
    "SD:\n",
    "\n",
    "    253 function calls in 35.546 seconds\n",
    "\n",
    "      Ordered by: cumulative time\n",
    "\n",
    "      ncalls  tottime  percall  cumtime  percall filename:lineno(function)\n",
    "            1    0.000    0.000   35.546   35.546 {built-in method builtins.exec}\n",
    "            1    0.020    0.020   35.546   35.546 <string>:1(<module>)\n",
    "          250   35.526    0.142   35.526    0.142 <ipython-input-27-c8dd1f9fd6f9>:1(kernel)\n",
    "            1    0.000    0.000    0.000    0.000 {method 'disable' of '_lsprof.Profiler' objects}"
   ]
  },
  {
   "cell_type": "markdown",
   "id": "Otm04S9MAMKY",
   "metadata": {
    "id": "Otm04S9MAMKY"
   },
   "source": [
    "---"
   ]
  },
  {
   "cell_type": "markdown",
   "id": "c2V-uGNDAMKY",
   "metadata": {
    "id": "c2V-uGNDAMKY"
   },
   "source": [
    "Fazendo um teste com `n = 8`, apenas para visualizar a grade final:"
   ]
  },
  {
   "cell_type": "code",
   "execution_count": 13,
   "id": "5549babd-16b5-46a6-bc4f-f97bf72663f2",
   "metadata": {},
   "outputs": [],
   "source": [
    "n            = 8\n",
    "anew         = np.zeros((n + 2,  n + 2), np.float64)\n",
    "aold         = np.zeros((n + 2,  n + 2), np.float64)\n",
    "sources      = np.empty((3, 2), np.int16)    # sources of energy\n",
    "sources[:,:] = [ [n//2, n//2], [n//3, n//3], [n*4//5, n*8//9] ]\n",
    "for _ in range(0, niters, 2):\n",
    "    kernel(anew, aold)\n",
    "    anew[sources[:, 0], sources[:, 1]] += energy\n",
    "    kernel(aold, anew)\n",
    "    aold[sources[:, 0], sources[:, 1]] += energy"
   ]
  },
  {
   "cell_type": "code",
   "execution_count": 14,
   "id": "eeKHpHWIAMKY",
   "metadata": {
    "id": "eeKHpHWIAMKY",
    "outputId": "577003bd-e72b-456d-e6b6-b99fe738d1f3"
   },
   "outputs": [
    {
     "data": {
      "text/plain": [
       "array([[0.0, 0.0, 0.0, 0.0, 0.0, 0.0, 0.0, 0.0, 0.0, 0.0],\n",
       "       [0.0, 0.8, 1.5, 1.3, 1.0, 0.8, 0.6, 0.4, 0.2, 0.0],\n",
       "       [0.0, 1.5, 4.0, 2.6, 2.1, 1.6, 1.2, 0.8, 0.4, 0.0],\n",
       "       [0.0, 1.3, 2.5, 2.8, 3.1, 2.4, 1.8, 1.2, 0.6, 0.0],\n",
       "       [0.0, 1.0, 2.1, 3.1, 5.1, 3.1, 2.3, 1.7, 0.9, 0.0],\n",
       "       [0.0, 0.8, 1.6, 2.3, 3.1, 2.7, 2.5, 2.4, 1.2, 0.0],\n",
       "       [0.0, 0.6, 1.1, 1.6, 2.1, 2.2, 2.6, 4.1, 1.6, 0.0],\n",
       "       [0.0, 0.4, 0.7, 1.0, 1.3, 1.5, 1.7, 1.9, 1.0, 0.0],\n",
       "       [0.0, 0.2, 0.4, 0.5, 0.6, 0.7, 0.8, 0.8, 0.4, 0.0],\n",
       "       [0.0, 0.0, 0.0, 0.0, 0.0, 0.0, 0.0, 0.0, 0.0, 0.0]])"
      ]
     },
     "execution_count": 14,
     "metadata": {},
     "output_type": "execute_result"
    }
   ],
   "source": [
    "np.set_printoptions(precision=1, floatmode='fixed')\n",
    "aold"
   ]
  },
  {
   "cell_type": "code",
   "execution_count": 15,
   "id": "beaa1af1-6489-4af3-9f1b-f6effd1db379",
   "metadata": {},
   "outputs": [
    {
     "data": {
      "text/plain": [
       "<matplotlib.image.AxesImage at 0x7fd52ac02b10>"
      ]
     },
     "execution_count": 15,
     "metadata": {},
     "output_type": "execute_result"
    },
    {
     "data": {
      "image/png": "[encoded data removed]",
      "text/plain": [
       "<Figure size 576x576 with 1 Axes>"
      ]
     },
     "metadata": {
      "needs_background": "light"
     },
     "output_type": "display_data"
    }
   ],
   "source": [
    "%matplotlib inline\n",
    "import matplotlib.pyplot as plt\n",
    "plt.figure(figsize=(8,8))\n",
    "plt.imshow(aold, cmap='jet')"
   ]
  },
  {
   "cell_type": "markdown",
   "id": "aWrj-9yyAMKZ",
   "metadata": {
    "id": "aWrj-9yyAMKZ"
   },
   "source": [
    "---"
   ]
  },
  {
   "cell_type": "markdown",
   "id": "Yt4rE08cAMKZ",
   "metadata": {
    "id": "Yt4rE08cAMKZ"
   },
   "source": [
    "# Numba sequencial (1 thread)"
   ]
  },
  {
   "cell_type": "markdown",
   "id": "IYckJLiQAMKZ",
   "metadata": {
    "id": "IYckJLiQAMKZ"
   },
   "source": [
    "Numba reconhece apenas um subconjunto de Python e Numpy. É usado geralmente apenas nos trechos que exigem intensidade computacional, e o resto do código é executado de forma interpretada por Python padrão. Para o exemplo a seguir, adicionamos medição de tempo e também um decorador na função `kernel` para que Numba a compile em tempo de execução, JIT."
   ]
  },
  {
   "cell_type": "markdown",
   "id": "Q2evWrnUAMKa",
   "metadata": {
    "id": "Q2evWrnUAMKa"
   },
   "source": [
    "Com relação ao código anterior, a biblioteca `numba` (compilador Numba) é adicionada neste trecho:"
   ]
  },
  {
   "cell_type": "code",
   "execution_count": 22,
   "id": "yL-iNu6qAMKa",
   "metadata": {
    "id": "yL-iNu6qAMKa"
   },
   "outputs": [],
   "source": [
    "import numpy as np\n",
    "from numba import njit, set_num_threads, get_num_threads, threading_layer, config"
   ]
  },
  {
   "cell_type": "markdown",
   "id": "-RWvYf6jAMKa",
   "metadata": {
    "id": "-RWvYf6jAMKa"
   },
   "source": [
    "Este trecho é o mesmo do exemplo anterior:"
   ]
  },
  {
   "cell_type": "code",
   "execution_count": 23,
   "id": "YSBZNB7uAMKb",
   "metadata": {
    "id": "YSBZNB7uAMKb"
   },
   "outputs": [],
   "source": [
    "# parameters\n",
    "n            = 2400    # n x n grid\n",
    "energy       = 1.0     # energy to be injected per iteration\n",
    "niters       = 250     # number of iterations\n",
    "# initialize the data arrays\n",
    "anew         = np.zeros((n + 2,  n + 2), np.float64)\n",
    "aold         = np.zeros((n + 2,  n + 2), np.float64)\n",
    "# initialize three heat sources\n",
    "sources      = np.empty((3, 2), np.int16)    # sources of energy\n",
    "sources[:,:] = [ [n//2, n//2], [n//3, n//3], [n*4//5, n*8//9] ]"
   ]
  },
  {
   "cell_type": "markdown",
   "id": "r0So2W6GAMKb",
   "metadata": {
    "id": "r0So2W6GAMKb"
   },
   "source": [
    "A função `kernel`recebe um decorador para indicar para Numba que a função deve ser compilada em tempo de execução, JIT. `float64` são os tipos dos parâmetros, `fastmat` aumenta a velocidade dos cálculos em detrimento da precisão, `parallel` indica a utilização de otimizações como vetorização, e `nogil` desliga o GIL (*global interpreter lock*). `THREADING_LAYER` configura o uso da biblioteca OpenMP:"
   ]
  },
  {
   "cell_type": "code",
   "execution_count": 24,
   "id": "y_qXMZKyAMKb",
   "metadata": {
    "colab": {
     "base_uri": "https://localhost:8080/"
    },
    "executionInfo": {
     "elapsed": 1482,
     "status": "ok",
     "timestamp": 1632512057895,
     "user": {
      "displayName": "E Furlan",
      "photoUrl": "https://lh3.googleusercontent.com/a-/AOh14Ghzd7UO2EoPv4GHJ2AiwebDPC3evXCqxNZAD2FZ=s64",
      "userId": "04933934069991532991"
     },
     "user_tz": 180
    },
    "id": "y_qXMZKyAMKb",
    "outputId": "01366c56-08a1-408a-82fe-f5fd974ec3ee"
   },
   "outputs": [],
   "source": [
    "# set the threading layer before any parallel target compilation\n",
    "config.THREADING_LAYER = 'omp'    # OpenMP\n",
    "\n",
    "# computationally intensive core\n",
    "@njit('(float64[:,:],float64[:,:])', parallel=True, fastmath=True, nogil=True)\n",
    "def kernel(anew, aold) :\n",
    "    anew[1:-1,1:-1] = (aold[1:-1,1:-1]/2.0\n",
    "        +(aold[2:,1:-1]+aold[:-2,1:-1]+aold[1:-1,2:]+aold[1:-1,:-2])/8.0)"
   ]
  },
  {
   "cell_type": "markdown",
   "id": "CVM0D480AMKc",
   "metadata": {
    "id": "CVM0D480AMKc"
   },
   "source": [
    "`t0`, `t1`, etc., são usados para medição de tempo, `threading_layer` mostra qual biblioteca está sendo usada (OpenMP, Intel TBB, ou biblioteca própria), e `get_num_threads` mostra quantos threads estão sendo usados na execução: se > 1 significa que estão sendo utilizados os recursos de processamento paralelo usando threads:"
   ]
  },
  {
   "cell_type": "code",
   "execution_count": 25,
   "id": "Ua7l-ntTAMKc",
   "metadata": {
    "colab": {
     "base_uri": "https://localhost:8080/"
    },
    "executionInfo": {
     "elapsed": 3054,
     "status": "ok",
     "timestamp": 1632512103709,
     "user": {
      "displayName": "E Furlan",
      "photoUrl": "https://lh3.googleusercontent.com/a-/AOh14Ghzd7UO2EoPv4GHJ2AiwebDPC3evXCqxNZAD2FZ=s64",
      "userId": "04933934069991532991"
     },
     "user_tz": 180
    },
    "id": "Ua7l-ntTAMKc",
    "outputId": "c9ef7b80-0bf8-41b6-be32-80ac7825aec2"
   },
   "outputs": [
    {
     "name": "stdout",
     "output_type": "stream",
     "text": [
      " "
     ]
    },
    {
     "data": {
      "text/plain": [
       "         469 function calls (451 primitive calls) in 3.077 seconds\n",
       "\n",
       "   Ordered by: cumulative time\n",
       "   List reduced from 69 to 5 due to restriction <5>\n",
       "\n",
       "   ncalls  tottime  percall  cumtime  percall filename:lineno(function)\n",
       "        1    0.000    0.000    3.077    3.077 {built-in method builtins.exec}\n",
       "        1    0.022    0.022    3.077    3.077 <string>:3(<module>)\n",
       "      250    3.050    0.012    3.050    0.012 <ipython-input-24-dd9b4388221b>:5(kernel)\n",
       "        1    0.000    0.000    0.004    0.004 <__array_function__ internals>:2(sum)\n",
       "        1    0.000    0.000    0.004    0.004 {built-in method numpy.core._multiarray_umath.implement_array_function}"
      ]
     },
     "metadata": {},
     "output_type": "display_data"
    }
   ],
   "source": [
    "%%prun -l 5 -s cumulative\n",
    "# main routine\n",
    "set_num_threads(1)       # set the number of threads\n",
    "for _ in range(0, niters, 2) :\n",
    "    kernel(anew, aold)\n",
    "    anew[sources[:, 0], sources[:, 1]] += energy\n",
    "    kernel(aold, anew)\n",
    "    aold[sources[:, 0], sources[:, 1]] += energy\n",
    "heat = np.sum(aold)      # system total heat"
   ]
  },
  {
   "cell_type": "markdown",
   "id": "JxQ9YkxwTVEe",
   "metadata": {
    "id": "JxQ9YkxwTVEe"
   },
   "source": [
    "SD:\n",
    "\n",
    "            253 function calls in 18.361 seconds\n",
    "\n",
    "      Ordered by: cumulative time\n",
    "\n",
    "      ncalls  tottime  percall  cumtime  percall filename:lineno(function)\n",
    "            1    0.000    0.000   18.361   18.361 {built-in method builtins.exec}\n",
    "            1    0.015    0.015   18.361   18.361 <string>:2(<module>)\n",
    "          250   18.346    0.073   18.346    0.073 <ipython-input-20-c8dd1f9fd6f9>:1(kernel)\n",
    "            1    0.000    0.000    0.000    0.000 {method 'disable' of '_lsprof.Profiler' objects}"
   ]
  },
  {
   "cell_type": "code",
   "execution_count": 26,
   "id": "6ukl7KVQAMKc",
   "metadata": {
    "colab": {
     "base_uri": "https://localhost:8080/"
    },
    "executionInfo": {
     "elapsed": 255,
     "status": "ok",
     "timestamp": 1632512161812,
     "user": {
      "displayName": "E Furlan",
      "photoUrl": "https://lh3.googleusercontent.com/a-/AOh14Ghzd7UO2EoPv4GHJ2AiwebDPC3evXCqxNZAD2FZ=s64",
      "userId": "04933934069991532991"
     },
     "user_tz": 180
    },
    "id": "6ukl7KVQAMKc",
    "outputId": "3f66a9ab-578e-498a-f769-d2721cbc91a1"
   },
   "outputs": [
    {
     "name": "stdout",
     "output_type": "stream",
     "text": [
      "Heat: 750.0000 | Threading layer: omp | Thread count: 1\n"
     ]
    }
   ],
   "source": [
    "# show the result\n",
    "print(f\"Heat: {heat:.4f}\", end=\" | \")\n",
    "print(f\"Threading layer: {threading_layer()}\", end=\" | \")\n",
    "print(f\"Thread count: {get_num_threads()}\")"
   ]
  },
  {
   "cell_type": "markdown",
   "id": "c3f9a0d7-bc5d-4156-a714-4a42e5790779",
   "metadata": {},
   "source": [
    "## Criando uma função para comparar 1 e 2 threads"
   ]
  },
  {
   "cell_type": "code",
   "execution_count": 19,
   "id": "AmCx1x14AMKd",
   "metadata": {
    "colab": {
     "base_uri": "https://localhost:8080/"
    },
    "executionInfo": {
     "elapsed": 4642,
     "status": "ok",
     "timestamp": 1632512245751,
     "user": {
      "displayName": "E Furlan",
      "photoUrl": "https://lh3.googleusercontent.com/a-/AOh14Ghzd7UO2EoPv4GHJ2AiwebDPC3evXCqxNZAD2FZ=s64",
      "userId": "04933934069991532991"
     },
     "user_tz": 180
    },
    "id": "AmCx1x14AMKd",
    "outputId": "b193b752-9538-416a-888a-9d2a7a9ec317"
   },
   "outputs": [],
   "source": [
    "def heat(tr) :\n",
    "    import numpy as np\n",
    "    from numba import njit, set_num_threads, get_num_threads, threading_layer, config\n",
    "\n",
    "    # parameters\n",
    "    n            = 2400    # n x n grid  <-- function parameter\n",
    "    energy       = 1.0     # energy to be injected per iteration\n",
    "    niters       = 250     # number of iterations\n",
    "    # initialize the data arrays\n",
    "    anew         = np.zeros((n + 2,  n + 2), np.float64)\n",
    "    aold         = np.zeros((n + 2,  n + 2), np.float64)\n",
    "    # initialize three heat sources\n",
    "    sources      = np.empty((3, 2), np.int16)    # sources of energy\n",
    "    sources[:,:] = [ [n//2, n//2], [n//3, n//3], [n*4//5, n*8//9] ]\n",
    "\n",
    "    # set the threading layer before any parallel target compilation\n",
    "    config.THREADING_LAYER = 'omp'    # OpenMP\n",
    "\n",
    "    # computationally intensive core\n",
    "    @njit('(float64[:,:],float64[:,:])', parallel=True, fastmath=True, nogil=True)\n",
    "    def kernel(anew, aold) :\n",
    "        anew[1:-1,1:-1] = (aold[1:-1,1:-1]/2.0\n",
    "            +(aold[2:,1:-1]+aold[:-2,1:-1]+aold[1:-1,2:]+aold[1:-1,:-2])/8.0)\n",
    "\n",
    "    # main routine\n",
    "    set_num_threads(tr)       # set the number of threads\n",
    "    for _ in range(0, niters, 2) :\n",
    "        kernel(anew, aold)\n",
    "        anew[sources[:, 0], sources[:, 1]] += energy\n",
    "        kernel(aold, anew)\n",
    "        aold[sources[:, 0], sources[:, 1]] += energy\n",
    "    heat = np.sum(aold)    # system total heat\n",
    "    \n",
    "\n",
    "    # show the result\n",
    "    print(f\"Heat: {heat:.4f}\", end=\" | \")\n",
    "    print(f\"Threading layer: {threading_layer()}\", end=\" | \")\n",
    "    print(f\"Thread count: {get_num_threads()}\")"
   ]
  },
  {
   "cell_type": "code",
   "execution_count": 28,
   "id": "bd43f3c7-fb6e-4227-bae4-80a76706328a",
   "metadata": {},
   "outputs": [
    {
     "name": "stdout",
     "output_type": "stream",
     "text": [
      "Heat: 750.0000 | Threading layer: omp | Thread count: 1\n",
      "1 loop, best of 1: 4.15 s per loop\n"
     ]
    }
   ],
   "source": [
    "%%timeit -n1 -r1\n",
    "heat(1)"
   ]
  },
  {
   "cell_type": "markdown",
   "id": "b3610f86-b179-4573-ae07-6e67a68f7b59",
   "metadata": {
    "id": "XhZNv_xyAMKd",
    "tags": []
   },
   "source": [
    "## 2 threads\n",
    "\n",
    "> Notas:\n",
    "> * com 1 núcleo físico e 1 lógico (*hyperthreading*) ligado, o aumento de velocidade não é grande\n",
    "> * a execução usando threads (OpenMP, etc.) geralmente é feita em um nó. Para utilizar vários nós de computação, geralmente usa-se a biblioteca de troca de mensagens (MPI) que utiliza processos ao invés de threads. Também é possível combinar OpenMP e MPI, embora torne o código mais complexo\n",
    "> * Threads utiliza o modelo de memória compartilhada, e processos utiliza o modelo de memória com espaços de endereçamento separados"
   ]
  },
  {
   "cell_type": "code",
   "execution_count": 29,
   "id": "90a60528-aa8c-4844-86cd-769fb570ebad",
   "metadata": {},
   "outputs": [
    {
     "name": "stdout",
     "output_type": "stream",
     "text": [
      "Heat: 750.0000 | Threading layer: omp | Thread count: 2\n",
      "1 loop, best of 1: 3.81 s per loop\n"
     ]
    }
   ],
   "source": [
    "%%timeit -n1 -r1\n",
    "heat(2)"
   ]
  },
  {
   "cell_type": "code",
   "execution_count": null,
   "id": "04ac3041-823a-42ec-9c47-0450fd37f522",
   "metadata": {},
   "outputs": [],
   "source": []
  }
 ],
 "metadata": {
  "accelerator": "GPU",
  "colab": {
   "name": "GC-numba-cpu.ipynb",
   "provenance": []
  },
  "kernelspec": {
   "display_name": "Python 3 (ipykernel)",
   "language": "python",
   "name": "python3"
  },
  "language_info": {
   "codemirror_mode": {
    "name": "ipython",
    "version": 3
   },
   "file_extension": ".py",
   "mimetype": "text/x-python",
   "name": "python",
   "nbconvert_exporter": "python",
   "pygments_lexer": "ipython3",
   "version": "3.7.10"
  }
 },
 "nbformat": 4,
 "nbformat_minor": 5
}
