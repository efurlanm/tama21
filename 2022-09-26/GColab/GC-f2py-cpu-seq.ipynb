{
 "cells": [
  {
   "cell_type": "markdown",
   "metadata": {},
   "source": [
    "# Google Colab (GC) - F2PY CPU sequencial"
   ]
  },
  {
   "cell_type": "code",
   "execution_count": 1,
   "metadata": {},
   "outputs": [
    {
     "name": "stderr",
     "output_type": "stream",
     "text": [
      "/usr/local/lib/python3.7/dist-packages/fortranmagic.py:147: UserWarning: get_ipython_cache_dir has moved to the IPython.paths module since IPython 4.0.\n",
      "  self._lib_dir = os.path.join(get_ipython_cache_dir(), 'fortran')\n"
     ]
    },
    {
     "data": {
      "application/javascript": [
       "new Promise(function(resolve, reject) {\n",
       "\tvar script = document.createElement(\"script\");\n",
       "\tscript.onload = resolve;\n",
       "\tscript.onerror = reject;\n",
       "\tscript.src = \"https://raw.github.com/marijnh/CodeMirror/master/mode/fortran/fortran.js\";\n",
       "\tdocument.head.appendChild(script);\n",
       "}).then(() => {\n",
       "IPython.config.cell_magic_highlight['magic_fortran'] = {'reg':[/^%%fortran/]};\n",
       "});"
      ]
     },
     "metadata": {},
     "output_type": "display_data"
    }
   ],
   "source": [
    "%load_ext fortranmagic"
   ]
  },
  {
   "cell_type": "code",
   "execution_count": 10,
   "metadata": {},
   "outputs": [],
   "source": [
    "%%fortran --f90flags \"-O3\"\n",
    "subroutine st(n, energy, niters, heat, t)\n",
    "    integer, intent(in) :: n, energy, niters\n",
    "    double precision, intent(out) :: heat, t   \n",
    "    integer, parameter :: nsources=3\n",
    "    integer :: iters, i, j, x, y, sizeArray, sizeStart, sizeEnd\n",
    "    integer, dimension(3, 2) :: sources\n",
    "    double precision, allocatable :: aold(:,:), anew(:,:)\n",
    "    double precision :: t1=0.0, t2=0.0\n",
    "\n",
    "    call cpu_time(t1)\n",
    "\n",
    "    sizeArray = n + 2\n",
    "    sizeStart = 2\n",
    "    sizeEnd = n + 1\n",
    "\n",
    "    allocate(aold(sizeArray, sizeArray))\n",
    "    allocate(anew(sizeArray, sizeArray))\n",
    "    aold = 0.0\n",
    "    anew = 0.0\n",
    "    \n",
    "    sources(1,:) = (/ n/2,   n/2   /)\n",
    "    sources(2,:) = (/ n/3,   n/3   /)\n",
    "    sources(3,:) = (/ n*4/5, n*8/9 /)\n",
    "    \n",
    "    do iters = 1, niters, 2\n",
    "        do j = sizeStart, sizeEnd\n",
    "            do i = sizeStart, sizeEnd\n",
    "                anew(i,j) = aold(i,j)/2.0 + (aold(i-1,j) + aold(i+1,j) +  &\n",
    "                            aold(i,j-1) + aold(i,j+1)) / 4.0 / 2.0\n",
    "            enddo\n",
    "        enddo\n",
    "        do i = 1, nsources\n",
    "            x = sources(i,1) + 1\n",
    "            y = sources(i,2) + 1\n",
    "            anew(x,y) =  anew(x,y) + energy\n",
    "        enddo\n",
    "        do j = sizeStart, sizeEnd\n",
    "            do i = sizeStart, sizeEnd\n",
    "                aold(i,j) = anew(i,j)/2.0 + (anew(i-1,j) + anew(i+1,j) +  &\n",
    "                            anew(i,j-1) + anew(i,j+1)) / 4.0 / 2.0\n",
    "            enddo\n",
    "        enddo\n",
    "        do i = 1, nsources\n",
    "            x = sources(i,1) + 1\n",
    "            y = sources(i,2) + 1\n",
    "            aold(x,y) = aold(x,y) + energy\n",
    "        enddo\n",
    "    enddo\n",
    "    heat = 0.0\n",
    "    do j = sizeStart, sizeEnd\n",
    "        do i = sizeStart, sizeEnd\n",
    "            heat = heat + aold(i,j)\n",
    "        end do\n",
    "    end do\n",
    "    deallocate(aold)\n",
    "    deallocate(anew)\n",
    "    call cpu_time(t2)\n",
    "    t = t2 - t1\n",
    "end subroutine"
   ]
  },
  {
   "cell_type": "code",
   "execution_count": 8,
   "metadata": {},
   "outputs": [
    {
     "name": "stdout",
     "output_type": "stream",
     "text": [
      "heat,t = st(n,energy,niters)\n",
      "\n",
      "Wrapper for ``st``.\n",
      "\n",
      "Parameters\n",
      "----------\n",
      "n : input int\n",
      "energy : input int\n",
      "niters : input int\n",
      "\n",
      "Returns\n",
      "-------\n",
      "heat : float\n",
      "t : float\n",
      "\n"
     ]
    }
   ],
   "source": [
    "from f2py_seq import st\n",
    "print(st.__doc__)"
   ]
  },
  {
   "cell_type": "code",
   "execution_count": 9,
   "metadata": {},
   "outputs": [
    {
     "name": "stdout",
     "output_type": "stream",
     "text": [
      "Heat = 1500.0000 | Time = 17.0064 | TimePyt = 17.0402\n",
      "17 s ± 0 ns per loop (mean ± std. dev. of 1 run, 1 loop each)\n"
     ]
    }
   ],
   "source": [
    "%%timeit -n1 -r1\n",
    "from time import time\n",
    "from f2py_seq import st\n",
    "\n",
    "n       = 4800    # nxn grid; 4800,1,500→1500; 100,1,10→30; [4800]\n",
    "energy  = 1       # energy to be injected per iteration; [1]\n",
    "niters  = 500     # number of iterations; [500]\n",
    "t0      = -time()\n",
    "\n",
    "heat, t = st(n, energy, niters)\n",
    "\n",
    "t0 += time()\n",
    "print(\"Heat = %0.4f | Time = %0.4f | TimePyt = %0.4f\" %(heat, t, t0))"
   ]
  },
  {
   "cell_type": "code",
   "execution_count": null,
   "metadata": {},
   "outputs": [],
   "source": []
  }
 ],
 "metadata": {
  "kernelspec": {
   "display_name": "Python 3",
   "language": "python",
   "name": "python3"
  },
  "language_info": {
   "codemirror_mode": {
    "name": "ipython",
    "version": 3
   },
   "file_extension": ".py",
   "mimetype": "text/x-python",
   "name": "python",
   "nbconvert_exporter": "python",
   "pygments_lexer": "ipython3",
   "version": "3.7.14"
  }
 },
 "nbformat": 4,
 "nbformat_minor": 4
}
