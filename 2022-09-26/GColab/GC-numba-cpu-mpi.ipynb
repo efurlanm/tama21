{
 "cells": [
  {
   "cell_type": "markdown",
   "metadata": {
    "id": "Dnte1q0CW7ho"
   },
   "source": [
    "# Google Colab (GC) - Numba CPU MPI"
   ]
  },
  {
   "cell_type": "markdown",
   "metadata": {},
   "source": [
    "Grava em um arquivo fonte para que possa ser carregado em cada processo MPI:"
   ]
  },
  {
   "cell_type": "code",
   "execution_count": 1,
   "metadata": {},
   "outputs": [
    {
     "name": "stdout",
     "output_type": "stream",
     "text": [
      "Overwriting numba_mpi.py\n"
     ]
    }
   ],
   "source": [
    "%%writefile numba_mpi.py\n",
    "import numpy as np\n",
    "from time import time\n",
    "from numba import njit, set_num_threads, get_num_threads, config\n",
    "from mpi4py import MPI\n",
    "\n",
    "# set the threading layer before any parallel target compilation\n",
    "config.THREADING_LAYER = 'omp'    # OpenMP\n",
    "\n",
    "# computationally intensive core\n",
    "@njit('(float64[:,:],float64[:,:])', parallel=True, fastmath=True, nogil=True)\n",
    "def kernel(anew, aold) :\n",
    "    anew[1:-1,1:-1] = (aold[1:-1,1:-1]/2.0\n",
    "        +(aold[2:,1:-1]+aold[:-2,1:-1]+aold[1:-1,2:]+aold[1:-1,:-2])/8.0)\n",
    "\n",
    "# parameters\n",
    "n            = 2400    # n x n grid\n",
    "energy       = 1.0     # energy to be injected per iteration\n",
    "niters       = 250     # number of iterations\n",
    "# initialize three heat sources\n",
    "nsources     = 3    # sources of energy\n",
    "sources      = np.zeros((nsources, 2), np.int16)\n",
    "sources[:,:] = [ [n//2, n//2], [n//3, n//3], [n*4//5, n*8//9] ]\n",
    "\n",
    "# main routine\n",
    "comm    = MPI.COMM_WORLD\n",
    "mpisize = comm.size\n",
    "mpirank = comm.rank\n",
    "if not mpirank : t0 = -time()\n",
    "\n",
    "# determine my coordinates (x,y)\n",
    "pdims = MPI.Compute_dims(mpisize, 2)\n",
    "px    = pdims[0]\n",
    "py    = pdims[1]\n",
    "rx    = mpirank % px\n",
    "ry    = mpirank // px\n",
    "\n",
    "# determine my four neighbors\n",
    "north = (ry - 1) * px + rx\n",
    "if (ry - 1) < 0 :\n",
    "    north = MPI.PROC_NULL\n",
    "south = (ry + 1) * px + rx\n",
    "if (ry + 1) >= py :\n",
    "    south = MPI.PROC_NULL\n",
    "west = ry * px + rx - 1\n",
    "if (rx - 1) < 0 :\n",
    "    west = MPI.PROC_NULL\n",
    "east = ry * px + rx + 1\n",
    "if (rx + 1) >= px :\n",
    "    east = MPI.PROC_NULL\n",
    "\n",
    "# decompose the domain\n",
    "bx   = n // px          # block size in x\n",
    "by   = n // py          # block size in y\n",
    "offx = rx * bx + 1      # offset in x\n",
    "offy = ry * by + 1      # offset in y\n",
    "\n",
    "# sources in my area, local to my rank\n",
    "locnsources = 0\n",
    "locsources  = np.empty((nsources, 2), np.int16)\n",
    "\n",
    "# determine which sources are in my patch\n",
    "for i in range(nsources) :\n",
    "    locx = sources[i, 0] - offx\n",
    "    locy = sources[i, 1] - offy\n",
    "    if(locx >= 0 and locx <= bx and locy >= 0 and locy <= by) :\n",
    "        locsources[locnsources, 0] = locx\n",
    "        locsources[locnsources, 1] = locy\n",
    "        locnsources += 1\n",
    "\n",
    "# working arrays with 1-wide halo zones\n",
    "anew = np.zeros((bx+2, by+2), np.float64)\n",
    "aold = np.zeros((bx+2, by+2), np.float64)\n",
    "\n",
    "# system total heat\n",
    "rheat = np.zeros(1, np.float64)\n",
    "bheat = np.zeros(1, np.float64)\n",
    "\n",
    "for _ in range(0, niters, 2) :\n",
    "    # exchange data with neighbors\n",
    "    if north != MPI.PROC_NULL :\n",
    "        r1=comm.irecv(source=north, tag=1)\n",
    "        s1=comm.isend(aold[1, 1:bx+1], dest=north, tag=1)\n",
    "    if south != MPI.PROC_NULL :\n",
    "        r2=comm.irecv(source=south, tag=1)\n",
    "        s2=comm.isend(aold[bx, 1:bx+1], dest=south, tag=1)\n",
    "    if east != MPI.PROC_NULL :\n",
    "        r3 = comm.irecv(source=east, tag=1)\n",
    "        s3 = comm.isend(aold[1:bx+1, bx], dest=east, tag=1)\n",
    "    if west != MPI.PROC_NULL :\n",
    "        r4 = comm.irecv(source=west, tag=1)\n",
    "        s4 = comm.isend(aold[1:bx+1, 1], dest=west, tag=1)\n",
    "    # wait\n",
    "    if north != MPI.PROC_NULL :\n",
    "        s1.wait()\n",
    "        aold[0, 1:bx+1] = r1.wait()\n",
    "    if south != MPI.PROC_NULL :\n",
    "        s2.wait()\n",
    "        aold[bx+1, 1:bx+1] = r2.wait()\n",
    "    if east != MPI.PROC_NULL :\n",
    "        s3.wait()\n",
    "        aold[1:bx+1, bx+1] = r3.wait()\n",
    "    if west != MPI.PROC_NULL :\n",
    "        s4.wait\n",
    "        aold[1:bx+1, 0] = r4.wait()\n",
    "\n",
    "    # update grid\n",
    "    kernel(anew, aold)\n",
    "\n",
    "    # refresh heat sources\n",
    "    anew[locsources[:locnsources, 0], locsources[:locnsources, 1]] += energy\n",
    "\n",
    "    # exchange data with neighbors\n",
    "    if north != MPI.PROC_NULL :\n",
    "        r1=comm.irecv(source=north, tag=1)\n",
    "        s1=comm.isend(anew[1, 1:bx+1], dest=north, tag=1)\n",
    "    if south != MPI.PROC_NULL :\n",
    "        r2=comm.irecv(source=south, tag=1)\n",
    "        s2=comm.isend(anew[bx, 1:bx+1], dest=south, tag=1)\n",
    "    if east != MPI.PROC_NULL :\n",
    "        r3 = comm.irecv(source=east, tag=1)\n",
    "        s3 = comm.isend(anew[1:bx+1, bx], dest=east, tag=1)\n",
    "    if west != MPI.PROC_NULL :\n",
    "        r4 = comm.irecv(source=west, tag=1)\n",
    "        s4 = comm.isend(anew[1:bx+1, 1], dest=west, tag=1)\n",
    "    # wait\n",
    "    if north != MPI.PROC_NULL :\n",
    "        s1.wait()\n",
    "        anew[0, 1:bx+1] = r1.wait()\n",
    "    if south != MPI.PROC_NULL :\n",
    "        s2.wait()\n",
    "        anew[bx+1, 1:bx+1] = r2.wait()\n",
    "    if east != MPI.PROC_NULL :\n",
    "        s3.wait()\n",
    "        anew[1:bx+1, bx+1] = r3.wait()\n",
    "    if west != MPI.PROC_NULL :\n",
    "        s4.wait\n",
    "        anew[1:bx+1, 0] = r4.wait()\n",
    "\n",
    "    # update grid\n",
    "    kernel(aold, anew)\n",
    "\n",
    "    # refresh heat sources\n",
    "    aold[locsources[:locnsources, 0], locsources[:locnsources, 1]] += energy \n",
    "\n",
    "# get final heat in the system\n",
    "bheat[0] = np.sum(aold[1:-1, 1:-1])\n",
    "comm.Reduce(bheat, rheat)\n",
    "\n",
    "if not mpirank :\n",
    "    t0 += time()\n",
    "    print(f\"Heat: {rheat[0]:.4f}\", end=\" | \")\n",
    "    print(f\"Time: {t0:.4f}\", end=\" | \")\n",
    "    print(f\"MPISize: {mpisize}\")"
   ]
  },
  {
   "cell_type": "markdown",
   "metadata": {},
   "source": [
    "## Executa em 1 e 2 processos MPI (1 e 2 CPUs)"
   ]
  },
  {
   "cell_type": "code",
   "execution_count": 2,
   "metadata": {
    "colab": {
     "base_uri": "https://localhost:8080/"
    },
    "executionInfo": {
     "elapsed": 8821,
     "status": "ok",
     "timestamp": 1632514055708,
     "user": {
      "displayName": "E Furlan",
      "photoUrl": "https://lh3.googleusercontent.com/a-/AOh14Ghzd7UO2EoPv4GHJ2AiwebDPC3evXCqxNZAD2FZ=s64",
      "userId": "04933934069991532991"
     },
     "user_tz": 180
    },
    "id": "1ATcE5aNW7h4",
    "outputId": "47f99200-ade1-4e01-875c-34d23b67fe31"
   },
   "outputs": [
    {
     "name": "stdout",
     "output_type": "stream",
     "text": [
      "Heat: 750.0000 | Time: 2.5821 | MPISize: 1\n"
     ]
    }
   ],
   "source": [
    "! mpiexec --allow-run-as-root -n 1 python numba_mpi.py"
   ]
  },
  {
   "cell_type": "code",
   "execution_count": 3,
   "metadata": {
    "colab": {
     "base_uri": "https://localhost:8080/"
    },
    "executionInfo": {
     "elapsed": 8821,
     "status": "ok",
     "timestamp": 1632514055708,
     "user": {
      "displayName": "E Furlan",
      "photoUrl": "https://lh3.googleusercontent.com/a-/AOh14Ghzd7UO2EoPv4GHJ2AiwebDPC3evXCqxNZAD2FZ=s64",
      "userId": "04933934069991532991"
     },
     "user_tz": 180
    },
    "id": "1ATcE5aNW7h4",
    "outputId": "47f99200-ade1-4e01-875c-34d23b67fe31"
   },
   "outputs": [
    {
     "name": "stdout",
     "output_type": "stream",
     "text": [
      "Heat: 750.0000 | Time: 2.5239 | MPISize: 1\n"
     ]
    }
   ],
   "source": [
    "! mpiexec --allow-run-as-root -n 1 python numba_mpi.py"
   ]
  },
  {
   "cell_type": "code",
   "execution_count": 4,
   "metadata": {
    "colab": {
     "base_uri": "https://localhost:8080/"
    },
    "executionInfo": {
     "elapsed": 8821,
     "status": "ok",
     "timestamp": 1632514055708,
     "user": {
      "displayName": "E Furlan",
      "photoUrl": "https://lh3.googleusercontent.com/a-/AOh14Ghzd7UO2EoPv4GHJ2AiwebDPC3evXCqxNZAD2FZ=s64",
      "userId": "04933934069991532991"
     },
     "user_tz": 180
    },
    "id": "1ATcE5aNW7h4",
    "outputId": "47f99200-ade1-4e01-875c-34d23b67fe31"
   },
   "outputs": [
    {
     "name": "stdout",
     "output_type": "stream",
     "text": [
      "Heat: 613.9639 | Time: 4.1628 | MPISize: 2\n"
     ]
    }
   ],
   "source": [
    "! mpiexec --allow-run-as-root -n 2 python numba_mpi.py"
   ]
  },
  {
   "cell_type": "code",
   "execution_count": null,
   "metadata": {},
   "outputs": [],
   "source": []
  }
 ],
 "metadata": {
  "colab": {
   "collapsed_sections": [],
   "name": "GC-numba-cpu-mpi.ipynb",
   "provenance": []
  },
  "kernelspec": {
   "display_name": "Python 3",
   "language": "python",
   "name": "python3"
  },
  "language_info": {
   "codemirror_mode": {
    "name": "ipython",
    "version": 3
   },
   "file_extension": ".py",
   "mimetype": "text/x-python",
   "name": "python",
   "nbconvert_exporter": "python",
   "pygments_lexer": "ipython3",
   "version": "3.7.14"
  }
 },
 "nbformat": 4,
 "nbformat_minor": 4
}
