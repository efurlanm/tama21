{
 "cells": [
  {
   "cell_type": "markdown",
   "id": "3_cZ7lp4XhS2",
   "metadata": {
    "id": "3_cZ7lp4XhS2"
   },
   "source": [
    "# Google Colab (GC) - Numba CPU *thread*"
   ]
  },
  {
   "cell_type": "code",
   "execution_count": 1,
   "id": "AmCx1x14AMKd",
   "metadata": {
    "colab": {
     "base_uri": "https://localhost:8080/"
    },
    "executionInfo": {
     "elapsed": 4642,
     "status": "ok",
     "timestamp": 1632512245751,
     "user": {
      "displayName": "E Furlan",
      "photoUrl": "https://lh3.googleusercontent.com/a-/AOh14Ghzd7UO2EoPv4GHJ2AiwebDPC3evXCqxNZAD2FZ=s64",
      "userId": "04933934069991532991"
     },
     "user_tz": 180
    },
    "id": "AmCx1x14AMKd",
    "outputId": "b193b752-9538-416a-888a-9d2a7a9ec317"
   },
   "outputs": [],
   "source": [
    "def nbheat(tr) :\n",
    "    import numpy as np\n",
    "    from numba import set_num_threads, get_num_threads, \\\n",
    "                      threading_layer, njit, config\n",
    "\n",
    "    n            = 2400\n",
    "    energy       = 1.0\n",
    "    niters       = 250\n",
    "    anew         = np.zeros((n + 2,  n + 2), np.float64)\n",
    "    aold         = np.zeros((n + 2,  n + 2), np.float64)\n",
    "    sources      = np.empty((3, 2), np.int16)\n",
    "    sources[:,:] = [ [n//2, n//2], [n//3, n//3], [n*4//5, n*8//9] ]\n",
    "\n",
    "    config.THREADING_LAYER = 'omp'    # OpenMP\n",
    "    set_num_threads(tr)               # seta a qtde. de threads\n",
    "\n",
    "# parte executada por Numba\n",
    "#----------------------------------------\n",
    "    @njit('(float64[:,:],float64[:,:])', parallel=True, \\\n",
    "            fastmath=True, nogil=True)\n",
    "    def kernel(anew, aold) :\n",
    "        anew[1:-1,1:-1] = (aold[1:-1,1:-1]/2.0\n",
    "                           +(aold[2:,1:-1]+aold[:-2,1:-1]\n",
    "                           +aold[1:-1,2:]+aold[1:-1,:-2])/8.0)\n",
    "#----------------------------------------\n",
    "\n",
    "    for _ in range(0, niters, 2) :\n",
    "        kernel(anew, aold)\n",
    "        anew[sources[:, 0], sources[:, 1]] += energy\n",
    "        kernel(aold, anew)\n",
    "        aold[sources[:, 0], sources[:, 1]] += energy\n",
    "\n",
    "    heat = np.sum(aold[1:-1, 1:-1])\n",
    "    \n",
    "    return heat, aold, threading_layer(), get_num_threads()"
   ]
  },
  {
   "cell_type": "markdown",
   "id": "9375d031-d1c9-4194-81fc-758136e3b126",
   "metadata": {},
   "source": [
    "Obs.: no GC apenas um núcleo físico e um virtual estão disponíveis."
   ]
  },
  {
   "cell_type": "markdown",
   "id": "02f9a0b9-0ae7-4fe7-a4f9-aafc4b80ac59",
   "metadata": {},
   "source": [
    "## 1 thread\n",
    "* na segunda vez que roda é mais rápido, pois Numba usa o que já está no cache"
   ]
  },
  {
   "cell_type": "code",
   "execution_count": 2,
   "id": "8b457088-665e-499a-a0bd-130577100150",
   "metadata": {},
   "outputs": [
    {
     "name": "stdout",
     "output_type": "stream",
     "text": [
      "Heat: 750.0000 | Threading layer: omp | Thread count: 1\n",
      "4.77 s ± 0 ns per loop (mean ± std. dev. of 1 run, 1 loop each)\n"
     ]
    }
   ],
   "source": [
    "%%timeit -n1 -r1\n",
    "heat, result, TL, NT = nbheat(1)\n",
    "print(f\"Heat: {heat:.4f}\", end=\" | \")\n",
    "print(f\"Threading layer: {TL}\", end=\" | \")\n",
    "print(f\"Thread count: {NT}\")"
   ]
  },
  {
   "cell_type": "code",
   "execution_count": 4,
   "id": "aece09ce-a46f-4fcf-beb0-7540db3124bc",
   "metadata": {},
   "outputs": [
    {
     "name": "stdout",
     "output_type": "stream",
     "text": [
      "Heat: 750.0000 | Threading layer: omp | Thread count: 1\n",
      "3.47 s ± 0 ns per loop (mean ± std. dev. of 1 run, 1 loop each)\n"
     ]
    }
   ],
   "source": [
    "%%timeit -n1 -r1\n",
    "heat, result, TL, NT = nbheat(1)\n",
    "print(f\"Heat: {heat:.4f}\", end=\" | \")\n",
    "print(f\"Threading layer: {TL}\", end=\" | \")\n",
    "print(f\"Thread count: {NT}\")"
   ]
  },
  {
   "cell_type": "markdown",
   "id": "914ddf56-6532-4933-8062-680e9d37f64a",
   "metadata": {},
   "source": [
    "## 2 trheads\n",
    "* usa um núcleo físico e um virtual (Intel hyperthreading)"
   ]
  },
  {
   "cell_type": "code",
   "execution_count": 3,
   "id": "4e954920-2d91-4919-a3f4-53706cc93970",
   "metadata": {},
   "outputs": [
    {
     "name": "stdout",
     "output_type": "stream",
     "text": [
      "Heat: 750.0000 | Threading layer: omp | Thread count: 2\n",
      "3.24 s ± 0 ns per loop (mean ± std. dev. of 1 run, 1 loop each)\n"
     ]
    }
   ],
   "source": [
    "%%timeit -n1 -r1\n",
    "heat, result, TL, NT = nbheat(2)\n",
    "print(f\"Heat: {heat:.4f}\", end=\" | \")\n",
    "print(f\"Threading layer: {TL}\", end=\" | \")\n",
    "print(f\"Thread count: {NT}\")"
   ]
  },
  {
   "cell_type": "code",
   "execution_count": null,
   "id": "f22ad5ba-52ac-4361-a58e-12325260e0e4",
   "metadata": {},
   "outputs": [],
   "source": []
  }
 ],
 "metadata": {
  "accelerator": "GPU",
  "colab": {
   "name": "GC-numba-cpu.ipynb",
   "provenance": []
  },
  "kernelspec": {
   "display_name": "Python 3",
   "language": "python",
   "name": "python3"
  },
  "language_info": {
   "codemirror_mode": {
    "name": "ipython",
    "version": 3
   },
   "file_extension": ".py",
   "mimetype": "text/x-python",
   "name": "python",
   "nbconvert_exporter": "python",
   "pygments_lexer": "ipython3",
   "version": "3.7.14"
  }
 },
 "nbformat": 4,
 "nbformat_minor": 5
}
