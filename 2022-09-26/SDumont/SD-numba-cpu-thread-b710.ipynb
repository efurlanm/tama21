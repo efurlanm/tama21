{
 "cells": [
  {
   "cell_type": "markdown",
   "metadata": {},
   "source": [
    "# Santos Dumont (SD) - Numba CPU threads B710"
   ]
  },
  {
   "cell_type": "markdown",
   "metadata": {
    "id": "Yt4rE08cAMKZ"
   },
   "source": [
    "Numba sequencial usando 1 thread, e paralelo usando vários threads"
   ]
  },
  {
   "cell_type": "code",
   "execution_count": 1,
   "metadata": {
    "colab": {
     "base_uri": "https://localhost:8080/"
    },
    "executionInfo": {
     "elapsed": 4642,
     "status": "ok",
     "timestamp": 1632512245751,
     "user": {
      "displayName": "E Furlan",
      "photoUrl": "https://lh3.googleusercontent.com/a-/AOh14Ghzd7UO2EoPv4GHJ2AiwebDPC3evXCqxNZAD2FZ=s64",
      "userId": "04933934069991532991"
     },
     "user_tz": 180
    },
    "id": "AmCx1x14AMKd",
    "outputId": "b193b752-9538-416a-888a-9d2a7a9ec317"
   },
   "outputs": [],
   "source": [
    "def nbheat(tr) :\n",
    "    import numpy as np\n",
    "    from numba import set_num_threads, get_num_threads, \\\n",
    "                      threading_layer, njit, config\n",
    "\n",
    "    n            = 2400\n",
    "    energy       = 1.0\n",
    "    niters       = 250\n",
    "    anew         = np.zeros((n + 2,  n + 2), np.float64)\n",
    "    aold         = np.zeros((n + 2,  n + 2), np.float64)\n",
    "    sources      = np.empty((3, 2), np.int16)\n",
    "    sources[:,:] = [ [n//2, n//2], [n//3, n//3], [n*4//5, n*8//9] ]\n",
    "\n",
    "    set_num_threads(tr)    # seta a qtde. de threads\n",
    "    \n",
    "# parte executada por Numba\n",
    "#----------------------------------------\n",
    "    @njit('(float64[:,:],float64[:,:])', parallel=True, \\\n",
    "            fastmath=True, nogil=True)\n",
    "    def kernel(anew, aold) :\n",
    "        anew[1:-1,1:-1] = (aold[1:-1,1:-1]/2.0\n",
    "                           +(aold[2:,1:-1]+aold[:-2,1:-1]\n",
    "                           +aold[1:-1,2:]+aold[1:-1,:-2])/8.0)\n",
    "#----------------------------------------\n",
    "\n",
    "    for _ in range(0, niters, 2) :\n",
    "        kernel(anew, aold)\n",
    "        anew[sources[:, 0], sources[:, 1]] += energy\n",
    "        kernel(aold, anew)\n",
    "        aold[sources[:, 0], sources[:, 1]] += energy\n",
    "\n",
    "    heat = np.sum(aold[1:-1, 1:-1])\n",
    "    \n",
    "    return heat, aold, threading_layer(), get_num_threads()"
   ]
  },
  {
   "cell_type": "markdown",
   "metadata": {},
   "source": [
    "1 thread (sequencial)"
   ]
  },
  {
   "cell_type": "markdown",
   "metadata": {},
   "source": [
    "# Execução no nó de login"
   ]
  },
  {
   "cell_type": "markdown",
   "metadata": {},
   "source": [
    "Obs.: nos nós de login o Intel Hyperthreading está ligado, então o total de CPUs é 22"
   ]
  },
  {
   "cell_type": "markdown",
   "metadata": {},
   "source": [
    "## 1 thread (sequencial)"
   ]
  },
  {
   "cell_type": "code",
   "execution_count": 2,
   "metadata": {},
   "outputs": [
    {
     "name": "stdout",
     "output_type": "stream",
     "text": [
      "Heat: 750.0000 | Threading layer: tbb | Thread count: 1\n",
      "17 s ± 0 ns per loop (mean ± std. dev. of 1 run, 1 loop each)\n"
     ]
    }
   ],
   "source": [
    "%%timeit -n1 -r1\n",
    "heat, result, TL, NT = nbheat(1)\n",
    "print(f\"Heat: {heat:.4f}\", end=\" | \")\n",
    "print(f\"Threading layer: {TL}\", end=\" | \")\n",
    "print(f\"Thread count: {NT}\")"
   ]
  },
  {
   "cell_type": "markdown",
   "metadata": {},
   "source": [
    "## 2 threads (paralelo)"
   ]
  },
  {
   "cell_type": "code",
   "execution_count": 3,
   "metadata": {},
   "outputs": [
    {
     "name": "stdout",
     "output_type": "stream",
     "text": [
      "Heat: 750.0000 | Threading layer: tbb | Thread count: 2\n",
      "3.05 s ± 0 ns per loop (mean ± std. dev. of 1 run, 1 loop each)\n"
     ]
    }
   ],
   "source": [
    "%%timeit -n1 -r1\n",
    "heat, result, TL, NT = nbheat(2)\n",
    "print(f\"Heat: {heat:.4f}\", end=\" | \")\n",
    "print(f\"Threading layer: {TL}\", end=\" | \")\n",
    "print(f\"Thread count: {NT}\")"
   ]
  },
  {
   "cell_type": "markdown",
   "metadata": {},
   "source": [
    "## 12 threads (paralelo)"
   ]
  },
  {
   "cell_type": "code",
   "execution_count": 4,
   "metadata": {},
   "outputs": [
    {
     "name": "stdout",
     "output_type": "stream",
     "text": [
      "Heat: 750.0000 | Threading layer: tbb | Thread count: 12\n",
      "1.68 s ± 0 ns per loop (mean ± std. dev. of 1 run, 1 loop each)\n"
     ]
    }
   ],
   "source": [
    "%%timeit -n1 -r1\n",
    "heat, result, TL, NT = nbheat(12)\n",
    "print(f\"Heat: {heat:.4f}\", end=\" | \")\n",
    "print(f\"Threading layer: {TL}\", end=\" | \")\n",
    "print(f\"Thread count: {NT}\")"
   ]
  },
  {
   "cell_type": "markdown",
   "metadata": {},
   "source": [
    "## 24 threads (paralelo)"
   ]
  },
  {
   "cell_type": "code",
   "execution_count": 5,
   "metadata": {},
   "outputs": [
    {
     "name": "stdout",
     "output_type": "stream",
     "text": [
      "Heat: 750.0000 | Threading layer: tbb | Thread count: 24\n",
      "1.71 s ± 0 ns per loop (mean ± std. dev. of 1 run, 1 loop each)\n"
     ]
    }
   ],
   "source": [
    "%%timeit -n1 -r1\n",
    "heat, result, TL, NT = nbheat(24)\n",
    "print(f\"Heat: {heat:.4f}\", end=\" | \")\n",
    "print(f\"Threading layer: {TL}\", end=\" | \")\n",
    "print(f\"Thread count: {NT}\")"
   ]
  },
  {
   "cell_type": "code",
   "execution_count": null,
   "metadata": {},
   "outputs": [],
   "source": []
  }
 ],
 "metadata": {
  "kernelspec": {
   "display_name": "Python 3",
   "language": "python",
   "name": "python3"
  },
  "language_info": {
   "codemirror_mode": {
    "name": "ipython",
    "version": 3
   },
   "file_extension": ".py",
   "mimetype": "text/x-python",
   "name": "python",
   "nbconvert_exporter": "python",
   "pygments_lexer": "ipython3",
   "version": "3.8.5"
  }
 },
 "nbformat": 4,
 "nbformat_minor": 5
}
