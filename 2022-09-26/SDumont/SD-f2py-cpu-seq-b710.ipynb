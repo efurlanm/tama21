{
 "cells": [
  {
   "cell_type": "markdown",
   "metadata": {},
   "source": [
    "# Santos Dumont (SD) - F2PY CPU sequencial B710"
   ]
  },
  {
   "cell_type": "code",
   "execution_count": 5,
   "metadata": {},
   "outputs": [
    {
     "name": "stdout",
     "output_type": "stream",
     "text": [
      "Writing f2py_seq.f90\n"
     ]
    }
   ],
   "source": [
    "%%writefile f2py_seq.f90\n",
    "subroutine st(n, energy, niters, heat, t)\n",
    "    integer, intent(in) :: n, energy, niters\n",
    "    double precision, intent(out) :: heat, t   \n",
    "    integer, parameter :: nsources=3\n",
    "    integer :: iters, i, j, x, y, sizeArray, sizeStart, sizeEnd\n",
    "    integer, dimension(3, 2) :: sources\n",
    "    double precision, allocatable :: aold(:,:), anew(:,:)\n",
    "    double precision :: t1=0.0, t2=0.0\n",
    "\n",
    "    call cpu_time(t1)\n",
    "\n",
    "    sizeArray = n + 2\n",
    "    sizeStart = 2\n",
    "    sizeEnd = n + 1\n",
    "\n",
    "    allocate(aold(sizeArray, sizeArray))\n",
    "    allocate(anew(sizeArray, sizeArray))\n",
    "    aold = 0.0\n",
    "    anew = 0.0\n",
    "    \n",
    "    sources(1,:) = (/ n/2,   n/2   /)\n",
    "    sources(2,:) = (/ n/3,   n/3   /)\n",
    "    sources(3,:) = (/ n*4/5, n*8/9 /)\n",
    "    \n",
    "    do iters = 1, niters, 2\n",
    "        do j = sizeStart, sizeEnd\n",
    "            do i = sizeStart, sizeEnd\n",
    "                anew(i,j) = aold(i,j)/2.0 + (aold(i-1,j) + aold(i+1,j) +  &\n",
    "                            aold(i,j-1) + aold(i,j+1)) / 4.0 / 2.0\n",
    "            enddo\n",
    "        enddo\n",
    "        do i = 1, nsources\n",
    "            x = sources(i,1) + 1\n",
    "            y = sources(i,2) + 1\n",
    "            anew(x,y) =  anew(x,y) + energy\n",
    "        enddo\n",
    "        do j = sizeStart, sizeEnd\n",
    "            do i = sizeStart, sizeEnd\n",
    "                aold(i,j) = anew(i,j)/2.0 + (anew(i-1,j) + anew(i+1,j) +  &\n",
    "                            anew(i,j-1) + anew(i,j+1)) / 4.0 / 2.0\n",
    "            enddo\n",
    "        enddo\n",
    "        do i = 1, nsources\n",
    "            x = sources(i,1) + 1\n",
    "            y = sources(i,2) + 1\n",
    "            aold(x,y) = aold(x,y) + energy\n",
    "        enddo\n",
    "    enddo\n",
    "    heat = 0.0\n",
    "    do j = sizeStart, sizeEnd\n",
    "        do i = sizeStart, sizeEnd\n",
    "            heat = heat + aold(i,j)\n",
    "        end do\n",
    "    end do\n",
    "    deallocate(aold)\n",
    "    deallocate(anew)\n",
    "    call cpu_time(t2)\n",
    "    t = t2 - t1\n",
    "end subroutine"
   ]
  },
  {
   "cell_type": "code",
   "execution_count": 6,
   "metadata": {},
   "outputs": [],
   "source": [
    "%%bash\n",
    "f2py  -c f2py_seq.f90  -m f2py_seq  --opt='-O3'  --quiet  \\\n",
    "      -DNPY_NO_DEPRECATED_API=NPY_1_7_API_VERSION"
   ]
  },
  {
   "cell_type": "code",
   "execution_count": 7,
   "metadata": {},
   "outputs": [
    {
     "name": "stdout",
     "output_type": "stream",
     "text": [
      "heat,t = st(n,energy,niters)\n",
      "\n",
      "Wrapper for ``st``.\n",
      "\n",
      "Parameters\n",
      "----------\n",
      "n : input int\n",
      "energy : input int\n",
      "niters : input int\n",
      "\n",
      "Returns\n",
      "-------\n",
      "heat : float\n",
      "t : float\n",
      "\n"
     ]
    }
   ],
   "source": [
    "from f2py_seq import st\n",
    "print(st.__doc__)"
   ]
  },
  {
   "cell_type": "code",
   "execution_count": 10,
   "metadata": {},
   "outputs": [
    {
     "name": "stdout",
     "output_type": "stream",
     "text": [
      "Overwriting f2py_seq.py\n"
     ]
    }
   ],
   "source": [
    "%%writefile f2py_seq.py\n",
    "from time import time\n",
    "from f2py_seq import st\n",
    "\n",
    "n       = 4800    # nxn grid; 4800,1,500→1500; 100,1,10→30; [4800]\n",
    "energy  = 1       # energy to be injected per iteration; [1]\n",
    "niters  = 500     # number of iterations; [500]\n",
    "t0      = -time()\n",
    "\n",
    "heat, t = st(n, energy, niters)\n",
    "\n",
    "t0 += time()\n",
    "print(\"Heat = %0.4f | Time = %0.4f | TimePyt = %0.4f\" %(heat, t, t0))"
   ]
  },
  {
   "cell_type": "code",
   "execution_count": null,
   "metadata": {},
   "outputs": [],
   "source": []
  },
  {
   "cell_type": "markdown",
   "metadata": {},
   "source": [
    "## Rodando em um nó de execução"
   ]
  },
  {
   "cell_type": "markdown",
   "metadata": {},
   "source": [
    "Copia o executável para /scratch"
   ]
  },
  {
   "cell_type": "code",
   "execution_count": 12,
   "metadata": {},
   "outputs": [
    {
     "name": "stdout",
     "output_type": "stream",
     "text": [
      "cp: aviso: o arquivo de origem “f2py_seq.py” foi especificado mais de uma vez\n"
     ]
    }
   ],
   "source": [
    "! cp f2py_seq* /scratch${PWD#/prj}"
   ]
  },
  {
   "cell_type": "markdown",
   "metadata": {},
   "source": [
    "Arquivo de lote de submissão"
   ]
  },
  {
   "cell_type": "code",
   "execution_count": 13,
   "metadata": {},
   "outputs": [
    {
     "name": "stdout",
     "output_type": "stream",
     "text": [
      "Writing f2py_seq.srm\n"
     ]
    }
   ],
   "source": [
    "%%writefile f2py_seq.srm\n",
    "#!/bin/bash\n",
    "#SBATCH --job-name f2py_seq    # Job name\n",
    "#SBATCH --partition cpu_dev    # Select partition\n",
    "#SBATCH --ntasks=1             # Total tasks\n",
    "#SBATCH --time=00:05:00        # Limit execution time\n",
    "#SBATCH --exclusive            # Exclusive acccess to nodes\n",
    "\n",
    "echo '========================================'\n",
    "echo '- Job ID:' $SLURM_JOB_ID\n",
    "echo '- Tasks per node:' $SLURM_NTASKS_PER_NODE\n",
    "echo '- # of nodes in the job:' $SLURM_JOB_NUM_NODES\n",
    "echo '- # of tasks:' $SLURM_NTASKS\n",
    "echo '- Dir from which sbatch was invoked:' ${SLURM_SUBMIT_DIR##*/}\n",
    "echo -n '- List of nodes allocated to the job: '\n",
    "nodeset -e $SLURM_JOB_NODELIST\n",
    "\n",
    "# Environment\n",
    "echo '-- modules ----------------------------'\n",
    "module load anaconda3\n",
    "cd /scratch${PWD#/prj}\n",
    "\n",
    "# Executable\n",
    "EXEC=\"python f2py_seq.py\"\n",
    "\n",
    "# Start\n",
    "echo '-- run --------------------------------'\n",
    "echo '$ srun -n' $SLURM_NTASKS ${EXEC##*/}\n",
    "echo '-- output -----------------------------'\n",
    "srun -n $SLURM_NTASKS $EXEC\n",
    "echo '~~ end ~~~~~~~~~~~~~~~~~~~~~~~~~~~~~~~~'"
   ]
  },
  {
   "cell_type": "code",
   "execution_count": 14,
   "metadata": {},
   "outputs": [
    {
     "name": "stdout",
     "output_type": "stream",
     "text": [
      "Submitted batch job 10646958\n"
     ]
    }
   ],
   "source": [
    "! sbatch  --ntasks=1  f2py_seq.srm"
   ]
  },
  {
   "cell_type": "code",
   "execution_count": 15,
   "metadata": {},
   "outputs": [
    {
     "name": "stdout",
     "output_type": "stream",
     "text": [
      "         START_TIME    JOBID   PARTITION  NAME  ST  TIME NODES CPUS\n",
      "                N/A  1064695     cpu_dev f2py_  PD  0:00     1    1\n"
     ]
    }
   ],
   "source": [
    "! squeue  --name f2py_seq --format \"%.19S  %.7i  %.10P %.5j  %.2t %.5M %.5D %.4C\""
   ]
  },
  {
   "cell_type": "code",
   "execution_count": 19,
   "metadata": {},
   "outputs": [
    {
     "name": "stdout",
     "output_type": "stream",
     "text": [
      "         START_TIME    JOBID   PARTITION  NAME  ST  TIME NODES CPUS\n"
     ]
    }
   ],
   "source": [
    "! squeue  --name f2py_seq  --format \"%.19S  %.7i  %.10P %.5j  %.2t %.5M %.5D %.4C\""
   ]
  },
  {
   "cell_type": "code",
   "execution_count": 21,
   "metadata": {},
   "outputs": [
    {
     "name": "stdout",
     "output_type": "stream",
     "text": [
      "========================================\n",
      "- Job ID: 10646958\n",
      "- Tasks per node:\n",
      "- # of nodes in the job: 1\n",
      "- # of tasks: 1\n",
      "- Dir from which sbatch was invoked: tama\n",
      "- List of nodes allocated to the job: sdumont1139\n",
      "-- modules ----------------------------\n",
      "-- run --------------------------------\n",
      "$ srun -n 1 python f2py_seq.py\n",
      "-- output -----------------------------\n",
      "Heat = 1500.0000 | Time = 17.4496 | TimePyt = 17.4514\n",
      "~~ end ~~~~~~~~~~~~~~~~~~~~~~~~~~~~~~~~\n"
     ]
    }
   ],
   "source": [
    "! head -20 /scratch${PWD#/prj}/slurm-10646958.out"
   ]
  },
  {
   "cell_type": "code",
   "execution_count": null,
   "metadata": {},
   "outputs": [],
   "source": []
  }
 ],
 "metadata": {
  "kernelspec": {
   "display_name": "Python 3",
   "language": "python",
   "name": "python3"
  },
  "language_info": {
   "codemirror_mode": {
    "name": "ipython",
    "version": 3
   },
   "file_extension": ".py",
   "mimetype": "text/x-python",
   "name": "python",
   "nbconvert_exporter": "python",
   "pygments_lexer": "ipython3",
   "version": "3.8.5"
  }
 },
 "nbformat": 4,
 "nbformat_minor": 4
}
