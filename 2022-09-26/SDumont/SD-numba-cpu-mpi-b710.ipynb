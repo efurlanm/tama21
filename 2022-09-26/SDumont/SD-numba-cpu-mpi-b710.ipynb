{
 "cells": [
  {
   "cell_type": "markdown",
   "metadata": {},
   "source": [
    "# Santos Dumont (SD) - Numba CPU MPI B710"
   ]
  },
  {
   "cell_type": "code",
   "execution_count": 6,
   "metadata": {},
   "outputs": [
    {
     "name": "stdout",
     "output_type": "stream",
     "text": [
      "Overwriting numbampib710.py\n"
     ]
    }
   ],
   "source": [
    "%%writefile numbampib710.py\n",
    "import numpy as np\n",
    "from time import time\n",
    "from numba import njit, set_num_threads, get_num_threads\n",
    "from mpi4py import MPI   \n",
    "\n",
    "# computationally intensive core\n",
    "@njit('(float64[:,:],float64[:,:])', parallel=True, fastmath=True, nogil=True)\n",
    "def kernel(anew, aold) :\n",
    "    anew[1:-1,1:-1] = (aold[1:-1,1:-1]/2.0\n",
    "        +(aold[2:,1:-1]+aold[:-2,1:-1]+aold[1:-1,2:]+aold[1:-1,:-2])/8.0)\n",
    "\n",
    "# parameters\n",
    "n            = 2400    # n x n grid\n",
    "energy       = 1.0     # energy to be injected per iteration\n",
    "niters       = 250     # number of iterations\n",
    "# initialize three heat sources\n",
    "nsources     = 3    # sources of energy\n",
    "sources      = np.zeros((nsources, 2), np.int16)\n",
    "sources[:,:] = [ [n//2, n//2], [n//3, n//3], [n*4//5, n*8//9] ]\n",
    "\n",
    "# main routine\n",
    "comm    = MPI.COMM_WORLD\n",
    "mpisize = comm.size\n",
    "mpirank = comm.rank\n",
    "if not mpirank : t0 = -time()\n",
    "\n",
    "# determine my coordinates (x,y)\n",
    "pdims = MPI.Compute_dims(mpisize, 2)\n",
    "px    = pdims[0]\n",
    "py    = pdims[1]\n",
    "rx    = mpirank % px\n",
    "ry    = mpirank // px\n",
    "\n",
    "# determine my four neighbors\n",
    "north = (ry - 1) * px + rx\n",
    "if (ry - 1) < 0 :\n",
    "    north = MPI.PROC_NULL\n",
    "south = (ry + 1) * px + rx\n",
    "if (ry + 1) >= py :\n",
    "    south = MPI.PROC_NULL\n",
    "west = ry * px + rx - 1\n",
    "if (rx - 1) < 0 :\n",
    "    west = MPI.PROC_NULL\n",
    "east = ry * px + rx + 1\n",
    "if (rx + 1) >= px :\n",
    "    east = MPI.PROC_NULL\n",
    "\n",
    "# decompose the domain\n",
    "bx   = n // px          # block size in x\n",
    "by   = n // py          # block size in y\n",
    "offx = rx * bx + 1      # offset in x\n",
    "offy = ry * by + 1      # offset in y\n",
    "\n",
    "# sources in my area, local to my rank\n",
    "locnsources = 0\n",
    "locsources  = np.empty((nsources, 2), np.int16)\n",
    "\n",
    "# determine which sources are in my patch\n",
    "for i in range(nsources) :\n",
    "    locx = sources[i, 0] - offx\n",
    "    locy = sources[i, 1] - offy\n",
    "    if(locx >= 0 and locx <= bx and locy >= 0 and locy <= by) :\n",
    "        locsources[locnsources, 0] = locx\n",
    "        locsources[locnsources, 1] = locy\n",
    "        locnsources += 1\n",
    "\n",
    "# working arrays with 1-wide halo zones\n",
    "anew = np.zeros((bx+2, by+2), np.float64)\n",
    "aold = np.zeros((bx+2, by+2), np.float64)\n",
    "\n",
    "# system total heat\n",
    "rheat = np.zeros(1, np.float64)\n",
    "bheat = np.zeros(1, np.float64)\n",
    "\n",
    "for _ in range(0, niters, 2) :\n",
    "    # exchange data with neighbors\n",
    "    if north != MPI.PROC_NULL :\n",
    "        r1=comm.irecv(source=north, tag=1)\n",
    "        s1=comm.isend(aold[1, 1:bx+1], dest=north, tag=1)\n",
    "    if south != MPI.PROC_NULL :\n",
    "        r2=comm.irecv(source=south, tag=1)\n",
    "        s2=comm.isend(aold[bx, 1:bx+1], dest=south, tag=1)\n",
    "    if east != MPI.PROC_NULL :\n",
    "        r3 = comm.irecv(source=east, tag=1)\n",
    "        s3 = comm.isend(aold[1:bx+1, bx], dest=east, tag=1)\n",
    "    if west != MPI.PROC_NULL :\n",
    "        r4 = comm.irecv(source=west, tag=1)\n",
    "        s4 = comm.isend(aold[1:bx+1, 1], dest=west, tag=1)\n",
    "    # wait\n",
    "    if north != MPI.PROC_NULL :\n",
    "        s1.wait()\n",
    "        aold[0, 1:bx+1] = r1.wait()\n",
    "    if south != MPI.PROC_NULL :\n",
    "        s2.wait()\n",
    "        aold[bx+1, 1:bx+1] = r2.wait()\n",
    "    if east != MPI.PROC_NULL :\n",
    "        s3.wait()\n",
    "        aold[1:bx+1, bx+1] = r3.wait()\n",
    "    if west != MPI.PROC_NULL :\n",
    "        s4.wait\n",
    "        aold[1:bx+1, 0] = r4.wait()\n",
    "\n",
    "    # update grid\n",
    "    kernel(anew, aold)\n",
    "\n",
    "    # refresh heat sources\n",
    "    anew[locsources[:locnsources, 0], locsources[:locnsources, 1]] += energy\n",
    "\n",
    "    # exchange data with neighbors\n",
    "    if north != MPI.PROC_NULL :\n",
    "        r1=comm.irecv(source=north, tag=1)\n",
    "        s1=comm.isend(anew[1, 1:bx+1], dest=north, tag=1)\n",
    "    if south != MPI.PROC_NULL :\n",
    "        r2=comm.irecv(source=south, tag=1)\n",
    "        s2=comm.isend(anew[bx, 1:bx+1], dest=south, tag=1)\n",
    "    if east != MPI.PROC_NULL :\n",
    "        r3 = comm.irecv(source=east, tag=1)\n",
    "        s3 = comm.isend(anew[1:bx+1, bx], dest=east, tag=1)\n",
    "    if west != MPI.PROC_NULL :\n",
    "        r4 = comm.irecv(source=west, tag=1)\n",
    "        s4 = comm.isend(anew[1:bx+1, 1], dest=west, tag=1)\n",
    "    # wait\n",
    "    if north != MPI.PROC_NULL :\n",
    "        s1.wait()\n",
    "        anew[0, 1:bx+1] = r1.wait()\n",
    "    if south != MPI.PROC_NULL :\n",
    "        s2.wait()\n",
    "        anew[bx+1, 1:bx+1] = r2.wait()\n",
    "    if east != MPI.PROC_NULL :\n",
    "        s3.wait()\n",
    "        anew[1:bx+1, bx+1] = r3.wait()\n",
    "    if west != MPI.PROC_NULL :\n",
    "        s4.wait\n",
    "        anew[1:bx+1, 0] = r4.wait()\n",
    "\n",
    "    # update grid\n",
    "    kernel(aold, anew)\n",
    "\n",
    "    # refresh heat sources\n",
    "    aold[locsources[:locnsources, 0], locsources[:locnsources, 1]] += energy \n",
    "\n",
    "# get final heat in the system\n",
    "bheat[0] = np.sum(aold[1:-1, 1:-1])\n",
    "comm.Reduce(bheat, rheat)\n",
    "\n",
    "if not mpirank :\n",
    "    t0 += time()\n",
    "    print(f\"Heat: {rheat[0]:.4f}\", end=\" | \")\n",
    "    print(f\"Time: {t0:.4f}\", end=\" | \")\n",
    "    print(f\"MPISize: {mpisize}\")"
   ]
  },
  {
   "cell_type": "markdown",
   "metadata": {},
   "source": [
    "### Testa a execução"
   ]
  },
  {
   "cell_type": "markdown",
   "metadata": {},
   "source": [
    "Testa com 1 processo (sequencial):"
   ]
  },
  {
   "cell_type": "code",
   "execution_count": 7,
   "metadata": {},
   "outputs": [
    {
     "name": "stdout",
     "output_type": "stream",
     "text": [
      "Heat: 750.0000 | Time: 0.6924 | MPISize: 1\n"
     ]
    }
   ],
   "source": [
    "! mpiexec -n 1 python numbampib710.py"
   ]
  },
  {
   "cell_type": "markdown",
   "metadata": {},
   "source": [
    "Testa com 16 processos:"
   ]
  },
  {
   "cell_type": "code",
   "execution_count": 8,
   "metadata": {},
   "outputs": [
    {
     "name": "stdout",
     "output_type": "stream",
     "text": [
      "Heat: 750.0000 | Time: 0.7858 | MPISize: 16\n"
     ]
    }
   ],
   "source": [
    "! mpiexec -n 16 python numbampib710.py"
   ]
  },
  {
   "cell_type": "markdown",
   "metadata": {},
   "source": [
    "### Copia arquivo com código python para /scratch"
   ]
  },
  {
   "cell_type": "code",
   "execution_count": 9,
   "metadata": {},
   "outputs": [],
   "source": [
    "! cp  numbampib710.py  /scratch${PWD#/prj}"
   ]
  },
  {
   "cell_type": "markdown",
   "metadata": {},
   "source": [
    "### Arquivo de lote do Slurm"
   ]
  },
  {
   "cell_type": "code",
   "execution_count": 18,
   "metadata": {},
   "outputs": [
    {
     "name": "stdout",
     "output_type": "stream",
     "text": [
      "Overwriting numbampi.srm\n"
     ]
    }
   ],
   "source": [
    "%%writefile numbampi.srm\n",
    "#!/bin/bash\n",
    "#SBATCH --ntasks=96            # Total de tarefas\n",
    "#SBATCH --job-name numbampi    # Nome do job, 8 caracteres\n",
    "#SBATCH --partition cpu_dev    # Fila (partition) a ser utilizada\n",
    "#SBATCH --time=00:05:00        # Tempo max. de execucao\n",
    "#SBATCH --exclusive            # Utilização exclusiva dos nos\n",
    "\n",
    "# Mostra a configuracaoo\n",
    "echo '- Job ID:' $SLURM_JOB_ID\n",
    "echo '- Qtd. de nos:' $SLURM_JOB_NUM_NODES\n",
    "echo '- Tot. de tarefas:' $SLURM_NTASKS\n",
    "echo '- Nos alocados:' $SLURM_JOB_NODELIST\n",
    "\n",
    "# Entra no diretorio de trabalho\n",
    "cd\n",
    "BASE=/scratch${PWD#/prj}\n",
    "cd $BASE/tama\n",
    "\n",
    "# Carrega modulos\n",
    "module load anaconda3\n",
    "source $(conda info --base)/etc/profile.d/conda.sh\n",
    "export PYTHONNOUSERSITE=1  # include pip user packages\n",
    "conda activate base\n",
    "conda activate $BASE/env2  # clone of anaconda3, plus mpi4py\n",
    "\n",
    "# Executavel\n",
    "EXEC='python numbampib710.py'\n",
    "\n",
    "# Dispara a execucao\n",
    "srun  --mpi=pmi2  -n $SLURM_NTASKS  $EXEC"
   ]
  },
  {
   "cell_type": "markdown",
   "metadata": {},
   "source": [
    "## Envia para a fila de execução dev"
   ]
  },
  {
   "cell_type": "code",
   "execution_count": 19,
   "metadata": {},
   "outputs": [
    {
     "name": "stdout",
     "output_type": "stream",
     "text": [
      "Submitted batch job 10647986\n",
      "1\n",
      "1\n",
      "START_TIME             JOBID PARTITION  NAME ST  TIME NODES CPUS\n"
     ]
    }
   ],
   "source": [
    "%%bash\n",
    "sbatch numbampi.srm\n",
    "squeue --user $(whoami) -h -r | wc -l\n",
    "squeue --partition=cpu_dev -h -r | wc -l\n",
    "squeue --name=numbampi --format \"%19S %.10i %.9P %.5j %.2t %.5M %.5D %.4C\""
   ]
  },
  {
   "cell_type": "markdown",
   "metadata": {},
   "source": [
    "Verifica se já executou:"
   ]
  },
  {
   "cell_type": "code",
   "execution_count": 22,
   "metadata": {},
   "outputs": [
    {
     "name": "stdout",
     "output_type": "stream",
     "text": [
      "START_TIME               JOBID PARTITION  NAME ST  TIME NODES CPUS\n",
      "2022-09-22T15:55:03   10647986   cpu_dev numba  R  0:31     4   96\n"
     ]
    }
   ],
   "source": [
    "! squeue --name=numbampi --format \"%19S %.10i %.9P %.5j %.2t %.5M %.5D %.4C\""
   ]
  },
  {
   "cell_type": "code",
   "execution_count": 25,
   "metadata": {},
   "outputs": [
    {
     "name": "stdout",
     "output_type": "stream",
     "text": [
      "START_TIME               JOBID PARTITION  NAME ST  TIME NODES CPUS\n"
     ]
    }
   ],
   "source": [
    "! squeue --name=numbampi --format \"%19S %.10i %.9P %.5j %.2t %.5M %.5D %.4C\""
   ]
  },
  {
   "cell_type": "markdown",
   "metadata": {},
   "source": [
    "Mostra o arquivo contendo a saída:"
   ]
  },
  {
   "cell_type": "code",
   "execution_count": 26,
   "metadata": {},
   "outputs": [
    {
     "name": "stdout",
     "output_type": "stream",
     "text": [
      "- Job ID: 10647986\n",
      "- Qtd. de nos: 4\n",
      "- Tot. de tarefas: 96\n",
      "- Nos alocados: sdumont[1339-1342]\n",
      "Heat: 602.6262 | Time: 1.5255 | MPISize: 96\n"
     ]
    }
   ],
   "source": [
    "! cat /scratch${PWD#/prj}/slurm-10647986.out"
   ]
  },
  {
   "cell_type": "code",
   "execution_count": null,
   "metadata": {},
   "outputs": [],
   "source": []
  }
 ],
 "metadata": {
  "kernelspec": {
   "display_name": "Python 3",
   "language": "python",
   "name": "python3"
  },
  "language_info": {
   "codemirror_mode": {
    "name": "ipython",
    "version": 3
   },
   "file_extension": ".py",
   "mimetype": "text/x-python",
   "name": "python",
   "nbconvert_exporter": "python",
   "pygments_lexer": "ipython3",
   "version": "3.8.5"
  }
 },
 "nbformat": 4,
 "nbformat_minor": 4
}
