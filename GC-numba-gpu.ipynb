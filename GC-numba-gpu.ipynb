{
 "cells": [
  {
   "cell_type": "markdown",
   "metadata": {
    "id": "wniawHP7h34E"
   },
   "source": [
    "# GC Numba GPU"
   ]
  },
  {
   "cell_type": "markdown",
   "metadata": {},
   "source": [
    "Verifica se a GPU está configurada e ativa no GC:"
   ]
  },
  {
   "cell_type": "code",
   "execution_count": 1,
   "metadata": {
    "colab": {
     "base_uri": "https://localhost:8080/"
    },
    "executionInfo": {
     "elapsed": 2319,
     "status": "ok",
     "timestamp": 1632515962100,
     "user": {
      "displayName": "E Furlan",
      "photoUrl": "https://lh3.googleusercontent.com/a-/AOh14Ghzd7UO2EoPv4GHJ2AiwebDPC3evXCqxNZAD2FZ=s64",
      "userId": "04933934069991532991"
     },
     "user_tz": 180
    },
    "id": "_0I8DaGGh34J",
    "outputId": "1e1dbe7a-af8c-41f3-873e-ff60830a4825"
   },
   "outputs": [
    {
     "name": "stdout",
     "output_type": "stream",
     "text": [
      "<Managed Device 0>\n"
     ]
    }
   ],
   "source": [
    "from numba import cuda\n",
    "print(cuda.gpus)"
   ]
  },
  {
   "cell_type": "code",
   "execution_count": 2,
   "metadata": {
    "colab": {
     "base_uri": "https://localhost:8080/"
    },
    "executionInfo": {
     "elapsed": 222,
     "status": "ok",
     "timestamp": 1632527588661,
     "user": {
      "displayName": "E Furlan",
      "photoUrl": "https://lh3.googleusercontent.com/a-/AOh14Ghzd7UO2EoPv4GHJ2AiwebDPC3evXCqxNZAD2FZ=s64",
      "userId": "04933934069991532991"
     },
     "user_tz": 180
    },
    "id": "FisGDvbyOQ08",
    "outputId": "18348a80-333c-467b-afbe-ae2fa8dff470"
   },
   "outputs": [
    {
     "name": "stdout",
     "output_type": "stream",
     "text": [
      "GPU 0: Tesla K80 (UUID: GPU-6bf4df99-a9a9-4944-bf53-cd33daea33bf)\n"
     ]
    }
   ],
   "source": [
    "! nvidia-smi -L"
   ]
  },
  {
   "cell_type": "code",
   "execution_count": 3,
   "metadata": {
    "colab": {
     "base_uri": "https://localhost:8080/"
    },
    "executionInfo": {
     "elapsed": 486,
     "status": "ok",
     "timestamp": 1632515979346,
     "user": {
      "displayName": "E Furlan",
      "photoUrl": "https://lh3.googleusercontent.com/a-/AOh14Ghzd7UO2EoPv4GHJ2AiwebDPC3evXCqxNZAD2FZ=s64",
      "userId": "04933934069991532991"
     },
     "user_tz": 180
    },
    "id": "D0n7rZs0h34N",
    "outputId": "ece18313-a69b-4a64-d20c-50331924b284"
   },
   "outputs": [
    {
     "name": "stdout",
     "output_type": "stream",
     "text": [
      "Sat Sep 25 15:10:57 2021       \n",
      "+-----------------------------------------------------------------------------+\n",
      "| NVIDIA-SMI 470.63.01    Driver Version: 460.32.03    CUDA Version: 11.2     |\n",
      "|-------------------------------+----------------------+----------------------+\n",
      "| GPU  Name        Persistence-M| Bus-Id        Disp.A | Volatile Uncorr. ECC |\n",
      "| Fan  Temp  Perf  Pwr:Usage/Cap|         Memory-Usage | GPU-Util  Compute M. |\n",
      "|                               |                      |               MIG M. |\n",
      "|===============================+======================+======================|\n",
      "|   0  Tesla K80           Off  | 00000000:00:04.0 Off |                    0 |\n",
      "| N/A   73C    P8    35W / 149W |      3MiB / 11441MiB |      0%      Default |\n",
      "|                               |                      |                  N/A |\n",
      "+-------------------------------+----------------------+----------------------+\n",
      "                                                                               \n",
      "+-----------------------------------------------------------------------------+\n",
      "| Processes:                                                                  |\n",
      "|  GPU   GI   CI        PID   Type   Process name                  GPU Memory |\n",
      "|        ID   ID                                                   Usage      |\n",
      "|=============================================================================|\n",
      "|  No running processes found                                                 |\n",
      "+-----------------------------------------------------------------------------+\n"
     ]
    }
   ],
   "source": [
    "! nvidia-smi"
   ]
  },
  {
   "cell_type": "code",
   "execution_count": 4,
   "metadata": {
    "colab": {
     "base_uri": "https://localhost:8080/"
    },
    "executionInfo": {
     "elapsed": 2460,
     "status": "ok",
     "timestamp": 1632515999169,
     "user": {
      "displayName": "E Furlan",
      "photoUrl": "https://lh3.googleusercontent.com/a-/AOh14Ghzd7UO2EoPv4GHJ2AiwebDPC3evXCqxNZAD2FZ=s64",
      "userId": "04933934069991532991"
     },
     "user_tz": 180
    },
    "id": "3-JbWmKch34N",
    "outputId": "9223ea1d-fa76-47ce-8e5f-a800402d6c96"
   },
   "outputs": [
    {
     "name": "stdout",
     "output_type": "stream",
     "text": [
      "Heat: 750.0000 | Time: 1.8965 | Kernel: 0.9941 | Memory: 0.8939\n"
     ]
    }
   ],
   "source": [
    "import numpy as np, math\n",
    "from time import time\n",
    "from numba import cuda\n",
    "\n",
    "# parameters\n",
    "n            = 2400    # nxn grid\n",
    "energy       = 1       # energy to be injected per iteration\n",
    "niters       = 250     # number of iterations\n",
    "# initialize the data arrays\n",
    "anew         = np.zeros((n + 2, n + 2), np.float64)\n",
    "aold         = np.zeros((n + 2, n + 2), np.float64)\n",
    "# initialize three heat sources\n",
    "sources      = np.empty((3, 2), np.int16)\n",
    "sources[:,:] = [ [n//2, n//2], [n//3, n//3], [n*4//5, n*8//9] ]\n",
    "\n",
    "# configure blocks & grids\n",
    "## set the number of threads in a block\n",
    "threads_per_block = (8, 8)\n",
    "## calculate the number of thread blocks in the grid\n",
    "blocks_per_grid_x = math.ceil(aold.shape[0] / threads_per_block[0])\n",
    "blocks_per_grid_y = math.ceil(aold.shape[1] / threads_per_block[1])\n",
    "blocks_per_grid   = (blocks_per_grid_x, blocks_per_grid_y)\n",
    "\n",
    "# computationally intensive core\n",
    "@cuda.jit\n",
    "def kernel(a1, a2) :\n",
    "    n = a1.shape[0] - 1\n",
    "    i, j = cuda.grid(2)\n",
    "    if (i > 0 and j > 0) and (i < n and j < n) :\n",
    "        a1[i,j] = (a2[i,j]/2.0\n",
    "                   +(a2[i-1,j]+a2[i+1,j]+a2[i,j-1]+a2[i,j+1])/8.0)\n",
    "\n",
    "# insert heat\n",
    "@cuda.jit\n",
    "def insert_heat(a, sources, energy) :\n",
    "    n = a.shape[0] - 1\n",
    "    i, j = cuda.grid(2)\n",
    "    if ( (sources[0, 0] == i and sources[0, 1] == j) or\n",
    "         (sources[1, 0] == i and sources[1, 1] == j) or\n",
    "         (sources[2, 0] == i and sources[2, 1] == j) ) :\n",
    "        a[i, j] += energy\n",
    "\n",
    "# main routine\n",
    "t0 = -time()    # time measure\n",
    "t1 = 0\n",
    "t2 = 0\n",
    "\n",
    "t_ = time()\n",
    "# copy the arrays to the device\n",
    "anew_global_mem    = cuda.to_device(anew)\n",
    "aold_global_mem    = cuda.to_device(aold)\n",
    "sources_global_mem = cuda.to_device(sources)\n",
    "t2 += time() - t_\n",
    "\n",
    "for _ in range(0, niters, 2) :\n",
    "    t_ = time()\n",
    "    kernel[blocks_per_grid, threads_per_block](\n",
    "        anew_global_mem, aold_global_mem)\n",
    "    insert_heat[blocks_per_grid, threads_per_block](\n",
    "        anew_global_mem, sources_global_mem, energy)    \n",
    "    kernel[blocks_per_grid, threads_per_block](\n",
    "        aold_global_mem, anew_global_mem)\n",
    "    insert_heat[blocks_per_grid, threads_per_block](\n",
    "        aold_global_mem, sources_global_mem, energy)\n",
    "    t1 += time() - t_\n",
    "\n",
    "t_ = time()\n",
    "# copy the result back to the host\n",
    "aold = aold_global_mem.copy_to_host()\n",
    "t2 += time() - t_\n",
    "\n",
    "# system total heat\n",
    "heat = np.sum(aold[1:-1, 1:-1])\n",
    "\n",
    "t0 += time()\n",
    "\n",
    "# show the result\n",
    "print(f\"Heat: {heat:.4f}\", end=\" | \")\n",
    "print(f\"Time: {t0:.4f}\", end=\" | \")\n",
    "print(f\"Kernel: {t1:.4f}\", end=\" | \")\n",
    "print(f\"Memory: {t2:.4f}\")"
   ]
  },
  {
   "cell_type": "code",
   "execution_count": 5,
   "metadata": {},
   "outputs": [
    {
     "data": {
      "text/plain": [
       "<matplotlib.image.AxesImage at 0x7f2a26a6c090>"
      ]
     },
     "execution_count": 5,
     "metadata": {},
     "output_type": "execute_result"
    },
    {
     "data": {
      "image/png": "[encoded data removed]",
      "text/plain": [
       "<Figure size 576x576 with 1 Axes>"
      ]
     },
     "metadata": {
      "needs_background": "light"
     },
     "output_type": "display_data"
    }
   ],
   "source": [
    "%matplotlib inline\n",
    "import matplotlib.pyplot as plt\n",
    "plt.figure(figsize=(8,8))\n",
    "plt.imshow(aold, cmap='jet')"
   ]
  },
  {
   "cell_type": "markdown",
   "metadata": {},
   "source": [
    "---"
   ]
  },
  {
   "cell_type": "markdown",
   "metadata": {},
   "source": [
    "# Grade 8 x 8 para visualizar o resultado final"
   ]
  },
  {
   "cell_type": "code",
   "execution_count": 6,
   "metadata": {
    "colab": {
     "base_uri": "https://localhost:8080/"
    },
    "executionInfo": {
     "elapsed": 2460,
     "status": "ok",
     "timestamp": 1632515999169,
     "user": {
      "displayName": "E Furlan",
      "photoUrl": "https://lh3.googleusercontent.com/a-/AOh14Ghzd7UO2EoPv4GHJ2AiwebDPC3evXCqxNZAD2FZ=s64",
      "userId": "04933934069991532991"
     },
     "user_tz": 180
    },
    "id": "3-JbWmKch34N",
    "outputId": "9223ea1d-fa76-47ce-8e5f-a800402d6c96"
   },
   "outputs": [
    {
     "name": "stdout",
     "output_type": "stream",
     "text": [
      "Heat: 102.6641 | Time: 0.5495 | Kernel: 0.5432 | Memory: 0.0058\n"
     ]
    }
   ],
   "source": [
    "import numpy as np, math\n",
    "from time import time\n",
    "from numba import cuda\n",
    "\n",
    "# parameters\n",
    "n            = 8    # nxn grid\n",
    "energy       = 1       # energy to be injected per iteration\n",
    "niters       = 250     # number of iterations\n",
    "# initialize the data arrays\n",
    "anew         = np.zeros((n + 2, n + 2), np.float64)\n",
    "aold         = np.zeros((n + 2, n + 2), np.float64)\n",
    "# initialize three heat sources\n",
    "sources      = np.empty((3, 2), np.int16)\n",
    "sources[:,:] = [ [n//2, n//2], [n//3, n//3], [n*4//5, n*8//9] ]\n",
    "\n",
    "# configure blocks & grids\n",
    "## set the number of threads in a block\n",
    "threads_per_block = (8, 8)\n",
    "## calculate the number of thread blocks in the grid\n",
    "blocks_per_grid_x = math.ceil(aold.shape[0] / threads_per_block[0])\n",
    "blocks_per_grid_y = math.ceil(aold.shape[1] / threads_per_block[1])\n",
    "blocks_per_grid   = (blocks_per_grid_x, blocks_per_grid_y)\n",
    "\n",
    "# computationally intensive core\n",
    "@cuda.jit\n",
    "def kernel(a1, a2) :\n",
    "    n = a1.shape[0] - 1\n",
    "    i, j = cuda.grid(2)\n",
    "    if (i > 0 and j > 0) and (i < n and j < n) :\n",
    "        a1[i,j] = (a2[i,j]/2.0\n",
    "                   +(a2[i-1,j]+a2[i+1,j]+a2[i,j-1]+a2[i,j+1])/8.0)\n",
    "\n",
    "# insert heat\n",
    "@cuda.jit\n",
    "def insert_heat(a, sources, energy) :\n",
    "    n = a.shape[0] - 1\n",
    "    i, j = cuda.grid(2)\n",
    "    if ( (sources[0, 0] == i and sources[0, 1] == j) or\n",
    "         (sources[1, 0] == i and sources[1, 1] == j) or\n",
    "         (sources[2, 0] == i and sources[2, 1] == j) ) :\n",
    "        a[i, j] += energy\n",
    "\n",
    "# main routine\n",
    "t0 = -time()    # time measure\n",
    "t1 = 0\n",
    "t2 = 0\n",
    "\n",
    "t_ = time()\n",
    "# copy the arrays to the device\n",
    "anew_global_mem    = cuda.to_device(anew)\n",
    "aold_global_mem    = cuda.to_device(aold)\n",
    "sources_global_mem = cuda.to_device(sources)\n",
    "t2 += time() - t_\n",
    "\n",
    "for _ in range(0, niters, 2) :\n",
    "    t_ = time()\n",
    "    kernel[blocks_per_grid, threads_per_block](\n",
    "        anew_global_mem, aold_global_mem)\n",
    "    insert_heat[blocks_per_grid, threads_per_block](\n",
    "        anew_global_mem, sources_global_mem, energy)    \n",
    "    kernel[blocks_per_grid, threads_per_block](\n",
    "        aold_global_mem, anew_global_mem)\n",
    "    insert_heat[blocks_per_grid, threads_per_block](\n",
    "        aold_global_mem, sources_global_mem, energy)\n",
    "    t1 += time() - t_\n",
    "\n",
    "t_ = time()\n",
    "# copy the result back to the host\n",
    "aold = aold_global_mem.copy_to_host()\n",
    "t2 += time() - t_\n",
    "\n",
    "# system total heat\n",
    "heat = np.sum(aold[1:-1, 1:-1])\n",
    "\n",
    "t0 += time()\n",
    "\n",
    "# show the result\n",
    "print(f\"Heat: {heat:.4f}\", end=\" | \")\n",
    "print(f\"Time: {t0:.4f}\", end=\" | \")\n",
    "print(f\"Kernel: {t1:.4f}\", end=\" | \")\n",
    "print(f\"Memory: {t2:.4f}\")"
   ]
  },
  {
   "cell_type": "code",
   "execution_count": 7,
   "metadata": {},
   "outputs": [
    {
     "data": {
      "text/plain": [
       "<matplotlib.image.AxesImage at 0x7f2a2778a390>"
      ]
     },
     "execution_count": 7,
     "metadata": {},
     "output_type": "execute_result"
    },
    {
     "data": {
      "image/png": "[encoded data removed]",
      "text/plain": [
       "<Figure size 576x576 with 1 Axes>"
      ]
     },
     "metadata": {
      "needs_background": "light"
     },
     "output_type": "display_data"
    }
   ],
   "source": [
    "%matplotlib inline\n",
    "import matplotlib.pyplot as plt\n",
    "plt.figure(figsize=(8,8))\n",
    "plt.imshow(aold, cmap='jet')"
   ]
  },
  {
   "cell_type": "markdown",
   "metadata": {},
   "source": [
    "---"
   ]
  },
  {
   "cell_type": "markdown",
   "metadata": {},
   "source": [
    "# Grade 24 x 24 para visualizar o resultado final"
   ]
  },
  {
   "cell_type": "code",
   "execution_count": 8,
   "metadata": {
    "colab": {
     "base_uri": "https://localhost:8080/"
    },
    "executionInfo": {
     "elapsed": 2460,
     "status": "ok",
     "timestamp": 1632515999169,
     "user": {
      "displayName": "E Furlan",
      "photoUrl": "https://lh3.googleusercontent.com/a-/AOh14Ghzd7UO2EoPv4GHJ2AiwebDPC3evXCqxNZAD2FZ=s64",
      "userId": "04933934069991532991"
     },
     "user_tz": 180
    },
    "id": "3-JbWmKch34N",
    "outputId": "9223ea1d-fa76-47ce-8e5f-a800402d6c96"
   },
   "outputs": [
    {
     "name": "stdout",
     "output_type": "stream",
     "text": [
      "Heat: 512.0860 | Time: 0.6639 | Kernel: 0.6614 | Memory: 0.0019\n"
     ]
    }
   ],
   "source": [
    "import numpy as np, math\n",
    "from time import time\n",
    "from numba import cuda\n",
    "\n",
    "# parameters\n",
    "n            = 24     # nxn grid\n",
    "energy       = 1       # energy to be injected per iteration\n",
    "niters       = 250     # number of iterations\n",
    "# initialize the data arrays\n",
    "anew         = np.zeros((n + 2, n + 2), np.float64)\n",
    "aold         = np.zeros((n + 2, n + 2), np.float64)\n",
    "# initialize three heat sources\n",
    "sources      = np.empty((3, 2), np.int16)\n",
    "sources[:,:] = [ [n//2, n//2], [n//3, n//3], [n*4//5, n*8//9] ]\n",
    "\n",
    "# configure blocks & grids\n",
    "## set the number of threads in a block\n",
    "threads_per_block = (8, 8)\n",
    "## calculate the number of thread blocks in the grid\n",
    "blocks_per_grid_x = math.ceil(aold.shape[0] / threads_per_block[0])\n",
    "blocks_per_grid_y = math.ceil(aold.shape[1] / threads_per_block[1])\n",
    "blocks_per_grid   = (blocks_per_grid_x, blocks_per_grid_y)\n",
    "\n",
    "# computationally intensive core\n",
    "@cuda.jit\n",
    "def kernel(a1, a2) :\n",
    "    n = a1.shape[0] - 1\n",
    "    i, j = cuda.grid(2)\n",
    "    if (i > 0 and j > 0) and (i < n and j < n) :\n",
    "        a1[i,j] = (a2[i,j]/2.0\n",
    "                   +(a2[i-1,j]+a2[i+1,j]+a2[i,j-1]+a2[i,j+1])/8.0)\n",
    "\n",
    "# insert heat\n",
    "@cuda.jit\n",
    "def insert_heat(a, sources, energy) :\n",
    "    n = a.shape[0] - 1\n",
    "    i, j = cuda.grid(2)\n",
    "    if ( (sources[0, 0] == i and sources[0, 1] == j) or\n",
    "         (sources[1, 0] == i and sources[1, 1] == j) or\n",
    "         (sources[2, 0] == i and sources[2, 1] == j) ) :\n",
    "        a[i, j] += energy\n",
    "\n",
    "# main routine\n",
    "t0 = -time()    # time measure\n",
    "t1 = 0\n",
    "t2 = 0\n",
    "\n",
    "t_ = time()\n",
    "# copy the arrays to the device\n",
    "anew_global_mem    = cuda.to_device(anew)\n",
    "aold_global_mem    = cuda.to_device(aold)\n",
    "sources_global_mem = cuda.to_device(sources)\n",
    "t2 += time() - t_\n",
    "\n",
    "for _ in range(0, niters, 2) :\n",
    "    t_ = time()\n",
    "    kernel[blocks_per_grid, threads_per_block](\n",
    "        anew_global_mem, aold_global_mem)\n",
    "    insert_heat[blocks_per_grid, threads_per_block](\n",
    "        anew_global_mem, sources_global_mem, energy)    \n",
    "    kernel[blocks_per_grid, threads_per_block](\n",
    "        aold_global_mem, anew_global_mem)\n",
    "    insert_heat[blocks_per_grid, threads_per_block](\n",
    "        aold_global_mem, sources_global_mem, energy)\n",
    "    t1 += time() - t_\n",
    "\n",
    "t_ = time()\n",
    "# copy the result back to the host\n",
    "aold = aold_global_mem.copy_to_host()\n",
    "t2 += time() - t_\n",
    "\n",
    "# system total heat\n",
    "heat = np.sum(aold[1:-1, 1:-1])\n",
    "\n",
    "t0 += time()\n",
    "\n",
    "# show the result\n",
    "print(f\"Heat: {heat:.4f}\", end=\" | \")\n",
    "print(f\"Time: {t0:.4f}\", end=\" | \")\n",
    "print(f\"Kernel: {t1:.4f}\", end=\" | \")\n",
    "print(f\"Memory: {t2:.4f}\")"
   ]
  },
  {
   "cell_type": "code",
   "execution_count": 9,
   "metadata": {},
   "outputs": [
    {
     "data": {
      "text/plain": [
       "<matplotlib.image.AxesImage at 0x7f2a262a4f90>"
      ]
     },
     "execution_count": 9,
     "metadata": {},
     "output_type": "execute_result"
    },
    {
     "data": {
      "image/png": "[encoded data removed]",
      "text/plain": [
       "<Figure size 576x576 with 1 Axes>"
      ]
     },
     "metadata": {
      "needs_background": "light"
     },
     "output_type": "display_data"
    }
   ],
   "source": [
    "%matplotlib inline\n",
    "import matplotlib.pyplot as plt\n",
    "plt.figure(figsize=(8,8))\n",
    "plt.imshow(aold, cmap='jet')"
   ]
  }
 ],
 "metadata": {
  "accelerator": "GPU",
  "colab": {
   "name": "GC-numba-gpu.ipynb",
   "provenance": []
  },
  "kernelspec": {
   "display_name": "Python 3",
   "language": "python",
   "name": "python3"
  },
  "language_info": {
   "codemirror_mode": {
    "name": "ipython",
    "version": 3
   },
   "file_extension": ".py",
   "mimetype": "text/x-python",
   "name": "python",
   "nbconvert_exporter": "python",
   "pygments_lexer": "ipython3",
   "version": "3.7.12"
  }
 },
 "nbformat": 4,
 "nbformat_minor": 4
}
