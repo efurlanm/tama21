{
 "cells": [
  {
   "cell_type": "markdown",
   "metadata": {},
   "source": [
    "# Numba CPU MPI nó Sequana"
   ]
  },
  {
   "cell_type": "code",
   "execution_count": 1,
   "metadata": {},
   "outputs": [
    {
     "name": "stdout",
     "output_type": "stream",
     "text": [
      "Python 3.7.7 :: Intel(R) Corporation\n"
     ]
    }
   ],
   "source": [
    "%%bash\n",
    "module load intel_psxe/2020\n",
    "source /opt/intel/parallel_studio_xe_2020/intelpython3/etc/profile.d/conda.sh\n",
    "python --version"
   ]
  },
  {
   "cell_type": "code",
   "execution_count": 2,
   "metadata": {},
   "outputs": [
    {
     "name": "stdout",
     "output_type": "stream",
     "text": [
      "CPU(s):                24\n",
      "Thread(s) per core:    1\n",
      "Core(s) per socket:    12\n",
      "NUMA node(s):          2\n",
      "Model name:            Intel(R) Xeon(R) CPU E5-2695 v2 @ 2.40GHz\n",
      "CPU MHz:               2865.820\n"
     ]
    }
   ],
   "source": [
    "# Mostra os recursos do nó de login\n",
    "! lscpu | head -n 15 | grep \"Model \\|CPU(s):\\|Thre\\|Core\\|NUMA\\|MHz\""
   ]
  },
  {
   "cell_type": "markdown",
   "metadata": {},
   "source": [
    "## Código fonte"
   ]
  },
  {
   "cell_type": "code",
   "execution_count": 3,
   "metadata": {},
   "outputs": [
    {
     "name": "stdout",
     "output_type": "stream",
     "text": [
      "Writing numbampi.py\n"
     ]
    }
   ],
   "source": [
    "%%writefile numbampi.py\n",
    "import numpy as np\n",
    "from time import time\n",
    "from numba import njit, set_num_threads, get_num_threads\n",
    "from mpi4py import MPI   \n",
    "\n",
    "# computationally intensive core\n",
    "@njit('(float64[:,:],float64[:,:])', parallel=True, fastmath=True, nogil=True)\n",
    "def kernel(anew, aold) :\n",
    "    anew[1:-1,1:-1] = (aold[1:-1,1:-1]/2.0\n",
    "        +(aold[2:,1:-1]+aold[:-2,1:-1]+aold[1:-1,2:]+aold[1:-1,:-2])/8.0)\n",
    "\n",
    "# parameters\n",
    "n            = 2400    # n x n grid\n",
    "energy       = 1.0     # energy to be injected per iteration\n",
    "niters       = 250     # number of iterations\n",
    "# initialize three heat sources\n",
    "nsources     = 3    # sources of energy\n",
    "sources      = np.zeros((nsources, 2), np.int16)\n",
    "sources[:,:] = [ [n//2, n//2], [n//3, n//3], [n*4//5, n*8//9] ]\n",
    "\n",
    "# main routine\n",
    "comm    = MPI.COMM_WORLD\n",
    "mpisize = comm.size\n",
    "mpirank = comm.rank\n",
    "if not mpirank : t0 = -time()\n",
    "\n",
    "# determine my coordinates (x,y)\n",
    "pdims = MPI.Compute_dims(mpisize, 2)\n",
    "px    = pdims[0]\n",
    "py    = pdims[1]\n",
    "rx    = mpirank % px\n",
    "ry    = mpirank // px\n",
    "\n",
    "# determine my four neighbors\n",
    "north = (ry - 1) * px + rx\n",
    "if (ry - 1) < 0 :\n",
    "    north = MPI.PROC_NULL\n",
    "south = (ry + 1) * px + rx\n",
    "if (ry + 1) >= py :\n",
    "    south = MPI.PROC_NULL\n",
    "west = ry * px + rx - 1\n",
    "if (rx - 1) < 0 :\n",
    "    west = MPI.PROC_NULL\n",
    "east = ry * px + rx + 1\n",
    "if (rx + 1) >= px :\n",
    "    east = MPI.PROC_NULL\n",
    "\n",
    "# decompose the domain\n",
    "bx   = n // px          # block size in x\n",
    "by   = n // py          # block size in y\n",
    "offx = rx * bx + 1      # offset in x\n",
    "offy = ry * by + 1      # offset in y\n",
    "\n",
    "# sources in my area, local to my rank\n",
    "locnsources = 0\n",
    "locsources  = np.empty((nsources, 2), np.int16)\n",
    "\n",
    "# determine which sources are in my patch\n",
    "for i in range(nsources) :\n",
    "    locx = sources[i, 0] - offx\n",
    "    locy = sources[i, 1] - offy\n",
    "    if(locx >= 0 and locx <= bx and locy >= 0 and locy <= by) :\n",
    "        locsources[locnsources, 0] = locx\n",
    "        locsources[locnsources, 1] = locy\n",
    "        locnsources += 1\n",
    "\n",
    "# working arrays with 1-wide halo zones\n",
    "anew = np.zeros((bx+2, by+2), np.float64)\n",
    "aold = np.zeros((bx+2, by+2), np.float64)\n",
    "\n",
    "# system total heat\n",
    "rheat = np.zeros(1, np.float64)\n",
    "bheat = np.zeros(1, np.float64)\n",
    "\n",
    "for _ in range(0, niters, 2) :\n",
    "    # exchange data with neighbors\n",
    "    if north != MPI.PROC_NULL :\n",
    "        r1=comm.irecv(source=north, tag=1)\n",
    "        s1=comm.isend(aold[1, 1:bx+1], dest=north, tag=1)\n",
    "    if south != MPI.PROC_NULL :\n",
    "        r2=comm.irecv(source=south, tag=1)\n",
    "        s2=comm.isend(aold[bx, 1:bx+1], dest=south, tag=1)\n",
    "    if east != MPI.PROC_NULL :\n",
    "        r3 = comm.irecv(source=east, tag=1)\n",
    "        s3 = comm.isend(aold[1:bx+1, bx], dest=east, tag=1)\n",
    "    if west != MPI.PROC_NULL :\n",
    "        r4 = comm.irecv(source=west, tag=1)\n",
    "        s4 = comm.isend(aold[1:bx+1, 1], dest=west, tag=1)\n",
    "    # wait\n",
    "    if north != MPI.PROC_NULL :\n",
    "        s1.wait()\n",
    "        aold[0, 1:bx+1] = r1.wait()\n",
    "    if south != MPI.PROC_NULL :\n",
    "        s2.wait()\n",
    "        aold[bx+1, 1:bx+1] = r2.wait()\n",
    "    if east != MPI.PROC_NULL :\n",
    "        s3.wait()\n",
    "        aold[1:bx+1, bx+1] = r3.wait()\n",
    "    if west != MPI.PROC_NULL :\n",
    "        s4.wait\n",
    "        aold[1:bx+1, 0] = r4.wait()\n",
    "\n",
    "    # update grid\n",
    "    kernel(anew, aold)\n",
    "\n",
    "    # refresh heat sources\n",
    "    anew[locsources[:locnsources, 0], locsources[:locnsources, 1]] += energy\n",
    "\n",
    "    # exchange data with neighbors\n",
    "    if north != MPI.PROC_NULL :\n",
    "        r1=comm.irecv(source=north, tag=1)\n",
    "        s1=comm.isend(anew[1, 1:bx+1], dest=north, tag=1)\n",
    "    if south != MPI.PROC_NULL :\n",
    "        r2=comm.irecv(source=south, tag=1)\n",
    "        s2=comm.isend(anew[bx, 1:bx+1], dest=south, tag=1)\n",
    "    if east != MPI.PROC_NULL :\n",
    "        r3 = comm.irecv(source=east, tag=1)\n",
    "        s3 = comm.isend(anew[1:bx+1, bx], dest=east, tag=1)\n",
    "    if west != MPI.PROC_NULL :\n",
    "        r4 = comm.irecv(source=west, tag=1)\n",
    "        s4 = comm.isend(anew[1:bx+1, 1], dest=west, tag=1)\n",
    "    # wait\n",
    "    if north != MPI.PROC_NULL :\n",
    "        s1.wait()\n",
    "        anew[0, 1:bx+1] = r1.wait()\n",
    "    if south != MPI.PROC_NULL :\n",
    "        s2.wait()\n",
    "        anew[bx+1, 1:bx+1] = r2.wait()\n",
    "    if east != MPI.PROC_NULL :\n",
    "        s3.wait()\n",
    "        anew[1:bx+1, bx+1] = r3.wait()\n",
    "    if west != MPI.PROC_NULL :\n",
    "        s4.wait\n",
    "        anew[1:bx+1, 0] = r4.wait()\n",
    "\n",
    "    # update grid\n",
    "    kernel(aold, anew)\n",
    "\n",
    "    # refresh heat sources\n",
    "    aold[locsources[:locnsources, 0], locsources[:locnsources, 1]] += energy \n",
    "\n",
    "# get final heat in the system\n",
    "bheat[0] = np.sum(aold[1:-1, 1:-1])\n",
    "comm.Reduce(bheat, rheat)\n",
    "\n",
    "if not mpirank :\n",
    "    t0 += time()\n",
    "    print(f\"Heat: {rheat[0]:.4f}\", end=\" | \")\n",
    "    print(f\"Time: {t0:.4f}\", end=\" | \")\n",
    "    print(f\"MPISize: {mpisize}\")"
   ]
  },
  {
   "cell_type": "markdown",
   "metadata": {},
   "source": [
    "### Testa a execução\n",
    "\n",
    "É importante testar para verificar possíveis erros, antes de enviar para as filas de execução"
   ]
  },
  {
   "cell_type": "code",
   "execution_count": 4,
   "metadata": {},
   "outputs": [
    {
     "name": "stderr",
     "output_type": "stream",
     "text": [
      "\n",
      "real\t0m8.299s\n",
      "user\t0m11.938s\n",
      "sys\t0m1.350s\n"
     ]
    }
   ],
   "source": [
    "%%bash\n",
    "module load intel_psxe/2020\n",
    "source /opt/intel/parallel_studio_xe_2020/intelpython3/etc/profile.d/conda.sh\n",
    "unset I_MPI_PMI_LIBRARY\n",
    "time mpiexec -n 1 python -m cProfile -s cumtime numbampi.py > numbampi.txt"
   ]
  },
  {
   "cell_type": "code",
   "execution_count": 6,
   "metadata": {},
   "outputs": [
    {
     "name": "stdout",
     "output_type": "stream",
     "text": [
      "Heat: 750.0000 | Time: 0.6470 | MPISize: 1\n",
      "         2638012 function calls (2405034 primitive calls) in 7.454 seconds\n",
      "\n",
      "   Ordered by: cumulative time\n",
      "\n",
      "   ncalls  tottime  percall  cumtime  percall filename:lineno(function)\n",
      "    910/1    0.009    0.000    7.457    7.457 {built-in method builtins.exec}\n",
      "        1    0.033    0.033    7.457    7.457 numbampi.py:1(<module>)\n",
      "   629/32    0.005    0.000    4.783    0.149 <frozen importlib._bootstrap>:978(_find_and_load)\n",
      "   629/32    0.004    0.000    4.782    0.149 <frozen importlib._bootstrap>:948(_find_and_load_unlocked)\n",
      "   605/32    0.004    0.000    4.760    0.149 <frozen importlib._bootstrap>:663(_load_unlocked)\n",
      "   898/32    0.001    0.000    4.750    0.148 <frozen importlib._bootstrap>:211(_call_with_frames_removed)\n",
      "   513/61    0.002    0.000    4.118    0.068 {built-in method builtins.__import__}\n",
      "8657/5866    0.011    0.000    4.109    0.001 <frozen importlib._bootstrap>:1009(_handle_fromlist)\n",
      "   520/30    0.002    0.000    3.710    0.124 <frozen importlib._bootstrap_external>:722(exec_module)\n",
      "        6    0.000    0.000    2.955    0.492 __init__.py:3(<module>)\n",
      "    44/39    0.000    0.000    2.665    0.068 decorators.py:181(wrapper)\n",
      "     50/2    0.000    0.000    2.655    1.328 compiler_lock.py:29(_acquire_compile_lock)\n",
      "        1    0.000    0.000    2.582    2.582 dispatcher.py:770(compile)\n",
      "        1    0.000    0.000    2.581    2.581 dispatcher.py:76(compile)\n"
     ]
    }
   ],
   "source": [
    "! head -20 numbampi.txt"
   ]
  },
  {
   "cell_type": "code",
   "execution_count": 7,
   "metadata": {},
   "outputs": [
    {
     "name": "stdout",
     "output_type": "stream",
     "text": [
      "Heat: 750.0000 | Time: 1.3539 | MPISize: 16\n"
     ]
    }
   ],
   "source": [
    "%%bash\n",
    "module load intel_psxe/2020\n",
    "source /opt/intel/parallel_studio_xe_2020/intelpython3/etc/profile.d/conda.sh\n",
    "unset I_MPI_PMI_LIBRARY\n",
    "mpiexec -n 16 python numbampi.py"
   ]
  },
  {
   "cell_type": "markdown",
   "metadata": {},
   "source": [
    "### Copia arquivo com código python para /scratch\n",
    "\n",
    "* /prj e /scratch possuem o mesmo diretório, criados em uma etapa anterior.\n",
    "* o nó de execução não enxerga o /prj do nó de login, o que for rodar precisa ser copiado para /scratch, incluindo eventuais bibliotecas ou algum ambiente python que foi criado.\n",
    "* o .srm (arquivo do slurm) não precisa copiar."
   ]
  },
  {
   "cell_type": "code",
   "execution_count": 8,
   "metadata": {},
   "outputs": [],
   "source": [
    "! cp  numbampi.py  /scratch${PWD#/prj}"
   ]
  },
  {
   "cell_type": "markdown",
   "metadata": {},
   "source": [
    "### Arquivo de lote do Slurm"
   ]
  },
  {
   "cell_type": "code",
   "execution_count": 9,
   "metadata": {},
   "outputs": [
    {
     "name": "stdout",
     "output_type": "stream",
     "text": [
      "Writing numbampi.srm\n"
     ]
    }
   ],
   "source": [
    "%%writefile numbampi.srm\n",
    "#!/bin/bash\n",
    "#SBATCH --ntasks=96            #Total de tarefas\n",
    "#SBATCH --job-name numbampi    #Nome do job, 8 caracteres\n",
    "#SBATCH --partition cpu_dev    #Fila (partition) a ser utilizada\n",
    "#SBATCH --time=00:01:00        #Tempo max. de execução\n",
    "#SBATCH --exclusive            #Utilização exclusiva dos nós\n",
    "\n",
    "echo '- Job ID:' $SLURM_JOB_ID\n",
    "echo '- Tarefas por no:' $SLURM_NTASKS_PER_NODE\n",
    "echo '- Qtd. de nos:' $SLURM_JOB_NUM_NODES\n",
    "echo '- Tot. de tarefas:' $SLURM_NTASKS\n",
    "echo '- Nos alocados:' $SLURM_JOB_NODELIST\n",
    "nodeset -e $SLURM_JOB_NODELIST\n",
    "\n",
    "#Modulos\n",
    "module load intel_psxe/2020\n",
    "source /opt/intel/parallel_studio_xe_2020/intelpython3/etc/profile.d/conda.sh\n",
    "\n",
    "#Entra no diretório de trabalho\n",
    "cd /scratch${PWD#/prj}\n",
    "\n",
    "#Executavel\n",
    "EXEC='python numbampi.py'\n",
    "\n",
    "#Dispara a execucao\n",
    "srun --mpi=pmi2  -n $SLURM_NTASKS  $EXEC"
   ]
  },
  {
   "cell_type": "markdown",
   "metadata": {},
   "source": [
    "## Envia para a fila de execução dev"
   ]
  },
  {
   "cell_type": "code",
   "execution_count": 11,
   "metadata": {},
   "outputs": [
    {
     "name": "stdout",
     "output_type": "stream",
     "text": [
      "Submitted batch job 1360854\n",
      "1\n",
      "4\n",
      "START_TIME    JOBID PARTITION  NAME ST  TIME NODES CPUS\n",
      "N/A  1360854   cpu_dev numba PD  0:00     4   96\n"
     ]
    }
   ],
   "source": [
    "%%bash\n",
    "sbatch numbampi.srm\n",
    "squeue --user $(whoami) -h -r | wc -l\n",
    "squeue --partition=cpu_dev -h -r | wc -l\n",
    "squeue --start --name=numbampi --format \"%S %.8i %.9P %.5j %.2t %.5M %.5D %.4C\""
   ]
  },
  {
   "cell_type": "markdown",
   "metadata": {},
   "source": [
    "Verifica se já executou:"
   ]
  },
  {
   "cell_type": "code",
   "execution_count": 12,
   "metadata": {},
   "outputs": [
    {
     "name": "stdout",
     "output_type": "stream",
     "text": [
      "START_TIME    JOBID PARTITION  NAME ST  TIME NODES CPUS\n"
     ]
    }
   ],
   "source": [
    "! squeue --start --name=numbampi --format \"%S %.8i %.9P %.5j %.2t %.5M %.5D %.4C\""
   ]
  },
  {
   "cell_type": "markdown",
   "metadata": {},
   "source": [
    "Mostra o arquivo contendo a saída:"
   ]
  },
  {
   "cell_type": "code",
   "execution_count": 13,
   "metadata": {},
   "outputs": [
    {
     "name": "stdout",
     "output_type": "stream",
     "text": [
      "- Job ID: 1360854\n",
      "- Tarefas por no:\n",
      "- Qtd. de nos: 4\n",
      "- Tot. de tarefas: 96\n",
      "- Nos alocados: sdumont[1263-1266]\n",
      "sdumont1263 sdumont1264 sdumont1265 sdumont1266\n",
      "Heat: 602.6262 | Time: 3.2346 | MPISize: 96\n"
     ]
    }
   ],
   "source": [
    "! cat /scratch${PWD#/prj}/slurm-1360854.out"
   ]
  },
  {
   "cell_type": "markdown",
   "metadata": {},
   "source": [
    "Neste caso enviamos para fila `cpu_dev` que é uma fila \"rápida\" para executar testes, e para trabalhos pequenos."
   ]
  },
  {
   "cell_type": "code",
   "execution_count": null,
   "metadata": {},
   "outputs": [],
   "source": []
  }
 ],
 "metadata": {
  "kernelspec": {
   "display_name": "Python 3",
   "language": "python",
   "name": "python3"
  },
  "language_info": {
   "codemirror_mode": {
    "name": "ipython",
    "version": 3
   },
   "file_extension": ".py",
   "mimetype": "text/x-python",
   "name": "python",
   "nbconvert_exporter": "python",
   "pygments_lexer": "ipython3",
   "version": "3.8.5"
  }
 },
 "nbformat": 4,
 "nbformat_minor": 4
}
