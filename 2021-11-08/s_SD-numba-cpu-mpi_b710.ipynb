{
 "cells": [
  {
   "cell_type": "markdown",
   "metadata": {},
   "source": [
    "# Santos Dumont (SD) - Numba CPU MPI B710"
   ]
  },
  {
   "cell_type": "code",
   "execution_count": 2,
   "metadata": {},
   "outputs": [
    {
     "name": "stdout",
     "output_type": "stream",
     "text": [
      "CPU(s):                24\n",
      "Thread(s) per core:    1\n",
      "Core(s) per socket:    12\n",
      "NUMA node(s):          2\n",
      "Model name:            Intel(R) Xeon(R) CPU E5-2695 v2 @ 2.40GHz\n",
      "CPU MHz:               2865.820\n"
     ]
    }
   ],
   "source": [
    "# Mostra os recursos do nó de login\n",
    "! lscpu | head -n 15 | grep \"Model \\|CPU(s):\\|Thre\\|Core\\|NUMA\\|MHz\""
   ]
  },
  {
   "cell_type": "markdown",
   "metadata": {},
   "source": [
    "### Testa a execução"
   ]
  },
  {
   "cell_type": "code",
   "execution_count": 4,
   "metadata": {},
   "outputs": [
    {
     "name": "stderr",
     "output_type": "stream",
     "text": [
      "\n",
      "real\t0m8.299s\n",
      "user\t0m11.938s\n",
      "sys\t0m1.350s\n"
     ]
    }
   ],
   "source": [
    "%%bash\n",
    "module load intel_psxe/2020\n",
    "source /opt/intel/parallel_studio_xe_2020/intelpython3/etc/profile.d/conda.sh\n",
    "unset I_MPI_PMI_LIBRARY\n",
    "time mpiexec -n 1 python -m cProfile -s cumtime numbampib710.py > numbampi.txt"
   ]
  },
  {
   "cell_type": "code",
   "execution_count": 6,
   "metadata": {},
   "outputs": [
    {
     "name": "stdout",
     "output_type": "stream",
     "text": [
      "Heat: 750.0000 | Time: 0.6470 | MPISize: 1\n",
      "         2638012 function calls (2405034 primitive calls) in 7.454 seconds\n",
      "\n",
      "   Ordered by: cumulative time\n",
      "\n",
      "   ncalls  tottime  percall  cumtime  percall filename:lineno(function)\n",
      "    910/1    0.009    0.000    7.457    7.457 {built-in method builtins.exec}\n",
      "        1    0.033    0.033    7.457    7.457 numbampi.py:1(<module>)\n",
      "   629/32    0.005    0.000    4.783    0.149 <frozen importlib._bootstrap>:978(_find_and_load)\n",
      "   629/32    0.004    0.000    4.782    0.149 <frozen importlib._bootstrap>:948(_find_and_load_unlocked)\n",
      "   605/32    0.004    0.000    4.760    0.149 <frozen importlib._bootstrap>:663(_load_unlocked)\n",
      "   898/32    0.001    0.000    4.750    0.148 <frozen importlib._bootstrap>:211(_call_with_frames_removed)\n",
      "   513/61    0.002    0.000    4.118    0.068 {built-in method builtins.__import__}\n",
      "8657/5866    0.011    0.000    4.109    0.001 <frozen importlib._bootstrap>:1009(_handle_fromlist)\n",
      "   520/30    0.002    0.000    3.710    0.124 <frozen importlib._bootstrap_external>:722(exec_module)\n",
      "        6    0.000    0.000    2.955    0.492 __init__.py:3(<module>)\n",
      "    44/39    0.000    0.000    2.665    0.068 decorators.py:181(wrapper)\n",
      "     50/2    0.000    0.000    2.655    1.328 compiler_lock.py:29(_acquire_compile_lock)\n",
      "        1    0.000    0.000    2.582    2.582 dispatcher.py:770(compile)\n",
      "        1    0.000    0.000    2.581    2.581 dispatcher.py:76(compile)\n"
     ]
    }
   ],
   "source": [
    "! head numbampi.txt"
   ]
  },
  {
   "cell_type": "markdown",
   "metadata": {},
   "source": [
    "Testa com 16 processos:"
   ]
  },
  {
   "cell_type": "code",
   "execution_count": 7,
   "metadata": {},
   "outputs": [
    {
     "name": "stdout",
     "output_type": "stream",
     "text": [
      "Heat: 750.0000 | Time: 1.3539 | MPISize: 16\n"
     ]
    }
   ],
   "source": [
    "%%bash\n",
    "module load intel_psxe/2020\n",
    "source /opt/intel/parallel_studio_xe_2020/intelpython3/etc/profile.d/conda.sh\n",
    "unset I_MPI_PMI_LIBRARY\n",
    "mpiexec -n 16 python numbampib710.py"
   ]
  },
  {
   "cell_type": "markdown",
   "metadata": {},
   "source": [
    "### Copia arquivo com código python para /scratch"
   ]
  },
  {
   "cell_type": "code",
   "execution_count": 8,
   "metadata": {},
   "outputs": [],
   "source": [
    "! cp  numbampib710.py  /scratch${PWD#/prj}"
   ]
  },
  {
   "cell_type": "markdown",
   "metadata": {},
   "source": [
    "### Arquivo de lote do Slurm"
   ]
  },
  {
   "cell_type": "code",
   "execution_count": 9,
   "metadata": {},
   "outputs": [
    {
     "name": "stdout",
     "output_type": "stream",
     "text": [
      "Writing numbampi.srm\n"
     ]
    }
   ],
   "source": [
    "%%writefile numbampi.srm\n",
    "#!/bin/bash\n",
    "#SBATCH --ntasks=96            #Total de tarefas\n",
    "#SBATCH --job-name numbampi    #Nome do job, 8 caracteres\n",
    "#SBATCH --partition cpu_dev    #Fila (partition) a ser utilizada\n",
    "#SBATCH --time=00:01:00        #Tempo max. de execução\n",
    "#SBATCH --exclusive            #Utilização exclusiva dos nós\n",
    "\n",
    "echo '- Job ID:' $SLURM_JOB_ID\n",
    "echo '- Tarefas por no:' $SLURM_NTASKS_PER_NODE\n",
    "echo '- Qtd. de nos:' $SLURM_JOB_NUM_NODES\n",
    "echo '- Tot. de tarefas:' $SLURM_NTASKS\n",
    "echo '- Nos alocados:' $SLURM_JOB_NODELIST\n",
    "nodeset -e $SLURM_JOB_NODELIST\n",
    "\n",
    "#Modulos\n",
    "module load intel_psxe/2020\n",
    "source /opt/intel/parallel_studio_xe_2020/intelpython3/etc/profile.d/conda.sh\n",
    "\n",
    "#Entra no diretório de trabalho\n",
    "cd /scratch${PWD#/prj}\n",
    "\n",
    "#Executavel\n",
    "EXEC='python numbampib710.py'\n",
    "\n",
    "#Dispara a execucao\n",
    "srun --mpi=pmi2  -n $SLURM_NTASKS  $EXEC"
   ]
  },
  {
   "cell_type": "markdown",
   "metadata": {},
   "source": [
    "## Envia para a fila de execução dev"
   ]
  },
  {
   "cell_type": "code",
   "execution_count": 11,
   "metadata": {},
   "outputs": [
    {
     "name": "stdout",
     "output_type": "stream",
     "text": [
      "Submitted batch job 1360854\n",
      "1\n",
      "4\n",
      "START_TIME    JOBID PARTITION  NAME ST  TIME NODES CPUS\n",
      "N/A  1360854   cpu_dev numba PD  0:00     4   96\n"
     ]
    }
   ],
   "source": [
    "%%bash\n",
    "sbatch numbampi.srm\n",
    "squeue --user $(whoami) -h -r | wc -l\n",
    "squeue --partition=cpu_dev -h -r | wc -l\n",
    "squeue --start --name=numbampi --format \"%S %.8i %.9P %.5j %.2t %.5M %.5D %.4C\""
   ]
  },
  {
   "cell_type": "markdown",
   "metadata": {},
   "source": [
    "Verifica se já executou:"
   ]
  },
  {
   "cell_type": "code",
   "execution_count": 12,
   "metadata": {},
   "outputs": [
    {
     "name": "stdout",
     "output_type": "stream",
     "text": [
      "START_TIME    JOBID PARTITION  NAME ST  TIME NODES CPUS\n"
     ]
    }
   ],
   "source": [
    "! squeue --start --name=numbampi --format \"%S %.8i %.9P %.5j %.2t %.5M %.5D %.4C\""
   ]
  },
  {
   "cell_type": "markdown",
   "metadata": {},
   "source": [
    "Mostra o arquivo contendo a saída:"
   ]
  },
  {
   "cell_type": "code",
   "execution_count": 13,
   "metadata": {},
   "outputs": [
    {
     "name": "stdout",
     "output_type": "stream",
     "text": [
      "- Job ID: 1360854\n",
      "- Tarefas por no:\n",
      "- Qtd. de nos: 4\n",
      "- Tot. de tarefas: 96\n",
      "- Nos alocados: sdumont[1263-1266]\n",
      "sdumont1263 sdumont1264 sdumont1265 sdumont1266\n",
      "Heat: 602.6262 | Time: 3.2346 | MPISize: 96\n"
     ]
    }
   ],
   "source": [
    "! cat /scratch${PWD#/prj}/slurm-1360854.out"
   ]
  },
  {
   "cell_type": "markdown",
   "metadata": {},
   "source": [
    "Neste caso enviamos para fila `cpu_dev` que é uma fila \"rápida\" para executar testes, e para trabalhos pequenos."
   ]
  },
  {
   "cell_type": "markdown",
   "metadata": {},
   "source": [
    "## Analisando tarefas passadas"
   ]
  },
  {
   "cell_type": "code",
   "execution_count": 30,
   "metadata": {},
   "outputs": [
    {
     "name": "stdout",
     "output_type": "stream",
     "text": [
      "   JobName      NCPUS   NNodes     MaxRSS    MaxRSSNode               Start    Elapsed    CPUTime \n",
      "---------- ---------- -------- ---------- ------------- ------------------- ---------- ---------- \n",
      "  numbampi         96        4                          2021-09-23T21:13:08   00:00:15   00:24:00 \n",
      "     batch         24        1          0   sdumont1263 2021-09-23T21:13:08   00:00:15   00:06:00 \n",
      "    python         96        4          0   sdumont1266 2021-09-23T21:13:10   00:00:13   00:20:48 \n"
     ]
    }
   ],
   "source": [
    "! sacct --jobs=1360854 --format=jobname,ncpus,nnodes,maxrss,maxrssnode%13,start,elapsed,cputime"
   ]
  },
  {
   "cell_type": "code",
   "execution_count": 23,
   "metadata": {},
   "outputs": [
    {
     "name": "stdout",
     "output_type": "stream",
     "text": [
      "NodeName=sdumont1263 Arch=x86_64 CoresPerSocket=12\n",
      "   CPUAlloc=0 CPUErr=0 CPUTot=24 CPULoad=0.01\n",
      "   AvailableFeatures=(null)\n",
      "   ActiveFeatures=(null)\n",
      "   Gres=(null)\n",
      "   NodeAddr=sdumont1263 NodeHostName=sdumont1263 Version=17.02\n",
      "   OS=Linux RealMemory=64000 AllocMem=0 FreeMem=61622 Sockets=2 Boards=1\n",
      "   State=IDLE ThreadsPerCore=1 TmpDisk=0 Weight=1 Owner=N/A MCS_label=N/A\n",
      "   Partitions=cpu_dev \n",
      "   BootTime=2020-12-05T16:53:44 SlurmdStartTime=2021-03-10T20:07:55\n",
      "   CfgTRES=cpu=24,mem=62.50G\n",
      "   AllocTRES=\n",
      "   CapWatts=n/a\n",
      "   Socket_CapWatts=n/a\n",
      "   CurrentWatts=7 LowestJoules=210 ConsumedJoules=189874440\n",
      "   ExtSensorsJoules=n/s ExtSensorsWatts=0 ExtSensorsTemp=n/s\n",
      "   \n",
      "\n"
     ]
    }
   ],
   "source": [
    "! scontrol show node sdumont1263"
   ]
  }
 ],
 "metadata": {
  "kernelspec": {
   "display_name": "Python 3 (ipykernel)",
   "language": "python",
   "name": "python3"
  },
  "language_info": {
   "codemirror_mode": {
    "name": "ipython",
    "version": 3
   },
   "file_extension": ".py",
   "mimetype": "text/x-python",
   "name": "python",
   "nbconvert_exporter": "python",
   "pygments_lexer": "ipython3",
   "version": "3.8.8"
  }
 },
 "nbformat": 4,
 "nbformat_minor": 4
}
