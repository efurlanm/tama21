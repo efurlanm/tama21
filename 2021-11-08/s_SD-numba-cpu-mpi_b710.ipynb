{
 "cells": [
  {
   "cell_type": "markdown",
   "metadata": {},
   "source": [
    "# Santos Dumont (SD) - Numba CPU MPI B710"
   ]
  },
  {
   "cell_type": "code",
   "execution_count": 2,
   "metadata": {},
   "outputs": [
    {
     "name": "stdout",
     "output_type": "stream",
     "text": [
      "CPU(s):                24\n",
      "Thread(s) per core:    1\n",
      "Core(s) per socket:    12\n",
      "NUMA node(s):          2\n",
      "Model name:            Intel(R) Xeon(R) CPU E5-2695 v2 @ 2.40GHz\n",
      "CPU MHz:               2865.820\n"
     ]
    }
   ],
   "source": [
    "# Mostra os recursos do nó de login\n",
    "! lscpu | head -n 15 | grep \"Model \\|CPU(s):\\|Thre\\|Core\\|NUMA\\|MHz\""
   ]
  },
  {
   "cell_type": "markdown",
   "metadata": {},
   "source": [
    "### Testa a execução"
   ]
  },
  {
   "cell_type": "code",
   "execution_count": 1,
   "metadata": {},
   "outputs": [
    {
     "name": "stderr",
     "output_type": "stream",
     "text": [
      "\n",
      "real\t0m7.854s\n",
      "user\t0m13.608s\n",
      "sys\t0m1.420s\n"
     ]
    }
   ],
   "source": [
    "%%bash\n",
    "module load intel_psxe/2020\n",
    "source /opt/intel/parallel_studio_xe_2020/intelpython3/etc/profile.d/conda.sh\n",
    "unset I_MPI_PMI_LIBRARY\n",
    "time mpiexec -n 1 python -m cProfile -s cumtime numbampib710.py > numbampi.txt"
   ]
  },
  {
   "cell_type": "code",
   "execution_count": 2,
   "metadata": {},
   "outputs": [
    {
     "name": "stdout",
     "output_type": "stream",
     "text": [
      "Heat: 750.0000 | Time: 0.6431 | MPISize: 1\n",
      "         2638411 function calls (2405433 primitive calls) in 6.981 seconds\n",
      "\n",
      "   Ordered by: cumulative time\n",
      "\n",
      "   ncalls  tottime  percall  cumtime  percall filename:lineno(function)\n",
      "    910/1    0.008    0.000    6.983    6.983 {built-in method builtins.exec}\n",
      "        1    0.040    0.040    6.983    6.983 numbampib710.py:1(<module>)\n",
      "   629/32    0.004    0.000    4.278    0.134 <frozen importlib._bootstrap>:978(_find_and_load)\n",
      "   629/32    0.003    0.000    4.277    0.134 <frozen importlib._bootstrap>:948(_find_and_load_unlocked)\n"
     ]
    }
   ],
   "source": [
    "! head numbampi.txt"
   ]
  },
  {
   "cell_type": "markdown",
   "metadata": {},
   "source": [
    "Testa com 16 processos:"
   ]
  },
  {
   "cell_type": "code",
   "execution_count": 3,
   "metadata": {},
   "outputs": [
    {
     "name": "stdout",
     "output_type": "stream",
     "text": [
      "Heat: 750.0000 | Time: 1.1839 | MPISize: 16\n"
     ]
    }
   ],
   "source": [
    "%%bash\n",
    "module load intel_psxe/2020\n",
    "source /opt/intel/parallel_studio_xe_2020/intelpython3/etc/profile.d/conda.sh\n",
    "unset I_MPI_PMI_LIBRARY\n",
    "mpiexec -n 16 python numbampib710.py"
   ]
  },
  {
   "cell_type": "markdown",
   "metadata": {},
   "source": [
    "### Copia arquivo com código python para /scratch"
   ]
  },
  {
   "cell_type": "code",
   "execution_count": 5,
   "metadata": {},
   "outputs": [],
   "source": [
    "! cp  numbampib710.py  /scratch${PWD#/prj}"
   ]
  },
  {
   "cell_type": "markdown",
   "metadata": {},
   "source": [
    "### Arquivo de lote do Slurm"
   ]
  },
  {
   "cell_type": "code",
   "execution_count": 6,
   "metadata": {},
   "outputs": [
    {
     "name": "stdout",
     "output_type": "stream",
     "text": [
      "Writing numbampi.srm\n"
     ]
    }
   ],
   "source": [
    "%%writefile numbampi.srm\n",
    "#!/bin/bash\n",
    "#SBATCH --ntasks=96            #Total de tarefas\n",
    "#SBATCH --job-name numbampi    #Nome do job, 8 caracteres\n",
    "#SBATCH --partition cpu_dev    #Fila (partition) a ser utilizada\n",
    "#SBATCH --time=00:01:00        #Tempo max. de execução\n",
    "#SBATCH --exclusive            #Utilização exclusiva dos nós\n",
    "\n",
    "echo '- Job ID:' $SLURM_JOB_ID\n",
    "echo '- Tarefas por no:' $SLURM_NTASKS_PER_NODE\n",
    "echo '- Qtd. de nos:' $SLURM_JOB_NUM_NODES\n",
    "echo '- Tot. de tarefas:' $SLURM_NTASKS\n",
    "echo '- Nos alocados:' $SLURM_JOB_NODELIST\n",
    "nodeset -e $SLURM_JOB_NODELIST\n",
    "\n",
    "#Modulos\n",
    "module load intel_psxe/2020\n",
    "source /opt/intel/parallel_studio_xe_2020/intelpython3/etc/profile.d/conda.sh\n",
    "\n",
    "#Entra no diretório de trabalho\n",
    "cd /scratch${PWD#/prj}\n",
    "\n",
    "#Executavel\n",
    "EXEC='python numbampib710.py'\n",
    "\n",
    "#Dispara a execucao\n",
    "srun --mpi=pmi2  -n $SLURM_NTASKS  $EXEC"
   ]
  },
  {
   "cell_type": "markdown",
   "metadata": {},
   "source": [
    "## Envia para a fila de execução dev"
   ]
  },
  {
   "cell_type": "code",
   "execution_count": 7,
   "metadata": {},
   "outputs": [
    {
     "name": "stdout",
     "output_type": "stream",
     "text": [
      "Submitted batch job 2542360\n",
      "1\n",
      "2\n",
      "START_TIME    JOBID PARTITION  NAME ST  TIME NODES CPUS\n",
      "N/A  2542360   cpu_dev numba PD  0:00     4   96\n"
     ]
    }
   ],
   "source": [
    "%%bash\n",
    "sbatch numbampi.srm\n",
    "squeue --user $(whoami) -h -r | wc -l\n",
    "squeue --partition=cpu_dev -h -r | wc -l\n",
    "squeue --start --name=numbampi --format \"%S %.8i %.9P %.5j %.2t %.5M %.5D %.4C\""
   ]
  },
  {
   "cell_type": "markdown",
   "metadata": {},
   "source": [
    "Verifica se já executou:"
   ]
  },
  {
   "cell_type": "code",
   "execution_count": 8,
   "metadata": {},
   "outputs": [
    {
     "name": "stdout",
     "output_type": "stream",
     "text": [
      "START_TIME    JOBID PARTITION  NAME ST  TIME NODES CPUS\n"
     ]
    }
   ],
   "source": [
    "! squeue --start --name=numbampi --format \"%S %.8i %.9P %.5j %.2t %.5M %.5D %.4C\""
   ]
  },
  {
   "cell_type": "markdown",
   "metadata": {},
   "source": [
    "Mostra o arquivo contendo a saída:"
   ]
  },
  {
   "cell_type": "code",
   "execution_count": 9,
   "metadata": {},
   "outputs": [
    {
     "name": "stdout",
     "output_type": "stream",
     "text": [
      "- Job ID: 2542360\n",
      "- Tarefas por no:\n",
      "- Qtd. de nos: 4\n",
      "- Tot. de tarefas: 96\n",
      "- Nos alocados: sdumont[1245-1248]\n",
      "sdumont1245 sdumont1246 sdumont1247 sdumont1248\n",
      "Heat: 602.6262 | Time: 3.2165 | MPISize: 96\n"
     ]
    }
   ],
   "source": [
    "! cat /scratch${PWD#/prj}/slurm-2542360.out"
   ]
  },
  {
   "cell_type": "markdown",
   "metadata": {},
   "source": [
    "Neste caso enviamos para fila `cpu_dev` que é uma fila \"rápida\" para executar testes, e para trabalhos pequenos."
   ]
  },
  {
   "cell_type": "markdown",
   "metadata": {},
   "source": [
    "## Analisando tarefas passadas"
   ]
  },
  {
   "cell_type": "code",
   "execution_count": 10,
   "metadata": {},
   "outputs": [
    {
     "name": "stdout",
     "output_type": "stream",
     "text": [
      "   JobName      NCPUS   NNodes     MaxRSS    MaxRSSNode               Start    Elapsed    CPUTime \n",
      "---------- ---------- -------- ---------- ------------- ------------------- ---------- ---------- \n",
      "  numbampi         96        4                          2021-11-06T14:09:26   00:00:12   00:19:12 \n",
      "     batch         24        1          0   sdumont1245 2021-11-06T14:09:26   00:00:12   00:04:48 \n",
      "    python         96        4          0   sdumont1248 2021-11-06T14:09:27   00:00:11   00:17:36 \n"
     ]
    }
   ],
   "source": [
    "! sacct --jobs=2542360 --format=jobname,ncpus,nnodes,maxrss,maxrssnode%13,start,elapsed,cputime"
   ]
  },
  {
   "cell_type": "code",
   "execution_count": 11,
   "metadata": {},
   "outputs": [
    {
     "name": "stdout",
     "output_type": "stream",
     "text": [
      "NodeName=sdumont1248 Arch=x86_64 CoresPerSocket=12\n",
      "   CPUAlloc=0 CPUErr=0 CPUTot=24 CPULoad=0.01\n",
      "   AvailableFeatures=cpu\n",
      "   ActiveFeatures=cpu\n",
      "   Gres=(null)\n",
      "   NodeAddr=sdumont1248 NodeHostName=sdumont1248 Version=17.02\n",
      "   OS=Linux RealMemory=64000 AllocMem=0 FreeMem=62648 Sockets=2 Boards=1\n",
      "   State=IDLE ThreadsPerCore=1 TmpDisk=0 Weight=1 Owner=N/A MCS_label=N/A\n",
      "   Partitions=cpu_dev \n",
      "   BootTime=2021-11-03T23:41:01 SlurmdStartTime=2021-11-03T23:41:59\n",
      "   CfgTRES=cpu=24,mem=62.50G\n",
      "   AllocTRES=\n",
      "   CapWatts=n/a\n",
      "   Socket_CapWatts=n/a\n",
      "   CurrentWatts=5 LowestJoules=82 ConsumedJoules=2206893\n",
      "   ExtSensorsJoules=n/s ExtSensorsWatts=0 ExtSensorsTemp=n/s\n",
      "   \n",
      "\n"
     ]
    }
   ],
   "source": [
    "! scontrol show node sdumont1248"
   ]
  },
  {
   "cell_type": "code",
   "execution_count": null,
   "metadata": {},
   "outputs": [],
   "source": []
  }
 ],
 "metadata": {
  "kernelspec": {
   "display_name": "Python 3",
   "language": "python",
   "name": "python3"
  },
  "language_info": {
   "codemirror_mode": {
    "name": "ipython",
    "version": 3
   },
   "file_extension": ".py",
   "mimetype": "text/x-python",
   "name": "python",
   "nbconvert_exporter": "python",
   "pygments_lexer": "ipython3",
   "version": "3.8.5"
  }
 },
 "nbformat": 4,
 "nbformat_minor": 4
}
