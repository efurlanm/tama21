{
 "cells": [
  {
   "cell_type": "markdown",
   "metadata": {},
   "source": [
    "# Santos Dumont (SD) - Numba CPU MPI nó Sequana\n",
    "\n",
    "(usando mpiexec, sem usar Slurm)"
   ]
  },
  {
   "cell_type": "markdown",
   "metadata": {},
   "source": [
    "Sequana:"
   ]
  },
  {
   "cell_type": "code",
   "execution_count": 2,
   "metadata": {},
   "outputs": [
    {
     "name": "stdout",
     "output_type": "stream",
     "text": [
      "CPU(s):                88\n",
      "Thread(s) per core:    2\n",
      "Core(s) per socket:    22\n",
      "NUMA node(s):          2\n",
      "Model name:            Intel(R) Xeon(R) Gold 6152 CPU @ 2.10GHz\n",
      "CPU MHz:               2101.000\n"
     ]
    }
   ],
   "source": [
    "! lscpu | head -n 15 | grep \"Model \\|CPU(s):\\|Thre\\|Core\\|NUMA\\|MHz\""
   ]
  },
  {
   "cell_type": "markdown",
   "metadata": {},
   "source": [
    "Intel Turbo Boost desativado."
   ]
  },
  {
   "cell_type": "markdown",
   "metadata": {},
   "source": [
    "Hyperthreading ativo = total 88 CPUs (44 físicas, 44 lógicas)"
   ]
  },
  {
   "cell_type": "markdown",
   "metadata": {},
   "source": [
    "## Rodando usando mpiexec\n",
    "(1, 4, 9, 16, 36)"
   ]
  },
  {
   "cell_type": "markdown",
   "metadata": {},
   "source": [
    "### 1 processo"
   ]
  },
  {
   "cell_type": "code",
   "execution_count": 4,
   "metadata": {},
   "outputs": [
    {
     "name": "stdout",
     "output_type": "stream",
     "text": [
      "Heat: 750.0000 | Time: 0.5108 | MPISize: 1\n"
     ]
    }
   ],
   "source": [
    "%%bash\n",
    "module load intel_psxe/2020\n",
    "source /opt/intel/parallel_studio_xe_2020/intelpython3/etc/profile.d/conda.sh\n",
    "unset I_MPI_PMI_LIBRARY\n",
    "export UCX_TLS=rc,ud,sm,self\n",
    "mpiexec -n 1 python numbampisequana.py"
   ]
  },
  {
   "cell_type": "markdown",
   "metadata": {},
   "source": [
    "### 4 processos"
   ]
  },
  {
   "cell_type": "code",
   "execution_count": 42,
   "metadata": {},
   "outputs": [
    {
     "name": "stdout",
     "output_type": "stream",
     "text": [
      "Heat: 750.0000 | Time: 0.3033 | MPISize: 4\n"
     ]
    }
   ],
   "source": [
    "%%bash\n",
    "module load intel_psxe/2020\n",
    "source /opt/intel/parallel_studio_xe_2020/intelpython3/etc/profile.d/conda.sh\n",
    "unset I_MPI_PMI_LIBRARY\n",
    "export UCX_TLS=rc,ud,sm,self\n",
    "mpiexec -n 4 python numbampisequana.py"
   ]
  },
  {
   "cell_type": "markdown",
   "metadata": {},
   "source": [
    "### 9 processos"
   ]
  },
  {
   "cell_type": "code",
   "execution_count": 5,
   "metadata": {},
   "outputs": [
    {
     "name": "stdout",
     "output_type": "stream",
     "text": [
      "Heat: 750.0000 | Time: 0.5882 | MPISize: 9\n"
     ]
    }
   ],
   "source": [
    "%%bash\n",
    "module load intel_psxe/2020\n",
    "source /opt/intel/parallel_studio_xe_2020/intelpython3/etc/profile.d/conda.sh\n",
    "unset I_MPI_PMI_LIBRARY\n",
    "export UCX_TLS=rc,ud,sm,self\n",
    "mpiexec -n 9 python numbampisequana.py"
   ]
  },
  {
   "cell_type": "markdown",
   "metadata": {},
   "source": [
    "### 16 processos"
   ]
  },
  {
   "cell_type": "code",
   "execution_count": 6,
   "metadata": {},
   "outputs": [
    {
     "name": "stdout",
     "output_type": "stream",
     "text": [
      "Heat: 750.0000 | Time: 0.7793 | MPISize: 16\n"
     ]
    }
   ],
   "source": [
    "%%bash\n",
    "module load intel_psxe/2020\n",
    "source /opt/intel/parallel_studio_xe_2020/intelpython3/etc/profile.d/conda.sh\n",
    "unset I_MPI_PMI_LIBRARY\n",
    "export UCX_TLS=rc,ud,sm,self\n",
    "mpiexec -n 16 python numbampisequana.py"
   ]
  },
  {
   "cell_type": "markdown",
   "metadata": {},
   "source": [
    "### 36 processos"
   ]
  },
  {
   "cell_type": "code",
   "execution_count": 7,
   "metadata": {},
   "outputs": [
    {
     "name": "stdout",
     "output_type": "stream",
     "text": [
      "Heat: 750.0000 | Time: 2.1747 | MPISize: 36\n"
     ]
    }
   ],
   "source": [
    "%%bash\n",
    "module load intel_psxe/2020\n",
    "source /opt/intel/parallel_studio_xe_2020/intelpython3/etc/profile.d/conda.sh\n",
    "unset I_MPI_PMI_LIBRARY\n",
    "export UCX_TLS=rc,ud,sm,self\n",
    "mpiexec -n 36 python numbampisequana.py"
   ]
  }
 ],
 "metadata": {
  "kernelspec": {
   "display_name": "Python 3 (ipykernel)",
   "language": "python",
   "name": "python3"
  },
  "language_info": {
   "codemirror_mode": {
    "name": "ipython",
    "version": 3
   },
   "file_extension": ".py",
   "mimetype": "text/x-python",
   "name": "python",
   "nbconvert_exporter": "python",
   "pygments_lexer": "ipython3",
   "version": "3.8.8"
  }
 },
 "nbformat": 4,
 "nbformat_minor": 4
}
