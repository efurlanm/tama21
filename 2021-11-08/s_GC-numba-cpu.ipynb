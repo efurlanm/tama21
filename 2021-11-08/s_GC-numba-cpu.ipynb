{
 "cells": [
  {
   "cell_type": "markdown",
   "id": "3_cZ7lp4XhS2",
   "metadata": {
    "id": "3_cZ7lp4XhS2"
   },
   "source": [
    "# Google Colab (GC) - Numba CPU"
   ]
  },
  {
   "cell_type": "markdown",
   "id": "497a8559-7dd2-4b76-aa55-135beede97d0",
   "metadata": {},
   "source": [
    "Este Notebook é um resumo dos originais disponíveis em:\n",
    "\n",
    "https://github.com/efurlanm/tama21"
   ]
  },
  {
   "cell_type": "markdown",
   "id": "d37470d9-5bba-410b-bd82-687903d9acf2",
   "metadata": {},
   "source": [
    "## Hardware\n",
    "\n",
    "* 1 cpu física + 1 cpu lógica *hyperthreading*\n",
    "* 1 GPU Nvidia (geralmente Tesla K80)\n",
    "* vetorização AVX2\n",
    "* 12 GB RAM"
   ]
  },
  {
   "cell_type": "markdown",
   "id": "5AywrDxZAMKM",
   "metadata": {
    "id": "5AywrDxZAMKM",
    "tags": []
   },
   "source": [
    "## Fortran 90 sequencial (apenas para referência)"
   ]
  },
  {
   "cell_type": "code",
   "execution_count": 1,
   "id": "fc43aa8a-4d84-4011-a93a-9ee4c0e3472a",
   "metadata": {
    "colab": {
     "base_uri": "https://localhost:8080/"
    },
    "executionInfo": {
     "elapsed": 1304,
     "status": "ok",
     "timestamp": 1632509291074,
     "user": {
      "displayName": "E Furlan",
      "photoUrl": "https://lh3.googleusercontent.com/a-/AOh14Ghzd7UO2EoPv4GHJ2AiwebDPC3evXCqxNZAD2FZ=s64",
      "userId": "04933934069991532991"
     },
     "user_tz": 180
    },
    "id": "F88KAz6rAMKP",
    "outputId": "8878397f-c55a-48fe-ca3d-0280beae2029"
   },
   "outputs": [],
   "source": [
    "! gfortran -O3 -o heat_seq heat_seq.f90"
   ]
  },
  {
   "cell_type": "code",
   "execution_count": 2,
   "id": "oNVw5ZlFAMKQ",
   "metadata": {
    "colab": {
     "base_uri": "https://localhost:8080/"
    },
    "executionInfo": {
     "elapsed": 3291,
     "status": "ok",
     "timestamp": 1632509300258,
     "user": {
      "displayName": "E Furlan",
      "photoUrl": "https://lh3.googleusercontent.com/a-/AOh14Ghzd7UO2EoPv4GHJ2AiwebDPC3evXCqxNZAD2FZ=s64",
      "userId": "04933934069991532991"
     },
     "user_tz": 180
    },
    "id": "oNVw5ZlFAMKQ",
    "outputId": "0670ba83-f879-4b79-a92b-70c62f542ccc",
    "tags": []
   },
   "outputs": [
    {
     "name": "stdout",
     "output_type": "stream",
     "text": [
      "Heat: 750.0000\n",
      "\n",
      "real\t0m3.105s\n",
      "user\t0m3.029s\n",
      "sys\t0m0.052s\n"
     ]
    }
   ],
   "source": [
    "! time ./heat_seq"
   ]
  },
  {
   "cell_type": "markdown",
   "id": "a-Dwn1Q2Iasb",
   "metadata": {
    "id": "a-Dwn1Q2Iasb"
   },
   "source": [
    ">Comparando com o SD:\n",
    ">\n",
    ">        real\t0m3.121s\n",
    ">        user\t0m2.965s\n",
    ">        sys\t 0m0.082s"
   ]
  },
  {
   "cell_type": "markdown",
   "id": "0UKp_hQpAMKR",
   "metadata": {
    "id": "0UKp_hQpAMKR"
   },
   "source": [
    "# Python sequencial, sem Numba"
   ]
  },
  {
   "cell_type": "code",
   "execution_count": 3,
   "id": "0aa59edd-f31b-48cc-8755-b7d292f3755c",
   "metadata": {},
   "outputs": [],
   "source": [
    "def pyheat(n) :\n",
    "    import numpy as np\n",
    "    \n",
    "    energy       = 1.0\n",
    "    niters       = 250\n",
    "    anew         = np.zeros((n + 2,  n + 2), np.float64)\n",
    "    aold         = np.zeros((n + 2,  n + 2), np.float64)\n",
    "    sources      = np.empty((3, 2), np.int16)\n",
    "    sources[:,:] = [ [n//2, n//2], [n//3, n//3], [n*4//5, n*8//9] ]\n",
    "\n",
    "    def kernel(anew, aold) :\n",
    "        anew[1:-1,1:-1] = (aold[1:-1,1:-1]/2.0\n",
    "                           +(aold[2:,1:-1]+aold[:-2,1:-1]\n",
    "                           +aold[1:-1,2:]+aold[1:-1,:-2])/8.0)\n",
    "\n",
    "    for _ in range(0, niters, 2):\n",
    "        kernel(anew, aold)\n",
    "        anew[sources[:, 0], sources[:, 1]] += energy\n",
    "        kernel(aold, anew)\n",
    "        aold[sources[:, 0], sources[:, 1]] += energy\n",
    "\n",
    "    heat = np.sum(aold[1:-1, 1:-1])\n",
    "    \n",
    "    return heat, aold"
   ]
  },
  {
   "cell_type": "markdown",
   "id": "7d217cc1-3333-4d1b-9625-bb0991268563",
   "metadata": {},
   "source": [
    "Executa:"
   ]
  },
  {
   "cell_type": "code",
   "execution_count": 4,
   "id": "d4d24e6b-565f-49dd-aa28-5d2adb58b17e",
   "metadata": {},
   "outputs": [
    {
     "name": "stdout",
     "output_type": "stream",
     "text": [
      "Heat: 750.0000\n",
      "1 loop, best of 1: 22 s per loop\n"
     ]
    }
   ],
   "source": [
    "%%timeit -n1 -r1\n",
    "heat, result = pyheat(2400)\n",
    "print(f\"Heat: {heat:.4f}\")"
   ]
  },
  {
   "cell_type": "markdown",
   "id": "39a378b8-44bd-448d-b69f-6fcd3c1afee2",
   "metadata": {},
   "source": [
    "## Mostra visualmente o resultado (exemplo)"
   ]
  },
  {
   "cell_type": "code",
   "execution_count": 6,
   "id": "45734308-60d0-42a0-a3de-6822ee256524",
   "metadata": {
    "id": "eeKHpHWIAMKY",
    "outputId": "577003bd-e72b-456d-e6b6-b99fe738d1f3"
   },
   "outputs": [
    {
     "data": {
      "text/plain": [
       "array([[0.0, 0.0, 0.0, 0.0, 0.0, 0.0, 0.0, 0.0, 0.0, 0.0],\n",
       "       [0.0, 0.8, 1.5, 1.3, 1.0, 0.8, 0.6, 0.4, 0.2, 0.0],\n",
       "       [0.0, 1.5, 4.0, 2.6, 2.1, 1.6, 1.2, 0.8, 0.4, 0.0],\n",
       "       [0.0, 1.3, 2.5, 2.8, 3.1, 2.4, 1.8, 1.2, 0.6, 0.0],\n",
       "       [0.0, 1.0, 2.1, 3.1, 5.1, 3.1, 2.3, 1.7, 0.9, 0.0],\n",
       "       [0.0, 0.8, 1.6, 2.3, 3.1, 2.7, 2.5, 2.4, 1.2, 0.0],\n",
       "       [0.0, 0.6, 1.1, 1.6, 2.1, 2.2, 2.6, 4.1, 1.6, 0.0],\n",
       "       [0.0, 0.4, 0.7, 1.0, 1.3, 1.5, 1.7, 1.9, 1.0, 0.0],\n",
       "       [0.0, 0.2, 0.4, 0.5, 0.6, 0.7, 0.8, 0.8, 0.4, 0.0],\n",
       "       [0.0, 0.0, 0.0, 0.0, 0.0, 0.0, 0.0, 0.0, 0.0, 0.0]])"
      ]
     },
     "execution_count": 6,
     "metadata": {},
     "output_type": "execute_result"
    }
   ],
   "source": [
    "import numpy as np\n",
    "np.set_printoptions(precision=1, floatmode='fixed')\n",
    "heat, result = pyheat(8)\n",
    "result"
   ]
  },
  {
   "cell_type": "code",
   "execution_count": 7,
   "id": "beaa1af1-6489-4af3-9f1b-f6effd1db379",
   "metadata": {},
   "outputs": [
    {
     "data": {
      "text/plain": [
       "<matplotlib.image.AxesImage at 0x7f346b99db10>"
      ]
     },
     "execution_count": 7,
     "metadata": {},
     "output_type": "execute_result"
    },
    {
     "data": {
      "image/png": "[encoded data removed]",
      "text/plain": [
       "<Figure size 576x576 with 1 Axes>"
      ]
     },
     "metadata": {
      "needs_background": "light"
     },
     "output_type": "display_data"
    }
   ],
   "source": [
    "%matplotlib inline\n",
    "import matplotlib.pyplot as plt\n",
    "plt.figure(figsize=(8,8))\n",
    "plt.imshow(result, cmap='jet')"
   ]
  },
  {
   "cell_type": "markdown",
   "id": "aWrj-9yyAMKZ",
   "metadata": {
    "id": "aWrj-9yyAMKZ"
   },
   "source": [
    "---"
   ]
  },
  {
   "cell_type": "markdown",
   "id": "Yt4rE08cAMKZ",
   "metadata": {
    "id": "Yt4rE08cAMKZ"
   },
   "source": [
    "# Numba paralelo, usando *thread*"
   ]
  },
  {
   "cell_type": "code",
   "execution_count": 10,
   "id": "AmCx1x14AMKd",
   "metadata": {
    "colab": {
     "base_uri": "https://localhost:8080/"
    },
    "executionInfo": {
     "elapsed": 4642,
     "status": "ok",
     "timestamp": 1632512245751,
     "user": {
      "displayName": "E Furlan",
      "photoUrl": "https://lh3.googleusercontent.com/a-/AOh14Ghzd7UO2EoPv4GHJ2AiwebDPC3evXCqxNZAD2FZ=s64",
      "userId": "04933934069991532991"
     },
     "user_tz": 180
    },
    "id": "AmCx1x14AMKd",
    "outputId": "b193b752-9538-416a-888a-9d2a7a9ec317"
   },
   "outputs": [],
   "source": [
    "def nbheat(tr) :\n",
    "    import numpy as np\n",
    "    from numba import set_num_threads, get_num_threads, \\\n",
    "                      threading_layer, njit, config\n",
    "\n",
    "    n            = 2400\n",
    "    energy       = 1.0\n",
    "    niters       = 250\n",
    "    anew         = np.zeros((n + 2,  n + 2), np.float64)\n",
    "    aold         = np.zeros((n + 2,  n + 2), np.float64)\n",
    "    sources      = np.empty((3, 2), np.int16)\n",
    "    sources[:,:] = [ [n//2, n//2], [n//3, n//3], [n*4//5, n*8//9] ]\n",
    "\n",
    "# parte que é diferente\n",
    "#----------------------------------------\n",
    "    config.THREADING_LAYER = 'omp'    # OpenMP\n",
    "    set_num_threads(tr)    # seta a qtde. de threads\n",
    "    @njit('(float64[:,:],float64[:,:])', parallel=True, \\\n",
    "            fastmath=True, nogil=True)\n",
    "#----------------------------------------\n",
    "    def kernel(anew, aold) :\n",
    "        anew[1:-1,1:-1] = (aold[1:-1,1:-1]/2.0\n",
    "                           +(aold[2:,1:-1]+aold[:-2,1:-1]\n",
    "                           +aold[1:-1,2:]+aold[1:-1,:-2])/8.0)\n",
    "\n",
    "    for _ in range(0, niters, 2) :\n",
    "        kernel(anew, aold)\n",
    "        anew[sources[:, 0], sources[:, 1]] += energy\n",
    "        kernel(aold, anew)\n",
    "        aold[sources[:, 0], sources[:, 1]] += energy\n",
    "\n",
    "    heat = np.sum(aold[1:-1, 1:-1])\n",
    "    \n",
    "    return heat, aold, threading_layer(), get_num_threads()"
   ]
  },
  {
   "cell_type": "code",
   "execution_count": 11,
   "id": "1f43d80e-7663-48b6-9b30-088fd4d77d21",
   "metadata": {},
   "outputs": [
    {
     "name": "stdout",
     "output_type": "stream",
     "text": [
      "Heat: 750.0000 | Threading layer: omp | Thread count: 1\n",
      "1 loop, best of 1: 4.02 s per loop\n"
     ]
    }
   ],
   "source": [
    "%%timeit -n1 -r1\n",
    "heat, result, TL, NT = nbheat(1)\n",
    "print(f\"Heat: {heat:.4f}\", end=\" | \")\n",
    "print(f\"Threading layer: {TL}\", end=\" | \")\n",
    "print(f\"Thread count: {NT}\")"
   ]
  },
  {
   "cell_type": "code",
   "execution_count": 12,
   "id": "0e661b31-04a7-4d60-82e8-5990ec439028",
   "metadata": {},
   "outputs": [
    {
     "name": "stdout",
     "output_type": "stream",
     "text": [
      "Heat: 750.0000 | Threading layer: omp | Thread count: 2\n",
      "1 loop, best of 1: 3.69 s per loop\n"
     ]
    }
   ],
   "source": [
    "%%timeit -n1 -r1\n",
    "heat, result, TL, NT = nbheat(2)\n",
    "print(f\"Heat: {heat:.4f}\", end=\" | \")\n",
    "print(f\"Threading layer: {TL}\", end=\" | \")\n",
    "print(f\"Thread count: {NT}\")"
   ]
  },
  {
   "cell_type": "markdown",
   "id": "9375d031-d1c9-4194-81fc-758136e3b126",
   "metadata": {},
   "source": [
    "Usando apenas dois threads, pois no GC apenas um núcleo físico e um virtual estão disponíveis."
   ]
  }
 ],
 "metadata": {
  "accelerator": "GPU",
  "colab": {
   "name": "GC-numba-cpu.ipynb",
   "provenance": []
  },
  "kernelspec": {
   "display_name": "Python 3 (ipykernel)",
   "language": "python",
   "name": "python3"
  },
  "language_info": {
   "codemirror_mode": {
    "name": "ipython",
    "version": 3
   },
   "file_extension": ".py",
   "mimetype": "text/x-python",
   "name": "python",
   "nbconvert_exporter": "python",
   "pygments_lexer": "ipython3",
   "version": "3.8.8"
  }
 },
 "nbformat": 4,
 "nbformat_minor": 5
}
