{
 "cells": [
  {
   "cell_type": "markdown",
   "metadata": {},
   "source": [
    "# Santos Dumont (SD) - Numba GPU nó B715"
   ]
  },
  {
   "cell_type": "markdown",
   "metadata": {},
   "source": [
    "Código fonte: ng2.py"
   ]
  },
  {
   "cell_type": "markdown",
   "metadata": {},
   "source": [
    "* A fila *nvidia_dev* tem 4 nós, cada nó com 2 GPUs, totalizando 8 GPUs\n",
    "* Em cada nó, ao utilizar as 2 GPUs de forma exclusiva, 22 CPUs ficam sem uso\n",
    "* 2 CPUs são utilizadas, uma para cada GPU"
   ]
  },
  {
   "cell_type": "code",
   "execution_count": 1,
   "metadata": {},
   "outputs": [],
   "source": [
    "! cp ng2.py /scratch${PWD#/prj}"
   ]
  },
  {
   "cell_type": "code",
   "execution_count": 2,
   "metadata": {},
   "outputs": [
    {
     "name": "stdout",
     "output_type": "stream",
     "text": [
      "Writing ng2.srm\n"
     ]
    }
   ],
   "source": [
    "%%writefile ng2.srm\n",
    "#!/bin/bash\n",
    "#SBATCH --job-name ng2          # Job name\n",
    "#SBATCH --partition nvidia_dev # Select partition\n",
    "#SBATCH --ntasks-per-node=2    # Tasks per node\n",
    "#SBATCH --nodes=2              # Minimum to be allocated\n",
    "#SBATCH --ntasks=4             # Total tasks\n",
    "#SBATCH --time=00:20:00        # Limit execution time\n",
    "#SBATCH --exclusive            # Exclusive acccess to nodes\n",
    "\n",
    "echo '========================================'\n",
    "echo '- Job ID:' $SLURM_JOB_ID\n",
    "echo '- Tasks per node:' $SLURM_NTASKS_PER_NODE\n",
    "echo '- # of nodes in the job:' $SLURM_JOB_NUM_NODES\n",
    "echo '- # of tasks:' $SLURM_NTASKS\n",
    "echo '- Dir from which sbatch was invoked:' ${SLURM_SUBMIT_DIR##*/}\n",
    "cd $SLURM_SUBMIT_DIR\n",
    "echo -n '- List of nodes allocated to the job: '\n",
    "nodeset -e $SLURM_JOB_NODELIST\n",
    "\n",
    "# Environment\n",
    "echo '-- modules ----------------------------'\n",
    "echo 'conda activate env2, --stack env3'\n",
    "cd\n",
    "SCR=/scratch${PWD#/prj}\n",
    "cd $SCR\n",
    "source $SCR/env2/etc/profile.d/conda.sh\n",
    "conda activate $SCR/env2\n",
    "conda activate --stack $SCR/env3\n",
    "cd $SCR/b715\n",
    "\n",
    "# Executable\n",
    "EXEC=\"python ng2.py\"\n",
    "\n",
    "# Start\n",
    "OPT='--mpi=pmi2 --cpu_bind=cores --distribution=block:cyclic'\n",
    "echo '-- run --------------------------------'\n",
    "echo '$ srun -n' $SLURM_NTASKS ${EXEC##*/}\n",
    "echo '-- output -----------------------------'\n",
    "srun  $OPT  -n $SLURM_NTASKS  $EXEC  | sort\n",
    "echo '~~ end ~~~~~~~~~~~~~~~~~~~~~~~~~~~~~~~~'"
   ]
  },
  {
   "cell_type": "markdown",
   "metadata": {},
   "source": [
    "<hr style=\"height:6px;border-width:0;color:gray;background-color:gray\">"
   ]
  },
  {
   "cell_type": "markdown",
   "metadata": {},
   "source": [
    "## 1 processo, 1 GPU, 1 nó"
   ]
  },
  {
   "cell_type": "code",
   "execution_count": 3,
   "metadata": {},
   "outputs": [
    {
     "name": "stdout",
     "output_type": "stream",
     "text": [
      "Submitted batch job 3611551\n"
     ]
    }
   ],
   "source": [
    "! sbatch  --ntasks-per-node=1  --nodes=1  --ntasks=1 ng2.srm"
   ]
  },
  {
   "cell_type": "code",
   "execution_count": 5,
   "metadata": {},
   "outputs": [
    {
     "name": "stdout",
     "output_type": "stream",
     "text": [
      "         START_TIME    JOBID   PARTITION  NAME  ST  TIME NODES CPUS\n",
      "2021-11-07T11:50:38  3611551  nvidia_dev   ng2   R  0:05     1   24\n"
     ]
    }
   ],
   "source": [
    "! squeue --name ng2 --partition=nvidia_dev --format \"%.19S  %.7i  %.10P %.5j  %.2t %.5M %.5D %.4C\""
   ]
  },
  {
   "cell_type": "code",
   "execution_count": 8,
   "metadata": {},
   "outputs": [
    {
     "name": "stdout",
     "output_type": "stream",
     "text": [
      "         START_TIME    JOBID   PARTITION  NAME  ST  TIME NODES CPUS\n"
     ]
    }
   ],
   "source": [
    "! squeue --name ng2 --partition=nvidia_dev --format \"%.19S  %.7i  %.10P %.5j  %.2t %.5M %.5D %.4C\""
   ]
  },
  {
   "cell_type": "code",
   "execution_count": 9,
   "metadata": {},
   "outputs": [
    {
     "name": "stdout",
     "output_type": "stream",
     "text": [
      "========================================\n",
      "- Job ID: 3611551\n",
      "- Tasks per node: 1\n",
      "- # of nodes in the job: 1\n",
      "- # of tasks: 1\n",
      "- Dir from which sbatch was invoked: 2021-11-08\n",
      "- List of nodes allocated to the job: sdumont3052\n",
      "-- modules ----------------------------\n",
      "conda activate env2, --stack env3\n",
      "-- run --------------------------------\n",
      "$ srun -n 1 python ng2.py\n",
      "-- output -----------------------------\n",
      "1. hostname    rank crank  cid\n",
      "2. ----------- ---- ----- ----\n",
      "3. sdumont3052   00    00   00\n",
      "4. ---------------------------\n",
      "5. Heat:1500.0000, TT:105.8648, KT:2.6595, CT:103.1252, MPI:1, dim:4800, ite:500\n",
      "~~ end ~~~~~~~~~~~~~~~~~~~~~~~~~~~~~~~~\n"
     ]
    }
   ],
   "source": [
    "! cat /scratch${PWD#/prj}/slurm-3611551.out"
   ]
  },
  {
   "cell_type": "markdown",
   "metadata": {},
   "source": [
    "<hr style=\"height:6px;border-width:0;color:gray;background-color:gray\">"
   ]
  },
  {
   "cell_type": "markdown",
   "metadata": {
    "tags": []
   },
   "source": [
    "## 8 processos, 8 GPUs, 4 nós"
   ]
  },
  {
   "cell_type": "code",
   "execution_count": 10,
   "metadata": {},
   "outputs": [
    {
     "name": "stdout",
     "output_type": "stream",
     "text": [
      "Submitted batch job 3614181\n"
     ]
    }
   ],
   "source": [
    "! sbatch  --ntasks-per-node=2  --nodes=4  ng2.srm"
   ]
  },
  {
   "cell_type": "code",
   "execution_count": 11,
   "metadata": {},
   "outputs": [
    {
     "name": "stdout",
     "output_type": "stream",
     "text": [
      "         START_TIME    JOBID   PARTITION  NAME  ST  TIME NODES CPUS\n",
      "2021-11-07T11:53:45  3614181  nvidia_dev   ng2   R  0:01     4   96\n"
     ]
    }
   ],
   "source": [
    "! squeue --name ng2 --format \"%.19S  %.7i  %.10P %.5j  %.2t %.5M %.5D %.4C\""
   ]
  },
  {
   "cell_type": "code",
   "execution_count": 12,
   "metadata": {},
   "outputs": [
    {
     "name": "stdout",
     "output_type": "stream",
     "text": [
      "         START_TIME    JOBID   PARTITION  NAME  ST  TIME NODES CPUS\n"
     ]
    }
   ],
   "source": [
    "! squeue --name ng2 --format \"%.19S  %.7i  %.10P %.5j  %.2t %.5M %.5D %.4C\""
   ]
  },
  {
   "cell_type": "code",
   "execution_count": 13,
   "metadata": {},
   "outputs": [
    {
     "name": "stdout",
     "output_type": "stream",
     "text": [
      "========================================\n",
      "- Job ID: 3614181\n",
      "- Tasks per node: 2\n",
      "- # of nodes in the job: 4\n",
      "- # of tasks: 4\n",
      "- Dir from which sbatch was invoked: 2021-11-08\n",
      "- List of nodes allocated to the job: sdumont3052 sdumont3053 sdumont3054 sdumont3055\n",
      "-- modules ----------------------------\n",
      "conda activate env2, --stack env3\n",
      "-- run --------------------------------\n",
      "$ srun -n 4 python ng2.py\n",
      "-- output -----------------------------\n",
      "srun: Warning: can't honor --ntasks-per-node set to 2 which doesn't match the requested tasks 4 with the number of requested nodes 4. Ignoring --ntasks-per-node.\n",
      "1. hostname    rank crank  cid\n",
      "2. ----------- ---- ----- ----\n",
      "3. sdumont3052   00    00   00\n",
      "3. sdumont3053   01    00   00\n",
      "3. sdumont3054   02    00   00\n",
      "3. sdumont3055   03    00   00\n",
      "4. ---------------------------\n",
      "5. Heat:1500.0000, TT:27.8101, KT:0.7045, CT:26.7243, MPI:4, dim:4800, ite:500\n",
      "~~ end ~~~~~~~~~~~~~~~~~~~~~~~~~~~~~~~~\n"
     ]
    }
   ],
   "source": [
    "! cat /scratch${PWD#/prj}/slurm-3614181.out"
   ]
  },
  {
   "cell_type": "code",
   "execution_count": null,
   "metadata": {},
   "outputs": [],
   "source": []
  }
 ],
 "metadata": {
  "kernelspec": {
   "display_name": "Python 3",
   "language": "python",
   "name": "python3"
  },
  "language_info": {
   "codemirror_mode": {
    "name": "ipython",
    "version": 3
   },
   "file_extension": ".py",
   "mimetype": "text/x-python",
   "name": "python",
   "nbconvert_exporter": "python",
   "pygments_lexer": "ipython3",
   "version": "3.8.5"
  }
 },
 "nbformat": 4,
 "nbformat_minor": 4
}
