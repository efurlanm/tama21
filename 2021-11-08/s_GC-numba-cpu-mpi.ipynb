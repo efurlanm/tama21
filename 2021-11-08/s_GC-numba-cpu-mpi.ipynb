{
 "cells": [
  {
   "cell_type": "markdown",
   "metadata": {
    "id": "Dnte1q0CW7ho"
   },
   "source": [
    "# Google Colab (GC) - Numba CPU MPI"
   ]
  },
  {
   "cell_type": "markdown",
   "metadata": {},
   "source": [
    "Arquivo fonte: numbampi.py"
   ]
  },
  {
   "cell_type": "markdown",
   "metadata": {
    "id": "F5TEcvxtW7h2"
   },
   "source": [
    "### Testa a execução"
   ]
  },
  {
   "cell_type": "code",
   "execution_count": 5,
   "metadata": {
    "colab": {
     "base_uri": "https://localhost:8080/"
    },
    "executionInfo": {
     "elapsed": 7112,
     "status": "ok",
     "timestamp": 1632513908503,
     "user": {
      "displayName": "E Furlan",
      "photoUrl": "https://lh3.googleusercontent.com/a-/AOh14Ghzd7UO2EoPv4GHJ2AiwebDPC3evXCqxNZAD2FZ=s64",
      "userId": "04933934069991532991"
     },
     "user_tz": 180
    },
    "id": "t-1zS51FW7h2",
    "outputId": "911e608f-bb0c-4d9d-f79b-134418e52c3d"
   },
   "outputs": [
    {
     "name": "stdout",
     "output_type": "stream",
     "text": [
      "\n",
      "real\t0m9.064s\n",
      "user\t0m10.740s\n",
      "sys\t0m0.835s\n"
     ]
    }
   ],
   "source": [
    "! time mpiexec --allow-run-as-root -n 1 python -m cProfile -s cumtime numbampi.py > numbampi.txt"
   ]
  },
  {
   "cell_type": "code",
   "execution_count": 6,
   "metadata": {
    "colab": {
     "base_uri": "https://localhost:8080/"
    },
    "executionInfo": {
     "elapsed": 230,
     "status": "ok",
     "timestamp": 1632513937446,
     "user": {
      "displayName": "E Furlan",
      "photoUrl": "https://lh3.googleusercontent.com/a-/AOh14Ghzd7UO2EoPv4GHJ2AiwebDPC3evXCqxNZAD2FZ=s64",
      "userId": "04933934069991532991"
     },
     "user_tz": 180
    },
    "id": "ybB1CUCXW7h3",
    "outputId": "43ff5377-968b-48f1-f7c0-6213892d33d0"
   },
   "outputs": [
    {
     "name": "stdout",
     "output_type": "stream",
     "text": [
      "Heat: 750.0000 | Time: 3.5430 | MPISize: 1\n",
      "         3002588 function calls (2769283 primitive calls) in 8.121 seconds\n",
      "\n",
      "   Ordered by: cumulative time\n",
      "\n",
      "   ncalls  tottime  percall  cumtime  percall filename:lineno(function)\n",
      "    904/1    0.011    0.000    8.126    8.126 {built-in method builtins.exec}\n",
      "        1    0.034    0.034    8.126    8.126 numbampi.py:1(<module>)\n",
      "      250    3.442    0.014    3.442    0.014 numbampi.py:10(kernel)\n",
      "    44/39    0.000    0.000    3.002    0.077 decorators.py:188(wrapper)\n"
     ]
    }
   ],
   "source": [
    "! head numbampi.txt"
   ]
  },
  {
   "cell_type": "markdown",
   "metadata": {},
   "source": [
    "## Executa em 1 e 2 processos"
   ]
  },
  {
   "cell_type": "code",
   "execution_count": 7,
   "metadata": {
    "colab": {
     "base_uri": "https://localhost:8080/"
    },
    "executionInfo": {
     "elapsed": 8821,
     "status": "ok",
     "timestamp": 1632514055708,
     "user": {
      "displayName": "E Furlan",
      "photoUrl": "https://lh3.googleusercontent.com/a-/AOh14Ghzd7UO2EoPv4GHJ2AiwebDPC3evXCqxNZAD2FZ=s64",
      "userId": "04933934069991532991"
     },
     "user_tz": 180
    },
    "id": "1ATcE5aNW7h4",
    "outputId": "47f99200-ade1-4e01-875c-34d23b67fe31"
   },
   "outputs": [
    {
     "name": "stdout",
     "output_type": "stream",
     "text": [
      "Heat: 750.0000 | Time: 3.5782 | MPISize: 1\n",
      "\n",
      "real\t0m7.181s\n",
      "user\t0m9.050s\n",
      "sys\t0m0.666s\n"
     ]
    }
   ],
   "source": [
    "! time mpiexec --allow-run-as-root -n 1 python numbampi.py"
   ]
  },
  {
   "cell_type": "code",
   "execution_count": 8,
   "metadata": {
    "colab": {
     "base_uri": "https://localhost:8080/"
    },
    "executionInfo": {
     "elapsed": 8821,
     "status": "ok",
     "timestamp": 1632514055708,
     "user": {
      "displayName": "E Furlan",
      "photoUrl": "https://lh3.googleusercontent.com/a-/AOh14Ghzd7UO2EoPv4GHJ2AiwebDPC3evXCqxNZAD2FZ=s64",
      "userId": "04933934069991532991"
     },
     "user_tz": 180
    },
    "id": "1ATcE5aNW7h4",
    "outputId": "47f99200-ade1-4e01-875c-34d23b67fe31"
   },
   "outputs": [
    {
     "name": "stdout",
     "output_type": "stream",
     "text": [
      "Heat: 613.9639 | Time: 4.5423 | MPISize: 2\n",
      "\n",
      "real\t0m9.646s\n",
      "user\t0m14.543s\n",
      "sys\t0m1.479s\n"
     ]
    }
   ],
   "source": [
    "! time mpiexec --allow-run-as-root -n 2 python numbampi.py"
   ]
  },
  {
   "cell_type": "code",
   "execution_count": null,
   "metadata": {},
   "outputs": [],
   "source": []
  }
 ],
 "metadata": {
  "colab": {
   "collapsed_sections": [],
   "name": "GC-numba-cpu-mpi.ipynb",
   "provenance": []
  },
  "kernelspec": {
   "display_name": "Python 3",
   "language": "python",
   "name": "python3"
  },
  "language_info": {
   "codemirror_mode": {
    "name": "ipython",
    "version": 3
   },
   "file_extension": ".py",
   "mimetype": "text/x-python",
   "name": "python",
   "nbconvert_exporter": "python",
   "pygments_lexer": "ipython3",
   "version": "3.7.12"
  }
 },
 "nbformat": 4,
 "nbformat_minor": 4
}
