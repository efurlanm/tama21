{
 "cells": [
  {
   "cell_type": "markdown",
   "metadata": {
    "id": "Dnte1q0CW7ho"
   },
   "source": [
    "# Google Colab (GC) - Numba CPU MPI"
   ]
  },
  {
   "cell_type": "markdown",
   "metadata": {
    "id": "F5TEcvxtW7h2"
   },
   "source": [
    "### Testa a execução"
   ]
  },
  {
   "cell_type": "code",
   "execution_count": 3,
   "metadata": {
    "colab": {
     "base_uri": "https://localhost:8080/"
    },
    "executionInfo": {
     "elapsed": 7112,
     "status": "ok",
     "timestamp": 1632513908503,
     "user": {
      "displayName": "E Furlan",
      "photoUrl": "https://lh3.googleusercontent.com/a-/AOh14Ghzd7UO2EoPv4GHJ2AiwebDPC3evXCqxNZAD2FZ=s64",
      "userId": "04933934069991532991"
     },
     "user_tz": 180
    },
    "id": "t-1zS51FW7h2",
    "outputId": "911e608f-bb0c-4d9d-f79b-134418e52c3d"
   },
   "outputs": [
    {
     "name": "stdout",
     "output_type": "stream",
     "text": [
      "\n",
      "real\t0m6.619s\n",
      "user\t0m8.379s\n",
      "sys\t0m0.591s\n"
     ]
    }
   ],
   "source": [
    "! time mpiexec --allow-run-as-root -n 1 python -m cProfile -s cumtime numbampi.py > numbampi.txt"
   ]
  },
  {
   "cell_type": "code",
   "execution_count": 4,
   "metadata": {
    "colab": {
     "base_uri": "https://localhost:8080/"
    },
    "executionInfo": {
     "elapsed": 230,
     "status": "ok",
     "timestamp": 1632513937446,
     "user": {
      "displayName": "E Furlan",
      "photoUrl": "https://lh3.googleusercontent.com/a-/AOh14Ghzd7UO2EoPv4GHJ2AiwebDPC3evXCqxNZAD2FZ=s64",
      "userId": "04933934069991532991"
     },
     "user_tz": 180
    },
    "id": "ybB1CUCXW7h3",
    "outputId": "43ff5377-968b-48f1-f7c0-6213892d33d0"
   },
   "outputs": [
    {
     "name": "stdout",
     "output_type": "stream",
     "text": [
      "Heat: 750.0000 | Time: 2.7987 | MPISize: 1\n",
      "         3003038 function calls (2769733 primitive calls) in 5.581 seconds\n",
      "\n",
      "   Ordered by: cumulative time\n",
      "\n",
      "   ncalls  tottime  percall  cumtime  percall filename:lineno(function)\n",
      "    904/1    0.007    0.000    5.584    5.584 {built-in method builtins.exec}\n",
      "        1    0.033    0.033    5.584    5.584 numbampi.py:1(<module>)\n",
      "      250    2.712    0.011    2.712    0.011 numbampi.py:10(kernel)\n",
      "    44/39    0.000    0.000    1.743    0.045 decorators.py:188(wrapper)\n",
      "     50/2    0.000    0.000    1.735    0.868 compiler_lock.py:29(_acquire_compile_lock)\n",
      "        1    0.000    0.000    1.704    1.704 dispatcher.py:795(compile)\n",
      "        1    0.000    0.000    1.703    1.703 dispatcher.py:77(compile)\n",
      "        1    0.000    0.000    1.703    1.703 dispatcher.py:84(_compile_cached)\n",
      "        1    0.000    0.000    1.703    1.703 dispatcher.py:99(_compile_core)\n",
      "        1    0.000    0.000    1.703    1.703 compiler.py:601(compile_extra)\n",
      "        1    0.000    0.000    1.493    1.493 compiler.py:350(compile_extra)\n",
      "        1    0.000    0.000    1.493    1.493 compiler.py:420(_compile_bytecode)\n",
      "      2/1    0.000    0.000    1.493    1.493 compiler.py:380(_compile_core)\n",
      "      2/1    0.000    0.000    1.492    1.492 compiler_machinery.py:318(run)\n"
     ]
    }
   ],
   "source": [
    "! head -20 numbampi.txt"
   ]
  },
  {
   "cell_type": "markdown",
   "metadata": {},
   "source": [
    "## Executa"
   ]
  },
  {
   "cell_type": "code",
   "execution_count": 5,
   "metadata": {
    "colab": {
     "base_uri": "https://localhost:8080/"
    },
    "executionInfo": {
     "elapsed": 8821,
     "status": "ok",
     "timestamp": 1632514055708,
     "user": {
      "displayName": "E Furlan",
      "photoUrl": "https://lh3.googleusercontent.com/a-/AOh14Ghzd7UO2EoPv4GHJ2AiwebDPC3evXCqxNZAD2FZ=s64",
      "userId": "04933934069991532991"
     },
     "user_tz": 180
    },
    "id": "1ATcE5aNW7h4",
    "outputId": "47f99200-ade1-4e01-875c-34d23b67fe31"
   },
   "outputs": [
    {
     "name": "stdout",
     "output_type": "stream",
     "text": [
      "Heat: 750.0000 | Time: 2.7990 | MPISize: 1\n",
      "\n",
      "real\t0m5.038s\n",
      "user\t0m7.230s\n",
      "sys\t0m0.488s\n"
     ]
    }
   ],
   "source": [
    "! time mpiexec --allow-run-as-root -n 1 python numbampi.py"
   ]
  },
  {
   "cell_type": "code",
   "execution_count": 6,
   "metadata": {
    "colab": {
     "base_uri": "https://localhost:8080/"
    },
    "executionInfo": {
     "elapsed": 8821,
     "status": "ok",
     "timestamp": 1632514055708,
     "user": {
      "displayName": "E Furlan",
      "photoUrl": "https://lh3.googleusercontent.com/a-/AOh14Ghzd7UO2EoPv4GHJ2AiwebDPC3evXCqxNZAD2FZ=s64",
      "userId": "04933934069991532991"
     },
     "user_tz": 180
    },
    "id": "1ATcE5aNW7h4",
    "outputId": "47f99200-ade1-4e01-875c-34d23b67fe31"
   },
   "outputs": [
    {
     "name": "stdout",
     "output_type": "stream",
     "text": [
      "Heat: 613.9639 | Time: 3.6108 | MPISize: 2\n",
      "\n",
      "real\t0m7.474s\n",
      "user\t0m13.194s\n",
      "sys\t0m0.947s\n"
     ]
    }
   ],
   "source": [
    "! time mpiexec --allow-run-as-root -n 2 python numbampi.py"
   ]
  }
 ],
 "metadata": {
  "colab": {
   "collapsed_sections": [],
   "name": "GC-numba-cpu-mpi.ipynb",
   "provenance": []
  },
  "kernelspec": {
   "display_name": "Python 3 (ipykernel)",
   "language": "python",
   "name": "python3"
  },
  "language_info": {
   "codemirror_mode": {
    "name": "ipython",
    "version": 3
   },
   "file_extension": ".py",
   "mimetype": "text/x-python",
   "name": "python",
   "nbconvert_exporter": "python",
   "pygments_lexer": "ipython3",
   "version": "3.8.8"
  }
 },
 "nbformat": 4,
 "nbformat_minor": 4
}
