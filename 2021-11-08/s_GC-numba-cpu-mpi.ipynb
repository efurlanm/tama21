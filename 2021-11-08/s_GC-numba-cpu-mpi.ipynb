{
 "cells": [
  {
   "cell_type": "markdown",
   "metadata": {
    "id": "Dnte1q0CW7ho"
   },
   "source": [
    "# Google Colab (GC) - Numba CPU MPI"
   ]
  },
  {
   "cell_type": "markdown",
   "metadata": {
    "id": "F5TEcvxtW7h2"
   },
   "source": [
    "### Testa a execução"
   ]
  },
  {
   "cell_type": "code",
   "execution_count": 1,
   "metadata": {
    "colab": {
     "base_uri": "https://localhost:8080/"
    },
    "executionInfo": {
     "elapsed": 7112,
     "status": "ok",
     "timestamp": 1632513908503,
     "user": {
      "displayName": "E Furlan",
      "photoUrl": "https://lh3.googleusercontent.com/a-/AOh14Ghzd7UO2EoPv4GHJ2AiwebDPC3evXCqxNZAD2FZ=s64",
      "userId": "04933934069991532991"
     },
     "user_tz": 180
    },
    "id": "t-1zS51FW7h2",
    "outputId": "911e608f-bb0c-4d9d-f79b-134418e52c3d"
   },
   "outputs": [
    {
     "name": "stdout",
     "output_type": "stream",
     "text": [
      "\n",
      "real\t0m8.381s\n",
      "user\t0m8.397s\n",
      "sys\t0m0.683s\n"
     ]
    }
   ],
   "source": [
    "! time mpiexec --allow-run-as-root -n 1 python -m cProfile -s cumtime numbampi.py > numbampi.txt"
   ]
  },
  {
   "cell_type": "code",
   "execution_count": 2,
   "metadata": {
    "colab": {
     "base_uri": "https://localhost:8080/"
    },
    "executionInfo": {
     "elapsed": 230,
     "status": "ok",
     "timestamp": 1632513937446,
     "user": {
      "displayName": "E Furlan",
      "photoUrl": "https://lh3.googleusercontent.com/a-/AOh14Ghzd7UO2EoPv4GHJ2AiwebDPC3evXCqxNZAD2FZ=s64",
      "userId": "04933934069991532991"
     },
     "user_tz": 180
    },
    "id": "ybB1CUCXW7h3",
    "outputId": "43ff5377-968b-48f1-f7c0-6213892d33d0"
   },
   "outputs": [
    {
     "name": "stdout",
     "output_type": "stream",
     "text": [
      "Heat: 750.0000 | Time: 2.8330 | MPISize: 1\n",
      "         3002677 function calls (2769372 primitive calls) in 7.151 seconds\n",
      "\n",
      "   Ordered by: cumulative time\n",
      "\n",
      "   ncalls  tottime  percall  cumtime  percall filename:lineno(function)\n",
      "    904/1    0.008    0.000    7.154    7.154 {built-in method builtins.exec}\n",
      "        1    0.030    0.030    7.154    7.154 numbampi.py:1(<module>)\n",
      "        6    0.000    0.000    3.484    0.581 __init__.py:3(<module>)\n",
      "      250    2.751    0.011    2.751    0.011 numbampi.py:10(kernel)\n",
      "   614/33    0.004    0.000    2.716    0.082 <frozen importlib._bootstrap>:978(_find_and_load)\n",
      "   614/33    0.003    0.000    2.715    0.082 <frozen importlib._bootstrap>:948(_find_and_load_unlocked)\n",
      "   591/33    0.004    0.000    2.708    0.082 <frozen importlib._bootstrap>:663(_load_unlocked)\n",
      "   879/33    0.001    0.000    2.706    0.082 <frozen importlib._bootstrap>:211(_call_with_frames_removed)\n",
      "   515/31    0.002    0.000    2.522    0.081 <frozen importlib._bootstrap_external>:722(exec_module)\n",
      "   506/65    0.002    0.000    2.233    0.034 {built-in method builtins.__import__}\n",
      "8504/5728    0.009    0.000    2.227    0.000 <frozen importlib._bootstrap>:1009(_handle_fromlist)\n",
      "    44/39    0.000    0.000    2.191    0.056 decorators.py:188(wrapper)\n",
      "     50/2    0.000    0.000    2.183    1.091 compiler_lock.py:29(_acquire_compile_lock)\n",
      "        1    0.000    0.000    1.789    1.789 dispatcher.py:795(compile)\n"
     ]
    }
   ],
   "source": [
    "! head -20 numbampi.txt"
   ]
  },
  {
   "cell_type": "markdown",
   "metadata": {},
   "source": [
    "## Executa"
   ]
  },
  {
   "cell_type": "code",
   "execution_count": 3,
   "metadata": {
    "colab": {
     "base_uri": "https://localhost:8080/"
    },
    "executionInfo": {
     "elapsed": 8821,
     "status": "ok",
     "timestamp": 1632514055708,
     "user": {
      "displayName": "E Furlan",
      "photoUrl": "https://lh3.googleusercontent.com/a-/AOh14Ghzd7UO2EoPv4GHJ2AiwebDPC3evXCqxNZAD2FZ=s64",
      "userId": "04933934069991532991"
     },
     "user_tz": 180
    },
    "id": "1ATcE5aNW7h4",
    "outputId": "47f99200-ade1-4e01-875c-34d23b67fe31"
   },
   "outputs": [
    {
     "name": "stdout",
     "output_type": "stream",
     "text": [
      "Heat: 750.0000 | Time: 2.7783 | MPISize: 1\n",
      "\n",
      "real\t0m4.930s\n",
      "user\t0m7.128s\n",
      "sys\t0m0.488s\n"
     ]
    }
   ],
   "source": [
    "! time mpiexec --allow-run-as-root -n 1 python numbampi.py"
   ]
  },
  {
   "cell_type": "code",
   "execution_count": 4,
   "metadata": {
    "colab": {
     "base_uri": "https://localhost:8080/"
    },
    "executionInfo": {
     "elapsed": 8821,
     "status": "ok",
     "timestamp": 1632514055708,
     "user": {
      "displayName": "E Furlan",
      "photoUrl": "https://lh3.googleusercontent.com/a-/AOh14Ghzd7UO2EoPv4GHJ2AiwebDPC3evXCqxNZAD2FZ=s64",
      "userId": "04933934069991532991"
     },
     "user_tz": 180
    },
    "id": "1ATcE5aNW7h4",
    "outputId": "47f99200-ade1-4e01-875c-34d23b67fe31"
   },
   "outputs": [
    {
     "name": "stdout",
     "output_type": "stream",
     "text": [
      "Heat: 613.9639 | Time: 3.5592 | MPISize: 2\n",
      "\n",
      "real\t0m7.270s\n",
      "user\t0m13.001s\n",
      "sys\t0m0.823s\n"
     ]
    }
   ],
   "source": [
    "! time mpiexec --allow-run-as-root -n 2 python numbampi.py"
   ]
  },
  {
   "cell_type": "code",
   "execution_count": null,
   "metadata": {},
   "outputs": [],
   "source": []
  }
 ],
 "metadata": {
  "colab": {
   "collapsed_sections": [],
   "name": "GC-numba-cpu-mpi.ipynb",
   "provenance": []
  },
  "kernelspec": {
   "display_name": "Python 3",
   "language": "python",
   "name": "python3"
  },
  "language_info": {
   "codemirror_mode": {
    "name": "ipython",
    "version": 3
   },
   "file_extension": ".py",
   "mimetype": "text/x-python",
   "name": "python",
   "nbconvert_exporter": "python",
   "pygments_lexer": "ipython3",
   "version": "3.7.12"
  }
 },
 "nbformat": 4,
 "nbformat_minor": 4
}
