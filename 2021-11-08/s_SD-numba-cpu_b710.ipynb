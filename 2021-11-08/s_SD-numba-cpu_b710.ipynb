{
 "cells": [
  {
   "cell_type": "markdown",
   "metadata": {},
   "source": [
    "# Santos Dumont (SD) - Numba CPU"
   ]
  },
  {
   "cell_type": "markdown",
   "metadata": {},
   "source": [
    "* Total 36.472 núcleos de CPU, distribuidos em 1.134 nós computacionais\n",
    "* 396 GPU Nvidia Tesla K40, em 198 nós Bull B715\n",
    "* 376 GPU Nvidia Volta V100, em 94 nós Bull Sequana X1120"
   ]
  },
  {
   "cell_type": "markdown",
   "metadata": {
    "id": "mZ2DozlzAMKE"
   },
   "source": [
    "---"
   ]
  },
  {
   "cell_type": "markdown",
   "metadata": {
    "id": "5AywrDxZAMKM",
    "tags": []
   },
   "source": [
    "## Fortran 90 sequencial (apenas para referência)"
   ]
  },
  {
   "cell_type": "code",
   "execution_count": 1,
   "metadata": {},
   "outputs": [],
   "source": [
    "! gfortran -O3 -o heat_seq  heat_seq.f90"
   ]
  },
  {
   "cell_type": "code",
   "execution_count": 2,
   "metadata": {
    "tags": []
   },
   "outputs": [
    {
     "name": "stdout",
     "output_type": "stream",
     "text": [
      "Heat: 750.0000\n",
      "\n",
      "real\t0m2.848s\n",
      "user\t0m2.720s\n",
      "sys\t0m0.086s\n"
     ]
    }
   ],
   "source": [
    "! time ./heat_seq"
   ]
  },
  {
   "cell_type": "markdown",
   "metadata": {},
   "source": [
    "> Nota: o nó de login não deve ser utilizado para rodar os programas finais; utilizá-lo apenas para compilar, fazer testes curtos, e gerenciar a fila de execução usando o Slurm."
   ]
  },
  {
   "cell_type": "markdown",
   "metadata": {},
   "source": [
    "# Python sequencial, sem Numba"
   ]
  },
  {
   "cell_type": "code",
   "execution_count": 3,
   "metadata": {},
   "outputs": [],
   "source": [
    "def pyheat(n) :\n",
    "    import numpy as np\n",
    "    \n",
    "    energy       = 1.0\n",
    "    niters       = 250\n",
    "    anew         = np.zeros((n + 2,  n + 2), np.float64)\n",
    "    aold         = np.zeros((n + 2,  n + 2), np.float64)\n",
    "    sources      = np.empty((3, 2), np.int16)\n",
    "    sources[:,:] = [ [n//2, n//2], [n//3, n//3], [n*4//5, n*8//9] ]\n",
    "\n",
    "    def kernel(anew, aold) :\n",
    "        anew[1:-1,1:-1] = (aold[1:-1,1:-1]/2.0\n",
    "                           +(aold[2:,1:-1]+aold[:-2,1:-1]\n",
    "                           +aold[1:-1,2:]+aold[1:-1,:-2])/8.0)\n",
    "\n",
    "    for _ in range(0, niters, 2):\n",
    "        kernel(anew, aold)\n",
    "        anew[sources[:, 0], sources[:, 1]] += energy\n",
    "        kernel(aold, anew)\n",
    "        aold[sources[:, 0], sources[:, 1]] += energy\n",
    "\n",
    "    heat = np.sum(aold[1:-1, 1:-1])\n",
    "    \n",
    "    return heat, aold"
   ]
  },
  {
   "cell_type": "markdown",
   "metadata": {},
   "source": [
    "Executa:"
   ]
  },
  {
   "cell_type": "code",
   "execution_count": 4,
   "metadata": {},
   "outputs": [
    {
     "name": "stdout",
     "output_type": "stream",
     "text": [
      "Heat: 750.0000\n",
      "31.4 s ± 0 ns per loop (mean ± std. dev. of 1 run, 1 loop each)\n"
     ]
    }
   ],
   "source": [
    "%%timeit -n1 -r1\n",
    "heat, result = pyheat(2400)\n",
    "print(f\"Heat: {heat:.4f}\")"
   ]
  },
  {
   "cell_type": "markdown",
   "metadata": {},
   "source": [
    "## Mostra visualmente o resultado (exemplo 8 x 8)"
   ]
  },
  {
   "cell_type": "code",
   "execution_count": 5,
   "metadata": {
    "id": "eeKHpHWIAMKY",
    "outputId": "577003bd-e72b-456d-e6b6-b99fe738d1f3"
   },
   "outputs": [
    {
     "data": {
      "text/plain": [
       "array([[0.0, 0.0, 0.0, 0.0, 0.0, 0.0, 0.0, 0.0, 0.0, 0.0],\n",
       "       [0.0, 0.8, 1.5, 1.3, 1.0, 0.8, 0.6, 0.4, 0.2, 0.0],\n",
       "       [0.0, 1.5, 4.0, 2.6, 2.1, 1.6, 1.2, 0.8, 0.4, 0.0],\n",
       "       [0.0, 1.3, 2.5, 2.8, 3.1, 2.4, 1.8, 1.2, 0.6, 0.0],\n",
       "       [0.0, 1.0, 2.1, 3.1, 5.1, 3.1, 2.3, 1.7, 0.9, 0.0],\n",
       "       [0.0, 0.8, 1.6, 2.3, 3.1, 2.7, 2.5, 2.4, 1.2, 0.0],\n",
       "       [0.0, 0.6, 1.1, 1.6, 2.1, 2.2, 2.6, 4.1, 1.6, 0.0],\n",
       "       [0.0, 0.4, 0.7, 1.0, 1.3, 1.5, 1.7, 1.9, 1.0, 0.0],\n",
       "       [0.0, 0.2, 0.4, 0.5, 0.6, 0.7, 0.8, 0.8, 0.4, 0.0],\n",
       "       [0.0, 0.0, 0.0, 0.0, 0.0, 0.0, 0.0, 0.0, 0.0, 0.0]])"
      ]
     },
     "execution_count": 5,
     "metadata": {},
     "output_type": "execute_result"
    }
   ],
   "source": [
    "import numpy as np\n",
    "np.set_printoptions(precision=1, floatmode='fixed')\n",
    "heat, result = pyheat(8)\n",
    "result"
   ]
  },
  {
   "cell_type": "code",
   "execution_count": 6,
   "metadata": {},
   "outputs": [
    {
     "data": {
      "text/plain": [
       "<matplotlib.image.AxesImage at 0x7fec5a250ca0>"
      ]
     },
     "execution_count": 6,
     "metadata": {},
     "output_type": "execute_result"
    },
    {
     "data": {
      "image/png": "[encoded data removed]",
      "text/plain": [
       "<Figure size 576x576 with 1 Axes>"
      ]
     },
     "metadata": {
      "needs_background": "light"
     },
     "output_type": "display_data"
    }
   ],
   "source": [
    "%matplotlib inline\n",
    "import matplotlib.pyplot as plt\n",
    "plt.figure(figsize=(8,8))\n",
    "plt.imshow(result, cmap='jet')"
   ]
  },
  {
   "cell_type": "markdown",
   "metadata": {},
   "source": [
    "---"
   ]
  },
  {
   "cell_type": "markdown",
   "metadata": {
    "id": "Yt4rE08cAMKZ"
   },
   "source": [
    "# Numba paralelo usando *thread*"
   ]
  },
  {
   "cell_type": "markdown",
   "metadata": {},
   "source": [
    "ttb = Intel Threading Building Blocks (TBB)"
   ]
  },
  {
   "cell_type": "code",
   "execution_count": 7,
   "metadata": {
    "colab": {
     "base_uri": "https://localhost:8080/"
    },
    "executionInfo": {
     "elapsed": 4642,
     "status": "ok",
     "timestamp": 1632512245751,
     "user": {
      "displayName": "E Furlan",
      "photoUrl": "https://lh3.googleusercontent.com/a-/AOh14Ghzd7UO2EoPv4GHJ2AiwebDPC3evXCqxNZAD2FZ=s64",
      "userId": "04933934069991532991"
     },
     "user_tz": 180
    },
    "id": "AmCx1x14AMKd",
    "outputId": "b193b752-9538-416a-888a-9d2a7a9ec317"
   },
   "outputs": [],
   "source": [
    "def nbheat(tr) :\n",
    "    import numpy as np\n",
    "    from numba import set_num_threads, get_num_threads, \\\n",
    "                      threading_layer, njit, config\n",
    "\n",
    "    n            = 2400\n",
    "    energy       = 1.0\n",
    "    niters       = 250\n",
    "    anew         = np.zeros((n + 2,  n + 2), np.float64)\n",
    "    aold         = np.zeros((n + 2,  n + 2), np.float64)\n",
    "    sources      = np.empty((3, 2), np.int16)\n",
    "    sources[:,:] = [ [n//2, n//2], [n//3, n//3], [n*4//5, n*8//9] ]\n",
    "\n",
    "# parte que é diferente\n",
    "#----------------------------------------\n",
    "    set_num_threads(tr)    # seta a qtde. de threads\n",
    "    @njit('(float64[:,:],float64[:,:])', parallel=True, \\\n",
    "            fastmath=True, nogil=True)\n",
    "#----------------------------------------\n",
    "    def kernel(anew, aold) :\n",
    "        anew[1:-1,1:-1] = (aold[1:-1,1:-1]/2.0\n",
    "                           +(aold[2:,1:-1]+aold[:-2,1:-1]\n",
    "                           +aold[1:-1,2:]+aold[1:-1,:-2])/8.0)\n",
    "\n",
    "    for _ in range(0, niters, 2) :\n",
    "        kernel(anew, aold)\n",
    "        anew[sources[:, 0], sources[:, 1]] += energy\n",
    "        kernel(aold, anew)\n",
    "        aold[sources[:, 0], sources[:, 1]] += energy\n",
    "\n",
    "    heat = np.sum(aold[1:-1, 1:-1])\n",
    "    \n",
    "    return heat, aold, threading_layer(), get_num_threads()"
   ]
  },
  {
   "cell_type": "code",
   "execution_count": 8,
   "metadata": {},
   "outputs": [
    {
     "name": "stdout",
     "output_type": "stream",
     "text": [
      "Heat: 750.0000 | Threading layer: tbb | Thread count: 1\n",
      "20 s ± 0 ns per loop (mean ± std. dev. of 1 run, 1 loop each)\n"
     ]
    }
   ],
   "source": [
    "%%timeit -n1 -r1\n",
    "heat, result, TL, NT = nbheat(1)\n",
    "print(f\"Heat: {heat:.4f}\", end=\" | \")\n",
    "print(f\"Threading layer: {TL}\", end=\" | \")\n",
    "print(f\"Thread count: {NT}\")"
   ]
  },
  {
   "cell_type": "code",
   "execution_count": 9,
   "metadata": {},
   "outputs": [
    {
     "name": "stdout",
     "output_type": "stream",
     "text": [
      "Heat: 750.0000 | Threading layer: tbb | Thread count: 2\n",
      "2.61 s ± 0 ns per loop (mean ± std. dev. of 1 run, 1 loop each)\n"
     ]
    }
   ],
   "source": [
    "%%timeit -n1 -r1\n",
    "heat, result, TL, NT = nbheat(2)\n",
    "print(f\"Heat: {heat:.4f}\", end=\" | \")\n",
    "print(f\"Threading layer: {TL}\", end=\" | \")\n",
    "print(f\"Thread count: {NT}\")"
   ]
  },
  {
   "cell_type": "code",
   "execution_count": 10,
   "metadata": {},
   "outputs": [
    {
     "name": "stdout",
     "output_type": "stream",
     "text": [
      "Heat: 750.0000 | Threading layer: tbb | Thread count: 12\n",
      "1.91 s ± 0 ns per loop (mean ± std. dev. of 1 run, 1 loop each)\n"
     ]
    }
   ],
   "source": [
    "%%timeit -n1 -r1\n",
    "heat, result, TL, NT = nbheat(12)\n",
    "print(f\"Heat: {heat:.4f}\", end=\" | \")\n",
    "print(f\"Threading layer: {TL}\", end=\" | \")\n",
    "print(f\"Thread count: {NT}\")"
   ]
  },
  {
   "cell_type": "code",
   "execution_count": 11,
   "metadata": {},
   "outputs": [
    {
     "name": "stdout",
     "output_type": "stream",
     "text": [
      "Heat: 750.0000 | Threading layer: tbb | Thread count: 24\n",
      "1.98 s ± 0 ns per loop (mean ± std. dev. of 1 run, 1 loop each)\n"
     ]
    }
   ],
   "source": [
    "%%timeit -n1 -r1\n",
    "heat, result, TL, NT = nbheat(24)\n",
    "print(f\"Heat: {heat:.4f}\", end=\" | \")\n",
    "print(f\"Threading layer: {TL}\", end=\" | \")\n",
    "print(f\"Thread count: {NT}\")"
   ]
  },
  {
   "cell_type": "code",
   "execution_count": null,
   "metadata": {},
   "outputs": [],
   "source": []
  }
 ],
 "metadata": {
  "kernelspec": {
   "display_name": "Python 3",
   "language": "python",
   "name": "python3"
  },
  "language_info": {
   "codemirror_mode": {
    "name": "ipython",
    "version": 3
   },
   "file_extension": ".py",
   "mimetype": "text/x-python",
   "name": "python",
   "nbconvert_exporter": "python",
   "pygments_lexer": "ipython3",
   "version": "3.8.5"
  }
 },
 "nbformat": 4,
 "nbformat_minor": 5
}
