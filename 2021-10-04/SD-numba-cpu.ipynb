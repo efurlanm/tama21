{
 "cells": [
  {
   "cell_type": "markdown",
   "id": "d55e731f-0fff-49ce-95ed-c6fe20e60cdc",
   "metadata": {},
   "source": [
    "# Santos Dumont (SD) - Numba CPU"
   ]
  },
  {
   "cell_type": "markdown",
   "id": "95855a1d",
   "metadata": {
    "tags": []
   },
   "source": [
    "# Abordagem PAD no ambiente Python para um caso de teste de computação científica\n",
    "\n",
    "Exemplo mostrando abordagen de Processamento de Alto Desempenho (PAD ou HPC) no ambiente Python, para a solução de um caso de teste de computação científica, usando o supercomputador Santos Dumont (SD). Para este exemplo foi selecionado o compilador Numba rodando em CPU e em GPU, usando os nós B710 e Sequana."
   ]
  },
  {
   "cell_type": "markdown",
   "id": "f045531a",
   "metadata": {},
   "source": [
    "## Caso de teste: estêncil de cinco pontos\n",
    "\n",
    "(versão sequencial)\n",
    "\n",
    "O caso de teste adotado é um conhecido problema de transferência de calor sobre uma superfície finita, modelado pela equação diferencial parcial de Poisson, que modela a distribuição de temperatura normalizada sobre a superfície ao longo de uma série de iterações que compõem a simulação. A equação de Poisson discretizada 2D com um estêncil de 5 pontos pode ser expressa por:\n",
    "\n",
    "$$\n",
    "\\frac{\\partial^2 U}{\\partial x^2} +\n",
    "\\frac{\\partial^2 U}{\\partial y^2} \\approx\n",
    "\\frac{U_{i+1,j}+U_{i,j+1}-4U_{i,j}+U_{i-1,j}+U_{i,j-1}}{h^2}\n",
    "$$\n",
    "\n",
    "Comumente empregada para soluções numéricas, esta equação é discretizada em uma grade finita e resolvida por um método de diferenças finitas. O algoritmo específico requer o cálculo de um estêncil de 5 pontos sobre a grade de domínio 2D para atualizar as temperaturas a cada etapa de tempo. Para este problema, são assumidos um campo de temperatura uniforme inicial com valor zero sobre a superfície, e condições adiabáticas ou de contorno de Dirichlet. O estêncil de 5 pontos consiste em atualizar um ponto da grade fazendo a média das temperaturas de si mesmo com as temperaturas de seus quatro vizinhos, esquerda-direita e cima-baixo na grade. O campo de temperatura $ U $ é definido sobre uma grade discreta $ (x, y) $ com resoluções espaciais $ \\Delta x = \\Delta y = h $. Assim, a discretização mapeia as coordenadas cartesianas reais $ (x, y) $ para uma grade discreta $ (i, j) $, com $ U_ {x, y} = U_ {i, j} \\,, \\, U_ {x + h, y} = U_ {i + 1, j} \\, $ para a dimensão $ x $, e analogamente para a dimensão $ y $. A grade é representada pela figura:\n",
    "\n",
    "![](img/grade.png)\n",
    "\n",
    "Três fontes de calor de taxa constante foram colocadas em pontos de grade localizados, e cada uma introduz uma quantidade de calor unitária a cada passo de tempo. A simulação de transferência de calor é modelada por um número finito de etapas de tempo, sendo todos os pontos da grade atualizados a cada etapa. A distribuição da temperatura será determinada pelas fontes de calor e pelas condições de contorno de Dirichlet, o que implica em temperatura zero nos pontos de fronteira da grade. O resultado final é representado pela figura:\n",
    "\n",
    "![](img/fontes.png)"
   ]
  },
  {
   "cell_type": "markdown",
   "id": "8ad3d015",
   "metadata": {},
   "source": [
    "---"
   ]
  },
  {
   "cell_type": "markdown",
   "id": "aae4f9c6",
   "metadata": {},
   "source": [
    "# Implementação\n",
    "\n",
    "A parte computacionalmente intensiva é a atualização dos pontos da grade (atualização da matriz) utilizando a equação (cálculo do estêncil), onde dois laços de repetição são utilizados, um para cada dimensão.\n",
    "\n",
    "Em cada iteração, após a atualização da grade uma unidade de calor é inserida em três pontos de inserção de calor.\n",
    "\n",
    "Duas matrizes são utilizadas alternadamente nas iterações pois o cálculo do estêncil depende de pontos de células vizinhas que não podem ser sobrepostos. Desta forma, uma \"nova\" matriz de resultados é utilizada para armazenar os cálculos feitos a partir da matriz \"antiga\" que contém os dados. Quando a matriz \"nova\" está finalizada, a matriz \"antiga\" pode então ser descartada e utilizada para armazenar os resultados da próxima iteração, e desta forma as duas matrizes ficam alternando suas funções durante as iterações.\n",
    "\n",
    "Ao término das iterações, é feita uma soma de todos os pontos da grade, para obter o total de calor."
   ]
  },
  {
   "cell_type": "markdown",
   "id": "a52f39e7",
   "metadata": {},
   "source": [
    "Nó B710:"
   ]
  },
  {
   "cell_type": "code",
   "execution_count": 1,
   "id": "443b47be",
   "metadata": {},
   "outputs": [
    {
     "name": "stdout",
     "output_type": "stream",
     "text": [
      "CPU(s):                24\n",
      "Thread(s) per core:    1\n",
      "Core(s) per socket:    12\n",
      "NUMA node(s):          2\n",
      "Model name:            Intel(R) Xeon(R) CPU E5-2695 v2 @ 2.40GHz\n",
      "CPU MHz:               2435.302\n"
     ]
    }
   ],
   "source": [
    "! lscpu | head -n 15 | grep \"Model \\|CPU(s):\\|Thre\\|Core\\|NUMA\\|MHz\""
   ]
  },
  {
   "cell_type": "markdown",
   "id": "a825f609",
   "metadata": {},
   "source": [
    "Intel Turbo Boost, ativo = 0 (afeta as medições de velocidade no nó de login):"
   ]
  },
  {
   "cell_type": "code",
   "execution_count": 2,
   "id": "dbbb1b7d",
   "metadata": {},
   "outputs": [
    {
     "name": "stdout",
     "output_type": "stream",
     "text": [
      "0\n"
     ]
    }
   ],
   "source": [
    "! cat /sys/devices/system/cpu/intel_pstate/no_turbo"
   ]
  },
  {
   "cell_type": "markdown",
   "id": "9dba4eb5",
   "metadata": {},
   "source": [
    "Hyperthreading, ativo = 1 :"
   ]
  },
  {
   "cell_type": "code",
   "execution_count": 5,
   "id": "e1468014",
   "metadata": {},
   "outputs": [
    {
     "name": "stdout",
     "output_type": "stream",
     "text": [
      "0\n"
     ]
    }
   ],
   "source": [
    "! cat /sys/devices/system/cpu/smt/active"
   ]
  },
  {
   "cell_type": "markdown",
   "id": "33cab28c",
   "metadata": {},
   "source": [
    "## Fortran 90 sequencial\n",
    "\n",
    "O código F90 pode ser desenvolvindo de várias maneiras, como por exemplo, usando uma [IDE para F90](https://cbfortran.sourceforge.io/), usando um [Kernel para o Jupyter Notebook (JN)](https://gitlab.com/lfortran/fortran_kernel), ou então usando uma célula do JN como um editor de texto comum para criar/gravar um arquivo no disco, como mostrado a seguir:"
   ]
  },
  {
   "cell_type": "code",
   "execution_count": 1,
   "id": "98ec94e0",
   "metadata": {},
   "outputs": [
    {
     "name": "stdout",
     "output_type": "stream",
     "text": [
      "Writing heat_seq.f90\n"
     ]
    }
   ],
   "source": [
    "%%writefile heat_seq.f90\n",
    "\n",
    "! computationally intensive core\n",
    "subroutine kernel(anew, aold, sizeStart, sizeEnd)\n",
    "    double precision, intent(out) :: anew(:,:)\n",
    "    double precision, intent(in)  :: aold(:,:)\n",
    "    integer, intent(in) :: sizeStart, sizeEnd\n",
    "    integer             :: i, j\n",
    "\n",
    "    do j = sizeStart, sizeEnd\n",
    "        do i = sizeStart, sizeEnd\n",
    "            anew(i,j)= aold(i,j)/2.0  &\n",
    "                +(aold(i-1,j)+aold(i+1,j)+aold(i,j-1)+aold(i,j+1))/8.0\n",
    "        enddo\n",
    "    enddo   \n",
    "end subroutine\n",
    "\n",
    "! main routine\n",
    "program stencil\n",
    "    implicit none\n",
    "    interface\n",
    "        subroutine kernel(anew, aold, sizeStart, sizeEnd)\n",
    "            double precision, intent(out) :: anew(:,:)\n",
    "            double precision, intent(in)  :: aold(:,:)\n",
    "            integer, intent(in) :: sizeStart, sizeEnd\n",
    "        end subroutine\n",
    "    end interface\n",
    "    \n",
    "    ! parameters for calculation\n",
    "    integer             :: n=2400     ! n x n grid\n",
    "    integer             :: energy=1   ! energy to be injected per iteration\n",
    "    integer             :: niters=250 ! number of iterations\n",
    "\n",
    "    ! other variables\n",
    "    integer, parameter  :: nsources=3\n",
    "    integer, dimension(3, 2)        :: sources\n",
    "    double precision, allocatable   :: aold(:,:), anew(:,:)\n",
    "    integer             :: iters, i, j, size, sizeStart, sizeEnd\n",
    "    double precision    :: heat=0.0           \n",
    "    \n",
    "    size = n + 2\n",
    "    sizeStart = 2\n",
    "    sizeEnd = n + 1\n",
    "\n",
    "    allocate(aold(size, size))\n",
    "    allocate(anew(size, size))\n",
    "    aold = 0.0\n",
    "    anew = 0.0\n",
    "\n",
    "    sources(1,:) = (/ n/2,   n/2   /)\n",
    "    sources(2,:) = (/ n/3,   n/3   /)\n",
    "    sources(3,:) = (/ n*4/5, n*8/9 /)\n",
    "\n",
    "    do iters = 1, niters, 2\n",
    "        \n",
    "        ! odd iteration: anew <- stencil(aold)\n",
    "            \n",
    "        ! computationally intensive core\n",
    "        call kernel(anew, aold, sizeStart, sizeEnd)\n",
    "        \n",
    "        ! three-point energy insertion\n",
    "        do i = 1, nsources\n",
    "            anew(sources(i,1)+1, sources(i,2)+1) =  &\n",
    "                anew(sources(i,1)+1, sources(i,2)+1) + energy\n",
    "        enddo\n",
    "\n",
    "        ! even iteration: aold <- stencil(anew)\n",
    "           \n",
    "        ! computationally intensive core\n",
    "        call kernel(aold, anew, sizeStart, sizeEnd)\n",
    "\n",
    "        ! three-point energy insertion       \n",
    "        do i = 1, nsources\n",
    "            aold(sources(i,1)+1, sources(i,2)+1) =  &\n",
    "                aold(sources(i,1)+1, sources(i,2)+1) + energy\n",
    "        enddo\n",
    "\n",
    "    enddo\n",
    "\n",
    "    ! sum of grid points to get total heat\n",
    "    heat = 0.0\n",
    "    do j = sizeStart, sizeEnd\n",
    "        do i = sizeStart, sizeEnd\n",
    "            heat = heat + aold(i,j)\n",
    "        end do\n",
    "    end do\n",
    "\n",
    "    ! show de result\n",
    "    write(*, \"('Heat: ' f0.4)\") heat\n",
    "\n",
    "    deallocate(aold)\n",
    "    deallocate(anew)\n",
    "\n",
    "end"
   ]
  },
  {
   "cell_type": "markdown",
   "id": "71f413d0",
   "metadata": {},
   "source": [
    "> Nota: apesar de funcionar, talvez não seja a melhor forma de utilizar o Jupyter, pois deixa de usar os recursos de documentação presentes."
   ]
  },
  {
   "cell_type": "markdown",
   "id": "30cd5f60",
   "metadata": {},
   "source": [
    "Na célula a seguir, o ponto de exclamação significa que o comando será executado em uma sessão do shell do sitema operacional:"
   ]
  },
  {
   "cell_type": "code",
   "execution_count": 2,
   "id": "159afa6e",
   "metadata": {},
   "outputs": [
    {
     "name": "stdout",
     "output_type": "stream",
     "text": [
      "GNU Fortran (GCC) 4.8.5 20150623 (Red Hat 4.8.5-36)\n",
      "Copyright (C) 2015 Free Software Foundation, Inc.\n",
      "\n",
      "GNU Fortran comes with NO WARRANTY, to the extent permitted by law.\n",
      "You may redistribute copies of GNU Fortran\n",
      "under the terms of the GNU General Public License.\n",
      "For more information about these matters, see the file named COPYING\n",
      "\n"
     ]
    }
   ],
   "source": [
    "! gfortran --version"
   ]
  },
  {
   "cell_type": "markdown",
   "id": "cd003ce7",
   "metadata": {},
   "source": [
    "Compilação usando a flag de otimização `-O3`:"
   ]
  },
  {
   "cell_type": "code",
   "execution_count": 3,
   "id": "595e77d9",
   "metadata": {},
   "outputs": [
    {
     "name": "stdout",
     "output_type": "stream",
     "text": [
      "\n",
      "real\t0m0.561s\n",
      "user\t0m0.075s\n",
      "sys\t0m0.032s\n"
     ]
    }
   ],
   "source": [
    "! time gfortran  -O3  -o heat_seq  heat_seq.f90"
   ]
  },
  {
   "cell_type": "markdown",
   "id": "74aecf8e",
   "metadata": {},
   "source": [
    "Execução do programa:"
   ]
  },
  {
   "cell_type": "code",
   "execution_count": 4,
   "id": "ed5fbb05",
   "metadata": {
    "tags": []
   },
   "outputs": [
    {
     "name": "stdout",
     "output_type": "stream",
     "text": [
      "Heat: 750.0000\n",
      "\n",
      "real\t0m3.121s\n",
      "user\t0m2.965s\n",
      "sys\t0m0.082s\n"
     ]
    }
   ],
   "source": [
    "! time ./heat_seq"
   ]
  },
  {
   "cell_type": "markdown",
   "id": "839a94df",
   "metadata": {},
   "source": [
    "> Nota: o nó de login não deve ser utilizado para rodar os programas finais; utilizá-lo apenas para compilar, fazer pequenos testes curtos, e gerenciar a fila de execução usando o Slurm."
   ]
  },
  {
   "cell_type": "markdown",
   "id": "6a0f16e5",
   "metadata": {},
   "source": [
    "# Python sequencial (sem Numba)"
   ]
  },
  {
   "cell_type": "markdown",
   "id": "024b6c8e",
   "metadata": {},
   "source": [
    "Versão do Python utilizado:"
   ]
  },
  {
   "cell_type": "code",
   "execution_count": 5,
   "id": "3f72593e",
   "metadata": {},
   "outputs": [
    {
     "name": "stdout",
     "output_type": "stream",
     "text": [
      "Python 3.8.5\n"
     ]
    }
   ],
   "source": [
    "! python --version"
   ]
  },
  {
   "cell_type": "markdown",
   "id": "59893253",
   "metadata": {},
   "source": [
    "`numpy` é a principal biblioteca para computação científica:"
   ]
  },
  {
   "cell_type": "code",
   "execution_count": 6,
   "id": "4695eaeb",
   "metadata": {},
   "outputs": [],
   "source": [
    "import numpy as np"
   ]
  },
  {
   "cell_type": "markdown",
   "id": "a9b38709",
   "metadata": {},
   "source": [
    "Os principais parâmetros são:\n",
    "\n",
    "* `n`: o tamanho da grade (n x n)\n",
    "* `energy`: a unidade de energia a ser inserida em três pontos em cada iteração\n",
    "* `niters`: a quantidade de iterações"
   ]
  },
  {
   "cell_type": "code",
   "execution_count": 25,
   "id": "9d2d001b",
   "metadata": {},
   "outputs": [],
   "source": [
    "n      = 2400\n",
    "energy = 1.0\n",
    "niters = 250"
   ]
  },
  {
   "cell_type": "markdown",
   "id": "04f3909d",
   "metadata": {},
   "source": [
    "Outras variáveis e arrays utilidados:\n",
    "* `anew` e `aold`: matrizes (arrays) para armazenar a grade, e também a zona de fronteira da grade\n",
    "* `sources`: três pontos de inserção de energia"
   ]
  },
  {
   "cell_type": "code",
   "execution_count": 26,
   "id": "8c0291cd",
   "metadata": {},
   "outputs": [],
   "source": [
    "anew         = np.zeros((n + 2,  n + 2), np.float64)\n",
    "aold         = np.zeros((n + 2,  n + 2), np.float64)\n",
    "sources      = np.empty((3, 2), np.int16)    # sources of energy\n",
    "sources[:,:] = [ [n//2, n//2], [n//3, n//3], [n*4//5, n*8//9] ]"
   ]
  },
  {
   "cell_type": "markdown",
   "id": "89f91e3b",
   "metadata": {},
   "source": [
    "Neste exemplo, para a implementação da equação foram utilizados algoritmos disponíveis na literatura, como os descritos por [Zhu et al.](https://ieeexplore.ieee.org/document/7152597) e [Balaji](https://www.mcs.anl.gov/~thakur/sc17-mpi-tutorial/):\n",
    "\n",
    "$\\mathbf{for} \\ \\ i \\ \\leftarrow \\ 1 \\ \\ \\mathbf{to} \\ \\ (matrix \\ size \\ x) \\ \\ \\mathbf{do}$\n",
    "\n",
    "$\\quad \\mathbf{for} \\ \\ j \\ \\leftarrow \\ 1 \\ \\ \\mathbf{to} \\ \\ (matrix \\ size \\ y) \\ \\ \\mathbf{do}$\n",
    "\n",
    "$\\qquad anew[i,j]= \\frac{aold[i,j]}{2.0}+\\frac{aold[i-1,j]+aold[i+1,j]+aold[i,j-1]+aold[i,j+1]}{8.0}$\n",
    "\n",
    "Na célula a seguir é possível visualizar a equação e os laços de repetição que atualizam a grade. O laços estão embutidos na sintaxe `:` (dois pontos) dos índices da matriz \n",
    "(array numpy). Índices negativos significam o final da matriz. A matriz `aold` contém os dados, e a matriz `anew` armazena os resultados dos cálculos. É o trecho de código de computação intensiva, e o fato de ter sido colocado em uma função será útil nos próximos exemplos:"
   ]
  },
  {
   "cell_type": "code",
   "execution_count": 27,
   "id": "8b4de117",
   "metadata": {},
   "outputs": [],
   "source": [
    "def kernel(anew, aold) :\n",
    "    anew[1:-1,1:-1] = (aold[1:-1,1:-1]/2.0\n",
    "        +(aold[2:,1:-1]+aold[:-2,1:-1]+aold[1:-1,2:]+aold[1:-1,:-2])/8.0)"
   ]
  },
  {
   "cell_type": "markdown",
   "id": "db45d392",
   "metadata": {},
   "source": [
    "A cada passo do laço de repetição principal, são realizas duas chamadas à função `kernel` para atualizar a grade, desta forma reduzindo pela metade a quantidade de repetições necessárias no laço. A linha de código\n",
    "\n",
    "```python\n",
    "anew[sources[:, 0], sources[:, 1]] += energy\n",
    "```\n",
    "\n",
    "utiliza a sintaxe \"`:` (dois pontos) nos índices dos arrays para indicar laço de repetição embutido, que é usado para inserir (somar) os três pontos de energia na grade. `t2` e `t3` são usados para medir o tempo de execução. `anew` e `aold` são as matrizes que ficam alternando nas funções de armazenar o resultado, e de manter os dados durante o cálculo do estêncil. `%%timeit` é um comando o JN que mede o tempo de execução, neste caso executando uma vez a célula (`-r1`), e a cada vez que a célula é executada realiza um laço de repetição (`-n1`):"
   ]
  },
  {
   "cell_type": "code",
   "execution_count": 42,
   "id": "007f7651",
   "metadata": {},
   "outputs": [
    {
     "name": "stdout",
     "output_type": "stream",
     "text": [
      "33.5 s ± 0 ns per loop (mean ± std. dev. of 1 run, 1 loop each)\n"
     ]
    }
   ],
   "source": [
    "%%timeit -r1 -n1\n",
    "for _ in range(0, niters, 2):\n",
    "    kernel(anew, aold)\n",
    "    anew[sources[:, 0], sources[:, 1]] += energy\n",
    "    kernel(aold, anew)\n",
    "    aold[sources[:, 0], sources[:, 1]] += energy"
   ]
  },
  {
   "cell_type": "markdown",
   "id": "06522cdf",
   "metadata": {},
   "source": [
    "Após as iterações, é feita a soma das energias em cada ponto da grade (soma de todos os elementos da matriz), para obter o total de calor:"
   ]
  },
  {
   "cell_type": "code",
   "execution_count": 29,
   "id": "4c43edb5",
   "metadata": {},
   "outputs": [
    {
     "data": {
      "text/plain": [
       "'Heat: 750.0000'"
      ]
     },
     "execution_count": 29,
     "metadata": {},
     "output_type": "execute_result"
    }
   ],
   "source": [
    "f\"Heat: {np.sum(aold[1:-1, 1:-1]):.4f}\""
   ]
  },
  {
   "cell_type": "markdown",
   "id": "0a7d9f85",
   "metadata": {},
   "source": [
    "`%%prun` usa o Python profiler e mostra os tempos com mais detalhes:"
   ]
  },
  {
   "cell_type": "code",
   "execution_count": 30,
   "id": "50191b4d",
   "metadata": {},
   "outputs": [
    {
     "name": "stdout",
     "output_type": "stream",
     "text": [
      " "
     ]
    },
    {
     "data": {
      "text/plain": [
       "         253 function calls in 35.546 seconds\n",
       "\n",
       "   Ordered by: cumulative time\n",
       "\n",
       "   ncalls  tottime  percall  cumtime  percall filename:lineno(function)\n",
       "        1    0.000    0.000   35.546   35.546 {built-in method builtins.exec}\n",
       "        1    0.020    0.020   35.546   35.546 <string>:1(<module>)\n",
       "      250   35.526    0.142   35.526    0.142 <ipython-input-27-c8dd1f9fd6f9>:1(kernel)\n",
       "        1    0.000    0.000    0.000    0.000 {method 'disable' of '_lsprof.Profiler' objects}"
      ]
     },
     "metadata": {},
     "output_type": "display_data"
    }
   ],
   "source": [
    "%%prun -l 5 -s cumulative\n",
    "for _ in range(0, niters, 2):\n",
    "    kernel(anew, aold)\n",
    "    anew[sources[:, 0], sources[:, 1]] += energy\n",
    "    kernel(aold, anew)\n",
    "    aold[sources[:, 0], sources[:, 1]] += energy"
   ]
  },
  {
   "cell_type": "markdown",
   "id": "554fdcc4",
   "metadata": {},
   "source": [
    "---"
   ]
  },
  {
   "cell_type": "markdown",
   "id": "25c44cfa",
   "metadata": {},
   "source": [
    "Fazendo um teste com `n = 8`, apenas para visualizar a grade final:"
   ]
  },
  {
   "cell_type": "code",
   "execution_count": 16,
   "id": "fd7eb53a",
   "metadata": {},
   "outputs": [
    {
     "data": {
      "text/plain": [
       "array([[0.0, 0.0, 0.0, 0.0, 0.0, 0.0, 0.0, 0.0, 0.0, 0.0],\n",
       "       [0.0, 0.8, 1.5, 1.3, 1.0, 0.8, 0.6, 0.4, 0.2, 0.0],\n",
       "       [0.0, 1.5, 4.0, 2.6, 2.1, 1.6, 1.2, 0.8, 0.4, 0.0],\n",
       "       [0.0, 1.3, 2.5, 2.8, 3.1, 2.4, 1.8, 1.2, 0.6, 0.0],\n",
       "       [0.0, 1.0, 2.1, 3.1, 5.1, 3.1, 2.3, 1.7, 0.9, 0.0],\n",
       "       [0.0, 0.8, 1.6, 2.3, 3.1, 2.7, 2.5, 2.4, 1.2, 0.0],\n",
       "       [0.0, 0.6, 1.1, 1.6, 2.1, 2.2, 2.6, 4.1, 1.6, 0.0],\n",
       "       [0.0, 0.4, 0.7, 1.0, 1.3, 1.5, 1.7, 1.9, 1.0, 0.0],\n",
       "       [0.0, 0.2, 0.4, 0.5, 0.6, 0.7, 0.8, 0.8, 0.4, 0.0],\n",
       "       [0.0, 0.0, 0.0, 0.0, 0.0, 0.0, 0.0, 0.0, 0.0, 0.0]])"
      ]
     },
     "execution_count": 16,
     "metadata": {},
     "output_type": "execute_result"
    }
   ],
   "source": [
    "np.set_printoptions(precision=1, floatmode='fixed')\n",
    "aold"
   ]
  },
  {
   "cell_type": "markdown",
   "id": "155aeee7",
   "metadata": {},
   "source": [
    "---"
   ]
  },
  {
   "cell_type": "markdown",
   "id": "0318c415",
   "metadata": {},
   "source": [
    "# Numba sequencial (1 thread)"
   ]
  },
  {
   "cell_type": "markdown",
   "id": "d8f73e58",
   "metadata": {},
   "source": [
    "Numba reconhece apenas um subconjunto de Python e Numpy, e é usado geralmente apenas nos trechos que exigem intensidade computacional. Desta forma, a parte do código que não exige esforço computacional, é executada de forma interpretada por Python padrão."
   ]
  },
  {
   "cell_type": "markdown",
   "id": "cb809e43",
   "metadata": {},
   "source": [
    "Para o exemplo a seguir, adicionamos medição de tempo e também um decorador na função `kernel` para que Numba a compile em tempo de execução, JIT."
   ]
  },
  {
   "cell_type": "markdown",
   "id": "dcfca920",
   "metadata": {},
   "source": [
    "Com relação ao código anterior, a biblioteca `numba` (compilador Numba) é adicionada:"
   ]
  },
  {
   "cell_type": "code",
   "execution_count": 44,
   "id": "a60920ea",
   "metadata": {},
   "outputs": [],
   "source": [
    "import numpy as np\n",
    "from numba import njit, set_num_threads, get_num_threads, threading_layer"
   ]
  },
  {
   "cell_type": "markdown",
   "id": "f51b3e82",
   "metadata": {},
   "source": [
    "Este trecho é o mesmo do exemplo anterior:"
   ]
  },
  {
   "cell_type": "code",
   "execution_count": 45,
   "id": "a722859a",
   "metadata": {},
   "outputs": [],
   "source": [
    "# parameters\n",
    "n            = 2400    # n x n grid\n",
    "energy       = 1.0     # energy to be injected per iteration\n",
    "niters       = 250     # number of iterations\n",
    "# initialize the data arrays\n",
    "anew         = np.zeros((n + 2,  n + 2), np.float64)\n",
    "aold         = np.zeros((n + 2,  n + 2), np.float64)\n",
    "# initialize three heat sources\n",
    "sources      = np.empty((3, 2), np.int16)    # sources of energy\n",
    "sources[:,:] = [ [n//2, n//2], [n//3, n//3], [n*4//5, n*8//9] ]"
   ]
  },
  {
   "cell_type": "markdown",
   "id": "80ce93b4",
   "metadata": {},
   "source": [
    "A função `kernel`recebe um decorador para indicar para Numba que a função deve ser compilada em tempo de execução, JIT. `float64` são os tipos dos parâmetros, `fastmat` aumenta a velocidade dos cálculos em detrimento da precisão, `parallel` indica a utilização de otimizações como vetorização, e `nogil` desliga o GIL (*global interpreter lock*)."
   ]
  },
  {
   "cell_type": "code",
   "execution_count": 46,
   "id": "8d4812ec",
   "metadata": {},
   "outputs": [],
   "source": [
    "# computationally intensive core\n",
    "@njit('(float64[:,:],float64[:,:])', parallel=True, fastmath=True, nogil=True)\n",
    "def kernel(anew, aold) :\n",
    "    anew[1:-1,1:-1] = (aold[1:-1,1:-1]/2.0\n",
    "        +(aold[2:,1:-1]+aold[:-2,1:-1]+aold[1:-1,2:]+aold[1:-1,:-2])/8.0)"
   ]
  },
  {
   "cell_type": "markdown",
   "id": "626040c8",
   "metadata": {},
   "source": [
    "t0, t1, etc., são usados para medição de tempo, `threading_layer` mostra qual biblioteca está sendo usada (OpenMP, Intel TBB, ou biblioteca própria), e `get_num_threads` mostra quantos threads estão sendo usados na execução: se > 1 significa que estão sendo utilizados recursos de processamento paralelo usando threads:"
   ]
  },
  {
   "cell_type": "code",
   "execution_count": 47,
   "id": "ee1fe0d9",
   "metadata": {},
   "outputs": [
    {
     "name": "stdout",
     "output_type": "stream",
     "text": [
      " "
     ]
    },
    {
     "data": {
      "text/plain": [
       "         463 function calls (445 primitive calls) in 3.263 seconds\n",
       "\n",
       "   Ordered by: cumulative time\n",
       "   List reduced from 68 to 5 due to restriction <5>\n",
       "\n",
       "   ncalls  tottime  percall  cumtime  percall filename:lineno(function)\n",
       "        1    0.000    0.000    3.263    3.263 {built-in method builtins.exec}\n",
       "        1    0.030    0.030    3.263    3.263 <string>:2(<module>)\n",
       "      250    3.229    0.013    3.229    0.013 <ipython-input-46-e40ce3ed2a99>:2(kernel)\n",
       "        1    0.000    0.000    0.004    0.004 <__array_function__ internals>:2(sum)\n",
       "        1    0.000    0.000    0.004    0.004 {built-in method numpy.core._multiarray_umath.implement_array_function}"
      ]
     },
     "metadata": {},
     "output_type": "display_data"
    }
   ],
   "source": [
    "%%prun -l 5 -s cumulative\n",
    "# main routine\n",
    "set_num_threads(1)       # set the number of threads\n",
    "for _ in range(0, niters, 2) :\n",
    "    kernel(anew, aold)\n",
    "    anew[sources[:, 0], sources[:, 1]] += energy\n",
    "    kernel(aold, anew)\n",
    "    aold[sources[:, 0], sources[:, 1]] += energy\n",
    "heat = np.sum(aold)      # system total heat"
   ]
  },
  {
   "cell_type": "code",
   "execution_count": 48,
   "id": "7d92e917",
   "metadata": {},
   "outputs": [
    {
     "name": "stdout",
     "output_type": "stream",
     "text": [
      "Heat: 750.0000 | Threading layer: tbb | Thread count: 1\n"
     ]
    }
   ],
   "source": [
    "# show the result\n",
    "print(f\"Heat: {heat:.4f}\", end=\" | \")\n",
    "print(f\"Threading layer: {threading_layer()}\", end=\" | \")\n",
    "print(f\"Thread count: {get_num_threads()}\")"
   ]
  },
  {
   "cell_type": "markdown",
   "id": "f86ea4f0",
   "metadata": {},
   "source": [
    "## 4 threads\n",
    "\n",
    "> Notas:\n",
    "> * o *hyperthreading* e o *turboboost* devem estar desligados, caso contrário não é possível observar claramente o aumento de velocidade com o aumento do número de threads\n",
    "> * A execução usando threads (OpenMP, etc.) geralmente só é possível em um único nó. Para utilizar vários nós de computação, geralmente se usa a biblioteca de troca de mensagens (MPI) que utiliza processos ao invés de threads. Também é possível combinar OpenMP e MPI, embora torne o código mais complexo.\n",
    "> * Threads utiliza o modelo de memória compartilhada, e processos utiliza o modelo de memória com espaços de endereçamento separados."
   ]
  },
  {
   "cell_type": "code",
   "execution_count": 49,
   "id": "1ae66d59",
   "metadata": {},
   "outputs": [
    {
     "name": "stdout",
     "output_type": "stream",
     "text": [
      "Heat: 750.0000 | Threading layer: tbb | Thread count: 4\n",
      " "
     ]
    },
    {
     "data": {
      "text/plain": [
       "         2015184 function calls (1808402 primitive calls) in 2.508 seconds\n",
       "\n",
       "   Ordered by: cumulative time\n",
       "   List reduced from 2348 to 5 due to restriction <5>\n",
       "\n",
       "   ncalls  tottime  percall  cumtime  percall filename:lineno(function)\n",
       "      2/1    0.001    0.000    2.535    2.535 {built-in method builtins.exec}\n",
       "        1    0.000    0.000    1.565    1.565 decorators.py:188(wrapper)\n",
       "     48/1    0.000    0.000    1.564    1.564 compiler_lock.py:29(_acquire_compile_lock)\n",
       "        1    0.000    0.000    1.564    1.564 dispatcher.py:795(compile)\n",
       "        1    0.000    0.000    1.564    1.564 dispatcher.py:77(compile)"
      ]
     },
     "metadata": {},
     "output_type": "display_data"
    }
   ],
   "source": [
    "%%prun -l 5 -s cumulative\n",
    "import numpy as np\n",
    "from numba import njit, set_num_threads, get_num_threads, threading_layer\n",
    "\n",
    "# parameters\n",
    "n            = 2400    # n x n grid\n",
    "energy       = 1.0     # energy to be injected per iteration\n",
    "niters       = 250     # number of iterations\n",
    "# initialize the data arrays\n",
    "anew         = np.zeros((n + 2,  n + 2), np.float64)\n",
    "aold         = np.zeros((n + 2,  n + 2), np.float64)\n",
    "# initialize three heat sources\n",
    "sources      = np.empty((3, 2), np.int16)    # sources of energy\n",
    "sources[:,:] = [ [n//2, n//2], [n//3, n//3], [n*4//5, n*8//9] ]\n",
    "\n",
    "# computationally intensive core\n",
    "@njit('(float64[:,:],float64[:,:])', parallel=True, fastmath=True, nogil=True)\n",
    "def kernel(anew, aold) :\n",
    "    anew[1:-1,1:-1] = (aold[1:-1,1:-1]/2.0\n",
    "        +(aold[2:,1:-1]+aold[:-2,1:-1]+aold[1:-1,2:]+aold[1:-1,:-2])/8.0)\n",
    "\n",
    "# main routine\n",
    "set_num_threads(4)       # set the number of threads\n",
    "for _ in range(0, niters, 2) :\n",
    "    kernel(anew, aold)\n",
    "    anew[sources[:, 0], sources[:, 1]] += energy\n",
    "    kernel(aold, anew)\n",
    "    aold[sources[:, 0], sources[:, 1]] += energy\n",
    "heat = np.sum(aold)    # system total heat\n",
    "\n",
    "# show the result\n",
    "print(f\"Heat: {heat:.4f}\", end=\" | \")\n",
    "print(f\"Threading layer: {threading_layer()}\", end=\" | \")\n",
    "print(f\"Thread count: {get_num_threads()}\")"
   ]
  },
  {
   "cell_type": "markdown",
   "id": "39ce2a86",
   "metadata": {},
   "source": [
    "## 24 threads"
   ]
  },
  {
   "cell_type": "code",
   "execution_count": 50,
   "id": "9b6a4b28",
   "metadata": {},
   "outputs": [
    {
     "name": "stdout",
     "output_type": "stream",
     "text": [
      "Heat: 750.0000 | Threading layer: tbb | Thread count: 24\n",
      " "
     ]
    },
    {
     "data": {
      "text/plain": [
       "         2014678 function calls (1807939 primitive calls) in 2.371 seconds\n",
       "\n",
       "   Ordered by: cumulative time\n",
       "   List reduced from 2337 to 5 due to restriction <5>\n",
       "\n",
       "   ncalls  tottime  percall  cumtime  percall filename:lineno(function)\n",
       "      2/1    0.001    0.000    2.408    2.408 {built-in method builtins.exec}\n",
       "        1    0.000    0.000    1.759    1.759 decorators.py:188(wrapper)\n",
       "     48/1    0.000    0.000    1.759    1.759 compiler_lock.py:29(_acquire_compile_lock)\n",
       "        1    0.000    0.000    1.759    1.759 dispatcher.py:795(compile)\n",
       "        1    0.000    0.000    1.759    1.759 dispatcher.py:77(compile)"
      ]
     },
     "metadata": {},
     "output_type": "display_data"
    }
   ],
   "source": [
    "%%prun -l 5 -s cumulative\n",
    "import numpy as np\n",
    "from numba import njit, set_num_threads, get_num_threads, threading_layer\n",
    "\n",
    "# parameters\n",
    "n            = 2400    # n x n grid\n",
    "energy       = 1.0     # energy to be injected per iteration\n",
    "niters       = 250     # number of iterations\n",
    "# initialize the data arrays\n",
    "anew         = np.zeros((n + 2,  n + 2), np.float64)\n",
    "aold         = np.zeros((n + 2,  n + 2), np.float64)\n",
    "# initialize three heat sources\n",
    "sources      = np.empty((3, 2), np.int16)    # sources of energy\n",
    "sources[:,:] = [ [n//2, n//2], [n//3, n//3], [n*4//5, n*8//9] ]\n",
    "\n",
    "# computationally intensive core\n",
    "@njit('(float64[:,:],float64[:,:])', parallel=True, fastmath=True, nogil=True)\n",
    "def kernel(anew, aold) :\n",
    "    anew[1:-1,1:-1] = (aold[1:-1,1:-1]/2.0\n",
    "        +(aold[2:,1:-1]+aold[:-2,1:-1]+aold[1:-1,2:]+aold[1:-1,:-2])/8.0)\n",
    "\n",
    "# main routine\n",
    "set_num_threads(24)       # set the number of threads\n",
    "for _ in range(0, niters, 2) :\n",
    "    kernel(anew, aold)\n",
    "    anew[sources[:, 0], sources[:, 1]] += energy\n",
    "    kernel(aold, anew)\n",
    "    aold[sources[:, 0], sources[:, 1]] += energy\n",
    "heat = np.sum(aold)    # system total heat\n",
    "\n",
    "# show the result\n",
    "print(f\"Heat: {heat:.4f}\", end=\" | \")\n",
    "print(f\"Threading layer: {threading_layer()}\", end=\" | \")\n",
    "print(f\"Thread count: {get_num_threads()}\")"
   ]
  },
  {
   "cell_type": "code",
   "execution_count": null,
   "id": "89eb4654",
   "metadata": {},
   "outputs": [],
   "source": []
  }
 ],
 "metadata": {
  "kernelspec": {
   "display_name": "Python 3 (ipykernel)",
   "language": "python",
   "name": "python3"
  },
  "language_info": {
   "codemirror_mode": {
    "name": "ipython",
    "version": 3
   },
   "file_extension": ".py",
   "mimetype": "text/x-python",
   "name": "python",
   "nbconvert_exporter": "python",
   "pygments_lexer": "ipython3",
   "version": "3.8.8"
  }
 },
 "nbformat": 4,
 "nbformat_minor": 5
}
