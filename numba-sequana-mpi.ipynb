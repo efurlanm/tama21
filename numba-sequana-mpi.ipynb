{
 "cells": [
  {
   "cell_type": "markdown",
   "metadata": {},
   "source": [
    "# Numba CPU MPI nó Sequana"
   ]
  },
  {
   "cell_type": "code",
   "execution_count": 2,
   "metadata": {},
   "outputs": [
    {
     "name": "stdout",
     "output_type": "stream",
     "text": [
      "Python 3.7.7 :: Intel(R) Corporation\n"
     ]
    }
   ],
   "source": [
    "%%bash\n",
    "module load intel_psxe/2020\n",
    "source /opt/intel/parallel_studio_xe_2020/intelpython3/etc/profile.d/conda.sh\n",
    "python --version"
   ]
  },
  {
   "cell_type": "markdown",
   "metadata": {},
   "source": [
    "Sequana:"
   ]
  },
  {
   "cell_type": "code",
   "execution_count": 1,
   "metadata": {},
   "outputs": [
    {
     "name": "stdout",
     "output_type": "stream",
     "text": [
      "CPU(s):                88\n",
      "Thread(s) per core:    2\n",
      "Core(s) per socket:    22\n",
      "NUMA node(s):          2\n",
      "Model name:            Intel(R) Xeon(R) Gold 6152 CPU @ 2.10GHz\n",
      "CPU MHz:               2101.000\n"
     ]
    }
   ],
   "source": [
    "! lscpu | head -n 15 | grep \"Model \\|CPU(s):\\|Thre\\|Core\\|NUMA\\|MHz\""
   ]
  },
  {
   "cell_type": "markdown",
   "metadata": {},
   "source": [
    "### 2400 x 2400 e 250 passos"
   ]
  },
  {
   "cell_type": "code",
   "execution_count": null,
   "metadata": {},
   "outputs": [],
   "source": [
    "%%writefile numbampisequana2.py\n",
    "import numpy as np\n",
    "from time import time\n",
    "from numba import njit, set_num_threads, get_num_threads\n",
    "from mpi4py import MPI   \n",
    "\n",
    "# parameters\n",
    "n            = 2400    # n x n grid\n",
    "energy       = 1.0     # energy to be injected per iteration\n",
    "niters       = 250     # number of iterations\n",
    "# other variables\n",
    "heat         = np.zeros((1), np.float64)     # system total heat\n",
    "size         = n + 2\n",
    "anew         = np.zeros((size, size), np.float64)\n",
    "aold         = np.zeros((size, size), np.float64)\n",
    "sources      = np.empty((3,2), np.int32)\n",
    "sources[:,:] = [ [n//2, n//2], [n//3, n//3], [n*4//5, n*8//9] ]\n",
    "niters       = (niters+1) // 2\n",
    "nsources     = 3    # sources of energy\n",
    "sources      = np.zeros((nsources, 2), np.intc)\n",
    "sources[:,:] = [ [n//2, n//2], [n//3, n//3], [n*4//5, n*8//9] ]\n",
    "\n",
    "# computationally intensive core\n",
    "@njit('(float64[:,:],float64[:,:])', fastmath=True, parallel=True, nogil=True)\n",
    "def kernel1(anew, aold) :\n",
    "    anew[1:-1,1:-1]=1/2.0*(aold[1:-1,1:-1]+\n",
    "            1/4.0*(aold[2:,1:-1]+aold[:-2,1:-1]+aold[1:-1,2:]+aold[1:-1,:-2]))\n",
    "\n",
    "# main routine\n",
    "comm = MPI.COMM_WORLD\n",
    "mpirank = comm.rank\n",
    "mpisize = comm.size\n",
    "\n",
    "# sources in my area, local to my rank\n",
    "locnsources = 0\n",
    "locsources = np.empty((nsources,2), np.intc)\n",
    "\n",
    "rheat = np.zeros(1, np.double)\n",
    "bheat = np.zeros(1, np.double)\n",
    "\n",
    "# determine my coordinates (x,y)\n",
    "pdims = MPI.Compute_dims(mpisize, 2)\n",
    "px    = pdims[0]\n",
    "py    = pdims[1]\n",
    "rx    = mpirank % px\n",
    "ry    = mpirank // px\n",
    "\n",
    "# determine my four neighbors\n",
    "north = (ry - 1) * px + rx\n",
    "if (ry - 1) < 0 :\n",
    "    north = MPI.PROC_NULL\n",
    "south = (ry + 1) * px + rx\n",
    "if (ry + 1) >= py :\n",
    "    south = MPI.PROC_NULL\n",
    "west = ry * px + rx - 1\n",
    "if (rx - 1) < 0 :\n",
    "    west = MPI.PROC_NULL\n",
    "east = ry * px + rx + 1\n",
    "if (rx + 1) >= px :\n",
    "    east = MPI.PROC_NULL\n",
    "\n",
    "# decompose the domain\n",
    "bx = n // px            # block size in x\n",
    "by = n // py            # block size in y\n",
    "offx = rx * bx + 1      # offset in x\n",
    "offy = ry * by + 1      # offset in y\n",
    "\n",
    "# determine which sources are in my patch\n",
    "for i in range(nsources) :\n",
    "    locx = sources[i, 0] - offx\n",
    "    locy = sources[i, 1] - offy\n",
    "    if(locx >= 0 and locx <= bx and locy >= 0 and locy <= by) :\n",
    "        locsources[locnsources, 0] = locx + 2 - 1\n",
    "        locsources[locnsources, 1] = locy + 2 - 1\n",
    "        locnsources += 1\n",
    "\n",
    "# working arrays with 1-wide halo zones\n",
    "anew = np.zeros((bx+2, by+2), np.double)\n",
    "aold = np.zeros((bx+2, by+2), np.double)\n",
    "\n",
    "if not mpirank : t0 = time()\n",
    "\n",
    "for _ in range(niters) :\n",
    "    # exchange data with neighbors\n",
    "    if north != MPI.PROC_NULL :\n",
    "        r1=comm.irecv(source=north, tag=1)\n",
    "        s1=comm.isend(aold[1, 1:bx+1], dest=north, tag=1)\n",
    "    if south != MPI.PROC_NULL :\n",
    "        r2=comm.irecv(source=south, tag=1)\n",
    "        s2=comm.isend(aold[bx, 1:bx+1], dest=south, tag=1)\n",
    "    if east != MPI.PROC_NULL :\n",
    "        r3 = comm.irecv(source=east, tag=1)\n",
    "        s3 = comm.isend(aold[1:bx+1, bx], dest=east, tag=1)\n",
    "    if west != MPI.PROC_NULL :\n",
    "        r4 = comm.irecv(source=west, tag=1)\n",
    "        s4 = comm.isend(aold[1:bx+1, 1], dest=west, tag=1)\n",
    "    # wait\n",
    "    if north != MPI.PROC_NULL :\n",
    "        s1.wait()\n",
    "        aold[0, 1:bx+1] = r1.wait()\n",
    "    if south != MPI.PROC_NULL :\n",
    "        s2.wait()\n",
    "        aold[bx+1, 1:bx+1] = r2.wait()\n",
    "    if east != MPI.PROC_NULL :\n",
    "        s3.wait()\n",
    "        aold[1:bx+1, bx+1] = r3.wait()\n",
    "    if west != MPI.PROC_NULL :\n",
    "        s4.wait\n",
    "        aold[1:bx+1, 0] = r4.wait()\n",
    "\n",
    "    # update grid\n",
    "    kernel1(anew, aold)\n",
    "\n",
    "    # refresh heat sources\n",
    "    for i in range(locnsources) :\n",
    "        anew[locsources[i, 0]-1, locsources[i, 1]-1] += energy\n",
    "\n",
    "    # exchange data with neighbors\n",
    "    if north != MPI.PROC_NULL :\n",
    "        r1=comm.irecv(source=north, tag=1)\n",
    "        s1=comm.isend(anew[1, 1:bx+1], dest=north, tag=1)\n",
    "    if south != MPI.PROC_NULL :\n",
    "        r2=comm.irecv(source=south, tag=1)\n",
    "        s2=comm.isend(anew[bx, 1:bx+1], dest=south, tag=1)\n",
    "    if east != MPI.PROC_NULL :\n",
    "        r3 = comm.irecv(source=east, tag=1)\n",
    "        s3 = comm.isend(anew[1:bx+1, bx], dest=east, tag=1)\n",
    "    if west != MPI.PROC_NULL :\n",
    "        r4 = comm.irecv(source=west, tag=1)\n",
    "        s4 = comm.isend(anew[1:bx+1, 1], dest=west, tag=1)\n",
    "    # wait\n",
    "    if north != MPI.PROC_NULL :\n",
    "        s1.wait()\n",
    "        anew[0, 1:bx+1] = r1.wait()\n",
    "    if south != MPI.PROC_NULL :\n",
    "        s2.wait()\n",
    "        anew[bx+1, 1:bx+1] = r2.wait()\n",
    "    if east != MPI.PROC_NULL :\n",
    "        s3.wait()\n",
    "        anew[1:bx+1, bx+1] = r3.wait()\n",
    "    if west != MPI.PROC_NULL :\n",
    "        s4.wait\n",
    "        anew[1:bx+1, 0] = r4.wait()\n",
    "\n",
    "    # update grid\n",
    "    kernel1(aold, anew)\n",
    "\n",
    "    # refresh heat sources\n",
    "    for i in range(locnsources) :\n",
    "        aold[locsources[i, 0]-1, locsources[i, 1]-1] += energy \n",
    "\n",
    "# get final heat in the system\n",
    "bheat[0] = np.sum(aold[1:-1, 1:-1])\n",
    "comm.Reduce(bheat, rheat)\n",
    "\n",
    "if not mpirank :\n",
    "    t0 = time() - t0\n",
    "    print(\"Heat: %0.4f | Time: %0.4f | MPISize: %g\" % (rheat[0], t0, mpisize) )"
   ]
  },
  {
   "cell_type": "markdown",
   "metadata": {},
   "source": [
    "## Rodando usando mpiexec\n",
    "(1, 4, 9, 16, 36)"
   ]
  },
  {
   "cell_type": "markdown",
   "metadata": {},
   "source": [
    "### 1 processo"
   ]
  },
  {
   "cell_type": "code",
   "execution_count": 41,
   "metadata": {},
   "outputs": [
    {
     "name": "stdout",
     "output_type": "stream",
     "text": [
      "Heat: 750.0000 | Time: 0.4033 | MPISize: 1\n"
     ]
    }
   ],
   "source": [
    "%%bash\n",
    "module load intel_psxe/2020\n",
    "source /opt/intel/parallel_studio_xe_2020/intelpython3/etc/profile.d/conda.sh\n",
    "unset I_MPI_PMI_LIBRARY\n",
    "export UCX_TLS=rc,ud,sm,self\n",
    "mpiexec -n 1 python numbampisequana2.py"
   ]
  },
  {
   "cell_type": "markdown",
   "metadata": {},
   "source": [
    "### 4 processos"
   ]
  },
  {
   "cell_type": "code",
   "execution_count": 42,
   "metadata": {},
   "outputs": [
    {
     "name": "stdout",
     "output_type": "stream",
     "text": [
      "Heat: 750.0000 | Time: 0.3033 | MPISize: 4\n"
     ]
    }
   ],
   "source": [
    "%%bash\n",
    "module load intel_psxe/2020\n",
    "source /opt/intel/parallel_studio_xe_2020/intelpython3/etc/profile.d/conda.sh\n",
    "unset I_MPI_PMI_LIBRARY\n",
    "export UCX_TLS=rc,ud,sm,self\n",
    "mpiexec -n 4 python numbampisequana2.py"
   ]
  },
  {
   "cell_type": "markdown",
   "metadata": {},
   "source": [
    "### 9 processos"
   ]
  },
  {
   "cell_type": "code",
   "execution_count": 43,
   "metadata": {},
   "outputs": [
    {
     "name": "stdout",
     "output_type": "stream",
     "text": [
      "Heat: 750.0000 | Time: 0.6694 | MPISize: 9\n"
     ]
    }
   ],
   "source": [
    "%%bash\n",
    "module load intel_psxe/2020\n",
    "source /opt/intel/parallel_studio_xe_2020/intelpython3/etc/profile.d/conda.sh\n",
    "unset I_MPI_PMI_LIBRARY\n",
    "export UCX_TLS=rc,ud,sm,self\n",
    "mpiexec -n 9 python numbampisequana2.py"
   ]
  },
  {
   "cell_type": "markdown",
   "metadata": {},
   "source": [
    "### 16 processos"
   ]
  },
  {
   "cell_type": "code",
   "execution_count": 44,
   "metadata": {},
   "outputs": [
    {
     "name": "stdout",
     "output_type": "stream",
     "text": [
      "Heat: 750.0000 | Time: 0.7669 | MPISize: 16\n"
     ]
    }
   ],
   "source": [
    "%%bash\n",
    "module load intel_psxe/2020\n",
    "source /opt/intel/parallel_studio_xe_2020/intelpython3/etc/profile.d/conda.sh\n",
    "unset I_MPI_PMI_LIBRARY\n",
    "export UCX_TLS=rc,ud,sm,self\n",
    "mpiexec -n 16 python numbampisequana2.py"
   ]
  },
  {
   "cell_type": "markdown",
   "metadata": {},
   "source": [
    "### 36 processos"
   ]
  },
  {
   "cell_type": "code",
   "execution_count": 45,
   "metadata": {},
   "outputs": [
    {
     "name": "stdout",
     "output_type": "stream",
     "text": [
      "Heat: 750.0000 | Time: 2.4932 | MPISize: 36\n"
     ]
    }
   ],
   "source": [
    "%%bash\n",
    "module load intel_psxe/2020\n",
    "source /opt/intel/parallel_studio_xe_2020/intelpython3/etc/profile.d/conda.sh\n",
    "unset I_MPI_PMI_LIBRARY\n",
    "export UCX_TLS=rc,ud,sm,self\n",
    "mpiexec -n 36 python numbampisequana2.py"
   ]
  },
  {
   "cell_type": "code",
   "execution_count": null,
   "metadata": {},
   "outputs": [],
   "source": []
  }
 ],
 "metadata": {
  "kernelspec": {
   "display_name": "Python 3",
   "language": "python",
   "name": "python3"
  },
  "language_info": {
   "codemirror_mode": {
    "name": "ipython",
    "version": 3
   },
   "file_extension": ".py",
   "mimetype": "text/x-python",
   "name": "python",
   "nbconvert_exporter": "python",
   "pygments_lexer": "ipython3",
   "version": "3.8.8"
  }
 },
 "nbformat": 4,
 "nbformat_minor": 4
}
