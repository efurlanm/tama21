{
 "cells": [
  {
   "cell_type": "markdown",
   "id": "b387633d",
   "metadata": {
    "tags": []
   },
   "source": [
    "# Exemplo do uso de Python em ambiente de Processamento de Alto Desempenho (PAD)\n",
    "\n",
    "Exemplo mostrando abordagen de PAD no ambiente Python, para um estudo de caso de computação científica, usando o supercomputador Santos Dumont (SD). Para este exemplo foi selecionada a biblioteca / compilador Numba rodando em CPU e em GPU, usando os nós de login B-710 (sdumount11, sdumount13, sdumount14) e o nó de login Sequana (sdumont18).\n",
    "\n",
    "> Nota: o nó de login não deve ser utilizado para rodar os programas finais; utilizá-lo apenas para compilar e fazer pequenos testes curtos."
   ]
  },
  {
   "cell_type": "markdown",
   "id": "63fff254",
   "metadata": {},
   "source": [
    "# Configuração do ambiente\n",
    "\n",
    "## Na máquina local\n",
    "\n",
    "Pré-requisito: distribuição Python (Anaconda ou Intel) instalada e funcionando na máquina local\n",
    "\n",
    "* https://www.anaconda.com/products/individual\n",
    "* https://software.intel.com/content/www/us/en/develop/tools/oneapi/components/distribution-for-python.html\n",
    "\n",
    "### Exemplo (na máquina local)\n",
    "\n",
    "Distribuição Intel (que inclui outros compiladores e ferramentas Intel)\n",
    "\n",
    "* https://software.intel.com/content/www/us/en/develop/documentation/installation-guide-for-intel-oneapi-toolkits-linux/top/installation/install-using-package-managers/apt.html\n",
    "\n",
    "```\n",
    "...\n",
    "sudo apt install intel-basekit intel-hpckit -y\n",
    "sudo chmod -R 777 /opt/intel/oneapi/intelpython\n",
    "source /opt/intel/oneapi/setvars.sh\n",
    "conda install jupyterlab --yes\n",
    "jupyter-lab\n",
    "```\n",
    "\n",
    "### Configuração do VPN e SSH\n",
    "\n",
    "* https://github.com/efurlanm/hpc/blob/master/sd/access_configuring.ipynb\n",
    "* https://www.hostinger.com.br/tutoriais/conexao-ssh-sem-senha\n",
    "\n",
    "### Configuração do JupyterLab\n",
    "\n",
    "* https://github.com/efurlanm/hpc/blob/master/sd/access_using_jupyterlab.ipynb"
   ]
  },
  {
   "cell_type": "markdown",
   "id": "edd60384",
   "metadata": {},
   "source": [
    "## No Santos Dumont"
   ]
  },
  {
   "cell_type": "markdown",
   "id": "2be45e43",
   "metadata": {},
   "source": [
    "### Primeira sessão, no nó B-710\n",
    "```\n",
    "ssh sd\n",
    "hostname > hostname_sd.txt\n",
    "screen -S session_b710\n",
    "module load anaconda3\n",
    "jupyter-lab --no-browser --port=58889 --ip=0.0.0.0 --NotebookApp.token=''\n",
    "```"
   ]
  },
  {
   "cell_type": "markdown",
   "id": "b156dd07",
   "metadata": {},
   "source": [
    "### Segunda sessão, no nó sequana\n",
    "```\n",
    "Ctrl+a Ctrl+d\n",
    "ssh sdumont18\n",
    "module load anaconda3\n",
    "jupyter-lab --no-browser --port=58890 --ip=0.0.0.0 --NotebookApp.token=''\n",
    "```\n",
    ">Notas:\\\n",
    ">  1 - o sdumont18 não tem o comando screen\\\n",
    ">  2 - ao sair do SDumont, não esquecer de encerrar os servidores"
   ]
  },
  {
   "cell_type": "markdown",
   "id": "780a4b01",
   "metadata": {},
   "source": [
    "### Conexão das instâncias Jupyter à máquina local\n",
    "Na máquina local:\n",
    "```\n",
    "scp -q sd:hostname_sd.txt ~/\n",
    "export HOSTNAME_SD=$(cat ~/hostname_sd.txt)\n",
    "ssh sd -L 8889:$HOSTNAME_SD:58889 -NTf\n",
    "ssh sd -L 8890:sdumont18:58890 -NTf\n",
    "sshfs sd:/ /mnt/sd -o workaround=rename,uid=1000,gid=1000\n",
    "```"
   ]
  },
  {
   "cell_type": "markdown",
   "id": "27b9aadc",
   "metadata": {},
   "source": [
    "---\n",
    "\n",
    "# Nó B-710"
   ]
  },
  {
   "cell_type": "code",
   "execution_count": 1,
   "id": "56210245",
   "metadata": {},
   "outputs": [
    {
     "name": "stdout",
     "output_type": "stream",
     "text": [
      "CPU(s):                24\n",
      "Thread(s) per core:    1\n",
      "Core(s) per socket:    12\n",
      "NUMA node(s):          2\n",
      "Model name:            Intel(R) Xeon(R) CPU E5-2695 v2 @ 2.40GHz\n",
      "CPU MHz:               2435.302\n"
     ]
    }
   ],
   "source": [
    "! lscpu | head -n 15 | grep \"Model \\|CPU(s):\\|Thre\\|Core\\|NUMA\\|MHz\""
   ]
  },
  {
   "cell_type": "markdown",
   "id": "75cd4e19",
   "metadata": {},
   "source": [
    "# Comparação entre as implementações Fortran e Python\n",
    "\n",
    "## Fortran 90 sequencial"
   ]
  },
  {
   "cell_type": "code",
   "execution_count": 1,
   "id": "c9418965",
   "metadata": {},
   "outputs": [
    {
     "name": "stdout",
     "output_type": "stream",
     "text": [
      "Writing heat_seq.f90\n"
     ]
    }
   ],
   "source": [
    "%%writefile heat_seq.f90\n",
    "program stencil\n",
    "    implicit none\n",
    "    integer, parameter  :: nsources=3\n",
    "    integer             :: n=2400     ! n x n grid\n",
    "    integer             :: energy=1   ! energy to be injected per iteration\n",
    "    integer             :: niters=250 ! number of iterations\n",
    "    integer             :: iters, i, j, size, sizeStart, sizeEnd\n",
    "    integer, dimension(3, 2)        :: sources\n",
    "    double precision, allocatable   :: aold(:,:), anew(:,:)\n",
    "    double precision    :: t=0.0, t1=0.0, heat=0.0           \n",
    "    \n",
    "    size = n + 2\n",
    "    sizeStart = 2\n",
    "    sizeEnd = n + 1\n",
    "\n",
    "    allocate(aold(size, size))\n",
    "    allocate(anew(size, size))\n",
    "    aold = 0.0\n",
    "    anew = 0.0\n",
    "\n",
    "    sources(1,:) = (/ n/2,   n/2   /)\n",
    "    sources(2,:) = (/ n/3,   n/3   /)\n",
    "    sources(3,:) = (/ n*4/5, n*8/9 /)   ! 8/9 conforme Balaji\n",
    "\n",
    "    call cpu_time(t1)\n",
    "    t = -t1\n",
    "\n",
    "    do iters = 1, niters, 2\n",
    "        \n",
    "        ! odd iteration: anew <- stencil(aold)\n",
    "\n",
    "        do j = sizeStart, sizeEnd\n",
    "            do i = sizeStart, sizeEnd\n",
    "                anew(i,j)=1/2.0*(aold(i,j)+1/4.0*(aold(i-1,j)+aold(i+1,j)+ aold(i,j-1)+aold(i,j+1)))\n",
    "            enddo\n",
    "        enddo\n",
    "\n",
    "        do i = 1, nsources\n",
    "            anew(sources(i,1)+1, sources(i,2)+1) =  &\n",
    "                anew(sources(i,1)+1, sources(i,2)+1) + energy\n",
    "        enddo\n",
    "\n",
    "\n",
    "        ! even iteration: aold <- stencil(anew)\n",
    "\n",
    "        do j = sizeStart, sizeEnd\n",
    "            do i = sizeStart, sizeEnd\n",
    "                aold(i,j)=1/2.0*(anew(i,j)+1/4.0*(anew(i-1,j)+anew(i+1,j)+anew(i,j-1)+anew(i,j+1)))\n",
    "            enddo\n",
    "        enddo\n",
    "        \n",
    "        do i = 1, nsources\n",
    "            aold(sources(i,1)+1, sources(i,2)+1) =  &\n",
    "                aold(sources(i,1)+1, sources(i,2)+1) + energy\n",
    "        enddo\n",
    "\n",
    "    enddo\n",
    "   \n",
    "    heat = 0.0\n",
    "    do j = sizeStart, sizeEnd\n",
    "        do i = sizeStart, sizeEnd\n",
    "            heat = heat + aold(i,j)\n",
    "        end do\n",
    "    end do\n",
    "\n",
    "    call cpu_time(t1)\n",
    "    t = t + t1\n",
    "\n",
    "    write(*, \"('Heat = ' f0.4' | ')\", advance=\"no\") heat\n",
    "    write(*, \"('Time = 'f0.4)\") t\n",
    "\n",
    "    deallocate(aold)\n",
    "    deallocate(anew)\n",
    "\n",
    "end"
   ]
  },
  {
   "cell_type": "code",
   "execution_count": 2,
   "id": "8c45bdff",
   "metadata": {},
   "outputs": [
    {
     "name": "stdout",
     "output_type": "stream",
     "text": [
      "GNU Fortran (GCC) 4.8.5 20150623 (Red Hat 4.8.5-36)\n",
      "Copyright (C) 2015 Free Software Foundation, Inc.\n",
      "\n",
      "GNU Fortran comes with NO WARRANTY, to the extent permitted by law.\n",
      "You may redistribute copies of GNU Fortran\n",
      "under the terms of the GNU General Public License.\n",
      "For more information about these matters, see the file named COPYING\n",
      "\n"
     ]
    }
   ],
   "source": [
    "! gfortran --version"
   ]
  },
  {
   "cell_type": "code",
   "execution_count": 3,
   "id": "977ff247",
   "metadata": {},
   "outputs": [],
   "source": [
    "! gfortran  -O3  -o heat_seq  heat_seq.f90"
   ]
  },
  {
   "cell_type": "code",
   "execution_count": 4,
   "id": "9827d33a",
   "metadata": {
    "tags": []
   },
   "outputs": [
    {
     "name": "stdout",
     "output_type": "stream",
     "text": [
      "Heat = 750.0000 | Time = 2.4168\n"
     ]
    }
   ],
   "source": [
    "! ./heat_seq"
   ]
  },
  {
   "cell_type": "markdown",
   "id": "cdcc0ea0",
   "metadata": {},
   "source": [
    "## Python sequencial"
   ]
  },
  {
   "cell_type": "code",
   "execution_count": 5,
   "id": "970f549a",
   "metadata": {},
   "outputs": [
    {
     "name": "stdout",
     "output_type": "stream",
     "text": [
      "Python 3.8.5\n"
     ]
    }
   ],
   "source": [
    "! python --version"
   ]
  },
  {
   "cell_type": "code",
   "execution_count": 6,
   "id": "5259d7bc",
   "metadata": {},
   "outputs": [
    {
     "name": "stdout",
     "output_type": "stream",
     "text": [
      "Heat: 750.0000 | Time: 24.3972 | Kernel: 24.3698\n"
     ]
    }
   ],
   "source": [
    "import numpy as np\n",
    "from time import time\n",
    "\n",
    "# parameters\n",
    "n            = 2400    # n x n grid\n",
    "energy       = 1.0     # energy to be injected per iteration\n",
    "niters       = 250     # number of iterations\n",
    "\n",
    "# other variables\n",
    "heat         = np.zeros((1), np.float64)     # system total heat\n",
    "anew         = np.zeros((n + 2,  n + 2), np.float64)\n",
    "aold         = np.zeros((n + 2,  n + 2), np.float64)\n",
    "sources      = np.empty((3, 2), np.int16)    # sources of energy\n",
    "sources[:,:] = [ [n//2, n//2], [n//3, n//3], [n*4//5, n*8//9] ]\n",
    "\n",
    "# computationally intensive core\n",
    "def kernel(anew, aold) :\n",
    "    anew[1:-1,1:-1]=1/2.0*(aold[1:-1,1:-1]+1/4.0*(aold[2:,1:-1]+aold[:-2,1:-1]+aold[1:-1,2:]+aold[1:-1,:-2]))\n",
    "\n",
    "# main routine\n",
    "t2 = 0\n",
    "t0 = time()    # time measure\n",
    "for _ in range(0, niters, 2) :\n",
    "    t3 = time()\n",
    "    kernel(anew, aold)    # odd iteration\n",
    "    t2 += time() - t3\n",
    "    anew[sources[:, 0], sources[:, 1]] += energy\n",
    "    t3 = time()\n",
    "    kernel(aold, anew)    # even iteration\n",
    "    t2 += time() - t3\n",
    "    aold[sources[:, 0], sources[:, 1]] += energy\n",
    "heat[0] = np.sum( aold[1:-1, 1:-1] )  # system total heat\n",
    "t1 = time()    # time measure\n",
    "\n",
    "# show result\n",
    "print(\"Heat: %0.4f | Time: %0.4f | Kernel: %0.4f\" % (heat[0], t1-t0, t2) )"
   ]
  },
  {
   "cell_type": "markdown",
   "id": "104ad690",
   "metadata": {},
   "source": [
    "## Numba sequencial (1 thread)"
   ]
  },
  {
   "cell_type": "code",
   "execution_count": 4,
   "id": "ce14247b",
   "metadata": {},
   "outputs": [
    {
     "name": "stdout",
     "output_type": "stream",
     "text": [
      "Heat: 750.0000 | Time: 3.3275 | Kernel: 3.2966\n",
      "Threading layer chosen: tbb | Thread count: 1\n"
     ]
    }
   ],
   "source": [
    "import numpy as np\n",
    "from time import time\n",
    "from numba import njit, set_num_threads, get_num_threads, threading_layer\n",
    "\n",
    "# parameters\n",
    "n            = 2400    # n x n grid\n",
    "energy       = 1.0     # energy to be injected per iteration\n",
    "niters       = 250     # number of iterations\n",
    "# initialize the data arrays\n",
    "anew         = np.zeros((n + 2,  n + 2), np.float64)\n",
    "aold         = np.zeros((n + 2,  n + 2), np.float64)\n",
    "# initialize three heat sources\n",
    "sources      = np.empty((3, 2), np.int16)    # sources of energy\n",
    "sources[:,:] = [ [n//2, n//2], [n//3, n//3], [n*4//5, n*8//9] ]\n",
    "heat         = 0     # system total heat\n",
    "\n",
    "# computationally intensive core\n",
    "@njit('(float64[:,:],float64[:,:])', fastmath=True, parallel=True, nogil=True)\n",
    "def kernel(anew, aold) :\n",
    "    anew[1:-1,1:-1]=1/2.0*(aold[1:-1,1:-1]+1/4.0*(aold[2:,1:-1]+aold[:-2,1:-1]+aold[1:-1,2:]+aold[1:-1,:-2]))\n",
    "\n",
    "# main routine\n",
    "set_num_threads(1)\n",
    "t2 = 0\n",
    "t0 = time()    # time measure\n",
    "for _ in range(0, niters, 2) :\n",
    "    t3 = time()\n",
    "    kernel(anew, aold)\n",
    "    t2 += time() - t3\n",
    "    anew[sources[:, 0], sources[:, 1]] += energy\n",
    "    t3 = time()\n",
    "    kernel(aold, anew)\n",
    "    t2 += time() - t3\n",
    "    aold[sources[:, 0], sources[:, 1]] += energy\n",
    "heat = np.sum( aold[1:-1, 1:-1] )    # system total heat\n",
    "t1   = time()    # time measure\n",
    "\n",
    "# show result\n",
    "print(\"Heat: %0.4f | Time: %0.4f | Kernel: %0.4f\" % (heat, t1-t0, t2) )\n",
    "print(\"Threading layer chosen: %s | Thread count: %s\" % (threading_layer(), get_num_threads()) )"
   ]
  },
  {
   "cell_type": "markdown",
   "id": "8a8422d8",
   "metadata": {},
   "source": [
    "## 4 threads\n",
    "\n",
    "Obs: o hyperthreading e turboboost devem estar desligados, caso contrário não é possível ver o aumento de velocidade"
   ]
  },
  {
   "cell_type": "code",
   "execution_count": 2,
   "id": "9c67d9fe",
   "metadata": {},
   "outputs": [
    {
     "name": "stdout",
     "output_type": "stream",
     "text": [
      "Heat: 750.0000 | Time: 1.2146 | Kernel: 1.1831\n",
      "Threading layer chosen: tbb | Thread count: 4\n"
     ]
    }
   ],
   "source": [
    "import numpy as np\n",
    "from time import time\n",
    "from numba import njit, set_num_threads, get_num_threads, threading_layer\n",
    "\n",
    "# parameters\n",
    "n            = 2400    # n x n grid\n",
    "energy       = 1.0     # energy to be injected per iteration\n",
    "niters       = 250     # number of iterations\n",
    "\n",
    "# other variables\n",
    "heat         = np.zeros((1), np.float64)     # system total heat\n",
    "anew         = np.zeros((n + 2,  n + 2), np.float64)\n",
    "aold         = np.zeros((n + 2,  n + 2), np.float64)\n",
    "sources      = np.empty((3, 2), np.int16)    # sources of energy\n",
    "sources[:,:] = [ [n//2, n//2], [n//3, n//3], [n*4//5, n*8//9] ]\n",
    "\n",
    "# computationally intensive core\n",
    "@njit('(float64[:,:],float64[:,:])', fastmath=True, parallel=True, nogil=True)\n",
    "def kernel(anew, aold) :\n",
    "    anew[1:-1,1:-1]=1/2.0*(aold[1:-1,1:-1]+1/4.0*(aold[2:,1:-1]+aold[:-2,1:-1]+aold[1:-1,2:]+aold[1:-1,:-2]))\n",
    "\n",
    "# main routine\n",
    "set_num_threads(4)\n",
    "t2 = 0\n",
    "t0 = time()    # time measure\n",
    "for iters in range((niters+1)//2) :\n",
    "    t3 = time()\n",
    "    kernel(anew, aold)\n",
    "    t2 += time() - t3\n",
    "    anew[sources[:, 0], sources[:, 1]] += energy\n",
    "    t3 = time()\n",
    "    kernel(aold, anew)\n",
    "    t2 += time() - t3\n",
    "    aold[sources[:, 0], sources[:, 1]] += energy\n",
    "heat[0] = np.sum( aold[1:-1, 1:-1] )  # system total heat\n",
    "t1 = time()    # time measure\n",
    "\n",
    "# show result\n",
    "print(\"Heat: %0.4f | Time: %0.4f | Kernel: %0.4f\" % (heat[0], t1-t0, t2) )\n",
    "print(\"Threading layer chosen: %s | Thread count: %s\" % (threading_layer(), get_num_threads()) )"
   ]
  },
  {
   "cell_type": "markdown",
   "id": "ee7f28a0",
   "metadata": {},
   "source": [
    "## 16 threads"
   ]
  },
  {
   "cell_type": "code",
   "execution_count": 3,
   "id": "70282b5e",
   "metadata": {},
   "outputs": [
    {
     "name": "stdout",
     "output_type": "stream",
     "text": [
      "Heat: 750.0000 | Time: 0.7777 | Kernel: 0.7479\n",
      "Threading layer chosen: tbb | Thread count: 16\n"
     ]
    }
   ],
   "source": [
    "import numpy as np\n",
    "from time import time\n",
    "from numba import njit, set_num_threads, get_num_threads, threading_layer\n",
    "\n",
    "# parameters\n",
    "n            = 2400    # n x n grid\n",
    "energy       = 1.0     # energy to be injected per iteration\n",
    "niters       = 250     # number of iterations\n",
    "\n",
    "# other variables\n",
    "heat         = np.zeros((1), np.float64)     # system total heat\n",
    "anew         = np.zeros((n + 2,  n + 2), np.float64)\n",
    "aold         = np.zeros((n + 2,  n + 2), np.float64)\n",
    "sources      = np.empty((3, 2), np.int16)    # sources of energy\n",
    "sources[:,:] = [ [n//2, n//2], [n//3, n//3], [n*4//5, n*8//9] ]\n",
    "\n",
    "# computationally intensive core\n",
    "@njit('(float64[:,:],float64[:,:])', fastmath=True, parallel=True, nogil=True)\n",
    "def kernel(anew, aold) :\n",
    "    anew[1:-1,1:-1]=1/2.0*(aold[1:-1,1:-1]+1/4.0*(aold[2:,1:-1]+aold[:-2,1:-1]+aold[1:-1,2:]+aold[1:-1,:-2]))\n",
    "\n",
    "# main routine\n",
    "set_num_threads(16)\n",
    "t2 = 0\n",
    "t0 = time()    # time measure\n",
    "for iters in range((niters+1)//2) :\n",
    "    t3 = time()\n",
    "    kernel(anew, aold)\n",
    "    t2 += time() - t3\n",
    "    anew[sources[:, 0], sources[:, 1]] += energy\n",
    "    t3 = time()\n",
    "    kernel(aold, anew)\n",
    "    t2 += time() - t3\n",
    "    aold[sources[:, 0], sources[:, 1]] += energy\n",
    "heat[0] = np.sum( aold[1:-1, 1:-1] )  # system total heat\n",
    "t1 = time()    # time measure\n",
    "\n",
    "# show result\n",
    "print(\"Heat: %0.4f | Time: %0.4f | Kernel: %0.4f\" % (heat[0], t1-t0, t2) )\n",
    "print(\"Threading layer chosen: %s | Thread count: %s\" % (threading_layer(), get_num_threads()) )"
   ]
  },
  {
   "cell_type": "code",
   "execution_count": null,
   "id": "04123ef1",
   "metadata": {},
   "outputs": [],
   "source": []
  }
 ],
 "metadata": {
  "kernelspec": {
   "display_name": "Python 3",
   "language": "python",
   "name": "python3"
  },
  "language_info": {
   "codemirror_mode": {
    "name": "ipython",
    "version": 3
   },
   "file_extension": ".py",
   "mimetype": "text/x-python",
   "name": "python",
   "nbconvert_exporter": "python",
   "pygments_lexer": "ipython3",
   "version": "3.8.8"
  }
 },
 "nbformat": 4,
 "nbformat_minor": 5
}
