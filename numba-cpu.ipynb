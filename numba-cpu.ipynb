{
 "cells": [
  {
   "cell_type": "markdown",
   "id": "5724ddbf",
   "metadata": {
    "tags": []
   },
   "source": [
    "# Abordagem PAD no ambiente Python para um caso de teste de computação científica\n",
    "\n",
    "Exemplo mostrando abordagen de Processamento de Alto Desempenho (PAD ou HPC) no ambiente Python, para a solução de um caso de teste de computação científica, usando o supercomputador Santos Dumont (SD). Para este exemplo foi selecionado o compilador Numba rodando em CPU e em GPU, usando os nós B710 e Sequana."
   ]
  },
  {
   "cell_type": "markdown",
   "id": "971bbd0a-2538-44f8-8c14-50119fc1393b",
   "metadata": {},
   "source": [
    "## Caso de teste: estêncil de cinco pontos\n",
    "\n",
    "(versão sequencial)\n",
    "\n",
    "O caso de teste adotado é um conhecido problema de transferência de calor sobre uma superfície finita, modelado pela equação diferencial parcial de Poisson, que modela a distribuição de temperatura normalizada sobre a superfície ao longo de uma série de iterações que compõem a simulação. A equação de Poisson discretizada 2D com um estêncil de 5 pontos pode ser expressa por:\n",
    "\n",
    "$$\n",
    "\\frac{\\partial^2 U}{\\partial x^2} +\n",
    "\\frac{\\partial^2 U}{\\partial y^2} \\approx\n",
    "\\frac{U_{i+1,j}+U_{i,j+1}-4U_{i,j}+U_{i-1,j}+U_{i,j-1}}{h^2}\n",
    "$$\n",
    "\n",
    "Comumente empregada para soluções numéricas, esta equação é discretizada em uma grade finita e resolvida por um método de diferenças finitas. O algoritmo específico requer o cálculo de um estêncil de 5 pontos sobre a grade de domínio 2D para atualizar as temperaturas a cada etapa de tempo. Para este problema, são assumidos um campo de temperatura uniforme inicial com valor zero sobre a superfície, e condições adiabáticas ou de contorno de Dirichlet. O estêncil de 5 pontos consiste em atualizar um ponto da grade fazendo a média das temperaturas de si mesmo com as temperaturas de seus quatro vizinhos, esquerda-direita e cima-baixo na grade. O campo de temperatura $ U $ é definido sobre uma grade discreta $ (x, y) $ com resoluções espaciais $ \\Delta x = \\Delta y = h $. Assim, a discretização mapeia as coordenadas cartesianas reais $ (x, y) $ para uma grade discreta $ (i, j) $, com $ U_ {x, y} = U_ {i, j} \\,, \\, U_ {x + h, y} = U_ {i + 1, j} \\, $ para a dimensão $ x $, e analogamente para a dimensão $ y $. A grade é representada pela figura:\n",
    "\n",
    "![](img/grade.png)\n",
    "\n",
    "Três fontes de calor de taxa constante foram colocadas em pontos de grade localizados, e cada uma introduz uma quantidade de calor unitária a cada passo de tempo. A simulação de transferência de calor é modelada por um número finito de etapas de tempo, sendo todos os pontos da grade atualizados a cada etapa. A distribuição da temperatura será determinada pelas fontes de calor e pelas condições de contorno de Dirichlet, o que implica em temperatura zero nos pontos de fronteira da grade. O resultado final é representado pela figura:\n",
    "\n",
    "![](img/fontes.png)"
   ]
  },
  {
   "cell_type": "markdown",
   "id": "4ade6d03-46ae-4417-8e58-7bb8d5fbfed9",
   "metadata": {},
   "source": [
    "---"
   ]
  },
  {
   "cell_type": "markdown",
   "id": "31a66639",
   "metadata": {},
   "source": [
    "# Implementação\n",
    "\n",
    "A parte computacionalmente intensiva é a atualização dos pontos da grade (atualização da matriz) utilizando a equação (cálculo do estêncil), onde dois laços de repetição são utilizados, um para cada dimensão.\n",
    "\n",
    "Em cada iteração, após a atualização da grade uma unidade de calor é inserida em três pontos de inserção de calor.\n",
    "\n",
    "Duas matrizes são utilizadas alternadamente nas iterações pois o cálculo do estêncil depende de pontos de células vizinhas que não podem ser sobrepostos. Desta forma, uma \"nova\" matriz de resultados é utilizada para armazenar os cálculos feitos a partir da matriz \"antiga\" que contém os dados. Quando a matriz \"nova\" está finalizada, a matriz \"antiga\" pode então ser descartada e utilizada para armazenar os resultados da próxima iteração, e desta forma as duas matrizes ficam alternando suas funções durante as iterações.\n",
    "\n",
    "Ao término das iterações, é feita uma soma de todos os pontos da grade, para obter o total de calor."
   ]
  },
  {
   "cell_type": "markdown",
   "id": "ae56cb4f-c0e0-4327-bc06-5d8b66d98291",
   "metadata": {},
   "source": [
    "Nó B710:"
   ]
  },
  {
   "cell_type": "code",
   "execution_count": 1,
   "id": "b0e9abe0",
   "metadata": {},
   "outputs": [
    {
     "name": "stdout",
     "output_type": "stream",
     "text": [
      "CPU(s):                24\n",
      "Thread(s) per core:    1\n",
      "Core(s) per socket:    12\n",
      "NUMA node(s):          2\n",
      "Model name:            Intel(R) Xeon(R) CPU E5-2695 v2 @ 2.40GHz\n",
      "CPU MHz:               2435.302\n"
     ]
    }
   ],
   "source": [
    "! lscpu | head -n 15 | grep \"Model \\|CPU(s):\\|Thre\\|Core\\|NUMA\\|MHz\""
   ]
  },
  {
   "cell_type": "markdown",
   "id": "2e36bc22",
   "metadata": {},
   "source": [
    "## Fortran 90 sequencial\n",
    "\n",
    "O código F90 pode ser desenvolvindo de várias maneiras, como por exemplo, usando uma [IDE para F90](https://cbfortran.sourceforge.io/), usando um [Kernel para o Jupyter Notebook (JN)](https://gitlab.com/lfortran/fortran_kernel), ou então usando uma célula do JN como um editor de texto comum para criar/gravar um arquivo no disco, como mostrado a seguir:"
   ]
  },
  {
   "cell_type": "code",
   "execution_count": 1,
   "id": "505c184a",
   "metadata": {},
   "outputs": [
    {
     "name": "stdout",
     "output_type": "stream",
     "text": [
      "Writing heat_seq.f90\n"
     ]
    }
   ],
   "source": [
    "%%writefile heat_seq.f90\n",
    "program stencil\n",
    "    implicit none\n",
    "    \n",
    "    ! parameters for calculation\n",
    "    integer             :: n=2400     ! n x n grid\n",
    "    integer             :: energy=1   ! energy to be injected per iteration\n",
    "    integer             :: niters=250 ! number of iterations\n",
    "\n",
    "    ! other variables\n",
    "    integer, parameter  :: nsources=3\n",
    "    integer, dimension(3, 2)        :: sources\n",
    "    double precision, allocatable   :: aold(:,:), anew(:,:)\n",
    "    integer             :: iters, i, j, size, sizeStart, sizeEnd\n",
    "    double precision    :: t=0.0, t1=0.0, heat=0.0           \n",
    "    \n",
    "    size = n + 2\n",
    "    sizeStart = 2\n",
    "    sizeEnd = n + 1\n",
    "\n",
    "    allocate(aold(size, size))\n",
    "    allocate(anew(size, size))\n",
    "    aold = 0.0\n",
    "    anew = 0.0\n",
    "\n",
    "    sources(1,:) = (/ n/2,   n/2   /)\n",
    "    sources(2,:) = (/ n/3,   n/3   /)\n",
    "    sources(3,:) = (/ n*4/5, n*8/9 /)\n",
    "\n",
    "    ! time measurement\n",
    "    call cpu_time(t1)\n",
    "    t = -t1\n",
    "\n",
    "    do iters = 1, niters, 2\n",
    "        \n",
    "        ! odd iteration: anew <- stencil(aold)\n",
    "            \n",
    "        ! computationally intensive core\n",
    "        do j = sizeStart, sizeEnd\n",
    "            do i = sizeStart, sizeEnd\n",
    "                anew(i,j)=1/2.0*(aold(i,j)+  &\n",
    "                    1/4.0*(aold(i-1,j)+aold(i+1,j)+ aold(i,j-1)+aold(i,j+1)))\n",
    "            enddo\n",
    "        enddo\n",
    "        \n",
    "        ! three-point energy insertion\n",
    "        do i = 1, nsources\n",
    "            anew(sources(i,1)+1, sources(i,2)+1) =  &\n",
    "                anew(sources(i,1)+1, sources(i,2)+1) + energy\n",
    "        enddo\n",
    "\n",
    "\n",
    "        ! even iteration: aold <- stencil(anew)\n",
    "           \n",
    "        ! computationally intensive core\n",
    "        do j = sizeStart, sizeEnd\n",
    "            do i = sizeStart, sizeEnd\n",
    "                aold(i,j)=1/2.0*(anew(i,j)+  &\n",
    "                    1/4.0*(anew(i-1,j)+anew(i+1,j)+anew(i,j-1)+anew(i,j+1)))\n",
    "            enddo\n",
    "        enddo\n",
    "        \n",
    "        ! three-point energy insertion       \n",
    "        do i = 1, nsources\n",
    "            aold(sources(i,1)+1, sources(i,2)+1) =  &\n",
    "                aold(sources(i,1)+1, sources(i,2)+1) + energy\n",
    "        enddo\n",
    "\n",
    "    enddo\n",
    "\n",
    "    ! sum of grid points to get total heat\n",
    "    heat = 0.0\n",
    "    do j = sizeStart, sizeEnd\n",
    "        do i = sizeStart, sizeEnd\n",
    "            heat = heat + aold(i,j)\n",
    "        end do\n",
    "    end do\n",
    "\n",
    "    ! time measurement\n",
    "    call cpu_time(t1)\n",
    "    t = t + t1\n",
    "\n",
    "    ! show de result\n",
    "    write(*, \"('Heat = ' f0.4' | ')\", advance=\"no\") heat\n",
    "    write(*, \"('Time = 'f0.4)\") t\n",
    "\n",
    "    deallocate(aold)\n",
    "    deallocate(anew)\n",
    "\n",
    "end"
   ]
  },
  {
   "cell_type": "markdown",
   "id": "e6b6a12d-6a93-4e08-bb6f-69fc03887ea9",
   "metadata": {},
   "source": [
    "> Nota: apesar de funcionar, talvez não seja a melhor forma de utilizar o Jupyter, pois deixa de usar os recursos de documentação presentes."
   ]
  },
  {
   "cell_type": "markdown",
   "id": "97ed204e-77da-479c-a76d-76de9ee770c4",
   "metadata": {},
   "source": [
    "Na célula a seguir, o ponto de exclamação significa que o comando será executado em uma sessão do shell do sitema operacional:"
   ]
  },
  {
   "cell_type": "code",
   "execution_count": 2,
   "id": "52a1e1bf",
   "metadata": {},
   "outputs": [
    {
     "name": "stdout",
     "output_type": "stream",
     "text": [
      "GNU Fortran (GCC) 4.8.5 20150623 (Red Hat 4.8.5-36)\n",
      "Copyright (C) 2015 Free Software Foundation, Inc.\n",
      "\n",
      "GNU Fortran comes with NO WARRANTY, to the extent permitted by law.\n",
      "You may redistribute copies of GNU Fortran\n",
      "under the terms of the GNU General Public License.\n",
      "For more information about these matters, see the file named COPYING\n",
      "\n"
     ]
    }
   ],
   "source": [
    "! gfortran --version"
   ]
  },
  {
   "cell_type": "markdown",
   "id": "bbdc0230-7ebf-48ce-981c-17be65fe2cc7",
   "metadata": {},
   "source": [
    "Compilação usando a flag de otimização `-O3`:"
   ]
  },
  {
   "cell_type": "code",
   "execution_count": 3,
   "id": "3066a357",
   "metadata": {},
   "outputs": [],
   "source": [
    "! gfortran  -O3  -o heat_seq  heat_seq.f90"
   ]
  },
  {
   "cell_type": "markdown",
   "id": "0e2a743b-5c6b-4edd-a9c5-c664f3982dad",
   "metadata": {},
   "source": [
    "Execução do programa:"
   ]
  },
  {
   "cell_type": "code",
   "execution_count": 4,
   "id": "2fe75f64",
   "metadata": {
    "tags": []
   },
   "outputs": [
    {
     "name": "stdout",
     "output_type": "stream",
     "text": [
      "Heat = 750.0000 | Time = 2.4168\n"
     ]
    }
   ],
   "source": [
    "! ./heat_seq"
   ]
  },
  {
   "cell_type": "markdown",
   "id": "510003f9-fd8c-47e1-a4e4-22ec095c8970",
   "metadata": {},
   "source": [
    "> Nota: o nó de login não deve ser utilizado para rodar os programas finais; utilizá-lo apenas para compilar e fazer pequenos testes curtos."
   ]
  },
  {
   "cell_type": "markdown",
   "id": "017e0637",
   "metadata": {},
   "source": [
    "## Python sequencial"
   ]
  },
  {
   "cell_type": "markdown",
   "id": "1dd9bc4d-b8cb-4fa3-b290-c01fbb914d4e",
   "metadata": {},
   "source": [
    "Versão do Python utilizado:"
   ]
  },
  {
   "cell_type": "code",
   "execution_count": 5,
   "id": "e286e502",
   "metadata": {},
   "outputs": [
    {
     "name": "stdout",
     "output_type": "stream",
     "text": [
      "Python 3.8.5\n"
     ]
    }
   ],
   "source": [
    "! python --version"
   ]
  },
  {
   "cell_type": "markdown",
   "id": "24b29b10-ca48-45b4-9ddc-a2c049e44d5f",
   "metadata": {},
   "source": [
    "`numpy` é a principal biblioteca para computação científica:"
   ]
  },
  {
   "cell_type": "code",
   "execution_count": 48,
   "id": "0689c8a1-547c-46a9-a468-a5b9766b7900",
   "metadata": {},
   "outputs": [],
   "source": [
    "import numpy as np"
   ]
  },
  {
   "cell_type": "markdown",
   "id": "9fdae78f-f734-4b5e-a6d4-bd1c79bedf8a",
   "metadata": {},
   "source": [
    "Os principais parâmetros são:\n",
    "\n",
    "* `n`: o tamanho da grade (n x n)\n",
    "* `energy`: a unidade de energia a ser inserida em três pontos em cada iteração\n",
    "* `niters`: a quantidade de iterações"
   ]
  },
  {
   "cell_type": "code",
   "execution_count": 100,
   "id": "23178251-19d2-46dc-855d-7bd0401cb682",
   "metadata": {},
   "outputs": [],
   "source": [
    "n      = 2400\n",
    "energy = 1.0\n",
    "niters = 250"
   ]
  },
  {
   "cell_type": "markdown",
   "id": "8bb0ae46-02e0-4713-9722-e81bfbefd7dc",
   "metadata": {},
   "source": [
    "Outras variáveis e arrays utilidados:\n",
    "* `anew` e `aold`: matrizes (arrays) para armazenar a grade, e também a zona de fronteira da grade\n",
    "* `sources`: três pontos de inserção de energia"
   ]
  },
  {
   "cell_type": "code",
   "execution_count": 101,
   "id": "e6a41ce7-42ae-4d93-8a4e-89ccf6278d72",
   "metadata": {},
   "outputs": [],
   "source": [
    "anew         = np.zeros((n + 2,  n + 2), np.float64)\n",
    "aold         = np.zeros((n + 2,  n + 2), np.float64)\n",
    "sources      = np.empty((3, 2), np.int16)    # sources of energy\n",
    "sources[:,:] = [ [n//2, n//2], [n//3, n//3], [n*4//5, n*8//9] ]"
   ]
  },
  {
   "cell_type": "markdown",
   "id": "cb8cd4a8-d695-4cf5-8148-0eda40f3105a",
   "metadata": {},
   "source": [
    "A célula a seguir contém o código da implementação baseada nos algoritmos descritos por [Zhu et al.](https://ieeexplore.ieee.org/document/7152597) e [Balaji](https://www.mcs.anl.gov/~thakur/sc17-mpi-tutorial/):\n",
    "\n",
    "$\\mathbf{for} \\ \\ i \\ \\leftarrow \\ 1 \\ \\ \\mathbf{to} \\ \\ (matrix \\ size \\ x) \\ \\ \\mathbf{do}$ \\\n",
    "$\\quad \\mathbf{for} \\ \\ j \\ \\leftarrow \\ 1 \\ \\ \\mathbf{to} \\ \\ (matrix \\ size \\ y) \\ \\ \\mathbf{do}$\n",
    "\n",
    "$\\qquad anew[i,j]= \\frac{aold[i,j]}{2.0}+\\frac{aold[i-1,j]+aold[i+1,j]+aold[i,j-1]+aold[i,j+1]}{8.0}$\n",
    "\n",
    "onde é possível visualizar a equação e os laços de repetição que atualizam a grade. O laços estão embutidos na sintaxe \"`:`\" (dois pontos) dos índices da matriz \n",
    "(array numpy). Índices negativos significam o final da matriz. A matriz `aold` contém os dados, e a matriz `anew` armazena os resultados dos cálculos. É o trecho de código de computação intensiva, e o fato de ter sido colocado em uma função será útil nos próximos exemplos:"
   ]
  },
  {
   "cell_type": "code",
   "execution_count": 102,
   "id": "325e3886-ff2d-430e-b6f3-a6eecb49b0e7",
   "metadata": {},
   "outputs": [],
   "source": [
    "def kernel(anew, aold) :\n",
    "    anew[1:-1,1:-1] = (aold[1:-1,1:-1]/2.0\n",
    "        +(aold[2:,1:-1]+aold[:-2,1:-1]+aold[1:-1,2:]+aold[1:-1,:-2])/8.0)"
   ]
  },
  {
   "cell_type": "markdown",
   "id": "ce999432-362a-4a97-9a47-2c182110fb4d",
   "metadata": {},
   "source": [
    "A cada passo do laço de repetição principal, são realizas duas chamadas à função `kernel` para atualizar a grade, desta forma reduzindo pela metade a quantidade de repetições necessárias no laço. A linha de código\n",
    "```\n",
    "anew[sources[:, 0], sources[:, 1]] += energy\n",
    "```\n",
    "utiliza a sintaxe \"`:`\" (dois pontos) nos índices dos arrays para indicar laço de repetição embutido, que é usado para inserir (somar) os três pontos de energia na grade. `t2` e `t3` são usados para medir o tempo de execução. `anew` e `aold` são as matrizes que ficam alternando nas funções de armazenar o resultado, e de manter os dados durante o cálculo do estêncil. `%%timeit` é um comando o Jupyter que mede o tempo de execução, neste caso executando uma vez a célula (`-r1`), e a cada vez que a célula é executada realiza um laço de repetição (`-n1`):"
   ]
  },
  {
   "cell_type": "code",
   "execution_count": 103,
   "id": "0cba789f-3af3-4b78-94ae-2dfcdadd23b2",
   "metadata": {},
   "outputs": [
    {
     "name": "stdout",
     "output_type": "stream",
     "text": [
      "18.6 s ± 0 ns per loop (mean ± std. dev. of 1 run, 1 loop each)\n"
     ]
    }
   ],
   "source": [
    "%%timeit -r1 -n1\n",
    "for _ in range(0, niters, 2):\n",
    "    kernel(anew, aold)\n",
    "    anew[sources[:, 0], sources[:, 1]] += energy\n",
    "    kernel(aold, anew)\n",
    "    aold[sources[:, 0], sources[:, 1]] += energy"
   ]
  },
  {
   "cell_type": "markdown",
   "id": "aec703b8-7719-4417-82bb-a0ac971ae0cc",
   "metadata": {},
   "source": [
    "`%%prun` usa o Python profiler e mostra os tempos com mais detalhes:"
   ]
  },
  {
   "cell_type": "code",
   "execution_count": 97,
   "id": "df19dd7b-0d34-4755-97ac-bcf9d92491a7",
   "metadata": {},
   "outputs": [
    {
     "name": "stdout",
     "output_type": "stream",
     "text": [
      " "
     ]
    },
    {
     "data": {
      "text/plain": [
       "         253 function calls in 19.435 seconds\n",
       "\n",
       "   Ordered by: cumulative time\n",
       "\n",
       "   ncalls  tottime  percall  cumtime  percall filename:lineno(function)\n",
       "        1    0.000    0.000   19.435   19.435 {built-in method builtins.exec}\n",
       "        1    0.012    0.012   19.435   19.435 <string>:1(<module>)\n",
       "      250   19.423    0.078   19.423    0.078 <ipython-input-83-c8dd1f9fd6f9>:1(kernel)\n",
       "        1    0.000    0.000    0.000    0.000 {method 'disable' of '_lsprof.Profiler' objects}"
      ]
     },
     "metadata": {},
     "output_type": "display_data"
    }
   ],
   "source": [
    "%%prun -l kernel\n",
    "for _ in range(0, niters, 2):\n",
    "    kernel(anew, aold)\n",
    "    anew[sources[:, 0], sources[:, 1]] += energy\n",
    "    kernel(aold, anew)\n",
    "    aold[sources[:, 0], sources[:, 1]] += energy"
   ]
  },
  {
   "cell_type": "markdown",
   "id": "89e4dd32-a9a7-4c0c-a631-cf431325b574",
   "metadata": {},
   "source": [
    "Após as iterações, é feita a soma das energias em cada ponto da grade (soma de todos os elementos da matriz), para obter o total de calor:"
   ]
  },
  {
   "cell_type": "code",
   "execution_count": 104,
   "id": "203f4016-2855-4061-8d69-5a7423597e7e",
   "metadata": {},
   "outputs": [
    {
     "data": {
      "text/plain": [
       "'Heat: 750.0'"
      ]
     },
     "execution_count": 104,
     "metadata": {},
     "output_type": "execute_result"
    }
   ],
   "source": [
    "f\"Heat: {np.sum(aold):.4}\""
   ]
  },
  {
   "cell_type": "markdown",
   "id": "e96f0106-4a3b-4d4d-8953-2a659f1473bb",
   "metadata": {},
   "source": [
    "---"
   ]
  },
  {
   "cell_type": "markdown",
   "id": "727d8ace-946a-4b18-b7ee-28c8e85c2c3e",
   "metadata": {},
   "source": [
    "Fazendo um teste com `n = 8`, apenas para visualizar a grade final:"
   ]
  },
  {
   "cell_type": "code",
   "execution_count": 66,
   "id": "c7dd5ea9-2349-4ccd-80a1-8f8b88fb5102",
   "metadata": {},
   "outputs": [
    {
     "data": {
      "text/plain": [
       "array([[0.0, 0.0, 0.0, 0.0, 0.0, 0.0, 0.0, 0.0, 0.0, 0.0],\n",
       "       [0.0, 0.8, 1.5, 1.3, 1.0, 0.8, 0.6, 0.4, 0.2, 0.0],\n",
       "       [0.0, 1.5, 4.0, 2.6, 2.1, 1.6, 1.2, 0.8, 0.4, 0.0],\n",
       "       [0.0, 1.3, 2.5, 2.8, 3.1, 2.4, 1.8, 1.2, 0.6, 0.0],\n",
       "       [0.0, 1.0, 2.1, 3.1, 5.1, 3.1, 2.3, 1.7, 0.9, 0.0],\n",
       "       [0.0, 0.8, 1.6, 2.3, 3.1, 2.7, 2.5, 2.4, 1.2, 0.0],\n",
       "       [0.0, 0.6, 1.1, 1.6, 2.1, 2.2, 2.6, 4.1, 1.6, 0.0],\n",
       "       [0.0, 0.4, 0.7, 1.0, 1.3, 1.5, 1.7, 1.9, 1.0, 0.0],\n",
       "       [0.0, 0.2, 0.4, 0.5, 0.6, 0.7, 0.8, 0.8, 0.4, 0.0],\n",
       "       [0.0, 0.0, 0.0, 0.0, 0.0, 0.0, 0.0, 0.0, 0.0, 0.0]])"
      ]
     },
     "execution_count": 66,
     "metadata": {},
     "output_type": "execute_result"
    }
   ],
   "source": [
    "np.set_printoptions(precision=1, floatmode='fixed')\n",
    "aold"
   ]
  },
  {
   "cell_type": "markdown",
   "id": "24a858f6-41d6-4c5b-a053-50ab6647556b",
   "metadata": {},
   "source": [
    "---"
   ]
  },
  {
   "cell_type": "markdown",
   "id": "9e058544",
   "metadata": {},
   "source": [
    "## Numba sequencial (1 thread)"
   ]
  },
  {
   "cell_type": "markdown",
   "id": "a0a96253-f333-4dfd-9e9c-fe89e0140ede",
   "metadata": {},
   "source": [
    "Para o exemplo a seguir, adicionamos medição de tempo e também um decorador na função `kernel` para que Numba a compile em tempo de execução, JIT."
   ]
  },
  {
   "cell_type": "markdown",
   "id": "cda2f312-e92b-45e1-b8cb-554ba50b6eb2",
   "metadata": {},
   "source": [
    "Com relação ao código anterior, a biblioteca `numba` (compilador Numba) é adicionada:"
   ]
  },
  {
   "cell_type": "code",
   "execution_count": 105,
   "id": "66ff83eb-ee35-4bb7-b753-e36f636ddb3e",
   "metadata": {},
   "outputs": [],
   "source": [
    "import numpy as np\n",
    "from numba import njit, set_num_threads, get_num_threads, threading_layer"
   ]
  },
  {
   "cell_type": "markdown",
   "id": "f3679a5b-e9f0-47d4-b878-76180a0e42c9",
   "metadata": {},
   "source": [
    "Este trecho é o mesmo do exemplo anterior:"
   ]
  },
  {
   "cell_type": "code",
   "execution_count": 106,
   "id": "35454f76-94fb-4a53-9292-14c5b969d91f",
   "metadata": {},
   "outputs": [],
   "source": [
    "# parameters\n",
    "n            = 2400    # n x n grid\n",
    "energy       = 1.0     # energy to be injected per iteration\n",
    "niters       = 250     # number of iterations\n",
    "# initialize the data arrays\n",
    "anew         = np.zeros((n + 2,  n + 2), np.float64)\n",
    "aold         = np.zeros((n + 2,  n + 2), np.float64)\n",
    "# initialize three heat sources\n",
    "sources      = np.empty((3, 2), np.int16)    # sources of energy\n",
    "sources[:,:] = [ [n//2, n//2], [n//3, n//3], [n*4//5, n*8//9] ]"
   ]
  },
  {
   "cell_type": "markdown",
   "id": "9dce8def-ab7e-4dd8-ad07-645d27e5e8c4",
   "metadata": {},
   "source": [
    "A função `kernel`recebe um decorador para indicar para Numba que a função deve ser compilada em tempo de execução, JIT. `float64` são os tipos dos parâmetros, `fastmat` aumenta a velocidade dos cálculos em detrimento da precisão, `parallel` indica a utilização de otimizações como vetorização, e `nogil` desliga o GIL (*global interpreter lock*)."
   ]
  },
  {
   "cell_type": "code",
   "execution_count": 107,
   "id": "05f5cc41-824a-4209-96bc-5b44275e3c5b",
   "metadata": {},
   "outputs": [],
   "source": [
    "# computationally intensive core\n",
    "@njit('(float64[:,:],float64[:,:])', parallel=True, fastmath=True, nogil=True)\n",
    "def kernel(anew, aold) :\n",
    "    anew[1:-1,1:-1] = (aold[1:-1,1:-1]/2.0\n",
    "        +(aold[2:,1:-1]+aold[:-2,1:-1]+aold[1:-1,2:]+aold[1:-1,:-2])/8.0)"
   ]
  },
  {
   "cell_type": "markdown",
   "id": "e38471eb-ac9d-4999-95d0-f0db255155d6",
   "metadata": {},
   "source": [
    "t0, t1, etc., são usados para medição de tempo, `threading_layer` mostra qual biblioteca está sendo usada (OpenMP, Intel TBB, ou biblioteca própria), e `get_num_threads` mostra quantos threads estão sendo usados na execução: se > 1 significa que estão sendo utilizados recursos de processamento paralelo usando threads:"
   ]
  },
  {
   "cell_type": "code",
   "execution_count": 109,
   "id": "d8b62eaa-7b74-4f96-b32b-b8508dea2c0f",
   "metadata": {},
   "outputs": [
    {
     "name": "stdout",
     "output_type": "stream",
     "text": [
      " "
     ]
    },
    {
     "data": {
      "text/plain": [
       "         270 function calls in 2.889 seconds\n",
       "\n",
       "   Ordered by: cumulative time\n",
       "   List reduced from 20 to 1 due to restriction <'kernel'>\n",
       "\n",
       "   ncalls  tottime  percall  cumtime  percall filename:lineno(function)\n",
       "      250    2.878    0.012    2.878    0.012 <ipython-input-107-e40ce3ed2a99>:2(kernel)"
      ]
     },
     "metadata": {},
     "output_type": "display_data"
    }
   ],
   "source": [
    "%%prun -s cumulative -l kernel\n",
    "# main routine\n",
    "set_num_threads(1)       # set the number of threads\n",
    "for _ in range(0, niters, 2) :\n",
    "    kernel(anew, aold)\n",
    "    anew[sources[:, 0], sources[:, 1]] += energy\n",
    "    kernel(aold, anew)\n",
    "    aold[sources[:, 0], sources[:, 1]] += energy\n",
    "heat = np.sum(aold)      # system total heat"
   ]
  },
  {
   "cell_type": "code",
   "execution_count": 110,
   "id": "79e025fb",
   "metadata": {},
   "outputs": [
    {
     "name": "stdout",
     "output_type": "stream",
     "text": [
      "Heat: 1500.0000\n",
      "Threading layer chosen: tbb\n",
      "Thread count: 1\n"
     ]
    }
   ],
   "source": [
    "# show the result\n",
    "print(f\"Heat: {heat:0.4f}\", end= \" | \")\n",
    "print(f\"Threading layer: {threading_layer()}\", end= \" | \")\n",
    "print(f\"Thread count: {get_num_threads()}\")"
   ]
  },
  {
   "cell_type": "markdown",
   "id": "a731f19b",
   "metadata": {},
   "source": [
    "## 4 threads\n",
    "\n",
    "> Obs: o *hyperthreading* e o *turboboost* devem estar desligados, caso contrário não é possível observar claramente o aumento de velocidade com o aumento do número de threads"
   ]
  },
  {
   "cell_type": "code",
   "execution_count": 133,
   "id": "4d66a344",
   "metadata": {},
   "outputs": [
    {
     "name": "stdout",
     "output_type": "stream",
     "text": [
      "Heat: 750.0000 | Threading layer: tbb | Thread count: 4\n",
      " "
     ]
    },
    {
     "data": {
      "text/plain": [
       "         1996759 function calls (1793995 primitive calls) in 3.713 seconds\n",
       "\n",
       "   Ordered by: cumulative time\n",
       "   List reduced from 2387 to 5 due to restriction <5>\n",
       "\n",
       "   ncalls  tottime  percall  cumtime  percall filename:lineno(function)\n",
       "      2/1    0.001    0.000    3.730    3.730 {built-in method builtins.exec}\n",
       "      250    2.376    0.010    2.376    0.010 <string>:16(kernel)\n",
       "        1    0.000    0.000    1.331    1.331 decorators.py:191(wrapper)\n",
       "        1    0.000    0.000    1.331    1.331 dispatcher.py:864(compile)\n",
       "        1    0.000    0.000    1.331    1.331 dispatcher.py:78(compile)"
      ]
     },
     "metadata": {},
     "output_type": "display_data"
    }
   ],
   "source": [
    "%%prun -l 5 -s cumulative\n",
    "import numpy as np\n",
    "from numba import njit, set_num_threads, get_num_threads, threading_layer\n",
    "\n",
    "# parameters\n",
    "n            = 2400    # n x n grid\n",
    "energy       = 1.0     # energy to be injected per iteration\n",
    "niters       = 250     # number of iterations\n",
    "# initialize the data arrays\n",
    "anew         = np.zeros((n + 2,  n + 2), np.float64)\n",
    "aold         = np.zeros((n + 2,  n + 2), np.float64)\n",
    "# initialize three heat sources\n",
    "sources      = np.empty((3, 2), np.int16)    # sources of energy\n",
    "sources[:,:] = [ [n//2, n//2], [n//3, n//3], [n*4//5, n*8//9] ]\n",
    "\n",
    "# computationally intensive core\n",
    "@njit('(float64[:,:],float64[:,:])', fastmath=True, parallel=True, nogil=True)\n",
    "def kernel(anew, aold) :\n",
    "    anew[1:-1,1:-1] = (aold[1:-1,1:-1]/2.0\n",
    "        +(aold[2:,1:-1]+aold[:-2,1:-1]+aold[1:-1,2:]+aold[1:-1,:-2])/8.0)\n",
    "\n",
    "# main routine\n",
    "set_num_threads(4)       # set the number of threads\n",
    "for _ in range(0, niters, 2) :\n",
    "    kernel(anew, aold)\n",
    "    anew[sources[:, 0], sources[:, 1]] += energy\n",
    "    kernel(aold, anew)\n",
    "    aold[sources[:, 0], sources[:, 1]] += energy\n",
    "heat = np.sum(aold)    # system total heat\n",
    "\n",
    "# show the result\n",
    "print(f\"Heat: {heat:0.4f}\", end= \" | \")\n",
    "print(f\"Threading layer: {threading_layer()}\", end= \" | \")\n",
    "print(f\"Thread count: {get_num_threads()}\")"
   ]
  },
  {
   "cell_type": "markdown",
   "id": "f1870511-3b20-4b61-82f6-4a75b16eca95",
   "metadata": {},
   "source": [
    "## 12 threads"
   ]
  },
  {
   "cell_type": "code",
   "execution_count": 138,
   "id": "a07a033b-3131-4276-b9bd-5448a0e960b4",
   "metadata": {},
   "outputs": [
    {
     "name": "stdout",
     "output_type": "stream",
     "text": [
      "Heat: 750.0000 | Threading layer: tbb | Thread count: 12\n",
      " "
     ]
    },
    {
     "data": {
      "text/plain": [
       "         1996863 function calls (1794099 primitive calls) in 3.940 seconds\n",
       "\n",
       "   Ordered by: cumulative time\n",
       "   List reduced from 2387 to 5 due to restriction <5>\n",
       "\n",
       "   ncalls  tottime  percall  cumtime  percall filename:lineno(function)\n",
       "      2/1    0.001    0.000    3.961    3.961 {built-in method builtins.exec}\n",
       "      250    2.537    0.010    2.537    0.010 <string>:16(kernel)\n",
       "        1    0.000    0.000    1.400    1.400 decorators.py:191(wrapper)\n",
       "        1    0.000    0.000    1.400    1.400 dispatcher.py:864(compile)\n",
       "        1    0.000    0.000    1.399    1.399 dispatcher.py:78(compile)"
      ]
     },
     "metadata": {},
     "output_type": "display_data"
    }
   ],
   "source": [
    "%%prun -l 5 -s cumulative\n",
    "import numpy as np\n",
    "from numba import njit, set_num_threads, get_num_threads, threading_layer\n",
    "\n",
    "# parameters\n",
    "n            = 2400    # n x n grid\n",
    "energy       = 1.0     # energy to be injected per iteration\n",
    "niters       = 250     # number of iterations\n",
    "# initialize the data arrays\n",
    "anew         = np.zeros((n + 2,  n + 2), np.float64)\n",
    "aold         = np.zeros((n + 2,  n + 2), np.float64)\n",
    "# initialize three heat sources\n",
    "sources      = np.empty((3, 2), np.int16)    # sources of energy\n",
    "sources[:,:] = [ [n//2, n//2], [n//3, n//3], [n*4//5, n*8//9] ]\n",
    "\n",
    "# computationally intensive core\n",
    "@njit('(float64[:,:],float64[:,:])', fastmath=True, parallel=True, nogil=True)\n",
    "def kernel(anew, aold) :\n",
    "    anew[1:-1,1:-1] = (aold[1:-1,1:-1]/2.0\n",
    "        +(aold[2:,1:-1]+aold[:-2,1:-1]+aold[1:-1,2:]+aold[1:-1,:-2])/8.0)\n",
    "\n",
    "# main routine\n",
    "set_num_threads(12)       # set the number of threads\n",
    "for _ in range(0, niters, 2) :\n",
    "    kernel(anew, aold)\n",
    "    anew[sources[:, 0], sources[:, 1]] += energy\n",
    "    kernel(aold, anew)\n",
    "    aold[sources[:, 0], sources[:, 1]] += energy\n",
    "heat = np.sum(aold)    # system total heat\n",
    "\n",
    "# show the result\n",
    "print(f\"Heat: {heat:0.4f}\", end= \" | \")\n",
    "print(f\"Threading layer: {threading_layer()}\", end= \" | \")\n",
    "print(f\"Thread count: {get_num_threads()}\")"
   ]
  },
  {
   "cell_type": "code",
   "execution_count": null,
   "id": "0bb19726-c6ff-4e0d-bba9-0a2beed0e4d8",
   "metadata": {},
   "outputs": [],
   "source": []
  }
 ],
 "metadata": {
  "kernelspec": {
   "display_name": "Python 3",
   "language": "python",
   "name": "python3"
  },
  "language_info": {
   "codemirror_mode": {
    "name": "ipython",
    "version": 3
   },
   "file_extension": ".py",
   "mimetype": "text/x-python",
   "name": "python",
   "nbconvert_exporter": "python",
   "pygments_lexer": "ipython3",
   "version": "3.8.8"
  }
 },
 "nbformat": 4,
 "nbformat_minor": 5
}
