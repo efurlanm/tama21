{
 "cells": [
  {
   "cell_type": "markdown",
   "id": "5724ddbf",
   "metadata": {
    "tags": []
   },
   "source": [
    "# Abordagem PAD no ambiente Python para um caso de teste de computação científica\n",
    "\n",
    "Exemplo mostrando abordagen de Processamento de Alto Desempenho (PAD ou HPC) no ambiente Python, para a solução de um caso de teste de computação científica, usando o supercomputador Santos Dumont (SD). Para este exemplo foi selecionado o compilador Numba rodando em CPU e em GPU, usando os nós B710 e Sequana."
   ]
  },
  {
   "cell_type": "markdown",
   "id": "971bbd0a-2538-44f8-8c14-50119fc1393b",
   "metadata": {},
   "source": [
    "## Caso de teste: estêncil de cinco pontos\n",
    "\n",
    "(versão sequencial)\n",
    "\n",
    "O caso de teste adotado é um conhecido problema de transferência de calor sobre uma superfície finita, modelado pela equação diferencial parcial de Poisson, que modela a distribuição de temperatura normalizada sobre a superfície ao longo de uma série de iterações que compõem a simulação. A equação de Poisson discretizada 2D com um estêncil de 5 pontos pode ser expressa por:\n",
    "\n",
    "$$\n",
    "\\frac{\\partial^2 U}{\\partial x^2} +\n",
    "\\frac{\\partial^2 U}{\\partial y^2} \\approx\n",
    "\\frac{U_{i+1,j}+U_{i,j+1}-4U_{i,j}+U_{i-1,j}+U_{i,j-1}}{h^2}\n",
    "$$\n",
    "\n",
    "Comumente empregada para soluções numéricas, esta equação é discretizada em uma grade finita e resolvida por um método de diferenças finitas. O algoritmo específico requer o cálculo de um estêncil de 5 pontos sobre a grade de domínio 2D para atualizar as temperaturas a cada etapa de tempo. Para este problema, são assumidos um campo de temperatura uniforme inicial com valor zero sobre a superfície, e condições adiabáticas ou de contorno de Dirichlet. O estêncil de 5 pontos consiste em atualizar um ponto da grade fazendo a média das temperaturas de si mesmo com as temperaturas de seus quatro vizinhos, esquerda-direita e cima-baixo na grade. O campo de temperatura $ U $ é definido sobre uma grade discreta $ (x, y) $ com resoluções espaciais $ \\Delta x = \\Delta y = h $. Assim, a discretização mapeia as coordenadas cartesianas reais $ (x, y) $ para uma grade discreta $ (i, j) $, com $ U_ {x, y} = U_ {i, j} \\,, \\, U_ {x + h, y} = U_ {i + 1, j} \\, $ para a dimensão $ x $, e analogamente para a dimensão $ y $.\n",
    "\n",
    "![](img/grade.png)\n",
    "\n",
    "Três fontes de calor de taxa constante foram colocadas em pontos de grade localizados, e cada uma introduz uma quantidade de calor unitária a cada passo de tempo. A simulação de transferência de calor é modelada por um número finito de etapas de tempo, sendo todos os pontos da grade atualizados a cada etapa. A distribuição da temperatura será determinada pelas fontes de calor e pelas condições de contorno de Dirichlet, o que implica em temperatura zero nos pontos de fronteira da grade.\n",
    "\n",
    "![](img/fontes.png)"
   ]
  },
  {
   "cell_type": "markdown",
   "id": "4ade6d03-46ae-4417-8e58-7bb8d5fbfed9",
   "metadata": {},
   "source": [
    "---"
   ]
  },
  {
   "cell_type": "markdown",
   "id": "31a66639",
   "metadata": {},
   "source": [
    "# Implementação\n",
    "\n",
    "A parte computacionalmente intensiva é a atualização dos pontos da grade (atualização da matriz) utilizando a equação (cálculo do estêncil), onde dois laços de repetição são utilizados, um para cada dimensão.\n",
    "\n",
    "Em cada iteração, após a atualização da grade uma unidade de calor é inserida em três pontos de inserção de calor.\n",
    "\n",
    "Duas matrizes são utilizadas alternadamente nas iterações pois o cálculo do estêncil depende de pontos de células vizinhas que não podem ser sobrepostos. Desta forma, uma \"nova\" matriz de resultados é utilizada para armazenar os cálculos feitos a partir da matriz \"antiga\" que contém os dados. Quando a matriz \"nova\" está finalizada, a matriz \"antiga\" pode então ser descartada e utilizada para armazenar os resultados da próxima iteração, e desta forma as duas matrizes ficam alternando suas funções durante as iterações.\n",
    "\n",
    "Ao término das iterações, é feita uma soma de todos os pontos da grade, para obter o total de calor."
   ]
  },
  {
   "cell_type": "markdown",
   "id": "ae56cb4f-c0e0-4327-bc06-5d8b66d98291",
   "metadata": {},
   "source": [
    "Nó B710:"
   ]
  },
  {
   "cell_type": "code",
   "execution_count": 1,
   "id": "b0e9abe0",
   "metadata": {},
   "outputs": [
    {
     "name": "stdout",
     "output_type": "stream",
     "text": [
      "CPU(s):                24\n",
      "Thread(s) per core:    1\n",
      "Core(s) per socket:    12\n",
      "NUMA node(s):          2\n",
      "Model name:            Intel(R) Xeon(R) CPU E5-2695 v2 @ 2.40GHz\n",
      "CPU MHz:               2435.302\n"
     ]
    }
   ],
   "source": [
    "! lscpu | head -n 15 | grep \"Model \\|CPU(s):\\|Thre\\|Core\\|NUMA\\|MHz\""
   ]
  },
  {
   "cell_type": "markdown",
   "id": "2e36bc22",
   "metadata": {},
   "source": [
    "## Fortran 90 sequencial"
   ]
  },
  {
   "cell_type": "code",
   "execution_count": 1,
   "id": "505c184a",
   "metadata": {},
   "outputs": [
    {
     "name": "stdout",
     "output_type": "stream",
     "text": [
      "Writing heat_seq.f90\n"
     ]
    }
   ],
   "source": [
    "%%writefile heat_seq.f90\n",
    "program stencil\n",
    "    implicit none\n",
    "    \n",
    "    ! parameters for calculation\n",
    "    integer             :: n=2400     ! n x n grid\n",
    "    integer             :: energy=1   ! energy to be injected per iteration\n",
    "    integer             :: niters=250 ! number of iterations\n",
    "\n",
    "    ! other variables\n",
    "    integer, parameter  :: nsources=3\n",
    "    integer, dimension(3, 2)        :: sources\n",
    "    double precision, allocatable   :: aold(:,:), anew(:,:)\n",
    "    integer             :: iters, i, j, size, sizeStart, sizeEnd\n",
    "    double precision    :: t=0.0, t1=0.0, heat=0.0           \n",
    "    \n",
    "    size = n + 2\n",
    "    sizeStart = 2\n",
    "    sizeEnd = n + 1\n",
    "\n",
    "    allocate(aold(size, size))\n",
    "    allocate(anew(size, size))\n",
    "    aold = 0.0\n",
    "    anew = 0.0\n",
    "\n",
    "    sources(1,:) = (/ n/2,   n/2   /)\n",
    "    sources(2,:) = (/ n/3,   n/3   /)\n",
    "    sources(3,:) = (/ n*4/5, n*8/9 /)\n",
    "\n",
    "    ! time measurement\n",
    "    call cpu_time(t1)\n",
    "    t = -t1\n",
    "\n",
    "    do iters = 1, niters, 2\n",
    "        \n",
    "        ! odd iteration: anew <- stencil(aold)\n",
    "            \n",
    "        ! computationally intensive core\n",
    "        do j = sizeStart, sizeEnd\n",
    "            do i = sizeStart, sizeEnd\n",
    "                anew(i,j)=1/2.0*(aold(i,j)+  &\n",
    "                    1/4.0*(aold(i-1,j)+aold(i+1,j)+ aold(i,j-1)+aold(i,j+1)))\n",
    "            enddo\n",
    "        enddo\n",
    "        \n",
    "        ! three-point energy insertion\n",
    "        do i = 1, nsources\n",
    "            anew(sources(i,1)+1, sources(i,2)+1) =  &\n",
    "                anew(sources(i,1)+1, sources(i,2)+1) + energy\n",
    "        enddo\n",
    "\n",
    "\n",
    "        ! even iteration: aold <- stencil(anew)\n",
    "           \n",
    "        ! computationally intensive core\n",
    "        do j = sizeStart, sizeEnd\n",
    "            do i = sizeStart, sizeEnd\n",
    "                aold(i,j)=1/2.0*(anew(i,j)+  &\n",
    "                    1/4.0*(anew(i-1,j)+anew(i+1,j)+anew(i,j-1)+anew(i,j+1)))\n",
    "            enddo\n",
    "        enddo\n",
    "        \n",
    "        ! three-point energy insertion       \n",
    "        do i = 1, nsources\n",
    "            aold(sources(i,1)+1, sources(i,2)+1) =  &\n",
    "                aold(sources(i,1)+1, sources(i,2)+1) + energy\n",
    "        enddo\n",
    "\n",
    "    enddo\n",
    "\n",
    "    ! sum of grid points to get total heat\n",
    "    heat = 0.0\n",
    "    do j = sizeStart, sizeEnd\n",
    "        do i = sizeStart, sizeEnd\n",
    "            heat = heat + aold(i,j)\n",
    "        end do\n",
    "    end do\n",
    "\n",
    "    ! time measurement\n",
    "    call cpu_time(t1)\n",
    "    t = t + t1\n",
    "\n",
    "    ! show de result\n",
    "    write(*, \"('Heat = ' f0.4' | ')\", advance=\"no\") heat\n",
    "    write(*, \"('Time = 'f0.4)\") t\n",
    "\n",
    "    deallocate(aold)\n",
    "    deallocate(anew)\n",
    "\n",
    "end"
   ]
  },
  {
   "cell_type": "code",
   "execution_count": 2,
   "id": "52a1e1bf",
   "metadata": {},
   "outputs": [
    {
     "name": "stdout",
     "output_type": "stream",
     "text": [
      "GNU Fortran (GCC) 4.8.5 20150623 (Red Hat 4.8.5-36)\n",
      "Copyright (C) 2015 Free Software Foundation, Inc.\n",
      "\n",
      "GNU Fortran comes with NO WARRANTY, to the extent permitted by law.\n",
      "You may redistribute copies of GNU Fortran\n",
      "under the terms of the GNU General Public License.\n",
      "For more information about these matters, see the file named COPYING\n",
      "\n"
     ]
    }
   ],
   "source": [
    "! gfortran --version"
   ]
  },
  {
   "cell_type": "code",
   "execution_count": 3,
   "id": "3066a357",
   "metadata": {},
   "outputs": [],
   "source": [
    "! gfortran  -O3  -o heat_seq  heat_seq.f90"
   ]
  },
  {
   "cell_type": "code",
   "execution_count": 4,
   "id": "2fe75f64",
   "metadata": {
    "tags": []
   },
   "outputs": [
    {
     "name": "stdout",
     "output_type": "stream",
     "text": [
      "Heat = 750.0000 | Time = 2.4168\n"
     ]
    }
   ],
   "source": [
    "! ./heat_seq"
   ]
  },
  {
   "cell_type": "markdown",
   "id": "510003f9-fd8c-47e1-a4e4-22ec095c8970",
   "metadata": {},
   "source": [
    "> Nota: o nó de login não deve ser utilizado para rodar os programas finais; utilizá-lo apenas para compilar e fazer pequenos testes curtos."
   ]
  },
  {
   "cell_type": "markdown",
   "id": "017e0637",
   "metadata": {},
   "source": [
    "## Python sequencial"
   ]
  },
  {
   "cell_type": "code",
   "execution_count": 5,
   "id": "e286e502",
   "metadata": {},
   "outputs": [
    {
     "name": "stdout",
     "output_type": "stream",
     "text": [
      "Python 3.8.5\n"
     ]
    }
   ],
   "source": [
    "! python --version"
   ]
  },
  {
   "cell_type": "code",
   "execution_count": 6,
   "id": "67b9e56a",
   "metadata": {},
   "outputs": [
    {
     "name": "stdout",
     "output_type": "stream",
     "text": [
      "Heat: 750.0000 | Time: 24.3972 | Kernel: 24.3698\n"
     ]
    }
   ],
   "source": [
    "import numpy as np\n",
    "from time import time\n",
    "\n",
    "# parameters\n",
    "n            = 2400    # n x n grid\n",
    "energy       = 1.0     # energy to be injected per iteration\n",
    "niters       = 250     # number of iterations\n",
    "\n",
    "# other variables\n",
    "heat         = np.zeros((1), np.float64)     # system total heat\n",
    "anew         = np.zeros((n + 2,  n + 2), np.float64)\n",
    "aold         = np.zeros((n + 2,  n + 2), np.float64)\n",
    "sources      = np.empty((3, 2), np.int16)    # sources of energy\n",
    "sources[:,:] = [ [n//2, n//2], [n//3, n//3], [n*4//5, n*8//9] ]\n",
    "\n",
    "# computationally intensive core\n",
    "def kernel(anew, aold) :\n",
    "    anew[1:-1,1:-1]=1/2.0*(aold[1:-1,1:-1]+\n",
    "            1/4.0*(aold[2:,1:-1]+aold[:-2,1:-1]+aold[1:-1,2:]+aold[1:-1,:-2]))\n",
    "\n",
    "# main routine\n",
    "t2 = 0\n",
    "t0 = time()    # time measure\n",
    "for _ in range(0, niters, 2) :\n",
    "    t3 = time()\n",
    "    kernel(anew, aold)    # odd iteration\n",
    "    t2 += time() - t3\n",
    "    anew[sources[:, 0], sources[:, 1]] += energy\n",
    "    t3 = time()\n",
    "    kernel(aold, anew)    # even iteration\n",
    "    t2 += time() - t3\n",
    "    aold[sources[:, 0], sources[:, 1]] += energy\n",
    "heat[0] = np.sum( aold[1:-1, 1:-1] )  # system total heat\n",
    "t1 = time()    # time measure\n",
    "\n",
    "# show result\n",
    "print(\"Heat: %0.4f | Time: %0.4f | Kernel: %0.4f\" % (heat[0], t1-t0, t2) )"
   ]
  },
  {
   "cell_type": "markdown",
   "id": "9e058544",
   "metadata": {},
   "source": [
    "## Numba sequencial (1 thread)"
   ]
  },
  {
   "cell_type": "code",
   "execution_count": 4,
   "id": "79e025fb",
   "metadata": {},
   "outputs": [
    {
     "name": "stdout",
     "output_type": "stream",
     "text": [
      "Heat: 750.0000 | Time: 3.3275 | Kernel: 3.2966\n",
      "Threading layer chosen: tbb | Thread count: 1\n"
     ]
    }
   ],
   "source": [
    "import numpy as np\n",
    "from time import time\n",
    "from numba import njit, set_num_threads, get_num_threads, threading_layer\n",
    "\n",
    "# parameters\n",
    "n            = 2400    # n x n grid\n",
    "energy       = 1.0     # energy to be injected per iteration\n",
    "niters       = 250     # number of iterations\n",
    "# initialize the data arrays\n",
    "anew         = np.zeros((n + 2,  n + 2), np.float64)\n",
    "aold         = np.zeros((n + 2,  n + 2), np.float64)\n",
    "# initialize three heat sources\n",
    "sources      = np.empty((3, 2), np.int16)    # sources of energy\n",
    "sources[:,:] = [ [n//2, n//2], [n//3, n//3], [n*4//5, n*8//9] ]\n",
    "heat         = 0     # system total heat\n",
    "\n",
    "# computationally intensive core\n",
    "@njit('(float64[:,:],float64[:,:])', fastmath=True, parallel=True, nogil=True)\n",
    "def kernel(anew, aold) :\n",
    "    anew[1:-1,1:-1]=1/2.0*(aold[1:-1,1:-1]+\n",
    "            1/4.0*(aold[2:,1:-1]+aold[:-2,1:-1]+aold[1:-1,2:]+aold[1:-1,:-2]))\n",
    "\n",
    "# main routine\n",
    "set_num_threads(1)\n",
    "t2 = 0\n",
    "t0 = time()    # time measure\n",
    "for _ in range(0, niters, 2) :\n",
    "    t3 = time()\n",
    "    kernel(anew, aold)\n",
    "    t2 += time() - t3\n",
    "    anew[sources[:, 0], sources[:, 1]] += energy\n",
    "    t3 = time()\n",
    "    kernel(aold, anew)\n",
    "    t2 += time() - t3\n",
    "    aold[sources[:, 0], sources[:, 1]] += energy\n",
    "heat = np.sum( aold[1:-1, 1:-1] )    # system total heat\n",
    "t1   = time()    # time measure\n",
    "\n",
    "# show result\n",
    "print(\"Heat: %0.4f | Time: %0.4f | Kernel: %0.4f\" % (heat, t1-t0, t2) )\n",
    "print(\"Threading layer chosen: %s | Thread count: %s\" %\n",
    "      (threading_layer(), get_num_threads()) )"
   ]
  },
  {
   "cell_type": "markdown",
   "id": "a731f19b",
   "metadata": {},
   "source": [
    "## 4 threads\n",
    "\n",
    "Obs: o hyperthreading e turboboost devem estar desligados, caso contrário não é possível ver o aumento de velocidade"
   ]
  },
  {
   "cell_type": "code",
   "execution_count": 2,
   "id": "4d66a344",
   "metadata": {},
   "outputs": [
    {
     "name": "stdout",
     "output_type": "stream",
     "text": [
      "Heat: 750.0000 | Time: 1.2146 | Kernel: 1.1831\n",
      "Threading layer chosen: tbb | Thread count: 4\n"
     ]
    }
   ],
   "source": [
    "import numpy as np\n",
    "from time import time\n",
    "from numba import njit, set_num_threads, get_num_threads, threading_layer\n",
    "\n",
    "# parameters\n",
    "n            = 2400    # n x n grid\n",
    "energy       = 1.0     # energy to be injected per iteration\n",
    "niters       = 250     # number of iterations\n",
    "\n",
    "# other variables\n",
    "heat         = np.zeros((1), np.float64)     # system total heat\n",
    "anew         = np.zeros((n + 2,  n + 2), np.float64)\n",
    "aold         = np.zeros((n + 2,  n + 2), np.float64)\n",
    "sources      = np.empty((3, 2), np.int16)    # sources of energy\n",
    "sources[:,:] = [ [n//2, n//2], [n//3, n//3], [n*4//5, n*8//9] ]\n",
    "\n",
    "# computationally intensive core\n",
    "@njit('(float64[:,:],float64[:,:])', fastmath=True, parallel=True, nogil=True)\n",
    "def kernel(anew, aold) :\n",
    "    anew[1:-1,1:-1]=1/2.0*(aold[1:-1,1:-1]+\n",
    "            1/4.0*(aold[2:,1:-1]+aold[:-2,1:-1]+aold[1:-1,2:]+aold[1:-1,:-2]))\n",
    "\n",
    "# main routine\n",
    "set_num_threads(4)\n",
    "t2 = 0\n",
    "t0 = time()    # time measure\n",
    "for _ in range((niters+1)//2) :\n",
    "    t3 = time()\n",
    "    kernel(anew, aold)\n",
    "    t2 += time() - t3\n",
    "    anew[sources[:, 0], sources[:, 1]] += energy\n",
    "    t3 = time()\n",
    "    kernel(aold, anew)\n",
    "    t2 += time() - t3\n",
    "    aold[sources[:, 0], sources[:, 1]] += energy\n",
    "heat[0] = np.sum( aold[1:-1, 1:-1] )  # system total heat\n",
    "t1 = time()    # time measure\n",
    "\n",
    "# show result\n",
    "print(\"Heat: %0.4f | Time: %0.4f | Kernel: %0.4f\" % (heat[0], t1-t0, t2) )\n",
    "print(\"Threading layer chosen: %s | Thread count: %s\" %\n",
    "      (threading_layer(), get_num_threads()) )"
   ]
  },
  {
   "cell_type": "markdown",
   "id": "76ec3a44",
   "metadata": {},
   "source": [
    "## 16 threads"
   ]
  },
  {
   "cell_type": "code",
   "execution_count": 3,
   "id": "20f27599",
   "metadata": {},
   "outputs": [
    {
     "name": "stdout",
     "output_type": "stream",
     "text": [
      "Heat: 750.0000 | Time: 0.7777 | Kernel: 0.7479\n",
      "Threading layer chosen: tbb | Thread count: 16\n"
     ]
    }
   ],
   "source": [
    "import numpy as np\n",
    "from time import time\n",
    "from numba import njit, set_num_threads, get_num_threads, threading_layer\n",
    "\n",
    "# parameters\n",
    "n            = 2400    # n x n grid\n",
    "energy       = 1.0     # energy to be injected per iteration\n",
    "niters       = 250     # number of iterations\n",
    "\n",
    "# other variables\n",
    "heat         = np.zeros((1), np.float64)     # system total heat\n",
    "anew         = np.zeros((n + 2,  n + 2), np.float64)\n",
    "aold         = np.zeros((n + 2,  n + 2), np.float64)\n",
    "sources      = np.empty((3, 2), np.int16)    # sources of energy\n",
    "sources[:,:] = [ [n//2, n//2], [n//3, n//3], [n*4//5, n*8//9] ]\n",
    "\n",
    "# computationally intensive core\n",
    "@njit('(float64[:,:],float64[:,:])', fastmath=True, parallel=True, nogil=True)\n",
    "def kernel(anew, aold) :\n",
    "    anew[1:-1,1:-1]=1/2.0*(aold[1:-1,1:-1]+\n",
    "            1/4.0*(aold[2:,1:-1]+aold[:-2,1:-1]+aold[1:-1,2:]+aold[1:-1,:-2]))\n",
    "\n",
    "# main routine\n",
    "set_num_threads(16)\n",
    "t2 = 0\n",
    "t0 = time()    # time measure\n",
    "for _ in range((niters+1)//2) :\n",
    "    t3 = time()\n",
    "    kernel(anew, aold)\n",
    "    t2 += time() - t3\n",
    "    anew[sources[:, 0], sources[:, 1]] += energy\n",
    "    t3 = time()\n",
    "    kernel(aold, anew)\n",
    "    t2 += time() - t3\n",
    "    aold[sources[:, 0], sources[:, 1]] += energy\n",
    "heat[0] = np.sum( aold[1:-1, 1:-1] )  # system total heat\n",
    "t1 = time()    # time measure\n",
    "\n",
    "# show result\n",
    "print(\"Heat: %0.4f | Time: %0.4f | Kernel: %0.4f\" % (heat[0], t1-t0, t2) )\n",
    "print(\"Threading layer chosen: %s | Thread count: %s\" %\n",
    "      (threading_layer(), get_num_threads()) )"
   ]
  }
 ],
 "metadata": {
  "kernelspec": {
   "display_name": "Python 3",
   "language": "python",
   "name": "python3"
  },
  "language_info": {
   "codemirror_mode": {
    "name": "ipython",
    "version": 3
   },
   "file_extension": ".py",
   "mimetype": "text/x-python",
   "name": "python",
   "nbconvert_exporter": "python",
   "pygments_lexer": "ipython3",
   "version": "3.8.8"
  }
 },
 "nbformat": 4,
 "nbformat_minor": 5
}
