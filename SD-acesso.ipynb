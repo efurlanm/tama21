{
 "cells": [
  {
   "cell_type": "markdown",
   "id": "db4a0ad6-352e-4ebb-aeae-7d68e80c8b09",
   "metadata": {},
   "source": [
    "# Acesso ao SD\n",
    "\n",
    "> Nota: esse Notebook usa o [kernel Bash](https://pypi.org/project/bash_kernel/)\n",
    "\n",
    "Objetivo: rodar instâncias do servidor JupyterLab (JL) no supercomputador Santos Dumont (SD), e desta forma ter acesso aos recursos do SD através do cliente JL (web-based IDE) rodando no navegador web na máquina local."
   ]
  },
  {
   "cell_type": "markdown",
   "id": "7bb5e643-909b-43a7-bcae-37f6e42d5332",
   "metadata": {},
   "source": [
    "## Exemplos de configuração do ambiente\n",
    "\n",
    "### Na máquina local\n",
    "\n",
    "Pré-requisito: distribuição Python (Anaconda ou Intel) instalada e funcionando na máquina local\n",
    "\n",
    "* https://www.anaconda.com/products/individual\n",
    "* https://software.intel.com/content/www/us/en/develop/tools/oneapi/components/distribution-for-python.html\n",
    "\n",
    "\n",
    "### Exemplo de instalação do Jupyter-Lab\n",
    "\n",
    "Distribuição Intel (que inclui outros compiladores e ferramentas Intel)\n",
    "\n",
    "* https://software.intel.com/content/www/us/en/develop/documentation/installation-guide-for-intel-oneapi-toolkits-linux/top/installation/install-using-package-managers/apt.html\n",
    "\n",
    "```\n",
    "$ sudo apt install intel-basekit intel-hpckit\n",
    "$ source /opt/intel/oneapi/setvars.sh\n",
    "$ sudo chmod -R 777 /opt/intel/oneapi/intelpython/latest/envs\n",
    "$ conda install jupyterlab\n",
    "$ jupyter-lab\n",
    "```\n",
    "\n",
    "\n",
    "### Exemplos de configuração do VPN, SSH, e JupyterLab\n",
    "\n",
    "* https://github.com/efurlanm/hpc/blob/master/sd/access_configuring.ipynb\n",
    "* https://www.hostinger.com.br/tutoriais/conexao-ssh-sem-senha\n",
    "* https://github.com/efurlanm/hpc/blob/master/sd/access_using_jupyterlab.ipynb\n",
    "\n",
    "O SSH foi configurado para chave ao invés de senha, tanto na máquina local quanto no SD para acessar o sdumont18 (\\~/.ssh/id_sd_ed25519). Além disso os arquivos `~/.ssh/config` foram configurados:\n",
    "\n",
    "* Na máquina local:\n",
    "        Host *\n",
    "            ServerAliveInterval 120\n",
    "        Host sd\n",
    "            HostName login.sdumont.lncc.br\n",
    "            User <NOME_DO_USUARIO>\n",
    "            ControlMaster auto\n",
    "            ControlPath ~/.ssh/remote_sd\n",
    "* No SD:\n",
    "        Host *\n",
    "            ServerAliveInterval 120\n",
    "        Host sdumont18\n",
    "            Identityfile ~/.ssh/id_sd_ed25519"
   ]
  },
  {
   "cell_type": "markdown",
   "id": "ce06287a-88dd-45a7-9b88-f8f915e415ea",
   "metadata": {},
   "source": [
    "### Configuração deste Notebook\n",
    "\n",
    "Esta célula deve ser executada sempre. Como alternativa o `.basrc` pode ser configurado:"
   ]
  },
  {
   "cell_type": "code",
   "execution_count": 1,
   "id": "4531aaa8-00d5-46ac-a541-bb4efad2344d",
   "metadata": {},
   "outputs": [
    {
     "name": "stdout",
     "output_type": "stream",
     "text": [
      "\u001b[?2004l\r"
     ]
    }
   ],
   "source": [
    "bind 'set enable-bracketed-paste off'"
   ]
  },
  {
   "cell_type": "markdown",
   "id": "baaf148b-55e1-4c17-8894-1ef99c4e939e",
   "metadata": {},
   "source": [
    "## Acessando o Santos Dumont"
   ]
  },
  {
   "cell_type": "markdown",
   "id": "821ff293-b799-4c3b-b161-9949159916b5",
   "metadata": {},
   "source": [
    "* Primeiro passo: usando o Gerenciador de Rede, fazer a conexão ao VPN Cisco usando vpnc"
   ]
  },
  {
   "cell_type": "markdown",
   "id": "1f18166d-f4fa-451c-adfb-01ce08200c30",
   "metadata": {},
   "source": [
    "Ao fazer login, uma máquina de login é selecionada aleatoriamente (geralmente sdumont11, sdumont13, ou sdumont14). O comando a seguir abre uma conexão mestre (\"SSH Socket\") em um dos nós, de tal forma que todos os comandos subsequentes sejam realizados neste mesmo nó:"
   ]
  },
  {
   "cell_type": "code",
   "execution_count": 2,
   "id": "f8d279ca-5343-4a14-9958-af62e06026db",
   "metadata": {},
   "outputs": [],
   "source": [
    "ssh -Nf sd    # não esquecer de ligar o VPN antes"
   ]
  },
  {
   "cell_type": "markdown",
   "id": "623ce436-75d0-4e57-9879-e93267b3b0b4",
   "metadata": {},
   "source": [
    "Mostra em qual nó estamos conectados:"
   ]
  },
  {
   "cell_type": "code",
   "execution_count": 3,
   "id": "6fc5b762-5b3c-473b-a186-7ab6356c590f",
   "metadata": {},
   "outputs": [
    {
     "name": "stdout",
     "output_type": "stream",
     "text": [
      "sdumont14\n"
     ]
    }
   ],
   "source": [
    "ssh sd 'hostname'"
   ]
  },
  {
   "cell_type": "markdown",
   "id": "80fad660-1880-4157-8dd6-b1dc6352a35d",
   "metadata": {},
   "source": [
    "## Primeira sessão\n",
    "\n",
    "* no nó de login B710\n",
    "* o comando `ssh` a seguir, executa os seguintes comandos no SD:\n",
    "    * carrega o módulo anaconda\n",
    "    * carrega uma instância do servidor JupyterLab, que fica ativo na porta 20210 (pode escolher outra)\n",
    "* uma instância JupyterLab fica rodando na máquina de login onde a conexão mestre está apontando"
   ]
  },
  {
   "cell_type": "code",
   "execution_count": 4,
   "id": "e531c918-1adb-43d3-9163-69539ff0c710",
   "metadata": {},
   "outputs": [],
   "source": [
    "ssh -T sd <<'EOF'\n",
    "module load anaconda3\n",
    "jupyter-lab --no-browser --port=20210 --ip=0.0.0.0 > ~/20210.log 2>&1 &\n",
    "EOF"
   ]
  },
  {
   "cell_type": "markdown",
   "id": "6ff612c5-293c-498f-a8fa-e97c25039b3a",
   "metadata": {},
   "source": [
    "## Segunda sessão\n",
    "\n",
    "* acesso ao nó Sequana (sdumont18)\n",
    "* entra no nó Sequana sdumont18 usando o comando ssh que é executado na máquina de login\n",
    "* carrega uma nova instância do servidor JupyterLab, que fica ativo no nó sdumont18 na porta 20211"
   ]
  },
  {
   "cell_type": "code",
   "execution_count": 14,
   "id": "99250d7e-3cc9-40cd-942a-99b230ed14fb",
   "metadata": {},
   "outputs": [],
   "source": [
    "ssh -T sd <<'EOF1'\n",
    "ssh -T sdumont18 <<'EOF2'\n",
    "module load anaconda3\n",
    "jupyter-lab --no-browser --port=20211 --ip=0.0.0.0 > ~/20211.log 2>&1 &\n",
    "EOF2\n",
    "EOF1"
   ]
  },
  {
   "cell_type": "markdown",
   "id": "548afca4-4b54-4e64-9322-ac0a9be14128",
   "metadata": {},
   "source": [
    "## Encaminhamento de portas\n",
    "\n",
    "Localmente o acesso é feito usando as portas 8889 e 8890 (pode escolher outras)"
   ]
  },
  {
   "cell_type": "markdown",
   "id": "015efc34-d29f-4877-a6aa-fd0d0124b8f5",
   "metadata": {},
   "source": [
    "B710:"
   ]
  },
  {
   "cell_type": "code",
   "execution_count": 5,
   "id": "a01378f5-dbbc-46ad-9a15-2400e3a98062",
   "metadata": {},
   "outputs": [],
   "source": [
    "ssh -NfTL 8889:localhost:20210 sd"
   ]
  },
  {
   "cell_type": "markdown",
   "id": "7dc0c1a8-15c5-4c0a-9a3f-dfce7d45c0f0",
   "metadata": {},
   "source": [
    "Sequana:"
   ]
  },
  {
   "cell_type": "code",
   "execution_count": 15,
   "id": "105a5d35-1516-4378-b5c3-a762118a5122",
   "metadata": {},
   "outputs": [],
   "source": [
    "ssh -NfTL 8890:sdumont18:20211 sd"
   ]
  },
  {
   "cell_type": "markdown",
   "id": "b6876668-6e9c-4ad3-be85-25a795f97674",
   "metadata": {},
   "source": [
    "## Montagem do sistema de arquivos remoto\n",
    "\n",
    "* é independente do Jupyter\n",
    "* é importante criar os diretórios `/pr` e `/scratch` com `chmod -R 777` no diretório raiz da máquina local, para evitar links quebrados"
   ]
  },
  {
   "cell_type": "code",
   "execution_count": 6,
   "id": "46d1d189-0845-49aa-9e93-e17096a5a4e2",
   "metadata": {},
   "outputs": [],
   "source": [
    "sshfs sd:/prj     /prj     -o workaround=rename,uid=1000,gid=1000\n",
    "sshfs sd:/scratch /scratch -o workaround=rename,uid=1000,gid=1000"
   ]
  },
  {
   "cell_type": "markdown",
   "id": "0d3a4024-fa00-41c4-bda1-5c9f4c255970",
   "metadata": {},
   "source": [
    "## Links para os clientes JupyterLab na máquina local\n",
    "\n",
    "* se não aparecer nada ou aparecer em branco, tem que esperar um pouco para o servidor subir (pode demorar minutos)\n",
    "* se assim mesmo o link não aparecer, ou der erro: mata os processos e tenta de novo"
   ]
  },
  {
   "cell_type": "markdown",
   "id": "1f601b41-0ae3-4b59-b9d7-d02a422f5a07",
   "metadata": {},
   "source": [
    "B710:"
   ]
  },
  {
   "cell_type": "code",
   "execution_count": 13,
   "id": "c91e9f87-a705-4eeb-bf7e-d77867a206b5",
   "metadata": {},
   "outputs": [
    {
     "name": "stdout",
     "output_type": "stream",
     "text": [
      "http://localhost:8889/?token=a4f65f2933f074b73b4bb98b57013a6169dc4421888a9957\n"
     ]
    }
   ],
   "source": [
    "tmp=$(ssh sd 'cat ~/20210.log | grep \"     or\"')\n",
    "echo ${tmp/#*'20210'/'http://localhost:8889'}"
   ]
  },
  {
   "cell_type": "markdown",
   "id": "f5470694-f326-4b03-a59a-fd73028e5e4c",
   "metadata": {},
   "source": [
    "Sequana:"
   ]
  },
  {
   "cell_type": "code",
   "execution_count": 16,
   "id": "e7790f8c-36cc-45b8-b28e-9ce4686a6fd5",
   "metadata": {},
   "outputs": [
    {
     "name": "stdout",
     "output_type": "stream",
     "text": [
      "http://localhost:8890/?token=e00710fd69c5a3c43548071ff70fe8d7b23f4115c13e56e0\n"
     ]
    }
   ],
   "source": [
    "tmp=$(ssh sd 'cat ~/20211.log | grep \"     or\"')\n",
    "echo ${tmp/#*'20211'/'http://localhost:8890'}"
   ]
  },
  {
   "cell_type": "markdown",
   "id": "d558cb80-c152-4d9c-8b3e-452bca43e66c",
   "metadata": {},
   "source": [
    "# Sair\n",
    "\n",
    "* como o `/scratch` é temporário, fazer a cópia dos arquivos para `/prj` ou para a máquina local\n",
    "* fazer backup dos arquivos na máquina local"
   ]
  },
  {
   "cell_type": "markdown",
   "id": "4ef390a8-4a72-44a4-a424-6d3619210bfc",
   "metadata": {},
   "source": [
    "Desmonta o sistema de arquivos remoto, e encerra o encaminhamento de portas:"
   ]
  },
  {
   "cell_type": "code",
   "execution_count": 21,
   "id": "e91531c9-df2e-4818-878f-f756830daf41",
   "metadata": {},
   "outputs": [],
   "source": [
    "sudo umount -fl /prj /scratch"
   ]
  },
  {
   "cell_type": "code",
   "execution_count": null,
   "id": "651feb26-c444-4a3e-a06e-fd4a84612772",
   "metadata": {},
   "outputs": [],
   "source": [
    "pkill -f 8889:"
   ]
  },
  {
   "cell_type": "code",
   "execution_count": null,
   "id": "fe96b0ae-d19f-4927-a524-3d756de0f75e",
   "metadata": {},
   "outputs": [],
   "source": [
    "pkill -f 8890:"
   ]
  },
  {
   "cell_type": "markdown",
   "id": "973db2d8-90e9-4156-9e01-f403c1b3139e",
   "metadata": {},
   "source": [
    "### Encerra a conexão"
   ]
  },
  {
   "cell_type": "markdown",
   "id": "d78b0734-8de7-4e72-96c5-092acb792035",
   "metadata": {},
   "source": [
    "Uma forma é usar o menu do cliente JupyterLab e selecionar \"File > Shut Down\" para cada instância do servidor, e em seguida encerrar a conexão mestre, e depois desligar o VPN:"
   ]
  },
  {
   "cell_type": "code",
   "execution_count": 24,
   "id": "72fc82af-2e6e-46f8-828b-352d08d335d3",
   "metadata": {},
   "outputs": [
    {
     "name": "stdout",
     "output_type": "stream",
     "text": [
      "Exit request sent.\n"
     ]
    }
   ],
   "source": [
    "ssh -O exit sd"
   ]
  },
  {
   "cell_type": "markdown",
   "id": "bef08f82-534a-484d-86bd-06492562b9da",
   "metadata": {},
   "source": [
    "Outra forma é matar os processos e em seguida encerrar a conexão mestre:"
   ]
  },
  {
   "cell_type": "code",
   "execution_count": 20,
   "id": "ef07fcd5-1157-4d2e-9255-847c06039cef",
   "metadata": {},
   "outputs": [],
   "source": [
    "ssh sd 'pkill -u ${USER} -f jupyter'"
   ]
  },
  {
   "cell_type": "code",
   "execution_count": 21,
   "id": "878e7156-f29e-4e18-bd87-1eb1c6d7e8fb",
   "metadata": {},
   "outputs": [],
   "source": [
    "ssh sd 'ssh sdumont18 \"pkill -u ${USER} -f jupyter\"'"
   ]
  },
  {
   "cell_type": "code",
   "execution_count": 12,
   "id": "f3d961c6-7185-4b2b-aa42-7bf7a34b2d68",
   "metadata": {},
   "outputs": [
    {
     "name": "stdout",
     "output_type": "stream",
     "text": [
      "Exit request sent.\n"
     ]
    }
   ],
   "source": [
    "ssh -O exit sd"
   ]
  },
  {
   "cell_type": "markdown",
   "id": "c5861182-5c29-42d3-96aa-2e4f72645ef7",
   "metadata": {},
   "source": [
    "## Mostra processos ativos nos nós"
   ]
  },
  {
   "cell_type": "code",
   "execution_count": 17,
   "id": "c9ebbd1e-aac8-4439-bf61-767234ca443f",
   "metadata": {},
   "outputs": [
    {
     "name": "stdout",
     "output_type": "stream",
     "text": [
      "  PID TTY          TIME CMD\n",
      "10023 ?        00:00:32 jupyter-lab\n",
      "10377 ?        00:00:04 python\n",
      "10380 ?        00:00:03 python\n",
      "10381 ?        00:00:03 python\n",
      "10382 ?        00:00:04 python\n",
      "29037 ?        00:00:00 sshd\n",
      "29038 ?        00:00:00 ps\n"
     ]
    }
   ],
   "source": [
    "ssh sd 'ssh sdumont11 \"ps -u ${USER}\"; exit'"
   ]
  },
  {
   "cell_type": "code",
   "execution_count": 18,
   "id": "f239e85e-1bec-458b-ae9b-3934dd430d23",
   "metadata": {},
   "outputs": [
    {
     "name": "stdout",
     "output_type": "stream",
     "text": [
      "  PID TTY          TIME CMD\n",
      "19884 ?        00:00:00 sshd\n",
      "19885 ?        00:00:00 ps\n"
     ]
    }
   ],
   "source": [
    "ssh sd 'ssh sdumont13 \"ps -u ${USER}\"; exit'"
   ]
  },
  {
   "cell_type": "code",
   "execution_count": 19,
   "id": "ca1a5cdf-d793-4cde-ae05-f4781d0a96db",
   "metadata": {},
   "outputs": [
    {
     "name": "stdout",
     "output_type": "stream",
     "text": [
      "  PID TTY          TIME CMD\n",
      " 2857 ?        00:00:00 sftp-server\n",
      " 2882 ?        00:00:00 sftp-server\n",
      "19512 ?        00:00:00 sshd\n",
      "24424 ?        00:00:00 python\n",
      "24427 ?        00:00:00 python\n",
      "24428 ?        00:00:00 python\n",
      "28707 ?        00:00:05 jupyter-lab\n",
      "28800 ?        00:00:00 bash\n",
      "29112 ?        00:00:00 ssh\n",
      "29425 ?        00:00:00 sshd\n",
      "29543 ?        00:00:00 ps\n",
      "30930 pts/114  00:00:00 bash\n"
     ]
    }
   ],
   "source": [
    "ssh sd 'ssh sdumont14 \"ps -u ${USER}\"; exit'"
   ]
  },
  {
   "cell_type": "code",
   "execution_count": 20,
   "id": "f798bedd-ac1a-422d-8b64-2ccfd8eb6cfa",
   "metadata": {},
   "outputs": [
    {
     "name": "stdout",
     "output_type": "stream",
     "text": [
      "   PID TTY          TIME CMD\n",
      "158875 ?        00:00:02 jupyter-lab\n",
      "159322 ?        00:00:00 sshd\n",
      "159339 ?        00:00:00 ps\n"
     ]
    }
   ],
   "source": [
    "ssh sd 'ssh sdumont18 \"ps -u ${USER}\"; exit'"
   ]
  },
  {
   "cell_type": "markdown",
   "id": "2447e0d8-d86f-40f5-b1a3-480ef83f9f06",
   "metadata": {},
   "source": [
    "# Referências\n",
    "\n",
    "* [Running Jupyter Notebooks on Remote Servers](https://towardsdatascience.com/running-jupyter-notebooks-on-reamote-servers-603fbcc256b3?gi=cb964f4376e0)\n",
    "* [Automatically set up jupyter notebook on remote server ](https://gist.github.com/cdgreenidge/45f2269a0b019d5ac45ab9530d5d75ca)\n",
    "* [Create ssh tunnel to remote docker container running Jupyter Notebook](https://stackoverflow.com/questions/37576193/create-ssh-tunnel-to-remote-docker-container-running-jupyter-notebook)\n"
   ]
  }
 ],
 "metadata": {
  "kernelspec": {
   "display_name": "Bash",
   "language": "bash",
   "name": "bash"
  },
  "language_info": {
   "codemirror_mode": "shell",
   "file_extension": ".sh",
   "mimetype": "text/x-sh",
   "name": "bash"
  }
 },
 "nbformat": 4,
 "nbformat_minor": 5
}
