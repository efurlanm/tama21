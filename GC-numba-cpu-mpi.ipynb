{
 "cells": [
  {
   "cell_type": "markdown",
   "metadata": {
    "id": "Dnte1q0CW7ho"
   },
   "source": [
    "# GC Numba CPU MPI (mpiexec)"
   ]
  },
  {
   "cell_type": "code",
   "execution_count": 1,
   "metadata": {
    "colab": {
     "base_uri": "https://localhost:8080/"
    },
    "executionInfo": {
     "elapsed": 868,
     "status": "ok",
     "timestamp": 1632513128490,
     "user": {
      "displayName": "E Furlan",
      "photoUrl": "https://lh3.googleusercontent.com/a-/AOh14Ghzd7UO2EoPv4GHJ2AiwebDPC3evXCqxNZAD2FZ=s64",
      "userId": "04933934069991532991"
     },
     "user_tz": 180
    },
    "id": "LDNzBtxoXS-U",
    "outputId": "5d749062-b81e-44ae-8f00-b3d73df60dab"
   },
   "outputs": [
    {
     "name": "stdout",
     "output_type": "stream",
     "text": [
      "mpiexec (OpenRTE) 2.1.1\n",
      "\n",
      "Report bugs to http://www.open-mpi.org/community/help/\n"
     ]
    }
   ],
   "source": [
    "! mpiexec --version"
   ]
  },
  {
   "cell_type": "markdown",
   "metadata": {
    "id": "BW_eT74YW7hx"
   },
   "source": [
    "## Código fonte"
   ]
  },
  {
   "cell_type": "code",
   "execution_count": 2,
   "metadata": {
    "colab": {
     "base_uri": "https://localhost:8080/"
    },
    "executionInfo": {
     "elapsed": 234,
     "status": "ok",
     "timestamp": 1632513884238,
     "user": {
      "displayName": "E Furlan",
      "photoUrl": "https://lh3.googleusercontent.com/a-/AOh14Ghzd7UO2EoPv4GHJ2AiwebDPC3evXCqxNZAD2FZ=s64",
      "userId": "04933934069991532991"
     },
     "user_tz": 180
    },
    "id": "wqwDTbzVW7hx",
    "outputId": "60dd3c56-fbf0-4b7c-adc7-bb32d5bfff5f"
   },
   "outputs": [
    {
     "name": "stdout",
     "output_type": "stream",
     "text": [
      "Overwriting numbampi.py\n"
     ]
    }
   ],
   "source": [
    "%%writefile numbampi.py\n",
    "import numpy as np\n",
    "from time import time\n",
    "from numba import njit, set_num_threads, get_num_threads, config\n",
    "from mpi4py import MPI\n",
    "\n",
    "# set the threading layer before any parallel target compilation\n",
    "config.THREADING_LAYER = 'omp'    # OpenMP\n",
    "\n",
    "# computationally intensive core\n",
    "@njit('(float64[:,:],float64[:,:])', parallel=True, fastmath=True, nogil=True)\n",
    "def kernel(anew, aold) :\n",
    "    anew[1:-1,1:-1] = (aold[1:-1,1:-1]/2.0\n",
    "        +(aold[2:,1:-1]+aold[:-2,1:-1]+aold[1:-1,2:]+aold[1:-1,:-2])/8.0)\n",
    "\n",
    "# parameters\n",
    "n            = 2400    # n x n grid\n",
    "energy       = 1.0     # energy to be injected per iteration\n",
    "niters       = 250     # number of iterations\n",
    "# initialize three heat sources\n",
    "nsources     = 3    # sources of energy\n",
    "sources      = np.zeros((nsources, 2), np.int16)\n",
    "sources[:,:] = [ [n//2, n//2], [n//3, n//3], [n*4//5, n*8//9] ]\n",
    "\n",
    "# main routine\n",
    "comm    = MPI.COMM_WORLD\n",
    "mpisize = comm.size\n",
    "mpirank = comm.rank\n",
    "if not mpirank : t0 = -time()\n",
    "\n",
    "# determine my coordinates (x,y)\n",
    "pdims = MPI.Compute_dims(mpisize, 2)\n",
    "px    = pdims[0]\n",
    "py    = pdims[1]\n",
    "rx    = mpirank % px\n",
    "ry    = mpirank // px\n",
    "\n",
    "# determine my four neighbors\n",
    "north = (ry - 1) * px + rx\n",
    "if (ry - 1) < 0 :\n",
    "    north = MPI.PROC_NULL\n",
    "south = (ry + 1) * px + rx\n",
    "if (ry + 1) >= py :\n",
    "    south = MPI.PROC_NULL\n",
    "west = ry * px + rx - 1\n",
    "if (rx - 1) < 0 :\n",
    "    west = MPI.PROC_NULL\n",
    "east = ry * px + rx + 1\n",
    "if (rx + 1) >= px :\n",
    "    east = MPI.PROC_NULL\n",
    "\n",
    "# decompose the domain\n",
    "bx   = n // px          # block size in x\n",
    "by   = n // py          # block size in y\n",
    "offx = rx * bx + 1      # offset in x\n",
    "offy = ry * by + 1      # offset in y\n",
    "\n",
    "# sources in my area, local to my rank\n",
    "locnsources = 0\n",
    "locsources  = np.empty((nsources, 2), np.int16)\n",
    "\n",
    "# determine which sources are in my patch\n",
    "for i in range(nsources) :\n",
    "    locx = sources[i, 0] - offx\n",
    "    locy = sources[i, 1] - offy\n",
    "    if(locx >= 0 and locx <= bx and locy >= 0 and locy <= by) :\n",
    "        locsources[locnsources, 0] = locx\n",
    "        locsources[locnsources, 1] = locy\n",
    "        locnsources += 1\n",
    "\n",
    "# working arrays with 1-wide halo zones\n",
    "anew = np.zeros((bx+2, by+2), np.float64)\n",
    "aold = np.zeros((bx+2, by+2), np.float64)\n",
    "\n",
    "# system total heat\n",
    "rheat = np.zeros(1, np.float64)\n",
    "bheat = np.zeros(1, np.float64)\n",
    "\n",
    "for _ in range(0, niters, 2) :\n",
    "    # exchange data with neighbors\n",
    "    if north != MPI.PROC_NULL :\n",
    "        r1=comm.irecv(source=north, tag=1)\n",
    "        s1=comm.isend(aold[1, 1:bx+1], dest=north, tag=1)\n",
    "    if south != MPI.PROC_NULL :\n",
    "        r2=comm.irecv(source=south, tag=1)\n",
    "        s2=comm.isend(aold[bx, 1:bx+1], dest=south, tag=1)\n",
    "    if east != MPI.PROC_NULL :\n",
    "        r3 = comm.irecv(source=east, tag=1)\n",
    "        s3 = comm.isend(aold[1:bx+1, bx], dest=east, tag=1)\n",
    "    if west != MPI.PROC_NULL :\n",
    "        r4 = comm.irecv(source=west, tag=1)\n",
    "        s4 = comm.isend(aold[1:bx+1, 1], dest=west, tag=1)\n",
    "    # wait\n",
    "    if north != MPI.PROC_NULL :\n",
    "        s1.wait()\n",
    "        aold[0, 1:bx+1] = r1.wait()\n",
    "    if south != MPI.PROC_NULL :\n",
    "        s2.wait()\n",
    "        aold[bx+1, 1:bx+1] = r2.wait()\n",
    "    if east != MPI.PROC_NULL :\n",
    "        s3.wait()\n",
    "        aold[1:bx+1, bx+1] = r3.wait()\n",
    "    if west != MPI.PROC_NULL :\n",
    "        s4.wait\n",
    "        aold[1:bx+1, 0] = r4.wait()\n",
    "\n",
    "    # update grid\n",
    "    kernel(anew, aold)\n",
    "\n",
    "    # refresh heat sources\n",
    "    anew[locsources[:locnsources, 0], locsources[:locnsources, 1]] += energy\n",
    "\n",
    "    # exchange data with neighbors\n",
    "    if north != MPI.PROC_NULL :\n",
    "        r1=comm.irecv(source=north, tag=1)\n",
    "        s1=comm.isend(anew[1, 1:bx+1], dest=north, tag=1)\n",
    "    if south != MPI.PROC_NULL :\n",
    "        r2=comm.irecv(source=south, tag=1)\n",
    "        s2=comm.isend(anew[bx, 1:bx+1], dest=south, tag=1)\n",
    "    if east != MPI.PROC_NULL :\n",
    "        r3 = comm.irecv(source=east, tag=1)\n",
    "        s3 = comm.isend(anew[1:bx+1, bx], dest=east, tag=1)\n",
    "    if west != MPI.PROC_NULL :\n",
    "        r4 = comm.irecv(source=west, tag=1)\n",
    "        s4 = comm.isend(anew[1:bx+1, 1], dest=west, tag=1)\n",
    "    # wait\n",
    "    if north != MPI.PROC_NULL :\n",
    "        s1.wait()\n",
    "        anew[0, 1:bx+1] = r1.wait()\n",
    "    if south != MPI.PROC_NULL :\n",
    "        s2.wait()\n",
    "        anew[bx+1, 1:bx+1] = r2.wait()\n",
    "    if east != MPI.PROC_NULL :\n",
    "        s3.wait()\n",
    "        anew[1:bx+1, bx+1] = r3.wait()\n",
    "    if west != MPI.PROC_NULL :\n",
    "        s4.wait\n",
    "        anew[1:bx+1, 0] = r4.wait()\n",
    "\n",
    "    # update grid\n",
    "    kernel(aold, anew)\n",
    "\n",
    "    # refresh heat sources\n",
    "    aold[locsources[:locnsources, 0], locsources[:locnsources, 1]] += energy \n",
    "\n",
    "# get final heat in the system\n",
    "bheat[0] = np.sum(aold[1:-1, 1:-1])\n",
    "comm.Reduce(bheat, rheat)\n",
    "\n",
    "if not mpirank :\n",
    "    t0 += time()\n",
    "    print(f\"Heat: {rheat[0]:.4f}\", end=\" | \")\n",
    "    print(f\"Time: {t0:.4f}\", end=\" | \")\n",
    "    print(f\"MPISize: {mpisize}\")"
   ]
  },
  {
   "cell_type": "markdown",
   "metadata": {
    "id": "F5TEcvxtW7h2"
   },
   "source": [
    "### Testa a execução\n",
    "\n",
    "> Nota: sempre é importante verificar possíveis erros, antes de enviar para as filas (Slurm) de execução"
   ]
  },
  {
   "cell_type": "code",
   "execution_count": 4,
   "metadata": {
    "colab": {
     "base_uri": "https://localhost:8080/"
    },
    "executionInfo": {
     "elapsed": 63285,
     "status": "ok",
     "timestamp": 1632513446401,
     "user": {
      "displayName": "E Furlan",
      "photoUrl": "https://lh3.googleusercontent.com/a-/AOh14Ghzd7UO2EoPv4GHJ2AiwebDPC3evXCqxNZAD2FZ=s64",
      "userId": "04933934069991532991"
     },
     "user_tz": 180
    },
    "id": "xI-IcFl2YU7u",
    "outputId": "3a6f7d03-c6f8-4075-a80d-f7dae7a7fa67"
   },
   "outputs": [
    {
     "name": "stdout",
     "output_type": "stream",
     "text": [
      "Collecting mpi4py\n",
      "  Downloading mpi4py-3.1.1.tar.gz (2.4 MB)\n",
      "\u001b[K     |████████████████████████████████| 2.4 MB 4.2 MB/s eta 0:00:01\n",
      "\u001b[?25h  Installing build dependencies ... \u001b[?25l\u001b[?25hdone\n",
      "  Getting requirements to build wheel ... \u001b[?25l\u001b[?25hdone\n",
      "    Preparing wheel metadata ... \u001b[?25l\u001b[?25hdone\n",
      "Building wheels for collected packages: mpi4py\n",
      "  Building wheel for mpi4py (PEP 517) ... \u001b[?25l\u001b[?25hdone\n",
      "  Created wheel for mpi4py: filename=mpi4py-3.1.1-cp37-cp37m-linux_x86_64.whl size=2180570 sha256=d06c0b75ffebb9a04050bd0bb522354972a905cb43589f1d2d5543996465fb46\n",
      "  Stored in directory: /root/.cache/pip/wheels/91/be/c0/2b0347be1de5cd8ca9fe67da7ec8c3fe8930fcb6b0df6f2255\n",
      "Successfully built mpi4py\n",
      "Installing collected packages: mpi4py\n",
      "Successfully installed mpi4py-3.1.1\n"
     ]
    }
   ],
   "source": [
    "! pip install mpi4py"
   ]
  },
  {
   "cell_type": "code",
   "execution_count": 5,
   "metadata": {
    "colab": {
     "base_uri": "https://localhost:8080/"
    },
    "executionInfo": {
     "elapsed": 7112,
     "status": "ok",
     "timestamp": 1632513908503,
     "user": {
      "displayName": "E Furlan",
      "photoUrl": "https://lh3.googleusercontent.com/a-/AOh14Ghzd7UO2EoPv4GHJ2AiwebDPC3evXCqxNZAD2FZ=s64",
      "userId": "04933934069991532991"
     },
     "user_tz": 180
    },
    "id": "t-1zS51FW7h2",
    "outputId": "911e608f-bb0c-4d9d-f79b-134418e52c3d"
   },
   "outputs": [
    {
     "name": "stdout",
     "output_type": "stream",
     "text": [
      "\n",
      "real\t0m6.444s\n",
      "user\t0m8.599s\n",
      "sys\t0m0.570s\n"
     ]
    }
   ],
   "source": [
    "! time mpiexec --allow-run-as-root -n 1 python -m cProfile -s cumtime numbampi.py > numbampi.txt"
   ]
  },
  {
   "cell_type": "code",
   "execution_count": 6,
   "metadata": {
    "colab": {
     "base_uri": "https://localhost:8080/"
    },
    "executionInfo": {
     "elapsed": 230,
     "status": "ok",
     "timestamp": 1632513937446,
     "user": {
      "displayName": "E Furlan",
      "photoUrl": "https://lh3.googleusercontent.com/a-/AOh14Ghzd7UO2EoPv4GHJ2AiwebDPC3evXCqxNZAD2FZ=s64",
      "userId": "04933934069991532991"
     },
     "user_tz": 180
    },
    "id": "ybB1CUCXW7h3",
    "outputId": "43ff5377-968b-48f1-f7c0-6213892d33d0"
   },
   "outputs": [
    {
     "name": "stdout",
     "output_type": "stream",
     "text": [
      "Heat: 750.0000 | Time: 2.9389 | MPISize: 1\n",
      "         3003026 function calls (2769721 primitive calls) in 5.759 seconds\n",
      "\n",
      "   Ordered by: cumulative time\n",
      "\n",
      "   ncalls  tottime  percall  cumtime  percall filename:lineno(function)\n",
      "    904/1    0.008    0.000    5.762    5.762 {built-in method builtins.exec}\n",
      "        1    0.027    0.027    5.762    5.762 numbampi.py:1(<module>)\n",
      "      250    2.857    0.011    2.857    0.011 numbampi.py:10(kernel)\n",
      "    44/39    0.000    0.000    1.769    0.045 decorators.py:188(wrapper)\n",
      "     50/2    0.000    0.000    1.761    0.881 compiler_lock.py:29(_acquire_compile_lock)\n",
      "        1    0.000    0.000    1.724    1.724 dispatcher.py:795(compile)\n",
      "        1    0.000    0.000    1.724    1.724 dispatcher.py:77(compile)\n",
      "        1    0.000    0.000    1.724    1.724 dispatcher.py:84(_compile_cached)\n",
      "        1    0.000    0.000    1.724    1.724 dispatcher.py:99(_compile_core)\n",
      "        1    0.000    0.000    1.724    1.724 compiler.py:601(compile_extra)\n",
      "        1    0.000    0.000    1.505    1.505 compiler.py:350(compile_extra)\n",
      "        1    0.000    0.000    1.505    1.505 compiler.py:420(_compile_bytecode)\n",
      "      2/1    0.000    0.000    1.505    1.505 compiler.py:380(_compile_core)\n",
      "      2/1    0.000    0.000    1.504    1.504 compiler_machinery.py:318(run)\n"
     ]
    }
   ],
   "source": [
    "! head -20 numbampi.txt"
   ]
  },
  {
   "cell_type": "markdown",
   "metadata": {
    "id": "gVqW9n9LYyea"
   },
   "source": [
    "SD:\n",
    "\n",
    "<div style=\"font-size:small;\">\n",
    "    \n",
    "    Heat: 750.0000 | Time: 0.6470 | MPISize: 1\n",
    "        2638012 function calls (2405034 primitive calls) in 7.454 seconds\n",
    "\n",
    "    Ordered by: cumulative time\n",
    "\n",
    "    ncalls  tottime  percall  cumtime  percall filename:lineno(function)\n",
    "    910/1    0.009    0.000    7.457    7.457 {built-in method builtins.exec}\n",
    "        1    0.033    0.033    7.457    7.457 numbampi.py:1(<module>)\n",
    "    629/32    0.005    0.000    4.783    0.149 <frozen importlib._bootstrap>:978(_find_and_load)\n",
    "    629/32    0.004    0.000    4.782    0.149 <frozen importlib._bootstrap>:948(_find_and_load_unlocked)\n",
    "    605/32    0.004    0.000    4.760    0.149 <frozen importlib._bootstrap>:663(_load_unlocked)\n",
    "    898/32    0.001    0.000    4.750    0.148 <frozen importlib._bootstrap>:211(_call_with_frames_removed)\n",
    "    513/61    0.002    0.000    4.118    0.068 {built-in method builtins.__import__}\n",
    "    8657/5866    0.011    0.000    4.109    0.001 <frozen importlib._bootstrap>:1009(_handle_fromlist)\n",
    "    520/30    0.002    0.000    3.710    0.124 <frozen importlib._bootstrap_external>:722(exec_module)\n",
    "        6    0.000    0.000    2.955    0.492 __init__.py:3(<module>)\n",
    "    44/39    0.000    0.000    2.665    0.068 decorators.py:181(wrapper)\n",
    "    50/2    0.000    0.000    2.655    1.328 compiler_lock.py:29(_acquire_compile_lock)\n",
    "        1    0.000    0.000    2.582    2.582 dispatcher.py:770(compile)\n",
    "        1    0.000    0.000    2.581    2.581 dispatcher.py:76(compile)\n",
    "    \n",
    "</div>"
   ]
  },
  {
   "cell_type": "code",
   "execution_count": 10,
   "metadata": {
    "colab": {
     "base_uri": "https://localhost:8080/"
    },
    "executionInfo": {
     "elapsed": 8821,
     "status": "ok",
     "timestamp": 1632514055708,
     "user": {
      "displayName": "E Furlan",
      "photoUrl": "https://lh3.googleusercontent.com/a-/AOh14Ghzd7UO2EoPv4GHJ2AiwebDPC3evXCqxNZAD2FZ=s64",
      "userId": "04933934069991532991"
     },
     "user_tz": 180
    },
    "id": "1ATcE5aNW7h4",
    "outputId": "47f99200-ade1-4e01-875c-34d23b67fe31"
   },
   "outputs": [
    {
     "name": "stdout",
     "output_type": "stream",
     "text": [
      "Heat: 750.0000 | Time: 2.9313 | MPISize: 1\n",
      "\n",
      "real\t0m5.175s\n",
      "user\t0m7.555s\n",
      "sys\t0m0.477s\n"
     ]
    }
   ],
   "source": [
    "! time mpiexec --allow-run-as-root -n 1 python numbampi.py"
   ]
  },
  {
   "cell_type": "code",
   "execution_count": 12,
   "metadata": {
    "colab": {
     "base_uri": "https://localhost:8080/"
    },
    "executionInfo": {
     "elapsed": 8821,
     "status": "ok",
     "timestamp": 1632514055708,
     "user": {
      "displayName": "E Furlan",
      "photoUrl": "https://lh3.googleusercontent.com/a-/AOh14Ghzd7UO2EoPv4GHJ2AiwebDPC3evXCqxNZAD2FZ=s64",
      "userId": "04933934069991532991"
     },
     "user_tz": 180
    },
    "id": "1ATcE5aNW7h4",
    "outputId": "47f99200-ade1-4e01-875c-34d23b67fe31"
   },
   "outputs": [
    {
     "name": "stdout",
     "output_type": "stream",
     "text": [
      "Heat: 613.9639 | Time: 3.7086 | MPISize: 2\n",
      "\n",
      "real\t0m7.476s\n",
      "user\t0m13.314s\n",
      "sys\t0m0.886s\n"
     ]
    }
   ],
   "source": [
    "! time mpiexec --allow-run-as-root -n 2 python numbampi.py"
   ]
  },
  {
   "cell_type": "code",
   "execution_count": null,
   "metadata": {},
   "outputs": [],
   "source": []
  }
 ],
 "metadata": {
  "colab": {
   "collapsed_sections": [],
   "name": "GC-numba-cpu-mpi.ipynb",
   "provenance": []
  },
  "kernelspec": {
   "display_name": "Python 3",
   "language": "python",
   "name": "python3"
  },
  "language_info": {
   "codemirror_mode": {
    "name": "ipython",
    "version": 3
   },
   "file_extension": ".py",
   "mimetype": "text/x-python",
   "name": "python",
   "nbconvert_exporter": "python",
   "pygments_lexer": "ipython3",
   "version": "3.7.12"
  }
 },
 "nbformat": 4,
 "nbformat_minor": 4
}
